{
 "cells": [
  {
   "cell_type": "markdown",
   "metadata": {},
   "source": [
    "# 0.5_ss_chap6\n",
    "6章の実装　\n"
   ]
  },
  {
   "cell_type": "code",
   "execution_count": 1,
   "metadata": {},
   "outputs": [],
   "source": [
    "%load_ext autoreload\n",
    "%autoreload 2"
   ]
  },
  {
   "cell_type": "code",
   "execution_count": 2,
   "metadata": {},
   "outputs": [],
   "source": [
    "%reload_ext autoreload"
   ]
  },
  {
   "cell_type": "code",
   "execution_count": 3,
   "metadata": {},
   "outputs": [],
   "source": [
    "from src import utils\n",
    "import itertools\n",
    "import logging\n",
    "import numpy as np\n",
    "import matplotlib.pylab as plt\n",
    "%matplotlib inline"
   ]
  },
  {
   "cell_type": "code",
   "execution_count": 4,
   "metadata": {},
   "outputs": [],
   "source": [
    "log_fmt = '%(asctime)s - %(name)s - %(levelname)s - %(message)s'\n",
    "# logging.basicConfig(level=logging.INFO, format=log_fmt)\n",
    "logging.basicConfig(level=logging.DEBUG, format=log_fmt)\n",
    "logger = logging.getLogger()"
   ]
  },
  {
   "cell_type": "markdown",
   "metadata": {},
   "source": [
    "# 中身"
   ]
  },
  {
   "cell_type": "code",
   "execution_count": 5,
   "metadata": {},
   "outputs": [],
   "source": [
    "class SGD:\n",
    "    ''' Simple stochasitc gradient descent\n",
    "    '''\n",
    "    def __init__(self, lr=0.01):\n",
    "        self.lr = lr\n",
    "    \n",
    "    def update(self, params, grads):\n",
    "        for key in params.keys():\n",
    "            params[key] -= self.lr * grads[key]\n",
    "    "
   ]
  },
  {
   "cell_type": "markdown",
   "metadata": {},
   "source": [
    "### 関数を書いてみる"
   ]
  },
  {
   "cell_type": "code",
   "execution_count": 6,
   "metadata": {},
   "outputs": [],
   "source": [
    "def bowl(x):\n",
    "    ''' f(x,y) = 1/20 * x[0]^2 + x[1]^2\n",
    "    ベクトルで入ってきた場合と、2次元（マトリックス）で入ってき場合に対応する\n",
    "    \n",
    "    Parameters\n",
    "    ----------\n",
    "    x: np.ndarray\n",
    "        x values\n",
    "    y: np.ndarray\n",
    "        y values\n",
    "    \n",
    "    Returns\n",
    "    -------\n",
    "    f(x,y) = 1/20 * x^2 + y^2\n",
    "    '''\n",
    "    # takes numpy as input\n",
    "    if type(x) != np.ndarray:\n",
    "        raise ValueError(\"Only takes numpy.array as input\")\n",
    "        \n",
    "    # 点\n",
    "    if x.ndim == 1:\n",
    "        return 1/20*x[0]**2 + x[1]**2\n",
    "    \n",
    "    # x should be 2 * N shape\n",
    "    if x.shape[0] != 2:\n",
    "        raise ValueError(f\"x is {x.shape}, takes 2*N only\")\n",
    "    \n",
    "    # ベクトル\n",
    "    if x.ndim == 2:\n",
    "        return 1/20*x[0] **2 + x[1]**2\n",
    "\n",
    "    # それ以上　\n",
    "    raise ValueError(\"Not impletented\")\n",
    "    \n"
   ]
  },
  {
   "cell_type": "code",
   "execution_count": 7,
   "metadata": {},
   "outputs": [],
   "source": [
    "x = np.array([3, 5])"
   ]
  },
  {
   "cell_type": "code",
   "execution_count": 8,
   "metadata": {},
   "outputs": [
    {
     "data": {
      "text/plain": [
       "(2,)"
      ]
     },
     "execution_count": 8,
     "metadata": {},
     "output_type": "execute_result"
    }
   ],
   "source": [
    "x.shape"
   ]
  },
  {
   "cell_type": "code",
   "execution_count": 9,
   "metadata": {},
   "outputs": [],
   "source": [
    "X = np.array([[3.,4.,3.],[5.,6.,7.]])"
   ]
  },
  {
   "cell_type": "code",
   "execution_count": 10,
   "metadata": {},
   "outputs": [
    {
     "data": {
      "text/plain": [
       "array([25.45, 36.8 , 49.45])"
      ]
     },
     "execution_count": 10,
     "metadata": {},
     "output_type": "execute_result"
    }
   ],
   "source": [
    "bowl(X) "
   ]
  },
  {
   "cell_type": "markdown",
   "metadata": {},
   "source": [
    "### 勾配を書いてみる"
   ]
  },
  {
   "cell_type": "code",
   "execution_count": 11,
   "metadata": {},
   "outputs": [],
   "source": [
    "x0 = np.arange(-2, 2.5, .25)\n",
    "x1 = np.arange(-2, 2.5, .25)\n",
    "X, Y = np.meshgrid(x0, x1)\n",
    "X = X.flatten()\n",
    "Y = Y.flatten()"
   ]
  },
  {
   "cell_type": "code",
   "execution_count": 12,
   "metadata": {},
   "outputs": [
    {
     "data": {
      "text/plain": [
       "2"
      ]
     },
     "execution_count": 12,
     "metadata": {},
     "output_type": "execute_result"
    }
   ],
   "source": [
    "np.array([X, Y]).ndim"
   ]
  },
  {
   "cell_type": "markdown",
   "metadata": {},
   "source": [
    "# あの numerical_gradient の中身はなんなんだ\n",
    "- 一旦諦める"
   ]
  },
  {
   "cell_type": "code",
   "execution_count": 22,
   "metadata": {},
   "outputs": [],
   "source": [
    "def _numerical_gradient_no_batch(f, x, debug=False):\n",
    "        ''' Calcuate gradient at point x for f\n",
    "        '''\n",
    "        h = 1e-4\n",
    "        grad = np.zeros_like(x)\n",
    "        \n",
    "        for idx in range(x.size):\n",
    "                if debug and idx > 10:\n",
    "                        break\n",
    "                logger.debug(f\"idx is {idx}\")\n",
    "                tmp_val = float(x[idx])\n",
    "                logger.debug(f\"tmp_val for x[idx] is {tmp_val}\")\n",
    "                # calculate f(x+h)\n",
    "                x[idx] = tmp_val + h\n",
    "                logger.debug(f\"new x[idx] is {x[idx]}\")\n",
    "                fxh1 = f(x)\n",
    "                logger.debug(f\"f(x) is {fxh1}\")\n",
    "                \n",
    "                # f(x-h)\n",
    "                x[idx] = tmp_val - h\n",
    "                logger.debug(f\"new x[idx] is {x[idx]}\")\n",
    "                fxh2 = f(x)\n",
    "                logger.debug(f\"f(x) is {fxh2}\")\n",
    "                \n",
    "                grad[idx] = (fxh1 - fxh2)/(2*h)\n",
    "                logger.debug(f\"grad[idx] is {grad[idx]}\")\n",
    "                x[idx] = tmp_val\n",
    "        return grad"
   ]
  },
  {
   "cell_type": "code",
   "execution_count": 25,
   "metadata": {},
   "outputs": [],
   "source": [
    "def numerical_gradient(f, X, debug=False):\n",
    "        ''' Numerical gradient for 2d array\n",
    "        Parameters\n",
    "        ----------\n",
    "        f: function\n",
    "                function to calculate gradient\n",
    "        X: 2d array\n",
    "                grid to calculate gradient\n",
    "        '''\n",
    "        # return the original function if 1d\n",
    "        logger.info(f\"debug: {debug}\")\n",
    "        if X.ndim == 1:\n",
    "                return _numerical_gradient_no_batch(f, X)\n",
    "        \n",
    "        grad = np.zeros_like(X)\n",
    "        for idx, x in enumerate(X):\n",
    "                logger.debug(f\"idx is {idx}\")\n",
    "                grad[idx] = _numerical_gradient_no_batch(f, x, debug)\n",
    "                \n",
    "                # debug mode\n",
    "                if debug and idx > 10:\n",
    "                    return \n",
    "        return grad"
   ]
  },
  {
   "cell_type": "raw",
   "metadata": {},
   "source": [
    "grad = numerical_gradient(bowl, \n",
    "                  np.array([X, Y]),\n",
    "                         debug = True)"
   ]
  },
  {
   "cell_type": "code",
   "execution_count": null,
   "metadata": {},
   "outputs": [],
   "source": []
  }
 ],
 "metadata": {
  "kernelspec": {
   "display_name": "Python 3",
   "language": "python",
   "name": "python3"
  },
  "language_info": {
   "codemirror_mode": {
    "name": "ipython",
    "version": 3
   },
   "file_extension": ".py",
   "mimetype": "text/x-python",
   "name": "python",
   "nbconvert_exporter": "python",
   "pygments_lexer": "ipython3",
   "version": "3.7.0"
  }
 },
 "nbformat": 4,
 "nbformat_minor": 2
}
