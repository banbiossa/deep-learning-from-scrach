{
 "cells": [
  {
   "cell_type": "markdown",
   "metadata": {},
   "source": [
    "# 0.7_ss_chap6_compare_mnist\n",
    "- mnistで各種　optimizerの違いをみて行く"
   ]
  },
  {
   "cell_type": "code",
   "execution_count": 1,
   "metadata": {},
   "outputs": [],
   "source": [
    "%load_ext autoreload\n",
    "%autoreload 2"
   ]
  },
  {
   "cell_type": "code",
   "execution_count": 9,
   "metadata": {},
   "outputs": [],
   "source": [
    "%reload_ext autoreload"
   ]
  },
  {
   "cell_type": "code",
   "execution_count": 3,
   "metadata": {},
   "outputs": [],
   "source": [
    "from src import utils\n",
    "import itertools\n",
    "import logging\n",
    "import numpy as np\n",
    "import matplotlib.pylab as plt\n",
    "import matplotlib.patches as patches\n",
    "from collections import OrderedDict\n",
    "%matplotlib inline\n"
   ]
  },
  {
   "cell_type": "code",
   "execution_count": 15,
   "metadata": {},
   "outputs": [],
   "source": [
    "from src.common.optimizer import SGD, Momentum, Nesterov, AdaGrad\n",
    "from src.common.optimizer import RMSprop, Adam\n",
    "\n",
    "from src.ch06.optimizer_compare_mnist import main\n",
    "from src.common.gradient import numerical_gradient\n",
    "from src.common.gradient import numerical_gradient_on_array\n",
    "from src.common.util import smooth_curve\n",
    "from src.common.multi_layer_net import MultiLayerNet\n",
    "from src.dataset.mnist import load_mnist"
   ]
  },
  {
   "cell_type": "code",
   "execution_count": 5,
   "metadata": {},
   "outputs": [],
   "source": [
    "log_fmt = '%(asctime)s - %(name)s - %(levelname)s - %(message)s'\n",
    "logging.basicConfig(level=logging.INFO, format=log_fmt)\n",
    "# logging.basicConfig(level=logging.DEBUG, format=log_fmt)\n",
    "logger = logging.getLogger()"
   ]
  },
  {
   "cell_type": "markdown",
   "metadata": {},
   "source": [
    "## from optimizer_compare_mnist"
   ]
  },
  {
   "cell_type": "code",
   "execution_count": 14,
   "metadata": {},
   "outputs": [
    {
     "name": "stderr",
     "output_type": "stream",
     "text": [
      "2018-11-17 18:01:42,329 - src.ch06.optimizer_compare_mnist - INFO - 0:MNISTデータの読み込み==========\n",
      "2018-11-17 18:01:42,703 - src.ch06.optimizer_compare_mnist - INFO - 1:実験の設定==========\n",
      "2018-11-17 18:01:42,704 - src.ch06.optimizer_compare_mnist - INFO - Optimizers: {'SGD': <src.common.optimizer.SGD object at 0x124ef2860>, 'Momentum': <src.common.optimizer.Momentum object at 0x124e9d0f0>, 'AdaGrad': <src.common.optimizer.AdaGrad object at 0x11cff4128>, 'Adam': <src.common.optimizer.Adam object at 0x11cff40b8>}\n",
      "2018-11-17 18:01:42,723 - src.ch06.optimizer_compare_mnist - INFO - 2:訓練の開始==========\n",
      "2018-11-17 18:01:42,781 - src.ch06.optimizer_compare_mnist - INFO - ==== iteration: 0 =====\n"
     ]
    },
    {
     "name": "stdout",
     "output_type": "stream",
     "text": [
      "SGD:2.311139604126428\n",
      "Momentum:2.30699689193888\n",
      "AdaGrad:2.101735454028222\n",
      "Adam:2.1453674532618363\n"
     ]
    },
    {
     "name": "stderr",
     "output_type": "stream",
     "text": [
      "2018-11-17 18:01:45,171 - src.ch06.optimizer_compare_mnist - INFO - ==== iteration: 100 =====\n"
     ]
    },
    {
     "name": "stdout",
     "output_type": "stream",
     "text": [
      "SGD:1.3767219383266356\n",
      "Momentum:0.27032790487281183\n",
      "AdaGrad:0.13504847805292552\n",
      "Adam:0.21619236727682933\n"
     ]
    },
    {
     "name": "stderr",
     "output_type": "stream",
     "text": [
      "2018-11-17 18:01:47,588 - src.ch06.optimizer_compare_mnist - INFO - ==== iteration: 200 =====\n"
     ]
    },
    {
     "name": "stdout",
     "output_type": "stream",
     "text": [
      "SGD:0.6294609955532944\n",
      "Momentum:0.31541909629772197\n",
      "AdaGrad:0.13585982942939984\n",
      "Adam:0.1869007132759919\n"
     ]
    },
    {
     "name": "stderr",
     "output_type": "stream",
     "text": [
      "2018-11-17 18:01:49,969 - src.ch06.optimizer_compare_mnist - INFO - ==== iteration: 300 =====\n"
     ]
    },
    {
     "name": "stdout",
     "output_type": "stream",
     "text": [
      "SGD:0.46525110733177716\n",
      "Momentum:0.21341028675255447\n",
      "AdaGrad:0.09301429159788702\n",
      "Adam:0.15641226654242038\n"
     ]
    },
    {
     "name": "stderr",
     "output_type": "stream",
     "text": [
      "2018-11-17 18:01:52,364 - src.ch06.optimizer_compare_mnist - INFO - ==== iteration: 400 =====\n"
     ]
    },
    {
     "name": "stdout",
     "output_type": "stream",
     "text": [
      "SGD:0.4724434712668494\n",
      "Momentum:0.23382230363360162\n",
      "AdaGrad:0.0983563592324106\n",
      "Adam:0.18947923491290108\n"
     ]
    },
    {
     "name": "stderr",
     "output_type": "stream",
     "text": [
      "2018-11-17 18:01:54,875 - src.ch06.optimizer_compare_mnist - INFO - ==== iteration: 500 =====\n"
     ]
    },
    {
     "name": "stdout",
     "output_type": "stream",
     "text": [
      "SGD:0.3006761646982964\n",
      "Momentum:0.15805456834262518\n",
      "AdaGrad:0.059004454205391764\n",
      "Adam:0.1472565568814702\n"
     ]
    },
    {
     "name": "stderr",
     "output_type": "stream",
     "text": [
      "2018-11-17 18:01:57,454 - src.ch06.optimizer_compare_mnist - INFO - ==== iteration: 600 =====\n"
     ]
    },
    {
     "name": "stdout",
     "output_type": "stream",
     "text": [
      "SGD:0.3417504619914417\n",
      "Momentum:0.09475843926006491\n",
      "AdaGrad:0.050318057184854985\n",
      "Adam:0.04707014155782475\n"
     ]
    },
    {
     "name": "stderr",
     "output_type": "stream",
     "text": [
      "2018-11-17 18:02:00,061 - src.ch06.optimizer_compare_mnist - INFO - ==== iteration: 700 =====\n"
     ]
    },
    {
     "name": "stdout",
     "output_type": "stream",
     "text": [
      "SGD:0.29746411658778993\n",
      "Momentum:0.11201635043267222\n",
      "AdaGrad:0.03878808106397856\n",
      "Adam:0.10209338555861977\n"
     ]
    },
    {
     "name": "stderr",
     "output_type": "stream",
     "text": [
      "2018-11-17 18:02:02,605 - src.ch06.optimizer_compare_mnist - INFO - ==== iteration: 800 =====\n"
     ]
    },
    {
     "name": "stdout",
     "output_type": "stream",
     "text": [
      "SGD:0.37263620470299336\n",
      "Momentum:0.22331376969339778\n",
      "AdaGrad:0.10156832617986868\n",
      "Adam:0.19323032501041632\n"
     ]
    },
    {
     "name": "stderr",
     "output_type": "stream",
     "text": [
      "2018-11-17 18:02:05,097 - src.ch06.optimizer_compare_mnist - INFO - ==== iteration: 900 =====\n"
     ]
    },
    {
     "name": "stdout",
     "output_type": "stream",
     "text": [
      "SGD:0.16348904317896845\n",
      "Momentum:0.07955769951086769\n",
      "AdaGrad:0.046449397993775246\n",
      "Adam:0.07991616819380437\n"
     ]
    },
    {
     "name": "stderr",
     "output_type": "stream",
     "text": [
      "2018-11-17 18:02:07,784 - src.ch06.optimizer_compare_mnist - INFO - ==== iteration: 1000 =====\n"
     ]
    },
    {
     "name": "stdout",
     "output_type": "stream",
     "text": [
      "SGD:0.21760467161389688\n",
      "Momentum:0.07688839961282587\n",
      "AdaGrad:0.047394111597995725\n",
      "Adam:0.055441833053114606\n"
     ]
    },
    {
     "name": "stderr",
     "output_type": "stream",
     "text": [
      "2018-11-17 18:02:10,406 - src.ch06.optimizer_compare_mnist - INFO - ==== iteration: 1100 =====\n"
     ]
    },
    {
     "name": "stdout",
     "output_type": "stream",
     "text": [
      "SGD:0.29213313521973344\n",
      "Momentum:0.05508226996767793\n",
      "AdaGrad:0.03698821709983447\n",
      "Adam:0.019885258298579213\n"
     ]
    },
    {
     "name": "stderr",
     "output_type": "stream",
     "text": [
      "2018-11-17 18:02:13,059 - src.ch06.optimizer_compare_mnist - INFO - ==== iteration: 1200 =====\n"
     ]
    },
    {
     "name": "stdout",
     "output_type": "stream",
     "text": [
      "SGD:0.34824312479450686\n",
      "Momentum:0.15553650313542436\n",
      "AdaGrad:0.10525185069021795\n",
      "Adam:0.10431966236775331\n"
     ]
    },
    {
     "name": "stderr",
     "output_type": "stream",
     "text": [
      "2018-11-17 18:02:15,723 - src.ch06.optimizer_compare_mnist - INFO - ==== iteration: 1300 =====\n"
     ]
    },
    {
     "name": "stdout",
     "output_type": "stream",
     "text": [
      "SGD:0.2373385187242751\n",
      "Momentum:0.0697428071840711\n",
      "AdaGrad:0.029209146841266437\n",
      "Adam:0.02960650536735885\n"
     ]
    },
    {
     "name": "stderr",
     "output_type": "stream",
     "text": [
      "2018-11-17 18:02:18,333 - src.ch06.optimizer_compare_mnist - INFO - ==== iteration: 1400 =====\n"
     ]
    },
    {
     "name": "stdout",
     "output_type": "stream",
     "text": [
      "SGD:0.197206835665745\n",
      "Momentum:0.1193980349536952\n",
      "AdaGrad:0.045019819138928274\n",
      "Adam:0.09441097896385628\n"
     ]
    },
    {
     "name": "stderr",
     "output_type": "stream",
     "text": [
      "2018-11-17 18:02:21,033 - src.ch06.optimizer_compare_mnist - INFO - ==== iteration: 1500 =====\n"
     ]
    },
    {
     "name": "stdout",
     "output_type": "stream",
     "text": [
      "SGD:0.3223850374383935\n",
      "Momentum:0.07730678098386738\n",
      "AdaGrad:0.03117178329470113\n",
      "Adam:0.038928308262258314\n"
     ]
    },
    {
     "name": "stderr",
     "output_type": "stream",
     "text": [
      "2018-11-17 18:02:23,685 - src.ch06.optimizer_compare_mnist - INFO - ==== iteration: 1600 =====\n"
     ]
    },
    {
     "name": "stdout",
     "output_type": "stream",
     "text": [
      "SGD:0.36489550472127585\n",
      "Momentum:0.09506029610553138\n",
      "AdaGrad:0.05835096953419874\n",
      "Adam:0.05403129694082739\n"
     ]
    },
    {
     "name": "stderr",
     "output_type": "stream",
     "text": [
      "2018-11-17 18:02:26,217 - src.ch06.optimizer_compare_mnist - INFO - ==== iteration: 1700 =====\n"
     ]
    },
    {
     "name": "stdout",
     "output_type": "stream",
     "text": [
      "SGD:0.247178550324051\n",
      "Momentum:0.05329981404788088\n",
      "AdaGrad:0.01653849376633551\n",
      "Adam:0.06219065198832825\n"
     ]
    },
    {
     "name": "stderr",
     "output_type": "stream",
     "text": [
      "2018-11-17 18:02:28,818 - src.ch06.optimizer_compare_mnist - INFO - ==== iteration: 1800 =====\n"
     ]
    },
    {
     "name": "stdout",
     "output_type": "stream",
     "text": [
      "SGD:0.2668482020100913\n",
      "Momentum:0.07222997813789266\n",
      "AdaGrad:0.04079291108108858\n",
      "Adam:0.04671223158078969\n"
     ]
    },
    {
     "name": "stderr",
     "output_type": "stream",
     "text": [
      "2018-11-17 18:02:31,615 - src.ch06.optimizer_compare_mnist - INFO - ==== iteration: 1900 =====\n"
     ]
    },
    {
     "name": "stdout",
     "output_type": "stream",
     "text": [
      "SGD:0.27369987590051503\n",
      "Momentum:0.08831224471318312\n",
      "AdaGrad:0.045862647545545886\n",
      "Adam:0.05715739023989623\n"
     ]
    },
    {
     "name": "stderr",
     "output_type": "stream",
     "text": [
      "2018-11-17 18:02:34,166 - src.ch06.optimizer_compare_mnist - INFO - 3.グラフの描画==========\n"
     ]
    },
    {
     "data": {
      "image/png": "[encoded data removed]",
      "text/plain": [
       "<Figure size 432x288 with 1 Axes>"
      ]
     },
     "metadata": {
      "needs_background": "light"
     },
     "output_type": "display_data"
    }
   ],
   "source": [
    "main()"
   ]
  },
  {
   "cell_type": "code",
   "execution_count": 16,
   "metadata": {},
   "outputs": [],
   "source": [
    "(x_train, t_train), (x_test, y_test) = load_mnist(normalize=True)"
   ]
  },
  {
   "cell_type": "code",
   "execution_count": 18,
   "metadata": {},
   "outputs": [
    {
     "data": {
      "text/plain": [
       "60000"
      ]
     },
     "execution_count": 18,
     "metadata": {},
     "output_type": "execute_result"
    }
   ],
   "source": [
    "train_size = x_train.shape[0]\n",
    "batch_size = 128\n",
    "max_iterations = 20000\n",
    "train_size"
   ]
  },
  {
   "cell_type": "code",
   "execution_count": 21,
   "metadata": {},
   "outputs": [],
   "source": [
    "optimizer = SGD()"
   ]
  },
  {
   "cell_type": "code",
   "execution_count": null,
   "metadata": {},
   "outputs": [],
   "source": []
  },
  {
   "cell_type": "code",
   "execution_count": 23,
   "metadata": {},
   "outputs": [],
   "source": [
    "network = MultiLayerNet(input_size=784, \n",
    "                        hidden_size_list=[100, 100, 100, 100],\n",
    "                       output_size=10)"
   ]
  },
  {
   "cell_type": "code",
   "execution_count": 24,
   "metadata": {},
   "outputs": [],
   "source": [
    "train_loss = []"
   ]
  },
  {
   "cell_type": "markdown",
   "metadata": {},
   "source": [
    "### Train"
   ]
  },
  {
   "cell_type": "code",
   "execution_count": 57,
   "metadata": {},
   "outputs": [],
   "source": [
    "import sys\n",
    "from time import sleep\n",
    "from tqdm import tqdm"
   ]
  },
  {
   "cell_type": "code",
   "execution_count": 61,
   "metadata": {},
   "outputs": [],
   "source": [
    "progress_at = 100"
   ]
  },
  {
   "cell_type": "code",
   "execution_count": 72,
   "metadata": {},
   "outputs": [],
   "source": [
    "def train_network(optimizer, \n",
    "                  batch_size=128, max_iterations=2000,\n",
    "                  input_size=784, \n",
    "                  hidden_size_list=[100,100,100,100],\n",
    "                  output_size=10):\n",
    "        ''' Train network and return train_loss\n",
    "        '''\n",
    "        # get data\n",
    "        (x_train, t_train), (x_test, y_test) = load_mnist(normalize=True)\n",
    "        train_size = x_train.shape[0]\n",
    "        \n",
    "        # initialize network\n",
    "        network = MultiLayerNet(input_size=input_size, \n",
    "                                hidden_size_list=hidden_size_list,\n",
    "                                output_size=output_size)\n",
    "        \n",
    "        # Progress bar for tqdm\n",
    "        progress_at = 100\n",
    "        train_loss = []\n",
    "        with tqdm(total=int(max_iterations/progress_at), \n",
    "                  file=sys.stdout) as pbar:\n",
    "                for i in range(max_iterations):\n",
    "                        # pbar.set_description(f\"Iter {i}\")\n",
    "                        if (i % progress_at) == 0:\n",
    "                                pbar.update(1)\n",
    "\n",
    "                        # get batch\n",
    "                        batch_mask = np.random.choice(train_size, \n",
    "                                                      batch_size)\n",
    "                        x_batch = x_train[batch_mask]\n",
    "                        t_batch = t_train[batch_mask]\n",
    "\n",
    "                        grads = network.gradient(x_batch, t_batch)\n",
    "                        optimizer.update(network.params, grads)\n",
    "\n",
    "                        loss = network.loss(x_batch, t_batch)\n",
    "                        train_loss.append(loss)\n",
    "        \n",
    "        return train_loss"
   ]
  },
  {
   "cell_type": "code",
   "execution_count": 64,
   "metadata": {},
   "outputs": [
    {
     "name": "stdout",
     "output_type": "stream",
     "text": [
      "100%|██████████| 200/200 [01:50<00:00,  1.82it/s]\n"
     ]
    }
   ],
   "source": [
    "with tqdm(total=int(max_iterations/progress_at), \n",
    "          file=sys.stdout) as pbar:\n",
    "        for i in range(max_iterations):\n",
    "                # pbar.set_description(f\"Iter {i}\")\n",
    "                if (i % progress_at) == 0:\n",
    "                        pbar.update(1)\n",
    "                \n",
    "                # get batch\n",
    "                batch_mask = np.random.choice(train_size, batch_size)\n",
    "                x_batch = x_train[batch_mask]\n",
    "                t_batch = t_train[batch_mask]\n",
    "\n",
    "                grads = network.gradient(x_batch, t_batch)\n",
    "                optimizer.update(network.params, grads)\n",
    "\n",
    "                loss = network.loss(x_batch, t_batch)\n",
    "                train_loss.append(loss)"
   ]
  },
  {
   "cell_type": "code",
   "execution_count": 65,
   "metadata": {},
   "outputs": [
    {
     "data": {
      "text/plain": [
       "(0, 3)"
      ]
     },
     "execution_count": 65,
     "metadata": {},
     "output_type": "execute_result"
    },
    {
     "data": {
      "image/png": "[encoded data removed]",
      "text/plain": [
       "<Figure size 432x288 with 1 Axes>"
      ]
     },
     "metadata": {
      "needs_background": "light"
     },
     "output_type": "display_data"
    }
   ],
   "source": [
    "x = np.arange(len(train_loss))\n",
    "plt.plot(x, train_loss)\n",
    "plt.ylim(0, 3)"
   ]
  },
  {
   "cell_type": "code",
   "execution_count": 73,
   "metadata": {},
   "outputs": [
    {
     "name": "stdout",
     "output_type": "stream",
     "text": [
      "100%|██████████| 20/20 [00:09<00:00,  1.92it/s]\n"
     ]
    }
   ],
   "source": [
    "train_loss = train_network(SGD())"
   ]
  },
  {
   "cell_type": "code",
   "execution_count": 74,
   "metadata": {},
   "outputs": [
    {
     "data": {
      "text/plain": [
       "(0, 3)"
      ]
     },
     "execution_count": 74,
     "metadata": {},
     "output_type": "execute_result"
    },
    {
     "data": {
      "image/png": "[encoded data removed]",
      "text/plain": [
       "<Figure size 432x288 with 1 Axes>"
      ]
     },
     "metadata": {
      "needs_background": "light"
     },
     "output_type": "display_data"
    }
   ],
   "source": [
    "x = np.arange(len(train_loss))\n",
    "plt.plot(x, train_loss)\n",
    "plt.ylim(0, 3)"
   ]
  },
  {
   "cell_type": "code",
   "execution_count": 75,
   "metadata": {},
   "outputs": [
    {
     "name": "stdout",
     "output_type": "stream",
     "text": [
      "100%|██████████| 20/20 [00:10<00:00,  1.80it/s]\n"
     ]
    }
   ],
   "source": [
    "train_loss = train_network(Momentum())"
   ]
  },
  {
   "cell_type": "code",
   "execution_count": 76,
   "metadata": {},
   "outputs": [
    {
     "data": {
      "text/plain": [
       "(0, 3)"
      ]
     },
     "execution_count": 76,
     "metadata": {},
     "output_type": "execute_result"
    },
    {
     "data": {
      "image/png": "[encoded data removed]",
      "text/plain": [
       "<Figure size 432x288 with 1 Axes>"
      ]
     },
     "metadata": {
      "needs_background": "light"
     },
     "output_type": "display_data"
    }
   ],
   "source": [
    "x = np.arange(len(train_loss))\n",
    "plt.plot(x, train_loss)\n",
    "plt.ylim(0, 3)"
   ]
  },
  {
   "cell_type": "markdown",
   "metadata": {},
   "source": [
    "## Make a loop"
   ]
  },
  {
   "cell_type": "code",
   "execution_count": 77,
   "metadata": {},
   "outputs": [],
   "source": [
    "optimizers = {}\n",
    "optimizers['SGD'] = SGD()\n",
    "optimizers['AdaGrad'] = AdaGrad()\n",
    "optimizers['Momentum'] = Momentum()\n",
    "optimizers['Adam'] = Adam()\n",
    "optimizers['Nesterov'] = Nesterov()\n",
    "optimizers['RMSprop'] = RMSprop()"
   ]
  },
  {
   "cell_type": "code",
   "execution_count": 78,
   "metadata": {},
   "outputs": [
    {
     "name": "stderr",
     "output_type": "stream",
     "text": [
      "2018-11-18 13:31:41,425 - root - INFO - Train: SGD\n"
     ]
    },
    {
     "name": "stdout",
     "output_type": "stream",
     "text": [
      "100%|██████████| 20/20 [00:10<00:00,  1.84it/s]"
     ]
    },
    {
     "name": "stderr",
     "output_type": "stream",
     "text": [
      "2018-11-18 13:31:52,561 - root - INFO - Train: AdaGrad\n"
     ]
    },
    {
     "name": "stdout",
     "output_type": "stream",
     "text": [
      "\n",
      "100%|██████████| 20/20 [00:11<00:00,  1.53it/s]"
     ]
    },
    {
     "name": "stderr",
     "output_type": "stream",
     "text": [
      "2018-11-18 13:32:05,192 - root - INFO - Train: Momentum\n"
     ]
    },
    {
     "name": "stdout",
     "output_type": "stream",
     "text": [
      "\n",
      "100%|██████████| 20/20 [00:11<00:00,  1.57it/s]"
     ]
    },
    {
     "name": "stderr",
     "output_type": "stream",
     "text": [
      "2018-11-18 13:32:17,285 - root - INFO - Train: Adam\n"
     ]
    },
    {
     "name": "stdout",
     "output_type": "stream",
     "text": [
      "\n",
      "100%|██████████| 20/20 [00:12<00:00,  1.48it/s]"
     ]
    },
    {
     "name": "stderr",
     "output_type": "stream",
     "text": [
      "2018-11-18 13:32:30,899 - root - INFO - Train: Nesterov\n"
     ]
    },
    {
     "name": "stdout",
     "output_type": "stream",
     "text": [
      "\n",
      "100%|██████████| 20/20 [00:12<00:00,  1.63it/s]"
     ]
    },
    {
     "name": "stderr",
     "output_type": "stream",
     "text": [
      "2018-11-18 13:32:43,766 - root - INFO - Train: RMSprop\n"
     ]
    },
    {
     "name": "stdout",
     "output_type": "stream",
     "text": [
      "\n",
      "100%|██████████| 20/20 [00:11<00:00,  1.70it/s]\n"
     ]
    }
   ],
   "source": [
    "train_loss = {}\n",
    "for key in optimizers.keys():\n",
    "        logging.info(f\"Train: {key}\")\n",
    "        train_loss[key] = train_network(optimizers[key])"
   ]
  },
  {
   "cell_type": "markdown",
   "metadata": {},
   "source": [
    "## Print"
   ]
  },
  {
   "cell_type": "code",
   "execution_count": 97,
   "metadata": {},
   "outputs": [],
   "source": [
    "markers = {\"SGD\":\"o\",\n",
    "          \"Momentum\":\"x\",\n",
    "          \"Nesterov\":\"x\",\n",
    "          \"AdaGrad\": \"s\",\n",
    "          \"RMSprop\": \"s\",\n",
    "          \"Adam\": \"D\"}"
   ]
  },
  {
   "cell_type": "code",
   "execution_count": 114,
   "metadata": {},
   "outputs": [
    {
     "data": {
      "image/png": "[encoded data removed]",
      "text/plain": [
       "<Figure size 864x576 with 1 Axes>"
      ]
     },
     "metadata": {
      "needs_background": "light"
     },
     "output_type": "display_data"
    }
   ],
   "source": [
    "fig, ax = plt.subplots(figsize=(12, 8))\n",
    "for key in optimizers.keys():\n",
    "        x = np.arange(len(train_loss[key]))\n",
    "        plt.plot(x, smooth_curve(train_loss[key]), label=key,\n",
    "                 marker=markers[key], markevery=100)\n",
    "        plt.ylim(0, 3)\n",
    "        plt.legend()"
   ]
  },
  {
   "cell_type": "code",
   "execution_count": 107,
   "metadata": {},
   "outputs": [
    {
     "data": {
      "text/plain": [
       "\u001b[0;31mSignature:\u001b[0m \u001b[0mnp\u001b[0m\u001b[0;34m.\u001b[0m\u001b[0mconvolve\u001b[0m\u001b[0;34m(\u001b[0m\u001b[0ma\u001b[0m\u001b[0;34m,\u001b[0m \u001b[0mv\u001b[0m\u001b[0;34m,\u001b[0m \u001b[0mmode\u001b[0m\u001b[0;34m=\u001b[0m\u001b[0;34m'full'\u001b[0m\u001b[0;34m)\u001b[0m\u001b[0;34m\u001b[0m\u001b[0m\n",
       "\u001b[0;31mDocstring:\u001b[0m\n",
       "Returns the discrete, linear convolution of two one-dimensional sequences.\n",
       "\n",
       "The convolution operator is often seen in signal processing, where it\n",
       "models the effect of a linear time-invariant system on a signal [1]_.  In\n",
       "probability theory, the sum of two independent random variables is\n",
       "distributed according to the convolution of their individual\n",
       "distributions.\n",
       "\n",
       "If `v` is longer than `a`, the arrays are swapped before computation.\n",
       "\n",
       "Parameters\n",
       "----------\n",
       "a : (N,) array_like\n",
       "    First one-dimensional input array.\n",
       "v : (M,) array_like\n",
       "    Second one-dimensional input array.\n",
       "mode : {'full', 'valid', 'same'}, optional\n",
       "    'full':\n",
       "      By default, mode is 'full'.  This returns the convolution\n",
       "      at each point of overlap, with an output shape of (N+M-1,). At\n",
       "      the end-points of the convolution, the signals do not overlap\n",
       "      completely, and boundary effects may be seen.\n",
       "\n",
       "    'same':\n",
       "      Mode 'same' returns output of length ``max(M, N)``.  Boundary\n",
       "      effects are still visible.\n",
       "\n",
       "    'valid':\n",
       "      Mode 'valid' returns output of length\n",
       "      ``max(M, N) - min(M, N) + 1``.  The convolution product is only given\n",
       "      for points where the signals overlap completely.  Values outside\n",
       "      the signal boundary have no effect.\n",
       "\n",
       "Returns\n",
       "-------\n",
       "out : ndarray\n",
       "    Discrete, linear convolution of `a` and `v`.\n",
       "\n",
       "See Also\n",
       "--------\n",
       "scipy.signal.fftconvolve : Convolve two arrays using the Fast Fourier\n",
       "                           Transform.\n",
       "scipy.linalg.toeplitz : Used to construct the convolution operator.\n",
       "polymul : Polynomial multiplication. Same output as convolve, but also\n",
       "          accepts poly1d objects as input.\n",
       "\n",
       "Notes\n",
       "-----\n",
       "The discrete convolution operation is defined as\n",
       "\n",
       ".. math:: (a * v)[n] = \\sum_{m = -\\infty}^{\\infty} a[m] v[n - m]\n",
       "\n",
       "It can be shown that a convolution :math:`x(t) * y(t)` in time/space\n",
       "is equivalent to the multiplication :math:`X(f) Y(f)` in the Fourier\n",
       "domain, after appropriate padding (padding is necessary to prevent\n",
       "circular convolution).  Since multiplication is more efficient (faster)\n",
       "than convolution, the function `scipy.signal.fftconvolve` exploits the\n",
       "FFT to calculate the convolution of large data-sets.\n",
       "\n",
       "References\n",
       "----------\n",
       ".. [1] Wikipedia, \"Convolution\", http://en.wikipedia.org/wiki/Convolution.\n",
       "\n",
       "Examples\n",
       "--------\n",
       "Note how the convolution operator flips the second array\n",
       "before \"sliding\" the two across one another:\n",
       "\n",
       ">>> np.convolve([1, 2, 3], [0, 1, 0.5])\n",
       "array([ 0. ,  1. ,  2.5,  4. ,  1.5])\n",
       "\n",
       "Only return the middle values of the convolution.\n",
       "Contains boundary effects, where zeros are taken\n",
       "into account:\n",
       "\n",
       ">>> np.convolve([1,2,3],[0,1,0.5], 'same')\n",
       "array([ 1. ,  2.5,  4. ])\n",
       "\n",
       "The two arrays are of the same length, so there\n",
       "is only one position where they completely overlap:\n",
       "\n",
       ">>> np.convolve([1,2,3],[0,1,0.5], 'valid')\n",
       "array([ 2.5])\n",
       "\u001b[0;31mFile:\u001b[0m      ~/.pyenv/versions/3.7.0/envs/deep-learning-from-scratch/lib/python3.7/site-packages/numpy/core/numeric.py\n",
       "\u001b[0;31mType:\u001b[0m      function\n"
      ]
     },
     "metadata": {},
     "output_type": "display_data"
    }
   ],
   "source": [
    "np.convolve?"
   ]
  },
  {
   "cell_type": "code",
   "execution_count": 108,
   "metadata": {},
   "outputs": [
    {
     "data": {
      "text/plain": [
       "\u001b[0;31mType:\u001b[0m        RClass\n",
       "\u001b[0;31mString form:\u001b[0m <numpy.lib.index_tricks.RClass object at 0x10fed61d0>\n",
       "\u001b[0;31mLength:\u001b[0m      0\n",
       "\u001b[0;31mFile:\u001b[0m        ~/.pyenv/versions/3.7.0/envs/deep-learning-from-scratch/lib/python3.7/site-packages/numpy/lib/index_tricks.py\n",
       "\u001b[0;31mDocstring:\u001b[0m  \n",
       "Translates slice objects to concatenation along the first axis.\n",
       "\n",
       "This is a simple way to build up arrays quickly. There are two use cases.\n",
       "\n",
       "1. If the index expression contains comma separated arrays, then stack\n",
       "   them along their first axis.\n",
       "2. If the index expression contains slice notation or scalars then create\n",
       "   a 1-D array with a range indicated by the slice notation.\n",
       "\n",
       "If slice notation is used, the syntax ``start:stop:step`` is equivalent\n",
       "to ``np.arange(start, stop, step)`` inside of the brackets. However, if\n",
       "``step`` is an imaginary number (i.e. 100j) then its integer portion is\n",
       "interpreted as a number-of-points desired and the start and stop are\n",
       "inclusive. In other words ``start:stop:stepj`` is interpreted as\n",
       "``np.linspace(start, stop, step, endpoint=1)`` inside of the brackets.\n",
       "After expansion of slice notation, all comma separated sequences are\n",
       "concatenated together.\n",
       "\n",
       "Optional character strings placed as the first element of the index\n",
       "expression can be used to change the output. The strings 'r' or 'c' result\n",
       "in matrix output. If the result is 1-D and 'r' is specified a 1 x N (row)\n",
       "matrix is produced. If the result is 1-D and 'c' is specified, then a N x 1\n",
       "(column) matrix is produced. If the result is 2-D then both provide the\n",
       "same matrix result.\n",
       "\n",
       "A string integer specifies which axis to stack multiple comma separated\n",
       "arrays along. A string of two comma-separated integers allows indication\n",
       "of the minimum number of dimensions to force each entry into as the\n",
       "second integer (the axis to concatenate along is still the first integer).\n",
       "\n",
       "A string with three comma-separated integers allows specification of the\n",
       "axis to concatenate along, the minimum number of dimensions to force the\n",
       "entries to, and which axis should contain the start of the arrays which\n",
       "are less than the specified number of dimensions. In other words the third\n",
       "integer allows you to specify where the 1's should be placed in the shape\n",
       "of the arrays that have their shapes upgraded. By default, they are placed\n",
       "in the front of the shape tuple. The third argument allows you to specify\n",
       "where the start of the array should be instead. Thus, a third argument of\n",
       "'0' would place the 1's at the end of the array shape. Negative integers\n",
       "specify where in the new shape tuple the last dimension of upgraded arrays\n",
       "should be placed, so the default is '-1'.\n",
       "\n",
       "Parameters\n",
       "----------\n",
       "Not a function, so takes no parameters\n",
       "\n",
       "\n",
       "Returns\n",
       "-------\n",
       "A concatenated ndarray or matrix.\n",
       "\n",
       "See Also\n",
       "--------\n",
       "concatenate : Join a sequence of arrays along an existing axis.\n",
       "c_ : Translates slice objects to concatenation along the second axis.\n",
       "\n",
       "Examples\n",
       "--------\n",
       ">>> np.r_[np.array([1,2,3]), 0, 0, np.array([4,5,6])]\n",
       "array([1, 2, 3, 0, 0, 4, 5, 6])\n",
       ">>> np.r_[-1:1:6j, [0]*3, 5, 6]\n",
       "array([-1. , -0.6, -0.2,  0.2,  0.6,  1. ,  0. ,  0. ,  0. ,  5. ,  6. ])\n",
       "\n",
       "String integers specify the axis to concatenate along or the minimum\n",
       "number of dimensions to force entries into.\n",
       "\n",
       ">>> a = np.array([[0, 1, 2], [3, 4, 5]])\n",
       ">>> np.r_['-1', a, a] # concatenate along last axis\n",
       "array([[0, 1, 2, 0, 1, 2],\n",
       "       [3, 4, 5, 3, 4, 5]])\n",
       ">>> np.r_['0,2', [1,2,3], [4,5,6]] # concatenate along first axis, dim>=2\n",
       "array([[1, 2, 3],\n",
       "       [4, 5, 6]])\n",
       "\n",
       ">>> np.r_['0,2,0', [1,2,3], [4,5,6]]\n",
       "array([[1],\n",
       "       [2],\n",
       "       [3],\n",
       "       [4],\n",
       "       [5],\n",
       "       [6]])\n",
       ">>> np.r_['1,2,0', [1,2,3], [4,5,6]]\n",
       "array([[1, 4],\n",
       "       [2, 5],\n",
       "       [3, 6]])\n",
       "\n",
       "Using 'r' or 'c' as a first string argument creates a matrix.\n",
       "\n",
       ">>> np.r_['r',[1,2,3], [4,5,6]]\n",
       "matrix([[1, 2, 3, 4, 5, 6]])\n"
      ]
     },
     "metadata": {},
     "output_type": "display_data"
    }
   ],
   "source": [
    "np.r_?"
   ]
  },
  {
   "cell_type": "code",
   "execution_count": 110,
   "metadata": {},
   "outputs": [
    {
     "data": {
      "text/plain": [
       "array([2.5, 4. , 2.5, 2.5])"
      ]
     },
     "execution_count": 110,
     "metadata": {},
     "output_type": "execute_result"
    }
   ],
   "source": [
    "np.convolve([1,2,3, 1, 2, 3],[0,1,0.5], 'valid')"
   ]
  },
  {
   "cell_type": "code",
   "execution_count": 113,
   "metadata": {},
   "outputs": [
    {
     "data": {
      "text/plain": [
       "array([9.44140402, 9.24610612, 8.60646246, ..., 0.05884447, 0.06178042,\n",
       "       0.06418053])"
      ]
     },
     "execution_count": 113,
     "metadata": {},
     "output_type": "execute_result"
    }
   ],
   "source": [
    "smooth_curve(train_loss[key])"
   ]
  },
  {
   "cell_type": "code",
   "execution_count": null,
   "metadata": {},
   "outputs": [],
   "source": []
  }
 ],
 "metadata": {
  "kernelspec": {
   "display_name": "Python 3",
   "language": "python",
   "name": "python3"
  },
  "language_info": {
   "codemirror_mode": {
    "name": "ipython",
    "version": 3
   },
   "file_extension": ".py",
   "mimetype": "text/x-python",
   "name": "python",
   "nbconvert_exporter": "python",
   "pygments_lexer": "ipython3",
   "version": "3.7.0"
  }
 },
 "nbformat": 4,
 "nbformat_minor": 2
}
