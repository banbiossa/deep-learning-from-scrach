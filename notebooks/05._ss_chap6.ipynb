{
 "cells": [
  {
   "cell_type": "markdown",
   "metadata": {},
   "source": [
    "# 0.5_ss_chap6\n",
    "6章の実装　\n"
   ]
  },
  {
   "cell_type": "code",
   "execution_count": 1,
   "metadata": {},
   "outputs": [],
   "source": [
    "%load_ext autoreload\n",
    "%autoreload 2"
   ]
  },
  {
   "cell_type": "code",
   "execution_count": 2,
   "metadata": {},
   "outputs": [],
   "source": [
    "%reload_ext autoreload"
   ]
  },
  {
   "cell_type": "code",
   "execution_count": 3,
   "metadata": {},
   "outputs": [],
   "source": [
    "from src import utils\n",
    "import itertools\n",
    "import logging\n",
    "import numpy as np\n",
    "import matplotlib.pylab as plt\n",
    "%matplotlib inline"
   ]
  },
  {
   "cell_type": "code",
   "execution_count": 4,
   "metadata": {},
   "outputs": [],
   "source": [
    "log_fmt = '%(asctime)s - %(name)s - %(levelname)s - %(message)s'\n",
    "# logging.basicConfig(level=logging.INFO, format=log_fmt)\n",
    "logging.basicConfig(level=logging.DEBUG, format=log_fmt)\n",
    "logger = logging.getLogger()"
   ]
  },
  {
   "cell_type": "markdown",
   "metadata": {},
   "source": [
    "# 中身"
   ]
  },
  {
   "cell_type": "code",
   "execution_count": 5,
   "metadata": {},
   "outputs": [],
   "source": [
    "class SGD:\n",
    "    ''' Simple stochasitc gradient descent\n",
    "    '''\n",
    "    def __init__(self, lr=0.01):\n",
    "        self.lr = lr\n",
    "    \n",
    "    def update(self, params, grads):\n",
    "        for key in params.keys():\n",
    "            params[key] -= self.lr * grads[key]\n",
    "    "
   ]
  },
  {
   "cell_type": "markdown",
   "metadata": {},
   "source": [
    "### 関数を書いてみる"
   ]
  },
  {
   "cell_type": "code",
   "execution_count": 6,
   "metadata": {},
   "outputs": [],
   "source": [
    "def bowl(x):\n",
    "    ''' f(x,y) = 1/20 * x[0]^2 + x[1]^2\n",
    "    ベクトルで入ってきた場合と、2次元（マトリックス）で入ってき場合に対応する\n",
    "    \n",
    "    Parameters\n",
    "    ----------\n",
    "    x: np.ndarray\n",
    "        x values\n",
    "    y: np.ndarray\n",
    "        y values\n",
    "    \n",
    "    Returns\n",
    "    -------\n",
    "    f(x,y) = 1/20 * x^2 + y^2\n",
    "    '''\n",
    "    # takes numpy as input\n",
    "    if type(x) != np.ndarray:\n",
    "        raise ValueError(\"Only takes numpy.array as input\")\n",
    "        \n",
    "    # 点\n",
    "    if x.ndim == 1:\n",
    "                return 1/20*x[0]**2 + x[1]**2\n",
    "    \n",
    "    # x should be 2 * N shape\n",
    "    if x.shape[0] != 2:\n",
    "        raise ValueError(f\"x is {x.shape}, takes 2*N only\")\n",
    "    \n",
    "    # ベクトル\n",
    "    if x.ndim == 2:\n",
    "        return 1/20*x[0] **2 + x[1]**2\n",
    "\n",
    "    # それ以上　\n",
    "    raise ValueError(\"Not implemented\")\n",
    "    \n"
   ]
  },
  {
   "cell_type": "code",
   "execution_count": 35,
   "metadata": {},
   "outputs": [],
   "source": [
    "def bowl_grad(x):\n",
    "        ''' Check that numerical gradient is correct\n",
    "        f(x,y) = 1/20 * x^2 + y^2\n",
    "        df/dx = x/10\n",
    "        df/dy = 2*y\n",
    "        '''\n",
    "        # takes numpy as input\n",
    "        if type(x) != np.ndarray:\n",
    "                raise ValueError(\"Only takes numpy.array as input\")\n",
    "\n",
    "        # 点\n",
    "        if x.ndim == 1:\n",
    "                dx = x[0] / 10\n",
    "                dy = x[1] * 2\n",
    "                return np.array([dx, dy])\n",
    "\n",
    "        # それ以上　\n",
    "        raise ValueError(\"Not implemented\")"
   ]
  },
  {
   "cell_type": "code",
   "execution_count": 7,
   "metadata": {},
   "outputs": [],
   "source": [
    "x = np.array([3, 5])"
   ]
  },
  {
   "cell_type": "code",
   "execution_count": 8,
   "metadata": {},
   "outputs": [],
   "source": [
    "x = x.astype(float)"
   ]
  },
  {
   "cell_type": "code",
   "execution_count": 9,
   "metadata": {},
   "outputs": [
    {
     "data": {
      "text/plain": [
       "(2,)"
      ]
     },
     "execution_count": 9,
     "metadata": {},
     "output_type": "execute_result"
    }
   ],
   "source": [
    "x.shape"
   ]
  },
  {
   "cell_type": "code",
   "execution_count": 10,
   "metadata": {},
   "outputs": [
    {
     "data": {
      "text/plain": [
       "(2,)"
      ]
     },
     "execution_count": 10,
     "metadata": {},
     "output_type": "execute_result"
    }
   ],
   "source": [
    "x.shape"
   ]
  },
  {
   "cell_type": "code",
   "execution_count": 11,
   "metadata": {},
   "outputs": [
    {
     "data": {
      "text/plain": [
       "(1, 2)"
      ]
     },
     "execution_count": 11,
     "metadata": {},
     "output_type": "execute_result"
    }
   ],
   "source": [
    "x.reshape(1, -1).shape"
   ]
  },
  {
   "cell_type": "code",
   "execution_count": 12,
   "metadata": {},
   "outputs": [],
   "source": [
    "original_shape = x.shape"
   ]
  },
  {
   "cell_type": "code",
   "execution_count": 13,
   "metadata": {},
   "outputs": [
    {
     "data": {
      "text/plain": [
       "(2,)"
      ]
     },
     "execution_count": 13,
     "metadata": {},
     "output_type": "execute_result"
    }
   ],
   "source": [
    "original_shape"
   ]
  },
  {
   "cell_type": "code",
   "execution_count": 14,
   "metadata": {},
   "outputs": [],
   "source": [
    "x_reshaped = x.reshape(1, -1)"
   ]
  },
  {
   "cell_type": "code",
   "execution_count": 15,
   "metadata": {},
   "outputs": [
    {
     "data": {
      "text/plain": [
       "array([[3., 5.]])"
      ]
     },
     "execution_count": 15,
     "metadata": {},
     "output_type": "execute_result"
    }
   ],
   "source": [
    "x_reshaped"
   ]
  },
  {
   "cell_type": "code",
   "execution_count": 16,
   "metadata": {},
   "outputs": [
    {
     "data": {
      "text/plain": [
       "2"
      ]
     },
     "execution_count": 16,
     "metadata": {},
     "output_type": "execute_result"
    }
   ],
   "source": [
    "x_reshaped.ndim"
   ]
  },
  {
   "cell_type": "code",
   "execution_count": 17,
   "metadata": {},
   "outputs": [
    {
     "data": {
      "text/plain": [
       "(1, 2)"
      ]
     },
     "execution_count": 17,
     "metadata": {},
     "output_type": "execute_result"
    }
   ],
   "source": [
    "x_reshaped.shape"
   ]
  },
  {
   "cell_type": "code",
   "execution_count": 18,
   "metadata": {},
   "outputs": [
    {
     "data": {
      "text/plain": [
       "3.0"
      ]
     },
     "execution_count": 18,
     "metadata": {},
     "output_type": "execute_result"
    }
   ],
   "source": [
    "x_reshaped[0][0]"
   ]
  },
  {
   "cell_type": "code",
   "execution_count": 19,
   "metadata": {},
   "outputs": [
    {
     "data": {
      "text/plain": [
       "array([3., 5.])"
      ]
     },
     "execution_count": 19,
     "metadata": {},
     "output_type": "execute_result"
    }
   ],
   "source": [
    "x_reshaped.reshape(original_shape)"
   ]
  },
  {
   "cell_type": "code",
   "execution_count": 20,
   "metadata": {},
   "outputs": [
    {
     "data": {
      "text/plain": [
       "3.0"
      ]
     },
     "execution_count": 20,
     "metadata": {},
     "output_type": "execute_result"
    }
   ],
   "source": [
    "x_reshaped.reshape(original_shape)[0]"
   ]
  },
  {
   "cell_type": "code",
   "execution_count": 21,
   "metadata": {},
   "outputs": [
    {
     "data": {
      "text/plain": [
       "1"
      ]
     },
     "execution_count": 21,
     "metadata": {},
     "output_type": "execute_result"
    }
   ],
   "source": [
    "x.ndim"
   ]
  },
  {
   "cell_type": "code",
   "execution_count": 22,
   "metadata": {},
   "outputs": [],
   "source": [
    "X = np.array([[3.,4.,3.],[5.,6.,7.]])"
   ]
  },
  {
   "cell_type": "code",
   "execution_count": 23,
   "metadata": {},
   "outputs": [
    {
     "data": {
      "text/plain": [
       "array([25.45, 36.8 , 49.45])"
      ]
     },
     "execution_count": 23,
     "metadata": {},
     "output_type": "execute_result"
    }
   ],
   "source": [
    "bowl(X) "
   ]
  },
  {
   "cell_type": "markdown",
   "metadata": {},
   "source": [
    "### 勾配を書いてみる"
   ]
  },
  {
   "cell_type": "code",
   "execution_count": 24,
   "metadata": {},
   "outputs": [],
   "source": [
    "x0 = np.arange(-2, 2.5, .25)\n",
    "x1 = np.arange(-2, 2.5, .25)\n",
    "X, Y = np.meshgrid(x0, x1)\n",
    "X = X.flatten()\n",
    "Y = Y.flatten()"
   ]
  },
  {
   "cell_type": "code",
   "execution_count": 25,
   "metadata": {},
   "outputs": [
    {
     "data": {
      "text/plain": [
       "2"
      ]
     },
     "execution_count": 25,
     "metadata": {},
     "output_type": "execute_result"
    }
   ],
   "source": [
    "np.array([X, Y]).ndim"
   ]
  },
  {
   "cell_type": "code",
   "execution_count": 26,
   "metadata": {},
   "outputs": [],
   "source": [
    "xbig = np.array([X, Y])"
   ]
  },
  {
   "cell_type": "code",
   "execution_count": 27,
   "metadata": {},
   "outputs": [
    {
     "data": {
      "text/plain": [
       "(2, 324)"
      ]
     },
     "execution_count": 27,
     "metadata": {},
     "output_type": "execute_result"
    }
   ],
   "source": [
    "xbig.shape"
   ]
  },
  {
   "cell_type": "code",
   "execution_count": 28,
   "metadata": {},
   "outputs": [
    {
     "data": {
      "text/plain": [
       "(2, 324)"
      ]
     },
     "execution_count": 28,
     "metadata": {},
     "output_type": "execute_result"
    }
   ],
   "source": [
    "xbig.shape"
   ]
  },
  {
   "cell_type": "code",
   "execution_count": 29,
   "metadata": {},
   "outputs": [
    {
     "data": {
      "text/plain": [
       "2"
      ]
     },
     "execution_count": 29,
     "metadata": {},
     "output_type": "execute_result"
    }
   ],
   "source": [
    "xbig.ndim"
   ]
  },
  {
   "cell_type": "markdown",
   "metadata": {},
   "source": [
    "# あの numerical_gradient の中身はなんなんだ\n",
    "- 一旦諦める"
   ]
  },
  {
   "cell_type": "code",
   "execution_count": 30,
   "metadata": {},
   "outputs": [],
   "source": [
    "def _numerical_gradient_no_batch(f, x):\n",
    "        ''' Calcuate gradient at point x for f\n",
    "        We need to check for the shape. \n",
    "        The shape for this input should be 1 dim.\n",
    "        \n",
    "        Parameters\n",
    "        f: function\n",
    "                the input shape for the function should be [num_rows, 1] \n",
    "        x_original: np.ndarray\n",
    "                input. of shape or [num_rows, 1]\n",
    "        '''\n",
    "        # assert that this is one dimentional\n",
    "        assert(x.ndim == 1)\n",
    "        # turn into float\n",
    "        x = x.astype(float)\n",
    "        \n",
    "        # reshape x so that is [1, num_cols]\n",
    "        h = 1e-4\n",
    "        \n",
    "        # make grads\n",
    "        grad = np.zeros_like(x)\n",
    "        logger.debug(f\"grad shape is {grad.shape}\")\n",
    "        \n",
    "        # gradient for each point\n",
    "        for idx in range(x.size):\n",
    "                logger.debug(f\"idx is {idx}\")\n",
    "                tmp_val = float(x[idx])\n",
    "                # calculate f(x+h)\n",
    "                x[idx] = tmp_val + h\n",
    "                logger.debug(f\"new x is {x}\")\n",
    "                fxh1 = f(x)\n",
    "                logger.debug(f\"f(xh1) is {fxh1}\")\n",
    "                \n",
    "                # f(x-h)\n",
    "                x[idx] = tmp_val - h\n",
    "                logger.debug(f\"new x is {x}\")\n",
    "                fxh2 = f(x)\n",
    "                logger.debug(f\"f(xh2) is {fxh2}\")\n",
    "                \n",
    "                grad[idx] = (fxh1 - fxh2)/(2*h)\n",
    "                logger.debug(f\"grad[idx] is {grad[idx]}\")\n",
    "                x[idx] = tmp_val\n",
    "        \n",
    "        return grad"
   ]
  },
  {
   "cell_type": "code",
   "execution_count": 36,
   "metadata": {},
   "outputs": [],
   "source": [
    "x = np.array([0.1, 1.5])"
   ]
  },
  {
   "cell_type": "code",
   "execution_count": 37,
   "metadata": {},
   "outputs": [
    {
     "name": "stderr",
     "output_type": "stream",
     "text": [
      "2018-11-10 16:11:21,142 - root - DEBUG - grad shape is (2,)\n",
      "2018-11-10 16:11:21,145 - root - DEBUG - idx is 0\n",
      "2018-11-10 16:11:21,148 - root - DEBUG - new x is [0.1001 1.5   ]\n",
      "2018-11-10 16:11:21,149 - root - DEBUG - f(xh1) is 2.2505010005\n",
      "2018-11-10 16:11:21,152 - root - DEBUG - new x is [0.0999 1.5   ]\n",
      "2018-11-10 16:11:21,154 - root - DEBUG - f(xh2) is 2.2504990005\n",
      "2018-11-10 16:11:21,155 - root - DEBUG - grad[idx] is 0.009999999999177334\n",
      "2018-11-10 16:11:21,156 - root - DEBUG - idx is 1\n",
      "2018-11-10 16:11:21,159 - root - DEBUG - new x is [0.1    1.5001]\n",
      "2018-11-10 16:11:21,161 - root - DEBUG - f(xh1) is 2.2508000100000003\n",
      "2018-11-10 16:11:21,163 - root - DEBUG - new x is [0.1    1.4999]\n",
      "2018-11-10 16:11:21,165 - root - DEBUG - f(xh2) is 2.2502000100000004\n",
      "2018-11-10 16:11:21,167 - root - DEBUG - grad[idx] is 2.9999999999996696\n"
     ]
    },
    {
     "data": {
      "text/plain": [
       "array([0.01, 3.  ])"
      ]
     },
     "execution_count": 37,
     "metadata": {},
     "output_type": "execute_result"
    }
   ],
   "source": [
    "_numerical_gradient_no_batch(bowl,x ) "
   ]
  },
  {
   "cell_type": "code",
   "execution_count": 38,
   "metadata": {},
   "outputs": [
    {
     "data": {
      "text/plain": [
       "array([0.01, 3.  ])"
      ]
     },
     "execution_count": 38,
     "metadata": {},
     "output_type": "execute_result"
    }
   ],
   "source": [
    "bowl_grad(x)"
   ]
  },
  {
   "cell_type": "raw",
   "metadata": {},
   "source": [
    "def numerical_gradient(f, X):\n",
    "        ''' Numerical gradient for 2d array\n",
    "        Parameters\n",
    "        ----------\n",
    "        f: function\n",
    "                function to calculate gradient\n",
    "        X: 2d array\n",
    "                grid to calculate gradient, shape is [2, N]\n",
    "        '''\n",
    "        # return the original function if 1d\n",
    "        logger.info(f\"debug: {debug}\")\n",
    "        if X.ndim == 1:\n",
    "                return _numerical_gradient_no_batch(f, X)\n",
    "        \n",
    "        # if X dim is 2, the row should be 2\n",
    "        assert(X.shape[0] == 2)\n",
    "        grad = np.zeros_like(X)\n",
    "        \n",
    "        # the iteration should be for the columns\n",
    "        # this implementation would enumerate on each point in the array\n",
    "        for idx, x in enumerate(X):\n",
    "                logger.debug(f\"idx is {idx}\")\n",
    "                grad[idx] = _numerical_gradient_no_batch(f, x)\n",
    "                \n",
    "        return grad"
   ]
  },
  {
   "cell_type": "code",
   "execution_count": 39,
   "metadata": {},
   "outputs": [],
   "source": [
    "debug = True"
   ]
  },
  {
   "cell_type": "code",
   "execution_count": 43,
   "metadata": {},
   "outputs": [],
   "source": [
    "idx = 11"
   ]
  },
  {
   "cell_type": "code",
   "execution_count": 45,
   "metadata": {},
   "outputs": [
    {
     "ename": "SyntaxError",
     "evalue": "'break' outside loop (cell_name, line 5)",
     "output_type": "error",
     "traceback": [
      "\u001b[0;36m  File \u001b[0;32m\"cell_name\"\u001b[0;36m, line \u001b[0;32m5\u001b[0m\n\u001b[0;31mSyntaxError\u001b[0m\u001b[0;31m:\u001b[0m 'break' outside loop\n"
     ]
    }
   ],
   "source": [
    "if debug and (idx > 10):\n",
    "        break"
   ]
  },
  {
   "cell_type": "code",
   "execution_count": 85,
   "metadata": {},
   "outputs": [],
   "source": [
    "x0 = np.arange(-2, -1.5, .25)\n",
    "x1 = np.arange(-2, -1.5, .25)\n",
    "X, Y = np.meshgrid(x0, x1)\n",
    "X = X.flatten()\n",
    "Y = Y.flatten()"
   ]
  },
  {
   "cell_type": "code",
   "execution_count": 86,
   "metadata": {},
   "outputs": [],
   "source": [
    "x_debug = np.array([X, Y])"
   ]
  },
  {
   "cell_type": "code",
   "execution_count": 87,
   "metadata": {},
   "outputs": [
    {
     "data": {
      "text/plain": [
       "array([[-2.  , -1.75, -2.  , -1.75],\n",
       "       [-2.  , -2.  , -1.75, -1.75]])"
      ]
     },
     "execution_count": 87,
     "metadata": {},
     "output_type": "execute_result"
    }
   ],
   "source": [
    "x_debug"
   ]
  },
  {
   "cell_type": "code",
   "execution_count": 51,
   "metadata": {},
   "outputs": [
    {
     "data": {
      "text/plain": [
       "(2, 4)"
      ]
     },
     "execution_count": 51,
     "metadata": {},
     "output_type": "execute_result"
    }
   ],
   "source": [
    "x_debug.shape"
   ]
  },
  {
   "cell_type": "code",
   "execution_count": 54,
   "metadata": {},
   "outputs": [
    {
     "name": "stderr",
     "output_type": "stream",
     "text": [
      "2018-11-11 00:41:27,826 - root - INFO - debug: True\n",
      "2018-11-11 00:41:27,827 - root - DEBUG - idx is 0\n",
      "2018-11-11 00:41:27,828 - root - DEBUG - grad shape is (4,)\n",
      "2018-11-11 00:41:27,828 - root - DEBUG - idx is 0\n",
      "2018-11-11 00:41:27,829 - root - DEBUG - new x is [-1.9999 -1.75   -2.     -1.75  ]\n",
      "2018-11-11 00:41:27,830 - root - DEBUG - f(xh1) is 3.2624800005\n",
      "2018-11-11 00:41:27,831 - root - DEBUG - new x is [-2.0001 -1.75   -2.     -1.75  ]\n",
      "2018-11-11 00:41:27,832 - root - DEBUG - f(xh2) is 3.2625200005\n",
      "2018-11-11 00:41:27,833 - root - DEBUG - grad[idx] is -0.1999999999990898\n",
      "2018-11-11 00:41:27,833 - root - DEBUG - idx is 1\n",
      "2018-11-11 00:41:27,834 - root - DEBUG - new x is [-2.     -1.7499 -2.     -1.75  ]\n",
      "2018-11-11 00:41:27,835 - root - DEBUG - f(xh1) is 3.26215001\n",
      "2018-11-11 00:41:27,836 - root - DEBUG - new x is [-2.     -1.7501 -2.     -1.75  ]\n",
      "2018-11-11 00:41:27,837 - root - DEBUG - f(xh2) is 3.26285001\n",
      "2018-11-11 00:41:27,838 - root - DEBUG - grad[idx] is -3.5000000000007248\n",
      "2018-11-11 00:41:27,867 - root - DEBUG - idx is 2\n",
      "2018-11-11 00:41:27,869 - root - DEBUG - new x is [-2.     -1.75   -1.9999 -1.75  ]\n",
      "2018-11-11 00:41:27,872 - root - DEBUG - f(xh1) is 3.2625\n",
      "2018-11-11 00:41:27,873 - root - DEBUG - new x is [-2.     -1.75   -2.0001 -1.75  ]\n",
      "2018-11-11 00:41:27,874 - root - DEBUG - f(xh2) is 3.2625\n",
      "2018-11-11 00:41:27,885 - root - DEBUG - grad[idx] is 0.0\n",
      "2018-11-11 00:41:27,888 - root - DEBUG - idx is 3\n",
      "2018-11-11 00:41:27,890 - root - DEBUG - new x is [-2.     -1.75   -2.     -1.7499]\n",
      "2018-11-11 00:41:27,891 - root - DEBUG - f(xh1) is 3.2625\n",
      "2018-11-11 00:41:27,893 - root - DEBUG - new x is [-2.     -1.75   -2.     -1.7501]\n",
      "2018-11-11 00:41:27,895 - root - DEBUG - f(xh2) is 3.2625\n",
      "2018-11-11 00:41:27,896 - root - DEBUG - grad[idx] is 0.0\n",
      "2018-11-11 00:41:27,898 - root - DEBUG - idx is 1\n",
      "2018-11-11 00:41:27,900 - root - DEBUG - grad shape is (4,)\n",
      "2018-11-11 00:41:27,902 - root - DEBUG - idx is 0\n",
      "2018-11-11 00:41:27,904 - root - DEBUG - new x is [-1.9999 -2.     -1.75   -1.75  ]\n",
      "2018-11-11 00:41:27,905 - root - DEBUG - f(xh1) is 4.1999800005\n",
      "2018-11-11 00:41:27,908 - root - DEBUG - new x is [-2.0001 -2.     -1.75   -1.75  ]\n",
      "2018-11-11 00:41:27,909 - root - DEBUG - f(xh2) is 4.2000200005\n",
      "2018-11-11 00:41:27,910 - root - DEBUG - grad[idx] is -0.20000000000131024\n",
      "2018-11-11 00:41:27,912 - root - DEBUG - idx is 1\n",
      "2018-11-11 00:41:27,916 - root - DEBUG - new x is [-2.     -1.9999 -1.75   -1.75  ]\n",
      "2018-11-11 00:41:27,920 - root - DEBUG - f(xh1) is 4.19960001\n",
      "2018-11-11 00:41:27,923 - root - DEBUG - new x is [-2.     -2.0001 -1.75   -1.75  ]\n",
      "2018-11-11 00:41:27,925 - root - DEBUG - f(xh2) is 4.200400010000001\n",
      "2018-11-11 00:41:27,927 - root - DEBUG - grad[idx] is -4.000000000004\n",
      "2018-11-11 00:41:27,930 - root - DEBUG - idx is 2\n",
      "2018-11-11 00:41:27,933 - root - DEBUG - new x is [-2.     -2.     -1.7499 -1.75  ]\n",
      "2018-11-11 00:41:27,934 - root - DEBUG - f(xh1) is 4.2\n",
      "2018-11-11 00:41:27,938 - root - DEBUG - new x is [-2.     -2.     -1.7501 -1.75  ]\n",
      "2018-11-11 00:41:27,940 - root - DEBUG - f(xh2) is 4.2\n",
      "2018-11-11 00:41:27,942 - root - DEBUG - grad[idx] is 0.0\n",
      "2018-11-11 00:41:27,944 - root - DEBUG - idx is 3\n",
      "2018-11-11 00:41:27,946 - root - DEBUG - new x is [-2.     -2.     -1.75   -1.7499]\n",
      "2018-11-11 00:41:27,949 - root - DEBUG - f(xh1) is 4.2\n",
      "2018-11-11 00:41:27,951 - root - DEBUG - new x is [-2.     -2.     -1.75   -1.7501]\n",
      "2018-11-11 00:41:27,952 - root - DEBUG - f(xh2) is 4.2\n",
      "2018-11-11 00:41:27,954 - root - DEBUG - grad[idx] is 0.0\n"
     ]
    }
   ],
   "source": [
    "grad = numerical_gradient(bowl, x_debug,debug = True)"
   ]
  },
  {
   "cell_type": "code",
   "execution_count": 55,
   "metadata": {},
   "outputs": [
    {
     "data": {
      "text/plain": [
       "array([[-0.2, -3.5,  0. ,  0. ],\n",
       "       [-0.2, -4. ,  0. ,  0. ]])"
      ]
     },
     "execution_count": 55,
     "metadata": {},
     "output_type": "execute_result"
    }
   ],
   "source": [
    "grad"
   ]
  },
  {
   "cell_type": "code",
   "execution_count": 57,
   "metadata": {},
   "outputs": [],
   "source": [
    "x_short = np.array([0.1, 1.5])"
   ]
  },
  {
   "cell_type": "code",
   "execution_count": 58,
   "metadata": {},
   "outputs": [
    {
     "name": "stderr",
     "output_type": "stream",
     "text": [
      "2018-11-11 00:44:40,871 - root - INFO - debug: False\n",
      "2018-11-11 00:44:40,874 - root - DEBUG - grad shape is (2,)\n",
      "2018-11-11 00:44:40,877 - root - DEBUG - idx is 0\n",
      "2018-11-11 00:44:40,878 - root - DEBUG - new x is [0.1001 1.5   ]\n",
      "2018-11-11 00:44:40,879 - root - DEBUG - f(xh1) is 2.2505010005\n",
      "2018-11-11 00:44:40,881 - root - DEBUG - new x is [0.0999 1.5   ]\n",
      "2018-11-11 00:44:40,884 - root - DEBUG - f(xh2) is 2.2504990005\n",
      "2018-11-11 00:44:40,885 - root - DEBUG - grad[idx] is 0.009999999999177334\n",
      "2018-11-11 00:44:40,886 - root - DEBUG - idx is 1\n",
      "2018-11-11 00:44:40,887 - root - DEBUG - new x is [0.1    1.5001]\n",
      "2018-11-11 00:44:40,890 - root - DEBUG - f(xh1) is 2.2508000100000003\n",
      "2018-11-11 00:44:40,892 - root - DEBUG - new x is [0.1    1.4999]\n",
      "2018-11-11 00:44:40,893 - root - DEBUG - f(xh2) is 2.2502000100000004\n",
      "2018-11-11 00:44:40,894 - root - DEBUG - grad[idx] is 2.9999999999996696\n"
     ]
    },
    {
     "data": {
      "text/plain": [
       "array([0.01, 3.  ])"
      ]
     },
     "execution_count": 58,
     "metadata": {},
     "output_type": "execute_result"
    }
   ],
   "source": [
    "numerical_gradient(bowl, x_short)"
   ]
  },
  {
   "cell_type": "code",
   "execution_count": 59,
   "metadata": {},
   "outputs": [
    {
     "data": {
      "text/plain": [
       "array([0.01, 3.  ])"
      ]
     },
     "execution_count": 59,
     "metadata": {},
     "output_type": "execute_result"
    }
   ],
   "source": [
    "bowl_grad(x_short)"
   ]
  },
  {
   "cell_type": "code",
   "execution_count": 61,
   "metadata": {},
   "outputs": [],
   "source": [
    "from src.common.gradient import numerical_gradient"
   ]
  },
  {
   "cell_type": "code",
   "execution_count": 62,
   "metadata": {},
   "outputs": [
    {
     "data": {
      "text/plain": [
       "array([0.01, 3.  ])"
      ]
     },
     "execution_count": 62,
     "metadata": {},
     "output_type": "execute_result"
    }
   ],
   "source": [
    "# 結局これは、値（スカラーでもベクトルでも）の点ごとの grad を取っている\n",
    "numerical_gradient(bowl, x_short)"
   ]
  },
  {
   "cell_type": "code",
   "execution_count": 64,
   "metadata": {},
   "outputs": [
    {
     "data": {
      "text/plain": [
       "array([[-2.0001, -1.75  , -2.    , -1.75  ],\n",
       "       [-2.    , -2.    , -1.75  , -1.75  ]])"
      ]
     },
     "execution_count": 64,
     "metadata": {},
     "output_type": "execute_result"
    }
   ],
   "source": [
    "# 値の array に対して取る場合は、その外側からループを回さないとならない\n",
    "x_debug"
   ]
  },
  {
   "cell_type": "raw",
   "metadata": {},
   "source": [
    "これを row columnとして受け取ったなら、"
   ]
  },
  {
   "cell_type": "code",
   "execution_count": 65,
   "metadata": {},
   "outputs": [
    {
     "data": {
      "text/plain": [
       "[array([[-2.  , -1.75],\n",
       "        [-2.  , -1.75]]), array([[-2.  , -2.  ],\n",
       "        [-1.75, -1.75]])]"
      ]
     },
     "execution_count": 65,
     "metadata": {},
     "output_type": "execute_result"
    }
   ],
   "source": [
    "np.meshgrid(x0, x1)"
   ]
  },
  {
   "cell_type": "raw",
   "metadata": {},
   "source": [
    "これに対して、1点ごとのgradを取るので十分では"
   ]
  },
  {
   "cell_type": "code",
   "execution_count": 68,
   "metadata": {},
   "outputs": [
    {
     "data": {
      "text/plain": [
       "[array([[-2.  , -1.75],\n",
       "        [-2.  , -1.75]]), array([[-2.  , -2.  ],\n",
       "        [-1.75, -1.75]])]"
      ]
     },
     "execution_count": 68,
     "metadata": {},
     "output_type": "execute_result"
    }
   ],
   "source": [
    "mesh = np.meshgrid(x0, x0)\n",
    "mesh"
   ]
  },
  {
   "cell_type": "code",
   "execution_count": 70,
   "metadata": {},
   "outputs": [
    {
     "data": {
      "text/plain": [
       "array([[[0., 0.],\n",
       "        [0., 0.]],\n",
       "\n",
       "       [[0., 0.],\n",
       "        [0., 0.]]])"
      ]
     },
     "execution_count": 70,
     "metadata": {},
     "output_type": "execute_result"
    }
   ],
   "source": [
    "grad = np.zeros_like(mesh)\n",
    "grad"
   ]
  },
  {
   "cell_type": "code",
   "execution_count": 71,
   "metadata": {},
   "outputs": [
    {
     "name": "stdout",
     "output_type": "stream",
     "text": [
      "idx: 0, x: [[-2.   -1.75]\n",
      " [-2.   -1.75]]\n",
      "idx: 1, x: [[-2.   -2.  ]\n",
      " [-1.75 -1.75]]\n"
     ]
    }
   ],
   "source": [
    "for idx, x in enumerate(mesh):\n",
    "        print(f\"idx: {idx}, x: {x}\")\n",
    "        "
   ]
  },
  {
   "cell_type": "code",
   "execution_count": 73,
   "metadata": {},
   "outputs": [
    {
     "data": {
      "text/plain": [
       "array([[-2.0001, -2.    ],\n",
       "       [-1.75  , -2.    ],\n",
       "       [-2.    , -1.75  ],\n",
       "       [-1.75  , -1.75  ]])"
      ]
     },
     "execution_count": 73,
     "metadata": {},
     "output_type": "execute_result"
    }
   ],
   "source": [
    "x_debug_transposed = x_debug.transpose()\n",
    "x_debug_transposed"
   ]
  },
  {
   "cell_type": "code",
   "execution_count": 84,
   "metadata": {},
   "outputs": [
    {
     "data": {
      "text/plain": [
       "array([[-2.0001, -1.75  , -2.    , -1.75  ],\n",
       "       [-2.    , -2.    , -1.75  , -1.75  ]])"
      ]
     },
     "execution_count": 84,
     "metadata": {},
     "output_type": "execute_result"
    }
   ],
   "source": [
    "x_debug"
   ]
  },
  {
   "cell_type": "code",
   "execution_count": 79,
   "metadata": {},
   "outputs": [
    {
     "data": {
      "text/plain": [
       "array([[0., 0.],\n",
       "       [0., 0.],\n",
       "       [0., 0.],\n",
       "       [0., 0.]])"
      ]
     },
     "execution_count": 79,
     "metadata": {},
     "output_type": "execute_result"
    }
   ],
   "source": [
    "grad= np.zeros_like(x_debug_transposed)\n",
    "grad"
   ]
  },
  {
   "cell_type": "code",
   "execution_count": 80,
   "metadata": {},
   "outputs": [
    {
     "name": "stdout",
     "output_type": "stream",
     "text": [
      "idx: 0, x: [-2.0001 -2.    ]\n",
      "idx: 1, x: [-1.75 -2.  ]\n",
      "idx: 2, x: [-2.   -1.75]\n",
      "idx: 3, x: [-1.75 -1.75]\n"
     ]
    }
   ],
   "source": [
    "for idx, x in enumerate(x_debug_transposed):\n",
    "        print(f\"idx: {idx}, x: {x}\")\n",
    "        grad[idx] = numerical_gradient(bowl, x)"
   ]
  },
  {
   "cell_type": "code",
   "execution_count": 82,
   "metadata": {},
   "outputs": [
    {
     "data": {
      "text/plain": [
       "array([[-0.20001, -4.     ],\n",
       "       [-0.175  , -4.     ],\n",
       "       [-0.2    , -3.5    ],\n",
       "       [-0.175  , -3.5    ]])"
      ]
     },
     "execution_count": 82,
     "metadata": {},
     "output_type": "execute_result"
    }
   ],
   "source": [
    "grad"
   ]
  },
  {
   "cell_type": "code",
   "execution_count": 83,
   "metadata": {},
   "outputs": [
    {
     "data": {
      "text/plain": [
       "array([-2.0001, -2.    ])"
      ]
     },
     "execution_count": 83,
     "metadata": {},
     "output_type": "execute_result"
    }
   ],
   "source": [
    "x_debug_transposed[0]"
   ]
  },
  {
   "cell_type": "code",
   "execution_count": 89,
   "metadata": {},
   "outputs": [
    {
     "data": {
      "text/plain": [
       "(4, 2)"
      ]
     },
     "execution_count": 89,
     "metadata": {},
     "output_type": "execute_result"
    }
   ],
   "source": [
    "x_debug_transposed.shape"
   ]
  },
  {
   "cell_type": "code",
   "execution_count": null,
   "metadata": {},
   "outputs": [],
   "source": []
  }
 ],
 "metadata": {
  "kernelspec": {
   "display_name": "Python 3",
   "language": "python",
   "name": "python3"
  },
  "language_info": {
   "codemirror_mode": {
    "name": "ipython",
    "version": 3
   },
   "file_extension": ".py",
   "mimetype": "text/x-python",
   "name": "python",
   "nbconvert_exporter": "python",
   "pygments_lexer": "ipython3",
   "version": "3.7.0"
  }
 },
 "nbformat": 4,
 "nbformat_minor": 2
}
