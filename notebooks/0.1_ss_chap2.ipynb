{
 "cells": [
  {
   "cell_type": "markdown",
   "metadata": {},
   "source": [
    "# 0.1_ss_start\n",
    "chapter2 の実装"
   ]
  },
  {
   "cell_type": "code",
   "execution_count": 2,
   "metadata": {},
   "outputs": [
    {
     "name": "stdout",
     "output_type": "stream",
     "text": [
      "The autoreload extension is already loaded. To reload it, use:\n",
      "  %reload_ext autoreload\n"
     ]
    }
   ],
   "source": [
    "%load_ext autoreload\n",
    "%autoreload 2"
   ]
  },
  {
   "cell_type": "code",
   "execution_count": 4,
   "metadata": {},
   "outputs": [],
   "source": [
    "%reload_ext autoreload"
   ]
  },
  {
   "cell_type": "code",
   "execution_count": 11,
   "metadata": {},
   "outputs": [],
   "source": [
    "from src import utils\n",
    "import itertools\n",
    "import logging\n",
    "import numpy as np"
   ]
  },
  {
   "cell_type": "code",
   "execution_count": 12,
   "metadata": {},
   "outputs": [],
   "source": [
    "log_fmt = '%(asctime)s - %(name)s - %(levelname)s - %(message)s'\n",
    "logging.basicConfig(level=logging.INFO, format=log_fmt)\n",
    "# logging.basicConfig(level=logging.DEBUG, format=log_fmt)\n",
    "logger = logging.getLogger()"
   ]
  },
  {
   "cell_type": "code",
   "execution_count": 13,
   "metadata": {},
   "outputs": [],
   "source": [
    "def AND(x1, x2):\n",
    "    ''' Simple implementation of AND\n",
    "    '''\n",
    "    w1, w2, theta = 0.5, 0.5, 0.7\n",
    "    spark = x1*w1 + x2*w2\n",
    "    if spark <= theta:\n",
    "        return 0\n",
    "    if spark > theta:\n",
    "        return 1"
   ]
  },
  {
   "cell_type": "code",
   "execution_count": 17,
   "metadata": {},
   "outputs": [
    {
     "name": "stderr",
     "output_type": "stream",
     "text": [
      "2018-11-01 09:20:42,265 - root - INFO - AND(0,0) is 0\n",
      "2018-11-01 09:20:42,267 - root - INFO - AND(0,1) is 0\n",
      "2018-11-01 09:20:42,269 - root - INFO - AND(1,0) is 0\n",
      "2018-11-01 09:20:42,273 - root - INFO - AND(1,1) is 1\n"
     ]
    }
   ],
   "source": [
    "for i,j in itertools.product([0,1], [0,1]):\n",
    "    logger.info(f\"AND({i},{j}) is {AND(i,j)}\")"
   ]
  },
  {
   "cell_type": "code",
   "execution_count": 29,
   "metadata": {},
   "outputs": [],
   "source": [
    "def test_gate(gate_func, x1=[0,1], x2=[0,1]):\n",
    "    ''' Test gate function for values of 0,1\n",
    "    '''\n",
    "    x1 = np.array(x1)\n",
    "    x2 = np.array(x2)\n",
    "    for i,j in itertools.product(x1, x2):\n",
    "        logger.info(f\"{gate_func.__name__}({i},{j}) is {gate_func(i,j)}\")"
   ]
  },
  {
   "cell_type": "code",
   "execution_count": 30,
   "metadata": {},
   "outputs": [
    {
     "name": "stderr",
     "output_type": "stream",
     "text": [
      "2018-11-01 09:26:58,849 - root - INFO - AND(0,0) is 0\n",
      "2018-11-01 09:26:58,853 - root - INFO - AND(0,1) is 0\n",
      "2018-11-01 09:26:58,855 - root - INFO - AND(1,0) is 0\n",
      "2018-11-01 09:26:58,856 - root - INFO - AND(1,1) is 1\n"
     ]
    }
   ],
   "source": [
    "test_gate(AND)"
   ]
  },
  {
   "cell_type": "markdown",
   "metadata": {},
   "source": [
    "## With bias"
   ]
  },
  {
   "cell_type": "code",
   "execution_count": 19,
   "metadata": {},
   "outputs": [],
   "source": [
    "x = np.array([0,1])\n",
    "w = np.array([0.5, 0.5])\n",
    "b = -0.7"
   ]
  },
  {
   "cell_type": "code",
   "execution_count": 20,
   "metadata": {},
   "outputs": [
    {
     "data": {
      "text/plain": [
       "array([0. , 0.5])"
      ]
     },
     "execution_count": 20,
     "metadata": {},
     "output_type": "execute_result"
    }
   ],
   "source": [
    "w*x"
   ]
  },
  {
   "cell_type": "code",
   "execution_count": 21,
   "metadata": {},
   "outputs": [
    {
     "data": {
      "text/plain": [
       "0.5"
      ]
     },
     "execution_count": 21,
     "metadata": {},
     "output_type": "execute_result"
    }
   ],
   "source": [
    "np.sum(w*x)"
   ]
  },
  {
   "cell_type": "code",
   "execution_count": 22,
   "metadata": {},
   "outputs": [
    {
     "data": {
      "text/plain": [
       "-0.19999999999999996"
      ]
     },
     "execution_count": 22,
     "metadata": {},
     "output_type": "execute_result"
    }
   ],
   "source": [
    "np.sum(w*x) + b"
   ]
  },
  {
   "cell_type": "code",
   "execution_count": 26,
   "metadata": {},
   "outputs": [],
   "source": [
    "def AND(x1, x2):\n",
    "    ''' Simple implementation of AND with bias\n",
    "    '''\n",
    "    x = np.array([x1, x2])\n",
    "    w = np.array([0.5, 0.5])\n",
    "    b = -0.7\n",
    "    spark = np.sum(x*w) + b \n",
    "    if spark <= 0:\n",
    "        return 0\n",
    "    if spark > 0:\n",
    "        return 1"
   ]
  },
  {
   "cell_type": "code",
   "execution_count": 33,
   "metadata": {},
   "outputs": [
    {
     "name": "stderr",
     "output_type": "stream",
     "text": [
      "2018-11-01 09:28:34,226 - root - INFO - AND(0,0) is 0\n",
      "2018-11-01 09:28:34,229 - root - INFO - AND(0,1) is 0\n",
      "2018-11-01 09:28:34,232 - root - INFO - AND(1,0) is 0\n",
      "2018-11-01 09:28:34,233 - root - INFO - AND(1,1) is 1\n"
     ]
    }
   ],
   "source": [
    "test_gate(AND)"
   ]
  },
  {
   "cell_type": "code",
   "execution_count": 31,
   "metadata": {},
   "outputs": [],
   "source": [
    "def NAND(x1, x2):\n",
    "    ''' Simple implementation of NAND gate\n",
    "    \n",
    "    '''\n",
    "    x = np.array([x1, x2])\n",
    "    w = np.array([-0.5, -0.5])\n",
    "    b = 0.7\n",
    "    spark = np.sum(x*w) + b \n",
    "    if spark <= 0:\n",
    "        return 0\n",
    "    if spark > 0:\n",
    "        return 1"
   ]
  },
  {
   "cell_type": "code",
   "execution_count": 32,
   "metadata": {},
   "outputs": [
    {
     "name": "stderr",
     "output_type": "stream",
     "text": [
      "2018-11-01 09:28:23,338 - root - INFO - NAND(0,0) is 1\n",
      "2018-11-01 09:28:23,340 - root - INFO - NAND(0,1) is 1\n",
      "2018-11-01 09:28:23,343 - root - INFO - NAND(1,0) is 1\n",
      "2018-11-01 09:28:23,345 - root - INFO - NAND(1,1) is 0\n"
     ]
    }
   ],
   "source": [
    "test_gate(NAND)"
   ]
  },
  {
   "cell_type": "code",
   "execution_count": 34,
   "metadata": {},
   "outputs": [],
   "source": [
    "def OR(x1, x2):\n",
    "    ''' Simple implementation of OR gate\n",
    "    \n",
    "    '''\n",
    "    x = np.array([x1, x2])\n",
    "    w = np.array([0.5, 0.5])\n",
    "    b = -0.2\n",
    "    spark = np.sum(x*w) + b \n",
    "    if spark <= 0:\n",
    "        return 0\n",
    "    if spark > 0:\n",
    "        return 1"
   ]
  },
  {
   "cell_type": "code",
   "execution_count": 35,
   "metadata": {},
   "outputs": [
    {
     "name": "stderr",
     "output_type": "stream",
     "text": [
      "2018-11-01 09:29:19,577 - root - INFO - OR(0,0) is 0\n",
      "2018-11-01 09:29:19,578 - root - INFO - OR(0,1) is 1\n",
      "2018-11-01 09:29:19,582 - root - INFO - OR(1,0) is 1\n",
      "2018-11-01 09:29:19,583 - root - INFO - OR(1,1) is 1\n"
     ]
    }
   ],
   "source": [
    "test_gate(OR)"
   ]
  },
  {
   "cell_type": "code",
   "execution_count": 36,
   "metadata": {},
   "outputs": [],
   "source": [
    "def XOR(x1, x2):\n",
    "    ''' Simple implementation of XOR gate\n",
    "    \n",
    "    '''\n",
    "    s1 = NAND(x1, x2)\n",
    "    s2 = OR(x1, x2)\n",
    "    y = AND(s1, s2)\n",
    "    return y"
   ]
  },
  {
   "cell_type": "code",
   "execution_count": 37,
   "metadata": {},
   "outputs": [
    {
     "name": "stderr",
     "output_type": "stream",
     "text": [
      "2018-11-01 09:37:24,518 - root - INFO - XOR(0,0) is 0\n",
      "2018-11-01 09:37:24,521 - root - INFO - XOR(0,1) is 1\n",
      "2018-11-01 09:37:24,522 - root - INFO - XOR(1,0) is 1\n",
      "2018-11-01 09:37:24,525 - root - INFO - XOR(1,1) is 0\n"
     ]
    }
   ],
   "source": [
    "test_gate(XOR)"
   ]
  },
  {
   "cell_type": "code",
   "execution_count": null,
   "metadata": {},
   "outputs": [],
   "source": []
  }
 ],
 "metadata": {
  "kernelspec": {
   "display_name": "Python 3",
   "language": "python",
   "name": "python3"
  },
  "language_info": {
   "codemirror_mode": {
    "name": "ipython",
    "version": 3
   },
   "file_extension": ".py",
   "mimetype": "text/x-python",
   "name": "python",
   "nbconvert_exporter": "python",
   "pygments_lexer": "ipython3",
   "version": "3.7.0"
  }
 },
 "nbformat": 4,
 "nbformat_minor": 2
}
