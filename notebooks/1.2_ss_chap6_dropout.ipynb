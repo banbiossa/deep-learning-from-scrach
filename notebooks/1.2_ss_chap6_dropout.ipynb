{
 "cells": [
  {
   "cell_type": "markdown",
   "metadata": {},
   "source": [
    "# 1.2_ss_chap6_dropout"
   ]
  },
  {
   "cell_type": "code",
   "execution_count": 1,
   "metadata": {},
   "outputs": [],
   "source": [
    "%load_ext autoreload\n",
    "%autoreload 2"
   ]
  },
  {
   "cell_type": "code",
   "execution_count": 2,
   "metadata": {},
   "outputs": [],
   "source": [
    "%reload_ext autoreload"
   ]
  },
  {
   "cell_type": "code",
   "execution_count": 3,
   "metadata": {},
   "outputs": [],
   "source": [
    "from src import utils\n",
    "import itertools\n",
    "import logging\n",
    "import numpy as np\n",
    "import pandas as pd\n",
    "import matplotlib.pylab as plt\n",
    "import matplotlib.patches as patches\n",
    "from collections import OrderedDict\n",
    "%matplotlib inline"
   ]
  },
  {
   "cell_type": "code",
   "execution_count": 4,
   "metadata": {},
   "outputs": [],
   "source": [
    "log_fmt = '%(asctime)s - %(name)s - %(levelname)s - %(message)s'\n",
    "# logging.basicConfig(level=logging.INFO, format=log_fmt)\n",
    "logging.basicConfig(level=logging.DEBUG, format=log_fmt)\n",
    "logger = logging.getLogger()"
   ]
  },
  {
   "cell_type": "code",
   "execution_count": 5,
   "metadata": {},
   "outputs": [],
   "source": [
    "from src.ch06.overfit_dropout import main\n",
    "from src.dataset.mnist import load_mnist\n",
    "from src.common.multi_layer_net_extend import MultiLayerNetExtend\n",
    "from src.common.trainer import Trainer"
   ]
  },
  {
   "cell_type": "markdown",
   "metadata": {},
   "source": [
    "## From overfit_dropout"
   ]
  },
  {
   "cell_type": "code",
   "execution_count": 12,
   "metadata": {},
   "outputs": [
    {
     "name": "stdout",
     "output_type": "stream",
     "text": [
      "train loss:2.3035495782676687\n"
     ]
    },
    {
     "name": "stderr",
     "output_type": "stream",
     "text": [
      "2018-11-23 15:34:30,862 - src.common.trainer - INFO - ==============================\n",
      "2018-11-23 15:34:30,862 - src.common.trainer - INFO - epoch: 1\n",
      "2018-11-23 15:34:30,863 - src.common.trainer - INFO - train acc: 0.18666666666666668\n",
      "2018-11-23 15:34:30,863 - src.common.trainer - INFO - test acc: 0.1477\n",
      "2018-11-23 15:34:31,072 - src.common.trainer - INFO - ==============================\n",
      "2018-11-23 15:34:31,073 - src.common.trainer - INFO - epoch: 2\n",
      "2018-11-23 15:34:31,075 - src.common.trainer - INFO - train acc: 0.18666666666666668\n",
      "2018-11-23 15:34:31,077 - src.common.trainer - INFO - test acc: 0.15\n"
     ]
    },
    {
     "name": "stdout",
     "output_type": "stream",
     "text": [
      "train loss:2.2880849078933743\n",
      "train loss:2.315038834222402\n",
      "train loss:2.2985947068809263\n"
     ]
    },
    {
     "name": "stderr",
     "output_type": "stream",
     "text": [
      "2018-11-23 15:34:31,269 - src.common.trainer - INFO - ==============================\n",
      "2018-11-23 15:34:31,269 - src.common.trainer - INFO - epoch: 3\n",
      "2018-11-23 15:34:31,270 - src.common.trainer - INFO - train acc: 0.19\n",
      "2018-11-23 15:34:31,270 - src.common.trainer - INFO - test acc: 0.1542\n"
     ]
    },
    {
     "name": "stdout",
     "output_type": "stream",
     "text": [
      "train loss:2.3086151528478163\n",
      "train loss:2.3009411664296824\n",
      "train loss:2.29444240610802\n",
      "train loss:2.279297004984164\n"
     ]
    },
    {
     "name": "stderr",
     "output_type": "stream",
     "text": [
      "2018-11-23 15:34:31,470 - src.common.trainer - INFO - ==============================\n",
      "2018-11-23 15:34:31,471 - src.common.trainer - INFO - epoch: 4\n",
      "2018-11-23 15:34:31,471 - src.common.trainer - INFO - train acc: 0.18666666666666668\n",
      "2018-11-23 15:34:31,472 - src.common.trainer - INFO - test acc: 0.1559\n"
     ]
    },
    {
     "name": "stdout",
     "output_type": "stream",
     "text": [
      "train loss:2.319162334562459\n",
      "train loss:2.2929350008777294\n",
      "train loss:2.303300893267849\n",
      "train loss:2.290345015551758\n"
     ]
    },
    {
     "name": "stderr",
     "output_type": "stream",
     "text": [
      "2018-11-23 15:34:31,669 - src.common.trainer - INFO - ==============================\n",
      "2018-11-23 15:34:31,670 - src.common.trainer - INFO - epoch: 5\n",
      "2018-11-23 15:34:31,670 - src.common.trainer - INFO - train acc: 0.18333333333333332\n",
      "2018-11-23 15:34:31,671 - src.common.trainer - INFO - test acc: 0.1574\n"
     ]
    },
    {
     "name": "stdout",
     "output_type": "stream",
     "text": [
      "train loss:2.3060049025088407\n",
      "train loss:2.303025506080961\n",
      "train loss:2.2925992842917653\n",
      "train loss:2.311079862157353\n"
     ]
    },
    {
     "name": "stderr",
     "output_type": "stream",
     "text": [
      "2018-11-23 15:34:31,870 - src.common.trainer - INFO - ==============================\n",
      "2018-11-23 15:34:31,871 - src.common.trainer - INFO - epoch: 6\n",
      "2018-11-23 15:34:31,871 - src.common.trainer - INFO - train acc: 0.18666666666666668\n",
      "2018-11-23 15:34:31,872 - src.common.trainer - INFO - test acc: 0.1587\n",
      "2018-11-23 15:34:32,060 - src.common.trainer - INFO - ==============================\n",
      "2018-11-23 15:34:32,060 - src.common.trainer - INFO - epoch: 7\n",
      "2018-11-23 15:34:32,061 - src.common.trainer - INFO - train acc: 0.18333333333333332\n",
      "2018-11-23 15:34:32,061 - src.common.trainer - INFO - test acc: 0.1595\n"
     ]
    },
    {
     "name": "stdout",
     "output_type": "stream",
     "text": [
      "train loss:2.3022245860742303\n",
      "train loss:2.305071423725993\n",
      "train loss:2.2769767021720586\n",
      "train loss:2.291915834283985\n"
     ]
    },
    {
     "name": "stderr",
     "output_type": "stream",
     "text": [
      "2018-11-23 15:34:32,272 - src.common.trainer - INFO - ==============================\n",
      "2018-11-23 15:34:32,272 - src.common.trainer - INFO - epoch: 8\n",
      "2018-11-23 15:34:32,273 - src.common.trainer - INFO - train acc: 0.18\n",
      "2018-11-23 15:34:32,273 - src.common.trainer - INFO - test acc: 0.1605\n"
     ]
    },
    {
     "name": "stdout",
     "output_type": "stream",
     "text": [
      "train loss:2.290323752865706\n",
      "train loss:2.3056618701362424\n",
      "train loss:2.281436760607365\n"
     ]
    },
    {
     "name": "stderr",
     "output_type": "stream",
     "text": [
      "2018-11-23 15:34:32,461 - src.common.trainer - INFO - ==============================\n",
      "2018-11-23 15:34:32,462 - src.common.trainer - INFO - epoch: 9\n",
      "2018-11-23 15:34:32,462 - src.common.trainer - INFO - train acc: 0.19666666666666666\n",
      "2018-11-23 15:34:32,463 - src.common.trainer - INFO - test acc: 0.1629\n"
     ]
    },
    {
     "name": "stdout",
     "output_type": "stream",
     "text": [
      "train loss:2.3020497144734\n",
      "train loss:2.2889255346298767\n",
      "train loss:2.2694894891673694\n",
      "train loss:2.2901372431253684\n"
     ]
    },
    {
     "name": "stderr",
     "output_type": "stream",
     "text": [
      "2018-11-23 15:34:32,668 - src.common.trainer - INFO - ==============================\n",
      "2018-11-23 15:34:32,669 - src.common.trainer - INFO - epoch: 10\n",
      "2018-11-23 15:34:32,669 - src.common.trainer - INFO - train acc: 0.2\n",
      "2018-11-23 15:34:32,670 - src.common.trainer - INFO - test acc: 0.1641\n"
     ]
    },
    {
     "name": "stdout",
     "output_type": "stream",
     "text": [
      "train loss:2.290678159717288\n",
      "train loss:2.301492940552762\n",
      "train loss:2.2767522559159423\n"
     ]
    },
    {
     "name": "stderr",
     "output_type": "stream",
     "text": [
      "2018-11-23 15:34:32,880 - src.common.trainer - INFO - ==============================\n",
      "2018-11-23 15:34:32,881 - src.common.trainer - INFO - epoch: 11\n",
      "2018-11-23 15:34:32,882 - src.common.trainer - INFO - train acc: 0.19666666666666666\n",
      "2018-11-23 15:34:32,883 - src.common.trainer - INFO - test acc: 0.1629\n"
     ]
    },
    {
     "name": "stdout",
     "output_type": "stream",
     "text": [
      "train loss:2.2960664894111344\n",
      "train loss:2.284792577695468\n",
      "train loss:2.308754132395011"
     ]
    },
    {
     "name": "stderr",
     "output_type": "stream",
     "text": [
      "2018-11-23 15:34:33,076 - src.common.trainer - INFO - ==============================\n",
      "2018-11-23 15:34:33,076 - src.common.trainer - INFO - epoch: 12\n",
      "2018-11-23 15:34:33,077 - src.common.trainer - INFO - train acc: 0.2\n",
      "2018-11-23 15:34:33,079 - src.common.trainer - INFO - test acc: 0.1659\n"
     ]
    },
    {
     "name": "stdout",
     "output_type": "stream",
     "text": [
      "\n",
      "train loss:2.286761065707572\n",
      "train loss:2.277251805867801\n",
      "train loss:2.279497607684345\n"
     ]
    },
    {
     "name": "stderr",
     "output_type": "stream",
     "text": [
      "2018-11-23 15:34:33,283 - src.common.trainer - INFO - ==============================\n",
      "2018-11-23 15:34:33,284 - src.common.trainer - INFO - epoch: 13\n",
      "2018-11-23 15:34:33,284 - src.common.trainer - INFO - train acc: 0.2\n",
      "2018-11-23 15:34:33,285 - src.common.trainer - INFO - test acc: 0.1679\n"
     ]
    },
    {
     "name": "stdout",
     "output_type": "stream",
     "text": [
      "train loss:2.287866391655518\n",
      "train loss:2.281629592258725\n",
      "train loss:2.2710061206968577\n",
      "train loss:2.2828987154877485\n"
     ]
    },
    {
     "name": "stderr",
     "output_type": "stream",
     "text": [
      "2018-11-23 15:34:33,474 - src.common.trainer - INFO - ==============================\n",
      "2018-11-23 15:34:33,475 - src.common.trainer - INFO - epoch: 14\n",
      "2018-11-23 15:34:33,475 - src.common.trainer - INFO - train acc: 0.2\n",
      "2018-11-23 15:34:33,478 - src.common.trainer - INFO - test acc: 0.1665\n"
     ]
    },
    {
     "name": "stdout",
     "output_type": "stream",
     "text": [
      "train loss:2.290664949319009\n",
      "train loss:2.2885876064667086\n",
      "train loss:2.2696056720966404\n"
     ]
    },
    {
     "name": "stderr",
     "output_type": "stream",
     "text": [
      "2018-11-23 15:34:33,806 - src.common.trainer - INFO - ==============================\n",
      "2018-11-23 15:34:33,807 - src.common.trainer - INFO - epoch: 15\n",
      "2018-11-23 15:34:33,815 - src.common.trainer - INFO - train acc: 0.19666666666666666\n",
      "2018-11-23 15:34:33,822 - src.common.trainer - INFO - test acc: 0.1677\n",
      "2018-11-23 15:34:34,041 - src.common.trainer - INFO - ==============================\n",
      "2018-11-23 15:34:34,041 - src.common.trainer - INFO - epoch: 16\n",
      "2018-11-23 15:34:34,042 - src.common.trainer - INFO - train acc: 0.2\n",
      "2018-11-23 15:34:34,042 - src.common.trainer - INFO - test acc: 0.1679\n"
     ]
    },
    {
     "name": "stdout",
     "output_type": "stream",
     "text": [
      "train loss:2.282405046514933\n",
      "train loss:2.27362674415204\n",
      "train loss:2.277298706339907\n"
     ]
    },
    {
     "name": "stderr",
     "output_type": "stream",
     "text": [
      "2018-11-23 15:34:34,232 - src.common.trainer - INFO - ==============================\n",
      "2018-11-23 15:34:34,233 - src.common.trainer - INFO - epoch: 17\n",
      "2018-11-23 15:34:34,233 - src.common.trainer - INFO - train acc: 0.2\n",
      "2018-11-23 15:34:34,234 - src.common.trainer - INFO - test acc: 0.1683\n"
     ]
    },
    {
     "name": "stdout",
     "output_type": "stream",
     "text": [
      "train loss:2.2803087311852575\n",
      "train loss:2.2823879014985313\n",
      "train loss:2.276758212498747\n",
      "train loss:2.2940753034088077\n",
      "train loss:2.2969372598565574\n"
     ]
    },
    {
     "name": "stderr",
     "output_type": "stream",
     "text": [
      "2018-11-23 15:34:34,450 - src.common.trainer - INFO - ==============================\n",
      "2018-11-23 15:34:34,451 - src.common.trainer - INFO - epoch: 18\n",
      "2018-11-23 15:34:34,452 - src.common.trainer - INFO - train acc: 0.2\n",
      "2018-11-23 15:34:34,453 - src.common.trainer - INFO - test acc: 0.1699\n"
     ]
    },
    {
     "name": "stdout",
     "output_type": "stream",
     "text": [
      "train loss:2.2679695145857663\n",
      "train loss:2.2731102473961355\n"
     ]
    },
    {
     "name": "stderr",
     "output_type": "stream",
     "text": [
      "2018-11-23 15:34:34,653 - src.common.trainer - INFO - ==============================\n",
      "2018-11-23 15:34:34,654 - src.common.trainer - INFO - epoch: 19\n",
      "2018-11-23 15:34:34,655 - src.common.trainer - INFO - train acc: 0.2\n",
      "2018-11-23 15:34:34,655 - src.common.trainer - INFO - test acc: 0.1709\n"
     ]
    },
    {
     "name": "stdout",
     "output_type": "stream",
     "text": [
      "train loss:2.2873691258389677\n",
      "train loss:2.2776829024892185\n",
      "train loss:2.27334881531666\n",
      "train loss:2.2735014835819563\n"
     ]
    },
    {
     "name": "stderr",
     "output_type": "stream",
     "text": [
      "2018-11-23 15:34:34,865 - src.common.trainer - INFO - ==============================\n",
      "2018-11-23 15:34:34,866 - src.common.trainer - INFO - epoch: 20\n",
      "2018-11-23 15:34:34,866 - src.common.trainer - INFO - train acc: 0.20666666666666667\n",
      "2018-11-23 15:34:34,869 - src.common.trainer - INFO - test acc: 0.1734\n"
     ]
    },
    {
     "name": "stdout",
     "output_type": "stream",
     "text": [
      "train loss:2.2777990687272696\n",
      "train loss:2.270044165835612\n"
     ]
    },
    {
     "name": "stderr",
     "output_type": "stream",
     "text": [
      "2018-11-23 15:34:35,063 - src.common.trainer - INFO - ==============================\n",
      "2018-11-23 15:34:35,064 - src.common.trainer - INFO - epoch: 21\n",
      "2018-11-23 15:34:35,065 - src.common.trainer - INFO - train acc: 0.21\n",
      "2018-11-23 15:34:35,065 - src.common.trainer - INFO - test acc: 0.1763\n"
     ]
    },
    {
     "name": "stdout",
     "output_type": "stream",
     "text": [
      "train loss:2.273830561435208\n",
      "train loss:2.285651619530584\n",
      "train loss:2.278278226960845\n",
      "train loss:2.267773991797078\n"
     ]
    },
    {
     "name": "stderr",
     "output_type": "stream",
     "text": [
      "2018-11-23 15:34:35,270 - src.common.trainer - INFO - ==============================\n",
      "2018-11-23 15:34:35,270 - src.common.trainer - INFO - epoch: 22\n",
      "2018-11-23 15:34:35,271 - src.common.trainer - INFO - train acc: 0.22\n",
      "2018-11-23 15:34:35,271 - src.common.trainer - INFO - test acc: 0.179\n"
     ]
    },
    {
     "name": "stdout",
     "output_type": "stream",
     "text": [
      "train loss:2.283279576883382\n",
      "train loss:2.2676301927105356\n",
      "train loss:2.2778197314939717\n",
      "train loss:2.259378082492386\n"
     ]
    },
    {
     "name": "stderr",
     "output_type": "stream",
     "text": [
      "2018-11-23 15:34:35,463 - src.common.trainer - INFO - ==============================\n",
      "2018-11-23 15:34:35,464 - src.common.trainer - INFO - epoch: 23\n",
      "2018-11-23 15:34:35,465 - src.common.trainer - INFO - train acc: 0.22666666666666666\n",
      "2018-11-23 15:34:35,465 - src.common.trainer - INFO - test acc: 0.1822\n",
      "2018-11-23 15:34:35,664 - src.common.trainer - INFO - ==============================\n",
      "2018-11-23 15:34:35,665 - src.common.trainer - INFO - epoch: 24\n",
      "2018-11-23 15:34:35,666 - src.common.trainer - INFO - train acc: 0.22\n",
      "2018-11-23 15:34:35,667 - src.common.trainer - INFO - test acc: 0.183\n"
     ]
    },
    {
     "name": "stdout",
     "output_type": "stream",
     "text": [
      "train loss:2.2829809620413015\n",
      "train loss:2.264373995840783\n",
      "train loss:2.247101149535847\n",
      "train loss:2.2601296670711264\n"
     ]
    },
    {
     "name": "stderr",
     "output_type": "stream",
     "text": [
      "2018-11-23 15:34:35,862 - src.common.trainer - INFO - ==============================\n",
      "2018-11-23 15:34:35,863 - src.common.trainer - INFO - epoch: 25\n",
      "2018-11-23 15:34:35,863 - src.common.trainer - INFO - train acc: 0.22333333333333333\n",
      "2018-11-23 15:34:35,864 - src.common.trainer - INFO - test acc: 0.1858\n"
     ]
    },
    {
     "name": "stdout",
     "output_type": "stream",
     "text": [
      "train loss:2.2637001191619657\n",
      "train loss:2.273747739615444\n",
      "train loss:2.281878234889399\n",
      "train loss:2.266126725540939\n"
     ]
    },
    {
     "name": "stderr",
     "output_type": "stream",
     "text": [
      "2018-11-23 15:34:36,052 - src.common.trainer - INFO - ==============================\n",
      "2018-11-23 15:34:36,053 - src.common.trainer - INFO - epoch: 26\n",
      "2018-11-23 15:34:36,053 - src.common.trainer - INFO - train acc: 0.23\n",
      "2018-11-23 15:34:36,054 - src.common.trainer - INFO - test acc: 0.1899\n"
     ]
    },
    {
     "name": "stdout",
     "output_type": "stream",
     "text": [
      "train loss:2.271155428143911\n",
      "train loss:2.2790148562188848\n",
      "train loss:2.278007506123382\n",
      "train loss:2.252974555581833\n"
     ]
    },
    {
     "name": "stderr",
     "output_type": "stream",
     "text": [
      "2018-11-23 15:34:36,242 - src.common.trainer - INFO - ==============================\n",
      "2018-11-23 15:34:36,242 - src.common.trainer - INFO - epoch: 27\n",
      "2018-11-23 15:34:36,243 - src.common.trainer - INFO - train acc: 0.24\n",
      "2018-11-23 15:34:36,243 - src.common.trainer - INFO - test acc: 0.1899\n",
      "2018-11-23 15:34:36,442 - src.common.trainer - INFO - ==============================\n",
      "2018-11-23 15:34:36,442 - src.common.trainer - INFO - epoch: 28\n",
      "2018-11-23 15:34:36,443 - src.common.trainer - INFO - train acc: 0.24\n",
      "2018-11-23 15:34:36,443 - src.common.trainer - INFO - test acc: 0.1934\n"
     ]
    },
    {
     "name": "stdout",
     "output_type": "stream",
     "text": [
      "train loss:2.2643174307726857\n",
      "train loss:2.2794161664150288\n",
      "train loss:2.265799430420086\n",
      "train loss:2.2679450203774008\n"
     ]
    },
    {
     "name": "stderr",
     "output_type": "stream",
     "text": [
      "2018-11-23 15:34:36,639 - src.common.trainer - INFO - ==============================\n",
      "2018-11-23 15:34:36,640 - src.common.trainer - INFO - epoch: 29\n",
      "2018-11-23 15:34:36,641 - src.common.trainer - INFO - train acc: 0.24666666666666667\n",
      "2018-11-23 15:34:36,641 - src.common.trainer - INFO - test acc: 0.199\n"
     ]
    },
    {
     "name": "stdout",
     "output_type": "stream",
     "text": [
      "train loss:2.2586471564388995\n",
      "train loss:2.2605055635454403\n",
      "train loss:2.2619242073567083\n",
      "train loss:2.2635279961141976\n"
     ]
    },
    {
     "name": "stderr",
     "output_type": "stream",
     "text": [
      "2018-11-23 15:34:36,841 - src.common.trainer - INFO - ==============================\n",
      "2018-11-23 15:34:36,842 - src.common.trainer - INFO - epoch: 30\n",
      "2018-11-23 15:34:36,842 - src.common.trainer - INFO - train acc: 0.24666666666666667\n",
      "2018-11-23 15:34:36,843 - src.common.trainer - INFO - test acc: 0.2042\n"
     ]
    },
    {
     "name": "stdout",
     "output_type": "stream",
     "text": [
      "train loss:2.272629807519101\n",
      "train loss:2.2452806969073196\n",
      "train loss:2.253674121952627\n",
      "train loss:2.245712216773322\n"
     ]
    },
    {
     "name": "stderr",
     "output_type": "stream",
     "text": [
      "2018-11-23 15:34:37,039 - src.common.trainer - INFO - ==============================\n",
      "2018-11-23 15:34:37,040 - src.common.trainer - INFO - epoch: 31\n",
      "2018-11-23 15:34:37,041 - src.common.trainer - INFO - train acc: 0.25666666666666665\n",
      "2018-11-23 15:34:37,041 - src.common.trainer - INFO - test acc: 0.2078\n"
     ]
    },
    {
     "name": "stdout",
     "output_type": "stream",
     "text": [
      "train loss:2.2734525478025303\n",
      "train loss:2.250242011106874\n",
      "train loss:2.253682952904508\n"
     ]
    },
    {
     "name": "stderr",
     "output_type": "stream",
     "text": [
      "2018-11-23 15:34:37,285 - src.common.trainer - INFO - ==============================\n",
      "2018-11-23 15:34:37,286 - src.common.trainer - INFO - epoch: 32\n",
      "2018-11-23 15:34:37,287 - src.common.trainer - INFO - train acc: 0.26\n",
      "2018-11-23 15:34:37,287 - src.common.trainer - INFO - test acc: 0.2102\n",
      "2018-11-23 15:34:37,499 - src.common.trainer - INFO - ==============================\n",
      "2018-11-23 15:34:37,500 - src.common.trainer - INFO - epoch: 33\n",
      "2018-11-23 15:34:37,500 - src.common.trainer - INFO - train acc: 0.2633333333333333\n",
      "2018-11-23 15:34:37,501 - src.common.trainer - INFO - test acc: 0.2112\n"
     ]
    },
    {
     "name": "stdout",
     "output_type": "stream",
     "text": [
      "train loss:2.252856584616354\n",
      "train loss:2.259826973934532\n",
      "train loss:2.249489945105034\n"
     ]
    },
    {
     "name": "stderr",
     "output_type": "stream",
     "text": [
      "2018-11-23 15:34:37,704 - src.common.trainer - INFO - ==============================\n",
      "2018-11-23 15:34:37,705 - src.common.trainer - INFO - epoch: 34\n",
      "2018-11-23 15:34:37,706 - src.common.trainer - INFO - train acc: 0.26666666666666666\n",
      "2018-11-23 15:34:37,706 - src.common.trainer - INFO - test acc: 0.2119\n"
     ]
    },
    {
     "name": "stdout",
     "output_type": "stream",
     "text": [
      "train loss:2.2744903805167294\n",
      "train loss:2.2473848504537997\n",
      "train loss:2.262807590334717\n",
      "train loss:2.2512325196977945\n"
     ]
    },
    {
     "name": "stderr",
     "output_type": "stream",
     "text": [
      "2018-11-23 15:34:37,901 - src.common.trainer - INFO - ==============================\n",
      "2018-11-23 15:34:37,902 - src.common.trainer - INFO - epoch: 35\n",
      "2018-11-23 15:34:37,902 - src.common.trainer - INFO - train acc: 0.27\n",
      "2018-11-23 15:34:37,903 - src.common.trainer - INFO - test acc: 0.2179\n"
     ]
    },
    {
     "name": "stdout",
     "output_type": "stream",
     "text": [
      "train loss:2.259502077543012\n",
      "train loss:2.2409449613214085\n",
      "train loss:2.2504232875747285\n",
      "train loss:2.2675403274096335\n"
     ]
    },
    {
     "name": "stderr",
     "output_type": "stream",
     "text": [
      "2018-11-23 15:34:38,092 - src.common.trainer - INFO - ==============================\n",
      "2018-11-23 15:34:38,093 - src.common.trainer - INFO - epoch: 36\n",
      "2018-11-23 15:34:38,094 - src.common.trainer - INFO - train acc: 0.27666666666666667\n",
      "2018-11-23 15:34:38,094 - src.common.trainer - INFO - test acc: 0.223\n"
     ]
    },
    {
     "name": "stdout",
     "output_type": "stream",
     "text": [
      "train loss:2.25228710390082\n",
      "train loss:2.261118365725718\n",
      "train loss:2.2363016274341674\n",
      "train loss:2.247452884374434\n"
     ]
    },
    {
     "name": "stderr",
     "output_type": "stream",
     "text": [
      "2018-11-23 15:34:38,290 - src.common.trainer - INFO - ==============================\n",
      "2018-11-23 15:34:38,291 - src.common.trainer - INFO - epoch: 37\n",
      "2018-11-23 15:34:38,291 - src.common.trainer - INFO - train acc: 0.2833333333333333\n",
      "2018-11-23 15:34:38,292 - src.common.trainer - INFO - test acc: 0.2282\n",
      "2018-11-23 15:34:38,486 - src.common.trainer - INFO - ==============================\n",
      "2018-11-23 15:34:38,487 - src.common.trainer - INFO - epoch: 38\n",
      "2018-11-23 15:34:38,487 - src.common.trainer - INFO - train acc: 0.29\n",
      "2018-11-23 15:34:38,488 - src.common.trainer - INFO - test acc: 0.2304\n"
     ]
    },
    {
     "name": "stdout",
     "output_type": "stream",
     "text": [
      "train loss:2.2232309340958234\n",
      "train loss:2.240870205975546\n",
      "train loss:2.2602884916205634\n",
      "train loss:2.2605090853125165\n"
     ]
    },
    {
     "name": "stderr",
     "output_type": "stream",
     "text": [
      "2018-11-23 15:34:38,690 - src.common.trainer - INFO - ==============================\n",
      "2018-11-23 15:34:38,691 - src.common.trainer - INFO - epoch: 39\n",
      "2018-11-23 15:34:38,691 - src.common.trainer - INFO - train acc: 0.29\n",
      "2018-11-23 15:34:38,692 - src.common.trainer - INFO - test acc: 0.2334\n"
     ]
    },
    {
     "name": "stdout",
     "output_type": "stream",
     "text": [
      "train loss:2.252604218166221\n",
      "train loss:2.254084259570432\n",
      "train loss:2.230222665749564\n"
     ]
    },
    {
     "name": "stderr",
     "output_type": "stream",
     "text": [
      "2018-11-23 15:34:38,899 - src.common.trainer - INFO - ==============================\n",
      "2018-11-23 15:34:38,900 - src.common.trainer - INFO - epoch: 40\n",
      "2018-11-23 15:34:38,900 - src.common.trainer - INFO - train acc: 0.2866666666666667\n",
      "2018-11-23 15:34:38,901 - src.common.trainer - INFO - test acc: 0.2331\n"
     ]
    },
    {
     "name": "stdout",
     "output_type": "stream",
     "text": [
      "train loss:2.248339416544444\n",
      "train loss:2.2368382765035575\n",
      "train loss:2.250159191274129\n"
     ]
    },
    {
     "name": "stderr",
     "output_type": "stream",
     "text": [
      "2018-11-23 15:34:39,095 - src.common.trainer - INFO - ==============================\n",
      "2018-11-23 15:34:39,096 - src.common.trainer - INFO - epoch: 41\n",
      "2018-11-23 15:34:39,097 - src.common.trainer - INFO - train acc: 0.2833333333333333\n",
      "2018-11-23 15:34:39,097 - src.common.trainer - INFO - test acc: 0.2366\n"
     ]
    },
    {
     "name": "stdout",
     "output_type": "stream",
     "text": [
      "train loss:2.243108693669586\n",
      "train loss:2.2443799673757434\n",
      "train loss:2.241819764502353\n",
      "train loss:2.250839490781835\n",
      "train loss:2.2528038878009182"
     ]
    },
    {
     "name": "stderr",
     "output_type": "stream",
     "text": [
      "2018-11-23 15:34:39,298 - src.common.trainer - INFO - ==============================\n",
      "2018-11-23 15:34:39,299 - src.common.trainer - INFO - epoch: 42\n",
      "2018-11-23 15:34:39,299 - src.common.trainer - INFO - train acc: 0.3\n",
      "2018-11-23 15:34:39,300 - src.common.trainer - INFO - test acc: 0.2429\n"
     ]
    },
    {
     "name": "stdout",
     "output_type": "stream",
     "text": [
      "\n",
      "train loss:2.23186737794687\n",
      "train loss:2.2372372969094876\n"
     ]
    },
    {
     "name": "stderr",
     "output_type": "stream",
     "text": [
      "2018-11-23 15:34:39,531 - src.common.trainer - INFO - ==============================\n",
      "2018-11-23 15:34:39,531 - src.common.trainer - INFO - epoch: 43\n",
      "2018-11-23 15:34:39,532 - src.common.trainer - INFO - train acc: 0.30333333333333334\n",
      "2018-11-23 15:34:39,533 - src.common.trainer - INFO - test acc: 0.2455\n"
     ]
    },
    {
     "name": "stdout",
     "output_type": "stream",
     "text": [
      "train loss:2.2482302080158885\n"
     ]
    },
    {
     "name": "stderr",
     "output_type": "stream",
     "text": [
      "2018-11-23 15:34:39,730 - src.common.trainer - INFO - ==============================\n",
      "2018-11-23 15:34:39,731 - src.common.trainer - INFO - epoch: 44\n",
      "2018-11-23 15:34:39,732 - src.common.trainer - INFO - train acc: 0.30666666666666664\n",
      "2018-11-23 15:34:39,732 - src.common.trainer - INFO - test acc: 0.2506\n"
     ]
    },
    {
     "name": "stdout",
     "output_type": "stream",
     "text": [
      "train loss:2.2432850440716994\n",
      "train loss:2.2338842350351182\n",
      "train loss:2.2407728531680213\n"
     ]
    },
    {
     "name": "stderr",
     "output_type": "stream",
     "text": [
      "2018-11-23 15:34:39,945 - src.common.trainer - INFO - ==============================\n",
      "2018-11-23 15:34:39,946 - src.common.trainer - INFO - epoch: 45\n",
      "2018-11-23 15:34:39,946 - src.common.trainer - INFO - train acc: 0.31666666666666665\n",
      "2018-11-23 15:34:39,947 - src.common.trainer - INFO - test acc: 0.2535\n"
     ]
    },
    {
     "name": "stdout",
     "output_type": "stream",
     "text": [
      "train loss:2.256346222698134\n",
      "train loss:2.2209485256866635\n",
      "train loss:2.232776964196521\n"
     ]
    },
    {
     "name": "stderr",
     "output_type": "stream",
     "text": [
      "2018-11-23 15:34:40,138 - src.common.trainer - INFO - ==============================\n",
      "2018-11-23 15:34:40,138 - src.common.trainer - INFO - epoch: 46\n",
      "2018-11-23 15:34:40,139 - src.common.trainer - INFO - train acc: 0.31666666666666665\n",
      "2018-11-23 15:34:40,139 - src.common.trainer - INFO - test acc: 0.2552\n"
     ]
    },
    {
     "name": "stdout",
     "output_type": "stream",
     "text": [
      "train loss:2.2241246792887424\n",
      "train loss:2.2365734431261397\n",
      "train loss:2.2318082029287867\n",
      "train loss:2.244774334027563\n"
     ]
    },
    {
     "name": "stderr",
     "output_type": "stream",
     "text": [
      "2018-11-23 15:34:40,337 - src.common.trainer - INFO - ==============================\n",
      "2018-11-23 15:34:40,338 - src.common.trainer - INFO - epoch: 47\n",
      "2018-11-23 15:34:40,338 - src.common.trainer - INFO - train acc: 0.33\n",
      "2018-11-23 15:34:40,339 - src.common.trainer - INFO - test acc: 0.2577\n"
     ]
    },
    {
     "name": "stdout",
     "output_type": "stream",
     "text": [
      "train loss:2.250238751311364\n",
      "train loss:2.21685983884844\n",
      "train loss:2.2624933401859253\n",
      "train loss:2.2274220182385753\n"
     ]
    },
    {
     "name": "stderr",
     "output_type": "stream",
     "text": [
      "2018-11-23 15:34:40,557 - src.common.trainer - INFO - ==============================\n",
      "2018-11-23 15:34:40,557 - src.common.trainer - INFO - epoch: 48\n",
      "2018-11-23 15:34:40,559 - src.common.trainer - INFO - train acc: 0.3333333333333333\n",
      "2018-11-23 15:34:40,561 - src.common.trainer - INFO - test acc: 0.2614\n"
     ]
    },
    {
     "name": "stdout",
     "output_type": "stream",
     "text": [
      "train loss:2.2435105602366185\n"
     ]
    },
    {
     "name": "stderr",
     "output_type": "stream",
     "text": [
      "2018-11-23 15:34:40,756 - src.common.trainer - INFO - ==============================\n",
      "2018-11-23 15:34:40,757 - src.common.trainer - INFO - epoch: 49\n",
      "2018-11-23 15:34:40,757 - src.common.trainer - INFO - train acc: 0.35333333333333333\n",
      "2018-11-23 15:34:40,758 - src.common.trainer - INFO - test acc: 0.265\n"
     ]
    },
    {
     "name": "stdout",
     "output_type": "stream",
     "text": [
      "train loss:2.2485075652546036\n",
      "train loss:2.245985263698258\n",
      "train loss:2.238330553414594\n",
      "train loss:2.218237044854509\n",
      "train loss:2.2292757081189047\n"
     ]
    },
    {
     "name": "stderr",
     "output_type": "stream",
     "text": [
      "2018-11-23 15:34:40,955 - src.common.trainer - INFO - ==============================\n",
      "2018-11-23 15:34:40,956 - src.common.trainer - INFO - epoch: 50\n",
      "2018-11-23 15:34:40,956 - src.common.trainer - INFO - train acc: 0.36333333333333334\n",
      "2018-11-23 15:34:40,957 - src.common.trainer - INFO - test acc: 0.2687\n"
     ]
    },
    {
     "name": "stdout",
     "output_type": "stream",
     "text": [
      "train loss:2.244073982057485\n",
      "train loss:2.215171040419204\n",
      "train loss:2.2318626896237457\n",
      "train loss:2.2277535365100696\n"
     ]
    },
    {
     "name": "stderr",
     "output_type": "stream",
     "text": [
      "2018-11-23 15:34:41,178 - src.common.trainer - INFO - ==============================\n",
      "2018-11-23 15:34:41,178 - src.common.trainer - INFO - epoch: 51\n",
      "2018-11-23 15:34:41,179 - src.common.trainer - INFO - train acc: 0.37\n",
      "2018-11-23 15:34:41,180 - src.common.trainer - INFO - test acc: 0.2707\n",
      "2018-11-23 15:34:41,371 - src.common.trainer - INFO - ==============================\n",
      "2018-11-23 15:34:41,371 - src.common.trainer - INFO - epoch: 52\n",
      "2018-11-23 15:34:41,372 - src.common.trainer - INFO - train acc: 0.36666666666666664\n",
      "2018-11-23 15:34:41,373 - src.common.trainer - INFO - test acc: 0.2718\n"
     ]
    },
    {
     "name": "stdout",
     "output_type": "stream",
     "text": [
      "train loss:2.2352920042279187\n",
      "train loss:2.2238754521322512\n",
      "train loss:2.229271764252299\n",
      "train loss:2.230568649756494\n"
     ]
    },
    {
     "name": "stderr",
     "output_type": "stream",
     "text": [
      "2018-11-23 15:34:41,574 - src.common.trainer - INFO - ==============================\n",
      "2018-11-23 15:34:41,575 - src.common.trainer - INFO - epoch: 53\n",
      "2018-11-23 15:34:41,575 - src.common.trainer - INFO - train acc: 0.38\n",
      "2018-11-23 15:34:41,576 - src.common.trainer - INFO - test acc: 0.2739\n"
     ]
    },
    {
     "name": "stdout",
     "output_type": "stream",
     "text": [
      "train loss:2.2393158810898\n",
      "train loss:2.217962363470552\n"
     ]
    },
    {
     "name": "stderr",
     "output_type": "stream",
     "text": [
      "2018-11-23 15:34:41,780 - src.common.trainer - INFO - ==============================\n",
      "2018-11-23 15:34:41,781 - src.common.trainer - INFO - epoch: 54\n",
      "2018-11-23 15:34:41,782 - src.common.trainer - INFO - train acc: 0.38666666666666666\n",
      "2018-11-23 15:34:41,782 - src.common.trainer - INFO - test acc: 0.2794\n"
     ]
    },
    {
     "name": "stdout",
     "output_type": "stream",
     "text": [
      "train loss:2.228190190271547\n",
      "train loss:2.2422318752821537\n",
      "train loss:2.2236856537092278\n",
      "train loss:2.242871841267223\n"
     ]
    },
    {
     "name": "stderr",
     "output_type": "stream",
     "text": [
      "2018-11-23 15:34:41,982 - src.common.trainer - INFO - ==============================\n",
      "2018-11-23 15:34:41,983 - src.common.trainer - INFO - epoch: 55\n",
      "2018-11-23 15:34:41,983 - src.common.trainer - INFO - train acc: 0.38333333333333336\n",
      "2018-11-23 15:34:41,984 - src.common.trainer - INFO - test acc: 0.2779\n"
     ]
    },
    {
     "name": "stdout",
     "output_type": "stream",
     "text": [
      "train loss:2.217846152853344\n",
      "train loss:2.218703954778\n",
      "train loss:2.2497064928858275\n",
      "train loss:2.2455586353264527\n",
      "train loss:2.2223161665500406\n"
     ]
    },
    {
     "name": "stderr",
     "output_type": "stream",
     "text": [
      "2018-11-23 15:34:42,232 - src.common.trainer - INFO - ==============================\n",
      "2018-11-23 15:34:42,233 - src.common.trainer - INFO - epoch: 56\n",
      "2018-11-23 15:34:42,234 - src.common.trainer - INFO - train acc: 0.39\n",
      "2018-11-23 15:34:42,236 - src.common.trainer - INFO - test acc: 0.2827\n"
     ]
    },
    {
     "name": "stdout",
     "output_type": "stream",
     "text": [
      "train loss:2.2417462983803094\n",
      "train loss:2.2251825821168323\n",
      "train loss:2.2187142099116937\n"
     ]
    },
    {
     "name": "stderr",
     "output_type": "stream",
     "text": [
      "2018-11-23 15:34:42,484 - src.common.trainer - INFO - ==============================\n",
      "2018-11-23 15:34:42,485 - src.common.trainer - INFO - epoch: 57\n",
      "2018-11-23 15:34:42,485 - src.common.trainer - INFO - train acc: 0.4\n",
      "2018-11-23 15:34:42,486 - src.common.trainer - INFO - test acc: 0.285\n",
      "2018-11-23 15:34:42,704 - src.common.trainer - INFO - ==============================\n",
      "2018-11-23 15:34:42,706 - src.common.trainer - INFO - epoch: 58\n",
      "2018-11-23 15:34:42,707 - src.common.trainer - INFO - train acc: 0.4033333333333333\n",
      "2018-11-23 15:34:42,708 - src.common.trainer - INFO - test acc: 0.2875\n"
     ]
    },
    {
     "name": "stdout",
     "output_type": "stream",
     "text": [
      "train loss:2.2249696298648995\n",
      "train loss:2.2230713844911003\n",
      "train loss:2.2374933831932537\n",
      "train loss:2.208397384420067\n",
      "train loss:2.233166656919493\n",
      "train loss:2.229843139796108\n"
     ]
    },
    {
     "name": "stderr",
     "output_type": "stream",
     "text": [
      "2018-11-23 15:34:42,940 - src.common.trainer - INFO - ==============================\n",
      "2018-11-23 15:34:42,941 - src.common.trainer - INFO - epoch: 59\n",
      "2018-11-23 15:34:42,942 - src.common.trainer - INFO - train acc: 0.41333333333333333\n",
      "2018-11-23 15:34:42,943 - src.common.trainer - INFO - test acc: 0.2897\n",
      "2018-11-23 15:34:43,157 - src.common.trainer - INFO - ==============================\n",
      "2018-11-23 15:34:43,158 - src.common.trainer - INFO - epoch: 60\n",
      "2018-11-23 15:34:43,158 - src.common.trainer - INFO - train acc: 0.4166666666666667\n",
      "2018-11-23 15:34:43,159 - src.common.trainer - INFO - test acc: 0.2925\n"
     ]
    },
    {
     "name": "stdout",
     "output_type": "stream",
     "text": [
      "train loss:2.2174884582679733\n",
      "train loss:2.2068665438100625\n",
      "train loss:2.227399308159297\n"
     ]
    },
    {
     "name": "stderr",
     "output_type": "stream",
     "text": [
      "2018-11-23 15:34:43,369 - src.common.trainer - INFO - ==============================\n",
      "2018-11-23 15:34:43,370 - src.common.trainer - INFO - epoch: 61\n",
      "2018-11-23 15:34:43,370 - src.common.trainer - INFO - train acc: 0.4166666666666667\n",
      "2018-11-23 15:34:43,371 - src.common.trainer - INFO - test acc: 0.2933\n"
     ]
    },
    {
     "name": "stdout",
     "output_type": "stream",
     "text": [
      "train loss:2.2341571420217474\n",
      "train loss:2.206683344936944\n",
      "train loss:2.217006989594589\n"
     ]
    },
    {
     "name": "stderr",
     "output_type": "stream",
     "text": [
      "2018-11-23 15:34:43,564 - src.common.trainer - INFO - ==============================\n",
      "2018-11-23 15:34:43,564 - src.common.trainer - INFO - epoch: 62\n",
      "2018-11-23 15:34:43,565 - src.common.trainer - INFO - train acc: 0.4166666666666667\n",
      "2018-11-23 15:34:43,566 - src.common.trainer - INFO - test acc: 0.3006\n"
     ]
    },
    {
     "name": "stdout",
     "output_type": "stream",
     "text": [
      "train loss:2.227146331764409\n",
      "train loss:2.2068107625023536\n",
      "train loss:2.203447501270259\n",
      "train loss:2.2155764689969395\n"
     ]
    },
    {
     "name": "stderr",
     "output_type": "stream",
     "text": [
      "2018-11-23 15:34:43,789 - src.common.trainer - INFO - ==============================\n",
      "2018-11-23 15:34:43,793 - src.common.trainer - INFO - epoch: 63\n",
      "2018-11-23 15:34:43,798 - src.common.trainer - INFO - train acc: 0.43\n",
      "2018-11-23 15:34:43,800 - src.common.trainer - INFO - test acc: 0.3061\n"
     ]
    },
    {
     "name": "stdout",
     "output_type": "stream",
     "text": [
      "train loss:2.234117761121796\n",
      "train loss:2.2128726330749107\n"
     ]
    },
    {
     "name": "stderr",
     "output_type": "stream",
     "text": [
      "2018-11-23 15:34:43,998 - src.common.trainer - INFO - ==============================\n",
      "2018-11-23 15:34:43,999 - src.common.trainer - INFO - epoch: 64\n",
      "2018-11-23 15:34:44,000 - src.common.trainer - INFO - train acc: 0.42\n",
      "2018-11-23 15:34:44,001 - src.common.trainer - INFO - test acc: 0.3029\n"
     ]
    },
    {
     "name": "stdout",
     "output_type": "stream",
     "text": [
      "train loss:2.214013217240157\n",
      "train loss:2.1870140484330367\n",
      "train loss:2.195016769306387\n",
      "train loss:2.218469807882635\n"
     ]
    },
    {
     "name": "stderr",
     "output_type": "stream",
     "text": [
      "2018-11-23 15:34:44,207 - src.common.trainer - INFO - ==============================\n",
      "2018-11-23 15:34:44,208 - src.common.trainer - INFO - epoch: 65\n",
      "2018-11-23 15:34:44,208 - src.common.trainer - INFO - train acc: 0.42\n",
      "2018-11-23 15:34:44,209 - src.common.trainer - INFO - test acc: 0.3064\n"
     ]
    },
    {
     "name": "stdout",
     "output_type": "stream",
     "text": [
      "train loss:2.197786584521389\n",
      "train loss:2.2187165546925205\n",
      "train loss:2.19963658072275\n"
     ]
    },
    {
     "name": "stderr",
     "output_type": "stream",
     "text": [
      "2018-11-23 15:34:44,414 - src.common.trainer - INFO - ==============================\n",
      "2018-11-23 15:34:44,415 - src.common.trainer - INFO - epoch: 66\n",
      "2018-11-23 15:34:44,416 - src.common.trainer - INFO - train acc: 0.42\n",
      "2018-11-23 15:34:44,416 - src.common.trainer - INFO - test acc: 0.3087\n"
     ]
    },
    {
     "name": "stdout",
     "output_type": "stream",
     "text": [
      "train loss:2.1879416511114864\n",
      "train loss:2.2261383078338484\n",
      "train loss:2.2143473833120733\n"
     ]
    },
    {
     "name": "stderr",
     "output_type": "stream",
     "text": [
      "2018-11-23 15:34:44,621 - src.common.trainer - INFO - ==============================\n",
      "2018-11-23 15:34:44,622 - src.common.trainer - INFO - epoch: 67\n",
      "2018-11-23 15:34:44,622 - src.common.trainer - INFO - train acc: 0.43\n",
      "2018-11-23 15:34:44,623 - src.common.trainer - INFO - test acc: 0.3109\n"
     ]
    },
    {
     "name": "stdout",
     "output_type": "stream",
     "text": [
      "train loss:2.1908324504105527\n",
      "train loss:2.1940074293279572\n",
      "train loss:2.2067309131871564\n"
     ]
    },
    {
     "name": "stderr",
     "output_type": "stream",
     "text": [
      "2018-11-23 15:34:44,830 - src.common.trainer - INFO - ==============================\n",
      "2018-11-23 15:34:44,831 - src.common.trainer - INFO - epoch: 68\n",
      "2018-11-23 15:34:44,832 - src.common.trainer - INFO - train acc: 0.4266666666666667\n",
      "2018-11-23 15:34:44,832 - src.common.trainer - INFO - test acc: 0.3107\n"
     ]
    },
    {
     "name": "stdout",
     "output_type": "stream",
     "text": [
      "train loss:2.2126233710103427\n",
      "train loss:2.2046379850047493\n",
      "train loss:2.195172690996268\n",
      "train loss:2.1948030133334613\n",
      "train loss:2.169816683095421\n"
     ]
    },
    {
     "name": "stderr",
     "output_type": "stream",
     "text": [
      "2018-11-23 15:34:45,082 - src.common.trainer - INFO - ==============================\n",
      "2018-11-23 15:34:45,083 - src.common.trainer - INFO - epoch: 69\n",
      "2018-11-23 15:34:45,084 - src.common.trainer - INFO - train acc: 0.4166666666666667\n",
      "2018-11-23 15:34:45,085 - src.common.trainer - INFO - test acc: 0.3108\n",
      "2018-11-23 15:34:45,291 - src.common.trainer - INFO - ==============================\n",
      "2018-11-23 15:34:45,292 - src.common.trainer - INFO - epoch: 70\n",
      "2018-11-23 15:34:45,292 - src.common.trainer - INFO - train acc: 0.43666666666666665\n",
      "2018-11-23 15:34:45,293 - src.common.trainer - INFO - test acc: 0.3129\n"
     ]
    },
    {
     "name": "stdout",
     "output_type": "stream",
     "text": [
      "train loss:2.1931216093912256\n",
      "train loss:2.206818798015115\n",
      "train loss:2.21133374868945\n",
      "train loss:2.195487364680886\n"
     ]
    },
    {
     "name": "stderr",
     "output_type": "stream",
     "text": [
      "2018-11-23 15:34:45,496 - src.common.trainer - INFO - ==============================\n",
      "2018-11-23 15:34:45,497 - src.common.trainer - INFO - epoch: 71\n",
      "2018-11-23 15:34:45,497 - src.common.trainer - INFO - train acc: 0.43333333333333335\n",
      "2018-11-23 15:34:45,498 - src.common.trainer - INFO - test acc: 0.3153\n"
     ]
    },
    {
     "name": "stdout",
     "output_type": "stream",
     "text": [
      "train loss:2.1980434935101343\n",
      "train loss:2.2044619288298906\n",
      "train loss:2.1909301309402527\n",
      "train loss:2.2055581522366983\n",
      "train loss:2.2112729460694167\n"
     ]
    },
    {
     "name": "stderr",
     "output_type": "stream",
     "text": [
      "2018-11-23 15:34:45,817 - src.common.trainer - INFO - ==============================\n",
      "2018-11-23 15:34:45,818 - src.common.trainer - INFO - epoch: 72\n",
      "2018-11-23 15:34:45,819 - src.common.trainer - INFO - train acc: 0.43\n",
      "2018-11-23 15:34:45,821 - src.common.trainer - INFO - test acc: 0.3121\n"
     ]
    },
    {
     "name": "stdout",
     "output_type": "stream",
     "text": [
      "train loss:2.1878232851042383\n",
      "train loss:2.2052067609174717\n",
      "train loss:2.2228712081417057\n"
     ]
    },
    {
     "name": "stderr",
     "output_type": "stream",
     "text": [
      "2018-11-23 15:34:46,050 - src.common.trainer - INFO - ==============================\n",
      "2018-11-23 15:34:46,051 - src.common.trainer - INFO - epoch: 73\n",
      "2018-11-23 15:34:46,052 - src.common.trainer - INFO - train acc: 0.43333333333333335\n",
      "2018-11-23 15:34:46,054 - src.common.trainer - INFO - test acc: 0.3136\n",
      "2018-11-23 15:34:46,242 - src.common.trainer - INFO - ==============================\n",
      "2018-11-23 15:34:46,243 - src.common.trainer - INFO - epoch: 74\n",
      "2018-11-23 15:34:46,244 - src.common.trainer - INFO - train acc: 0.42333333333333334\n",
      "2018-11-23 15:34:46,244 - src.common.trainer - INFO - test acc: 0.3128\n"
     ]
    },
    {
     "name": "stdout",
     "output_type": "stream",
     "text": [
      "train loss:2.1802032951489982\n",
      "train loss:2.198399519077835\n",
      "train loss:2.1995951472700614\n",
      "train loss:2.1810538169641758\n"
     ]
    },
    {
     "name": "stderr",
     "output_type": "stream",
     "text": [
      "2018-11-23 15:34:46,440 - src.common.trainer - INFO - ==============================\n",
      "2018-11-23 15:34:46,441 - src.common.trainer - INFO - epoch: 75\n",
      "2018-11-23 15:34:46,442 - src.common.trainer - INFO - train acc: 0.43\n",
      "2018-11-23 15:34:46,443 - src.common.trainer - INFO - test acc: 0.3148\n"
     ]
    },
    {
     "name": "stdout",
     "output_type": "stream",
     "text": [
      "train loss:2.176073716164759\n",
      "train loss:2.2001747905167517\n",
      "train loss:2.192248063732724\n",
      "train loss:2.1664904604868287\n"
     ]
    },
    {
     "name": "stderr",
     "output_type": "stream",
     "text": [
      "2018-11-23 15:34:46,661 - src.common.trainer - INFO - ==============================\n",
      "2018-11-23 15:34:46,662 - src.common.trainer - INFO - epoch: 76\n",
      "2018-11-23 15:34:46,662 - src.common.trainer - INFO - train acc: 0.43666666666666665\n",
      "2018-11-23 15:34:46,663 - src.common.trainer - INFO - test acc: 0.3174\n"
     ]
    },
    {
     "name": "stdout",
     "output_type": "stream",
     "text": [
      "train loss:2.2052277322509535\n",
      "train loss:2.1982579636232527\n"
     ]
    },
    {
     "name": "stderr",
     "output_type": "stream",
     "text": [
      "2018-11-23 15:34:46,864 - src.common.trainer - INFO - ==============================\n",
      "2018-11-23 15:34:46,865 - src.common.trainer - INFO - epoch: 77\n",
      "2018-11-23 15:34:46,866 - src.common.trainer - INFO - train acc: 0.44333333333333336\n",
      "2018-11-23 15:34:46,866 - src.common.trainer - INFO - test acc: 0.3233\n"
     ]
    },
    {
     "name": "stdout",
     "output_type": "stream",
     "text": [
      "train loss:2.2032723477631384\n",
      "train loss:2.2019875412926777\n",
      "train loss:2.205634850240055\n"
     ]
    },
    {
     "name": "stderr",
     "output_type": "stream",
     "text": [
      "2018-11-23 15:34:47,080 - src.common.trainer - INFO - ==============================\n",
      "2018-11-23 15:34:47,081 - src.common.trainer - INFO - epoch: 78\n",
      "2018-11-23 15:34:47,081 - src.common.trainer - INFO - train acc: 0.45666666666666667\n",
      "2018-11-23 15:34:47,082 - src.common.trainer - INFO - test acc: 0.3282\n"
     ]
    },
    {
     "name": "stdout",
     "output_type": "stream",
     "text": [
      "train loss:2.194211406313507\n",
      "train loss:2.181105768295441\n"
     ]
    },
    {
     "name": "stderr",
     "output_type": "stream",
     "text": [
      "2018-11-23 15:34:47,273 - src.common.trainer - INFO - ==============================\n",
      "2018-11-23 15:34:47,273 - src.common.trainer - INFO - epoch: 79\n",
      "2018-11-23 15:34:47,274 - src.common.trainer - INFO - train acc: 0.45666666666666667\n",
      "2018-11-23 15:34:47,275 - src.common.trainer - INFO - test acc: 0.3278\n"
     ]
    },
    {
     "name": "stdout",
     "output_type": "stream",
     "text": [
      "train loss:2.2106522977335015\n",
      "train loss:2.185542189790391\n",
      "train loss:2.2072167400231377\n",
      "train loss:2.1860022856925045\n"
     ]
    },
    {
     "name": "stderr",
     "output_type": "stream",
     "text": [
      "2018-11-23 15:34:47,478 - src.common.trainer - INFO - ==============================\n",
      "2018-11-23 15:34:47,479 - src.common.trainer - INFO - epoch: 80\n",
      "2018-11-23 15:34:47,480 - src.common.trainer - INFO - train acc: 0.4666666666666667\n",
      "2018-11-23 15:34:47,482 - src.common.trainer - INFO - test acc: 0.3313\n"
     ]
    },
    {
     "name": "stdout",
     "output_type": "stream",
     "text": [
      "train loss:2.1815755556825507\n",
      "train loss:2.1726873944158935\n"
     ]
    },
    {
     "name": "stderr",
     "output_type": "stream",
     "text": [
      "2018-11-23 15:34:47,693 - src.common.trainer - INFO - ==============================\n",
      "2018-11-23 15:34:47,694 - src.common.trainer - INFO - epoch: 81\n",
      "2018-11-23 15:34:47,695 - src.common.trainer - INFO - train acc: 0.46\n",
      "2018-11-23 15:34:47,695 - src.common.trainer - INFO - test acc: 0.3334\n"
     ]
    },
    {
     "name": "stdout",
     "output_type": "stream",
     "text": [
      "train loss:2.175450533612597\n",
      "train loss:2.183240182081341\n",
      "train loss:2.165022510490743\n"
     ]
    },
    {
     "name": "stderr",
     "output_type": "stream",
     "text": [
      "2018-11-23 15:34:47,895 - src.common.trainer - INFO - ==============================\n",
      "2018-11-23 15:34:47,896 - src.common.trainer - INFO - epoch: 82\n",
      "2018-11-23 15:34:47,896 - src.common.trainer - INFO - train acc: 0.4666666666666667\n",
      "2018-11-23 15:34:47,897 - src.common.trainer - INFO - test acc: 0.3366\n"
     ]
    },
    {
     "name": "stdout",
     "output_type": "stream",
     "text": [
      "train loss:2.1880356312970837\n",
      "train loss:2.167770230099689\n",
      "train loss:2.2010557882191866\n",
      "train loss:2.1784094305523625\n"
     ]
    },
    {
     "name": "stderr",
     "output_type": "stream",
     "text": [
      "2018-11-23 15:34:48,092 - src.common.trainer - INFO - ==============================\n",
      "2018-11-23 15:34:48,093 - src.common.trainer - INFO - epoch: 83\n",
      "2018-11-23 15:34:48,094 - src.common.trainer - INFO - train acc: 0.4666666666666667\n",
      "2018-11-23 15:34:48,094 - src.common.trainer - INFO - test acc: 0.3402\n"
     ]
    },
    {
     "name": "stdout",
     "output_type": "stream",
     "text": [
      "train loss:2.190707456541377\n",
      "train loss:2.1827505168213843\n",
      "train loss:2.1710723020060376\n",
      "train loss:2.1877413175710463\n"
     ]
    },
    {
     "name": "stderr",
     "output_type": "stream",
     "text": [
      "2018-11-23 15:34:48,296 - src.common.trainer - INFO - ==============================\n",
      "2018-11-23 15:34:48,297 - src.common.trainer - INFO - epoch: 84\n",
      "2018-11-23 15:34:48,297 - src.common.trainer - INFO - train acc: 0.48\n",
      "2018-11-23 15:34:48,298 - src.common.trainer - INFO - test acc: 0.3473\n"
     ]
    },
    {
     "name": "stdout",
     "output_type": "stream",
     "text": [
      "train loss:2.179486540397444\n",
      "train loss:2.18125896509266\n",
      "train loss:2.1532939345138686\n"
     ]
    },
    {
     "name": "stderr",
     "output_type": "stream",
     "text": [
      "2018-11-23 15:34:48,525 - src.common.trainer - INFO - ==============================\n",
      "2018-11-23 15:34:48,526 - src.common.trainer - INFO - epoch: 85\n",
      "2018-11-23 15:34:48,526 - src.common.trainer - INFO - train acc: 0.49\n",
      "2018-11-23 15:34:48,527 - src.common.trainer - INFO - test acc: 0.356\n"
     ]
    },
    {
     "name": "stdout",
     "output_type": "stream",
     "text": [
      "train loss:2.1717943178661927\n",
      "train loss:2.1672930478864902\n"
     ]
    },
    {
     "name": "stderr",
     "output_type": "stream",
     "text": [
      "2018-11-23 15:34:48,726 - src.common.trainer - INFO - ==============================\n",
      "2018-11-23 15:34:48,727 - src.common.trainer - INFO - epoch: 86\n",
      "2018-11-23 15:34:48,727 - src.common.trainer - INFO - train acc: 0.48333333333333334\n",
      "2018-11-23 15:34:48,728 - src.common.trainer - INFO - test acc: 0.3567\n"
     ]
    },
    {
     "name": "stdout",
     "output_type": "stream",
     "text": [
      "train loss:2.1963775068473415\n",
      "train loss:2.160918523901214\n",
      "train loss:2.167087528848555\n",
      "train loss:2.1400367579159765\n"
     ]
    },
    {
     "name": "stderr",
     "output_type": "stream",
     "text": [
      "2018-11-23 15:34:48,923 - src.common.trainer - INFO - ==============================\n",
      "2018-11-23 15:34:48,923 - src.common.trainer - INFO - epoch: 87\n",
      "2018-11-23 15:34:48,924 - src.common.trainer - INFO - train acc: 0.47\n",
      "2018-11-23 15:34:48,924 - src.common.trainer - INFO - test acc: 0.3578\n"
     ]
    },
    {
     "name": "stdout",
     "output_type": "stream",
     "text": [
      "train loss:2.1450495040775013\n",
      "train loss:2.1555551706685905\n",
      "train loss:2.151506388141914\n",
      "train loss:2.1394035603217394\n"
     ]
    },
    {
     "name": "stderr",
     "output_type": "stream",
     "text": [
      "2018-11-23 15:34:49,116 - src.common.trainer - INFO - ==============================\n",
      "2018-11-23 15:34:49,117 - src.common.trainer - INFO - epoch: 88\n",
      "2018-11-23 15:34:49,117 - src.common.trainer - INFO - train acc: 0.47\n",
      "2018-11-23 15:34:49,118 - src.common.trainer - INFO - test acc: 0.3583\n",
      "2018-11-23 15:34:49,312 - src.common.trainer - INFO - ==============================\n",
      "2018-11-23 15:34:49,313 - src.common.trainer - INFO - epoch: 89\n",
      "2018-11-23 15:34:49,314 - src.common.trainer - INFO - train acc: 0.47333333333333333\n",
      "2018-11-23 15:34:49,314 - src.common.trainer - INFO - test acc: 0.3632\n"
     ]
    },
    {
     "name": "stdout",
     "output_type": "stream",
     "text": [
      "train loss:2.172027457654438\n",
      "train loss:2.167237072934836\n",
      "train loss:2.163428073323827\n",
      "train loss:2.149642829528161\n"
     ]
    },
    {
     "name": "stderr",
     "output_type": "stream",
     "text": [
      "2018-11-23 15:34:49,521 - src.common.trainer - INFO - ==============================\n",
      "2018-11-23 15:34:49,522 - src.common.trainer - INFO - epoch: 90\n",
      "2018-11-23 15:34:49,522 - src.common.trainer - INFO - train acc: 0.4666666666666667\n",
      "2018-11-23 15:34:49,523 - src.common.trainer - INFO - test acc: 0.362\n"
     ]
    },
    {
     "name": "stdout",
     "output_type": "stream",
     "text": [
      "train loss:2.1605620980183238\n",
      "train loss:2.160543972909987\n",
      "train loss:2.1570622926723892\n"
     ]
    },
    {
     "name": "stderr",
     "output_type": "stream",
     "text": [
      "2018-11-23 15:34:49,725 - src.common.trainer - INFO - ==============================\n",
      "2018-11-23 15:34:49,726 - src.common.trainer - INFO - epoch: 91\n",
      "2018-11-23 15:34:49,726 - src.common.trainer - INFO - train acc: 0.4666666666666667\n",
      "2018-11-23 15:34:49,727 - src.common.trainer - INFO - test acc: 0.3605\n"
     ]
    },
    {
     "name": "stdout",
     "output_type": "stream",
     "text": [
      "train loss:2.1687604501842164\n",
      "train loss:2.133155760911139\n",
      "train loss:2.108695013187889\n"
     ]
    },
    {
     "name": "stderr",
     "output_type": "stream",
     "text": [
      "2018-11-23 15:34:49,922 - src.common.trainer - INFO - ==============================\n",
      "2018-11-23 15:34:49,923 - src.common.trainer - INFO - epoch: 92\n",
      "2018-11-23 15:34:49,924 - src.common.trainer - INFO - train acc: 0.48\n",
      "2018-11-23 15:34:49,924 - src.common.trainer - INFO - test acc: 0.3589\n"
     ]
    },
    {
     "name": "stdout",
     "output_type": "stream",
     "text": [
      "train loss:2.130415057247419\n",
      "train loss:2.14589530351326\n",
      "train loss:2.1585944447838257\n",
      "train loss:2.134242070710869\n"
     ]
    },
    {
     "name": "stderr",
     "output_type": "stream",
     "text": [
      "2018-11-23 15:34:50,118 - src.common.trainer - INFO - ==============================\n",
      "2018-11-23 15:34:50,119 - src.common.trainer - INFO - epoch: 93\n",
      "2018-11-23 15:34:50,119 - src.common.trainer - INFO - train acc: 0.4866666666666667\n",
      "2018-11-23 15:34:50,120 - src.common.trainer - INFO - test acc: 0.3619\n"
     ]
    },
    {
     "name": "stdout",
     "output_type": "stream",
     "text": [
      "train loss:2.1604607425147764\n",
      "train loss:2.1577158492286737\n",
      "train loss:2.178973770785131\n",
      "train loss:2.1516681198568426\n"
     ]
    },
    {
     "name": "stderr",
     "output_type": "stream",
     "text": [
      "2018-11-23 15:34:50,322 - src.common.trainer - INFO - ==============================\n",
      "2018-11-23 15:34:50,323 - src.common.trainer - INFO - epoch: 94\n",
      "2018-11-23 15:34:50,324 - src.common.trainer - INFO - train acc: 0.49\n",
      "2018-11-23 15:34:50,324 - src.common.trainer - INFO - test acc: 0.3627\n",
      "2018-11-23 15:34:50,516 - src.common.trainer - INFO - ==============================\n",
      "2018-11-23 15:34:50,517 - src.common.trainer - INFO - epoch: 95\n",
      "2018-11-23 15:34:50,518 - src.common.trainer - INFO - train acc: 0.49666666666666665\n",
      "2018-11-23 15:34:50,518 - src.common.trainer - INFO - test acc: 0.3711\n"
     ]
    },
    {
     "name": "stdout",
     "output_type": "stream",
     "text": [
      "train loss:2.154760758022293\n",
      "train loss:2.1498688360020335\n",
      "train loss:2.1570773316151106\n",
      "train loss:2.1202161548020646\n"
     ]
    },
    {
     "name": "stderr",
     "output_type": "stream",
     "text": [
      "2018-11-23 15:34:50,719 - src.common.trainer - INFO - ==============================\n",
      "2018-11-23 15:34:50,720 - src.common.trainer - INFO - epoch: 96\n",
      "2018-11-23 15:34:50,721 - src.common.trainer - INFO - train acc: 0.49666666666666665\n",
      "2018-11-23 15:34:50,722 - src.common.trainer - INFO - test acc: 0.3732\n"
     ]
    },
    {
     "name": "stdout",
     "output_type": "stream",
     "text": [
      "train loss:2.1433790375249364\n",
      "train loss:2.1336354721915063\n",
      "train loss:2.1570538509589645\n"
     ]
    },
    {
     "name": "stderr",
     "output_type": "stream",
     "text": [
      "2018-11-23 15:34:50,924 - src.common.trainer - INFO - ==============================\n",
      "2018-11-23 15:34:50,924 - src.common.trainer - INFO - epoch: 97\n",
      "2018-11-23 15:34:50,925 - src.common.trainer - INFO - train acc: 0.5033333333333333\n",
      "2018-11-23 15:34:50,925 - src.common.trainer - INFO - test acc: 0.3755\n"
     ]
    },
    {
     "name": "stdout",
     "output_type": "stream",
     "text": [
      "train loss:2.129468185321905\n",
      "train loss:2.098043443317659\n",
      "train loss:2.133436790244773\n"
     ]
    },
    {
     "name": "stderr",
     "output_type": "stream",
     "text": [
      "2018-11-23 15:34:51,127 - src.common.trainer - INFO - ==============================\n",
      "2018-11-23 15:34:51,128 - src.common.trainer - INFO - epoch: 98\n",
      "2018-11-23 15:34:51,129 - src.common.trainer - INFO - train acc: 0.5066666666666667\n",
      "2018-11-23 15:34:51,129 - src.common.trainer - INFO - test acc: 0.375\n"
     ]
    },
    {
     "name": "stdout",
     "output_type": "stream",
     "text": [
      "train loss:2.1237076564417707\n",
      "train loss:2.129160827760204\n",
      "train loss:2.138390747439829\n",
      "train loss:2.1533125534971695\n"
     ]
    },
    {
     "name": "stderr",
     "output_type": "stream",
     "text": [
      "2018-11-23 15:34:51,333 - src.common.trainer - INFO - ==============================\n",
      "2018-11-23 15:34:51,333 - src.common.trainer - INFO - epoch: 99\n",
      "2018-11-23 15:34:51,334 - src.common.trainer - INFO - train acc: 0.51\n",
      "2018-11-23 15:34:51,334 - src.common.trainer - INFO - test acc: 0.3776\n"
     ]
    },
    {
     "name": "stdout",
     "output_type": "stream",
     "text": [
      "train loss:2.1226282745287683\n",
      "train loss:2.1145205870734545\n",
      "train loss:2.0999697194733686\n"
     ]
    },
    {
     "name": "stderr",
     "output_type": "stream",
     "text": [
      "2018-11-23 15:34:51,536 - src.common.trainer - INFO - ==============================\n",
      "2018-11-23 15:34:51,537 - src.common.trainer - INFO - epoch: 100\n",
      "2018-11-23 15:34:51,537 - src.common.trainer - INFO - train acc: 0.5133333333333333\n",
      "2018-11-23 15:34:51,538 - src.common.trainer - INFO - test acc: 0.3818\n"
     ]
    },
    {
     "name": "stdout",
     "output_type": "stream",
     "text": [
      "train loss:2.118395740552362\n",
      "train loss:2.1298718931980964\n"
     ]
    },
    {
     "name": "stderr",
     "output_type": "stream",
     "text": [
      "2018-11-23 15:34:51,765 - src.common.trainer - INFO - ==============================\n",
      "2018-11-23 15:34:51,766 - src.common.trainer - INFO - epoch: 101\n",
      "2018-11-23 15:34:51,766 - src.common.trainer - INFO - train acc: 0.5066666666666667\n",
      "2018-11-23 15:34:51,767 - src.common.trainer - INFO - test acc: 0.3844\n"
     ]
    },
    {
     "name": "stdout",
     "output_type": "stream",
     "text": [
      "train loss:2.125251875799197\n",
      "train loss:2.104329681127906\n"
     ]
    },
    {
     "name": "stderr",
     "output_type": "stream",
     "text": [
      "2018-11-23 15:34:51,962 - src.common.trainer - INFO - ==============================\n",
      "2018-11-23 15:34:51,963 - src.common.trainer - INFO - epoch: 102\n",
      "2018-11-23 15:34:51,963 - src.common.trainer - INFO - train acc: 0.5033333333333333\n",
      "2018-11-23 15:34:51,964 - src.common.trainer - INFO - test acc: 0.3779\n"
     ]
    },
    {
     "name": "stdout",
     "output_type": "stream",
     "text": [
      "train loss:2.0835308787179274\n",
      "train loss:2.0899378569970155\n",
      "train loss:2.147500533607913\n",
      "train loss:2.075270954989296\n"
     ]
    },
    {
     "name": "stderr",
     "output_type": "stream",
     "text": [
      "2018-11-23 15:34:52,161 - src.common.trainer - INFO - ==============================\n",
      "2018-11-23 15:34:52,161 - src.common.trainer - INFO - epoch: 103\n",
      "2018-11-23 15:34:52,162 - src.common.trainer - INFO - train acc: 0.51\n",
      "2018-11-23 15:34:52,163 - src.common.trainer - INFO - test acc: 0.3846\n"
     ]
    },
    {
     "name": "stdout",
     "output_type": "stream",
     "text": [
      "train loss:2.1487352685711336\n",
      "train loss:2.1238842546438144\n",
      "train loss:2.097743365689491\n",
      "train loss:2.1016955523925778\n"
     ]
    },
    {
     "name": "stderr",
     "output_type": "stream",
     "text": [
      "2018-11-23 15:34:52,364 - src.common.trainer - INFO - ==============================\n",
      "2018-11-23 15:34:52,365 - src.common.trainer - INFO - epoch: 104\n",
      "2018-11-23 15:34:52,366 - src.common.trainer - INFO - train acc: 0.51\n",
      "2018-11-23 15:34:52,366 - src.common.trainer - INFO - test acc: 0.3823\n"
     ]
    },
    {
     "name": "stdout",
     "output_type": "stream",
     "text": [
      "train loss:2.071247421365844\n",
      "train loss:2.1274659967712894\n",
      "train loss:2.1283654425492498\n"
     ]
    },
    {
     "name": "stderr",
     "output_type": "stream",
     "text": [
      "2018-11-23 15:34:52,571 - src.common.trainer - INFO - ==============================\n",
      "2018-11-23 15:34:52,571 - src.common.trainer - INFO - epoch: 105\n",
      "2018-11-23 15:34:52,572 - src.common.trainer - INFO - train acc: 0.5133333333333333\n",
      "2018-11-23 15:34:52,573 - src.common.trainer - INFO - test acc: 0.3854\n"
     ]
    },
    {
     "name": "stdout",
     "output_type": "stream",
     "text": [
      "train loss:2.1195147282302145\n",
      "train loss:2.136118533505968\n",
      "train loss:2.1072381247459235\n"
     ]
    },
    {
     "name": "stderr",
     "output_type": "stream",
     "text": [
      "2018-11-23 15:34:52,776 - src.common.trainer - INFO - ==============================\n",
      "2018-11-23 15:34:52,778 - src.common.trainer - INFO - epoch: 106\n",
      "2018-11-23 15:34:52,778 - src.common.trainer - INFO - train acc: 0.51\n",
      "2018-11-23 15:34:52,779 - src.common.trainer - INFO - test acc: 0.3863\n"
     ]
    },
    {
     "name": "stdout",
     "output_type": "stream",
     "text": [
      "train loss:2.1120147758476095\n",
      "train loss:2.0590318721023793\n",
      "train loss:2.0872899826766576\n",
      "train loss:2.1471026630018364\n"
     ]
    },
    {
     "name": "stderr",
     "output_type": "stream",
     "text": [
      "2018-11-23 15:34:52,991 - src.common.trainer - INFO - ==============================\n",
      "2018-11-23 15:34:52,992 - src.common.trainer - INFO - epoch: 107\n",
      "2018-11-23 15:34:52,992 - src.common.trainer - INFO - train acc: 0.51\n",
      "2018-11-23 15:34:52,993 - src.common.trainer - INFO - test acc: 0.3855\n",
      "2018-11-23 15:34:53,186 - src.common.trainer - INFO - ==============================\n",
      "2018-11-23 15:34:53,187 - src.common.trainer - INFO - epoch: 108\n",
      "2018-11-23 15:34:53,187 - src.common.trainer - INFO - train acc: 0.5133333333333333\n",
      "2018-11-23 15:34:53,188 - src.common.trainer - INFO - test acc: 0.3921\n"
     ]
    },
    {
     "name": "stdout",
     "output_type": "stream",
     "text": [
      "train loss:2.0864922679585076\n",
      "train loss:2.1079936231234284\n",
      "train loss:2.0663649382113807\n",
      "train loss:2.0630656614473235\n"
     ]
    },
    {
     "name": "stderr",
     "output_type": "stream",
     "text": [
      "2018-11-23 15:34:53,388 - src.common.trainer - INFO - ==============================\n",
      "2018-11-23 15:34:53,389 - src.common.trainer - INFO - epoch: 109\n",
      "2018-11-23 15:34:53,390 - src.common.trainer - INFO - train acc: 0.52\n",
      "2018-11-23 15:34:53,390 - src.common.trainer - INFO - test acc: 0.3957\n"
     ]
    },
    {
     "name": "stdout",
     "output_type": "stream",
     "text": [
      "train loss:2.082381507609631\n",
      "train loss:2.106526647073001\n",
      "train loss:2.0492455234495326\n"
     ]
    },
    {
     "name": "stderr",
     "output_type": "stream",
     "text": [
      "2018-11-23 15:34:53,593 - src.common.trainer - INFO - ==============================\n",
      "2018-11-23 15:34:53,595 - src.common.trainer - INFO - epoch: 110\n",
      "2018-11-23 15:34:53,596 - src.common.trainer - INFO - train acc: 0.5233333333333333\n",
      "2018-11-23 15:34:53,597 - src.common.trainer - INFO - test acc: 0.3955\n"
     ]
    },
    {
     "name": "stdout",
     "output_type": "stream",
     "text": [
      "train loss:2.0695258025073047\n",
      "train loss:2.0637331611989924\n",
      "train loss:2.0737592747925793\n",
      "train loss:2.0852606154623023\n",
      "train loss:2.0827077998119385\n"
     ]
    },
    {
     "name": "stderr",
     "output_type": "stream",
     "text": [
      "2018-11-23 15:34:53,850 - src.common.trainer - INFO - ==============================\n",
      "2018-11-23 15:34:53,850 - src.common.trainer - INFO - epoch: 111\n",
      "2018-11-23 15:34:53,851 - src.common.trainer - INFO - train acc: 0.52\n",
      "2018-11-23 15:34:53,853 - src.common.trainer - INFO - test acc: 0.3957\n",
      "2018-11-23 15:34:54,048 - src.common.trainer - INFO - ==============================\n",
      "2018-11-23 15:34:54,049 - src.common.trainer - INFO - epoch: 112\n",
      "2018-11-23 15:34:54,050 - src.common.trainer - INFO - train acc: 0.52\n",
      "2018-11-23 15:34:54,050 - src.common.trainer - INFO - test acc: 0.3948\n"
     ]
    },
    {
     "name": "stdout",
     "output_type": "stream",
     "text": [
      "train loss:2.090822560874673\n",
      "train loss:2.089169135437144\n",
      "train loss:2.0573912344492826\n",
      "train loss:2.1080513645302235\n",
      "train loss:2.0424558756936353\n",
      "train loss:2.0894451023013643\n"
     ]
    },
    {
     "name": "stderr",
     "output_type": "stream",
     "text": [
      "2018-11-23 15:34:54,298 - src.common.trainer - INFO - ==============================\n",
      "2018-11-23 15:34:54,299 - src.common.trainer - INFO - epoch: 113\n",
      "2018-11-23 15:34:54,301 - src.common.trainer - INFO - train acc: 0.5166666666666667\n",
      "2018-11-23 15:34:54,301 - src.common.trainer - INFO - test acc: 0.3938\n",
      "2018-11-23 15:34:54,520 - src.common.trainer - INFO - ==============================\n",
      "2018-11-23 15:34:54,521 - src.common.trainer - INFO - epoch: 114\n",
      "2018-11-23 15:34:54,521 - src.common.trainer - INFO - train acc: 0.5133333333333333\n",
      "2018-11-23 15:34:54,521 - src.common.trainer - INFO - test acc: 0.3946\n"
     ]
    },
    {
     "name": "stdout",
     "output_type": "stream",
     "text": [
      "train loss:2.072157961532538\n",
      "train loss:2.0873331045684393\n",
      "train loss:2.093981719877343\n"
     ]
    },
    {
     "name": "stderr",
     "output_type": "stream",
     "text": [
      "2018-11-23 15:34:54,723 - src.common.trainer - INFO - ==============================\n",
      "2018-11-23 15:34:54,723 - src.common.trainer - INFO - epoch: 115\n",
      "2018-11-23 15:34:54,724 - src.common.trainer - INFO - train acc: 0.51\n",
      "2018-11-23 15:34:54,724 - src.common.trainer - INFO - test acc: 0.3957\n"
     ]
    },
    {
     "name": "stdout",
     "output_type": "stream",
     "text": [
      "train loss:2.0508578505984865\n",
      "train loss:2.0833634883557086\n",
      "train loss:2.093223601487505\n",
      "train loss:2.0309209563222184\n"
     ]
    },
    {
     "name": "stderr",
     "output_type": "stream",
     "text": [
      "2018-11-23 15:34:54,934 - src.common.trainer - INFO - ==============================\n",
      "2018-11-23 15:34:54,935 - src.common.trainer - INFO - epoch: 116\n",
      "2018-11-23 15:34:54,936 - src.common.trainer - INFO - train acc: 0.5066666666666667\n",
      "2018-11-23 15:34:54,936 - src.common.trainer - INFO - test acc: 0.3938\n"
     ]
    },
    {
     "name": "stdout",
     "output_type": "stream",
     "text": [
      "train loss:2.0604932361682216\n",
      "train loss:2.0932322337386267\n",
      "train loss:2.0459450822419973\n"
     ]
    },
    {
     "name": "stderr",
     "output_type": "stream",
     "text": [
      "2018-11-23 15:34:55,141 - src.common.trainer - INFO - ==============================\n",
      "2018-11-23 15:34:55,142 - src.common.trainer - INFO - epoch: 117\n",
      "2018-11-23 15:34:55,143 - src.common.trainer - INFO - train acc: 0.5066666666666667\n",
      "2018-11-23 15:34:55,144 - src.common.trainer - INFO - test acc: 0.3944\n"
     ]
    },
    {
     "name": "stdout",
     "output_type": "stream",
     "text": [
      "train loss:2.031545863433912\n",
      "train loss:2.008724857032961\n",
      "train loss:2.0452709286593476\n"
     ]
    },
    {
     "name": "stderr",
     "output_type": "stream",
     "text": [
      "2018-11-23 15:34:55,344 - src.common.trainer - INFO - ==============================\n",
      "2018-11-23 15:34:55,345 - src.common.trainer - INFO - epoch: 118\n",
      "2018-11-23 15:34:55,347 - src.common.trainer - INFO - train acc: 0.5066666666666667\n",
      "2018-11-23 15:34:55,348 - src.common.trainer - INFO - test acc: 0.3922\n"
     ]
    },
    {
     "name": "stdout",
     "output_type": "stream",
     "text": [
      "train loss:2.0409549248769405\n",
      "train loss:2.0199350754259284\n",
      "train loss:2.0407264457014893\n"
     ]
    },
    {
     "name": "stderr",
     "output_type": "stream",
     "text": [
      "2018-11-23 15:34:55,569 - src.common.trainer - INFO - ==============================\n",
      "2018-11-23 15:34:55,569 - src.common.trainer - INFO - epoch: 119\n",
      "2018-11-23 15:34:55,570 - src.common.trainer - INFO - train acc: 0.5033333333333333\n",
      "2018-11-23 15:34:55,570 - src.common.trainer - INFO - test acc: 0.3953\n"
     ]
    },
    {
     "name": "stdout",
     "output_type": "stream",
     "text": [
      "train loss:2.048995613198272\n",
      "train loss:2.0158676925571553\n"
     ]
    },
    {
     "name": "stderr",
     "output_type": "stream",
     "text": [
      "2018-11-23 15:34:55,770 - src.common.trainer - INFO - ==============================\n",
      "2018-11-23 15:34:55,771 - src.common.trainer - INFO - epoch: 120\n",
      "2018-11-23 15:34:55,772 - src.common.trainer - INFO - train acc: 0.5033333333333333\n",
      "2018-11-23 15:34:55,772 - src.common.trainer - INFO - test acc: 0.3939\n"
     ]
    },
    {
     "name": "stdout",
     "output_type": "stream",
     "text": [
      "train loss:2.0463770581288645\n",
      "train loss:2.026192912720364\n",
      "train loss:2.005171352607015\n",
      "train loss:2.080600779650756\n"
     ]
    },
    {
     "name": "stderr",
     "output_type": "stream",
     "text": [
      "2018-11-23 15:34:55,970 - src.common.trainer - INFO - ==============================\n",
      "2018-11-23 15:34:55,970 - src.common.trainer - INFO - epoch: 121\n",
      "2018-11-23 15:34:55,971 - src.common.trainer - INFO - train acc: 0.5033333333333333\n",
      "2018-11-23 15:34:55,971 - src.common.trainer - INFO - test acc: 0.3952\n"
     ]
    },
    {
     "name": "stdout",
     "output_type": "stream",
     "text": [
      "train loss:2.006403175688031\n",
      "train loss:2.0159865435148903\n",
      "train loss:2.0851497237157712\n",
      "train loss:2.000496046043851\n"
     ]
    },
    {
     "name": "stderr",
     "output_type": "stream",
     "text": [
      "2018-11-23 15:34:56,186 - src.common.trainer - INFO - ==============================\n",
      "2018-11-23 15:34:56,187 - src.common.trainer - INFO - epoch: 122\n",
      "2018-11-23 15:34:56,187 - src.common.trainer - INFO - train acc: 0.5033333333333333\n",
      "2018-11-23 15:34:56,188 - src.common.trainer - INFO - test acc: 0.393\n"
     ]
    },
    {
     "name": "stdout",
     "output_type": "stream",
     "text": [
      "train loss:1.9965297972813076\n",
      "train loss:1.9972929151513585\n"
     ]
    },
    {
     "name": "stderr",
     "output_type": "stream",
     "text": [
      "2018-11-23 15:34:56,397 - src.common.trainer - INFO - ==============================\n",
      "2018-11-23 15:34:56,398 - src.common.trainer - INFO - epoch: 123\n",
      "2018-11-23 15:34:56,398 - src.common.trainer - INFO - train acc: 0.5066666666666667\n",
      "2018-11-23 15:34:56,399 - src.common.trainer - INFO - test acc: 0.3941\n"
     ]
    },
    {
     "name": "stdout",
     "output_type": "stream",
     "text": [
      "train loss:2.0138603539463964\n",
      "train loss:1.9862238044452152\n",
      "train loss:2.0068771444381404\n"
     ]
    },
    {
     "name": "stderr",
     "output_type": "stream",
     "text": [
      "2018-11-23 15:34:56,608 - src.common.trainer - INFO - ==============================\n",
      "2018-11-23 15:34:56,609 - src.common.trainer - INFO - epoch: 124\n",
      "2018-11-23 15:34:56,610 - src.common.trainer - INFO - train acc: 0.51\n",
      "2018-11-23 15:34:56,611 - src.common.trainer - INFO - test acc: 0.3982\n"
     ]
    },
    {
     "name": "stdout",
     "output_type": "stream",
     "text": [
      "train loss:2.010835367631311\n",
      "train loss:2.071211230311059\n",
      "train loss:1.9876898452924403\n"
     ]
    },
    {
     "name": "stderr",
     "output_type": "stream",
     "text": [
      "2018-11-23 15:34:56,832 - src.common.trainer - INFO - ==============================\n",
      "2018-11-23 15:34:56,833 - src.common.trainer - INFO - epoch: 125\n",
      "2018-11-23 15:34:56,834 - src.common.trainer - INFO - train acc: 0.51\n",
      "2018-11-23 15:34:56,834 - src.common.trainer - INFO - test acc: 0.3987\n"
     ]
    },
    {
     "name": "stdout",
     "output_type": "stream",
     "text": [
      "train loss:2.028665872760347\n",
      "train loss:2.0305757302989274\n"
     ]
    },
    {
     "name": "stderr",
     "output_type": "stream",
     "text": [
      "2018-11-23 15:34:57,036 - src.common.trainer - INFO - ==============================\n",
      "2018-11-23 15:34:57,037 - src.common.trainer - INFO - epoch: 126\n",
      "2018-11-23 15:34:57,037 - src.common.trainer - INFO - train acc: 0.5133333333333333\n",
      "2018-11-23 15:34:57,040 - src.common.trainer - INFO - test acc: 0.3993\n"
     ]
    },
    {
     "name": "stdout",
     "output_type": "stream",
     "text": [
      "train loss:1.97788090271533\n",
      "train loss:2.0183422214013067\n",
      "train loss:2.050340350947993\n"
     ]
    },
    {
     "name": "stderr",
     "output_type": "stream",
     "text": [
      "2018-11-23 15:34:57,243 - src.common.trainer - INFO - ==============================\n",
      "2018-11-23 15:34:57,243 - src.common.trainer - INFO - epoch: 127\n",
      "2018-11-23 15:34:57,244 - src.common.trainer - INFO - train acc: 0.5033333333333333\n",
      "2018-11-23 15:34:57,245 - src.common.trainer - INFO - test acc: 0.3976\n"
     ]
    },
    {
     "name": "stdout",
     "output_type": "stream",
     "text": [
      "train loss:1.9724965421989882\n",
      "train loss:1.996360076188727\n",
      "train loss:1.9944646191513957\n"
     ]
    },
    {
     "name": "stderr",
     "output_type": "stream",
     "text": [
      "2018-11-23 15:34:57,454 - src.common.trainer - INFO - ==============================\n",
      "2018-11-23 15:34:57,455 - src.common.trainer - INFO - epoch: 128\n",
      "2018-11-23 15:34:57,455 - src.common.trainer - INFO - train acc: 0.51\n",
      "2018-11-23 15:34:57,456 - src.common.trainer - INFO - test acc: 0.398\n"
     ]
    },
    {
     "name": "stdout",
     "output_type": "stream",
     "text": [
      "train loss:1.9423236768868315\n",
      "train loss:2.029887602412745\n",
      "train loss:2.0282812795518828\n",
      "train loss:1.9405260403345588\n",
      "train loss:2.004888832023998\n",
      "train loss:2.000637065110998\n"
     ]
    },
    {
     "name": "stderr",
     "output_type": "stream",
     "text": [
      "2018-11-23 15:34:57,697 - src.common.trainer - INFO - ==============================\n",
      "2018-11-23 15:34:57,698 - src.common.trainer - INFO - epoch: 129\n",
      "2018-11-23 15:34:57,698 - src.common.trainer - INFO - train acc: 0.52\n",
      "2018-11-23 15:34:57,699 - src.common.trainer - INFO - test acc: 0.4009\n",
      "2018-11-23 15:34:57,917 - src.common.trainer - INFO - ==============================\n",
      "2018-11-23 15:34:57,918 - src.common.trainer - INFO - epoch: 130\n",
      "2018-11-23 15:34:57,919 - src.common.trainer - INFO - train acc: 0.5066666666666667\n",
      "2018-11-23 15:34:57,919 - src.common.trainer - INFO - test acc: 0.3975\n"
     ]
    },
    {
     "name": "stdout",
     "output_type": "stream",
     "text": [
      "train loss:2.0158458616481814\n",
      "train loss:1.9605647778175217\n",
      "train loss:1.9676276309564917\n"
     ]
    },
    {
     "name": "stderr",
     "output_type": "stream",
     "text": [
      "2018-11-23 15:34:58,138 - src.common.trainer - INFO - ==============================\n",
      "2018-11-23 15:34:58,138 - src.common.trainer - INFO - epoch: 131\n",
      "2018-11-23 15:34:58,139 - src.common.trainer - INFO - train acc: 0.5066666666666667\n",
      "2018-11-23 15:34:58,139 - src.common.trainer - INFO - test acc: 0.3959\n"
     ]
    },
    {
     "name": "stdout",
     "output_type": "stream",
     "text": [
      "train loss:1.9242084094621583\n",
      "train loss:2.0048400630247594\n",
      "train loss:1.955138903479522\n",
      "train loss:1.9633720406464656\n",
      "train loss:1.9893112940793856\n",
      "train loss:1.941134931075842\n"
     ]
    },
    {
     "name": "stderr",
     "output_type": "stream",
     "text": [
      "2018-11-23 15:34:58,424 - src.common.trainer - INFO - ==============================\n",
      "2018-11-23 15:34:58,424 - src.common.trainer - INFO - epoch: 132\n",
      "2018-11-23 15:34:58,425 - src.common.trainer - INFO - train acc: 0.5033333333333333\n",
      "2018-11-23 15:34:58,426 - src.common.trainer - INFO - test acc: 0.3931\n",
      "2018-11-23 15:34:58,606 - src.common.trainer - INFO - ==============================\n",
      "2018-11-23 15:34:58,607 - src.common.trainer - INFO - epoch: 133\n",
      "2018-11-23 15:34:58,607 - src.common.trainer - INFO - train acc: 0.5033333333333333\n",
      "2018-11-23 15:34:58,608 - src.common.trainer - INFO - test acc: 0.3925\n"
     ]
    },
    {
     "name": "stdout",
     "output_type": "stream",
     "text": [
      "train loss:1.9256497866199036\n",
      "train loss:1.9387300605248268\n",
      "train loss:1.9750037543208192\n",
      "train loss:1.9404276701396859\n",
      "train loss:1.9578969281661935\n",
      "train loss:1.9671767188155236\n"
     ]
    },
    {
     "name": "stderr",
     "output_type": "stream",
     "text": [
      "2018-11-23 15:34:58,791 - src.common.trainer - INFO - ==============================\n",
      "2018-11-23 15:34:58,792 - src.common.trainer - INFO - epoch: 134\n",
      "2018-11-23 15:34:58,792 - src.common.trainer - INFO - train acc: 0.5\n",
      "2018-11-23 15:34:58,793 - src.common.trainer - INFO - test acc: 0.3931\n",
      "2018-11-23 15:34:58,978 - src.common.trainer - INFO - ==============================\n",
      "2018-11-23 15:34:58,979 - src.common.trainer - INFO - epoch: 135\n",
      "2018-11-23 15:34:58,979 - src.common.trainer - INFO - train acc: 0.5\n",
      "2018-11-23 15:34:58,980 - src.common.trainer - INFO - test acc: 0.3922\n"
     ]
    },
    {
     "name": "stdout",
     "output_type": "stream",
     "text": [
      "train loss:1.9017708965220532\n",
      "train loss:1.9320977306899798\n",
      "train loss:1.971963057025129\n",
      "train loss:1.8916373987434896\n",
      "train loss:1.9344442659473982\n"
     ]
    },
    {
     "name": "stderr",
     "output_type": "stream",
     "text": [
      "2018-11-23 15:34:59,171 - src.common.trainer - INFO - ==============================\n",
      "2018-11-23 15:34:59,172 - src.common.trainer - INFO - epoch: 136\n",
      "2018-11-23 15:34:59,173 - src.common.trainer - INFO - train acc: 0.5033333333333333\n",
      "2018-11-23 15:34:59,173 - src.common.trainer - INFO - test acc: 0.3886\n"
     ]
    },
    {
     "name": "stdout",
     "output_type": "stream",
     "text": [
      "train loss:1.955188840863584\n",
      "train loss:1.9108380876855517\n",
      "train loss:1.979827159746253\n",
      "train loss:1.9332942201139125\n"
     ]
    },
    {
     "name": "stderr",
     "output_type": "stream",
     "text": [
      "2018-11-23 15:34:59,370 - src.common.trainer - INFO - ==============================\n",
      "2018-11-23 15:34:59,371 - src.common.trainer - INFO - epoch: 137\n",
      "2018-11-23 15:34:59,372 - src.common.trainer - INFO - train acc: 0.49666666666666665\n",
      "2018-11-23 15:34:59,373 - src.common.trainer - INFO - test acc: 0.382\n"
     ]
    },
    {
     "name": "stdout",
     "output_type": "stream",
     "text": [
      "train loss:1.9859910389998936\n",
      "train loss:1.8951417942138133\n",
      "train loss:1.993004121049715\n"
     ]
    },
    {
     "name": "stderr",
     "output_type": "stream",
     "text": [
      "2018-11-23 15:34:59,651 - src.common.trainer - INFO - ==============================\n",
      "2018-11-23 15:34:59,651 - src.common.trainer - INFO - epoch: 138\n",
      "2018-11-23 15:34:59,652 - src.common.trainer - INFO - train acc: 0.5\n",
      "2018-11-23 15:34:59,653 - src.common.trainer - INFO - test acc: 0.3841\n"
     ]
    },
    {
     "name": "stdout",
     "output_type": "stream",
     "text": [
      "train loss:1.9410738811601123\n",
      "train loss:1.870394399378129\n",
      "train loss:1.8900936470919607\n"
     ]
    },
    {
     "name": "stderr",
     "output_type": "stream",
     "text": [
      "2018-11-23 15:34:59,892 - src.common.trainer - INFO - ==============================\n",
      "2018-11-23 15:34:59,892 - src.common.trainer - INFO - epoch: 139\n",
      "2018-11-23 15:34:59,893 - src.common.trainer - INFO - train acc: 0.49666666666666665\n",
      "2018-11-23 15:34:59,894 - src.common.trainer - INFO - test acc: 0.3816\n",
      "2018-11-23 15:35:00,103 - src.common.trainer - INFO - ==============================\n",
      "2018-11-23 15:35:00,104 - src.common.trainer - INFO - epoch: 140\n",
      "2018-11-23 15:35:00,104 - src.common.trainer - INFO - train acc: 0.5\n",
      "2018-11-23 15:35:00,105 - src.common.trainer - INFO - test acc: 0.3822\n"
     ]
    },
    {
     "name": "stdout",
     "output_type": "stream",
     "text": [
      "train loss:1.9857377630711768\n",
      "train loss:1.9751044481849815\n",
      "train loss:1.9436125684453316\n",
      "train loss:1.9697743051793843\n"
     ]
    },
    {
     "name": "stderr",
     "output_type": "stream",
     "text": [
      "2018-11-23 15:35:00,321 - src.common.trainer - INFO - ==============================\n",
      "2018-11-23 15:35:00,322 - src.common.trainer - INFO - epoch: 141\n",
      "2018-11-23 15:35:00,324 - src.common.trainer - INFO - train acc: 0.5\n",
      "2018-11-23 15:35:00,325 - src.common.trainer - INFO - test acc: 0.3863\n"
     ]
    },
    {
     "name": "stdout",
     "output_type": "stream",
     "text": [
      "train loss:1.9186217903452873\n",
      "train loss:1.9129642608176152\n",
      "train loss:1.9305551872490982\n",
      "train loss:1.9060324314158903\n",
      "train loss:1.9354365803885125\n"
     ]
    },
    {
     "name": "stderr",
     "output_type": "stream",
     "text": [
      "2018-11-23 15:35:00,558 - src.common.trainer - INFO - ==============================\n",
      "2018-11-23 15:35:00,558 - src.common.trainer - INFO - epoch: 142\n",
      "2018-11-23 15:35:00,559 - src.common.trainer - INFO - train acc: 0.5\n",
      "2018-11-23 15:35:00,560 - src.common.trainer - INFO - test acc: 0.3873\n"
     ]
    },
    {
     "name": "stdout",
     "output_type": "stream",
     "text": [
      "train loss:1.856574269692393\n",
      "train loss:1.8617826633511438\n",
      "train loss:1.8729658564125322\n"
     ]
    },
    {
     "name": "stderr",
     "output_type": "stream",
     "text": [
      "2018-11-23 15:35:00,789 - src.common.trainer - INFO - ==============================\n",
      "2018-11-23 15:35:00,790 - src.common.trainer - INFO - epoch: 143\n",
      "2018-11-23 15:35:00,790 - src.common.trainer - INFO - train acc: 0.5\n",
      "2018-11-23 15:35:00,791 - src.common.trainer - INFO - test acc: 0.387\n"
     ]
    },
    {
     "name": "stdout",
     "output_type": "stream",
     "text": [
      "train loss:1.8953045055491526\n",
      "train loss:1.8601506193415858\n",
      "train loss:1.9635754246171027\n"
     ]
    },
    {
     "name": "stderr",
     "output_type": "stream",
     "text": [
      "2018-11-23 15:35:01,052 - src.common.trainer - INFO - ==============================\n",
      "2018-11-23 15:35:01,053 - src.common.trainer - INFO - epoch: 144\n",
      "2018-11-23 15:35:01,054 - src.common.trainer - INFO - train acc: 0.49666666666666665\n",
      "2018-11-23 15:35:01,056 - src.common.trainer - INFO - test acc: 0.3897\n"
     ]
    },
    {
     "name": "stdout",
     "output_type": "stream",
     "text": [
      "train loss:1.902009210364108\n",
      "train loss:1.8953187851513247\n",
      "train loss:1.9216390777392525\n"
     ]
    },
    {
     "name": "stderr",
     "output_type": "stream",
     "text": [
      "2018-11-23 15:35:01,308 - src.common.trainer - INFO - ==============================\n",
      "2018-11-23 15:35:01,308 - src.common.trainer - INFO - epoch: 145\n",
      "2018-11-23 15:35:01,309 - src.common.trainer - INFO - train acc: 0.49333333333333335\n",
      "2018-11-23 15:35:01,310 - src.common.trainer - INFO - test acc: 0.3878\n"
     ]
    },
    {
     "name": "stdout",
     "output_type": "stream",
     "text": [
      "train loss:1.8364326053918307\n",
      "train loss:1.8086690072327494\n",
      "train loss:1.8187882487315685\n"
     ]
    },
    {
     "name": "stderr",
     "output_type": "stream",
     "text": [
      "2018-11-23 15:35:01,540 - src.common.trainer - INFO - ==============================\n",
      "2018-11-23 15:35:01,541 - src.common.trainer - INFO - epoch: 146\n",
      "2018-11-23 15:35:01,541 - src.common.trainer - INFO - train acc: 0.4866666666666667\n",
      "2018-11-23 15:35:01,542 - src.common.trainer - INFO - test acc: 0.3879\n",
      "2018-11-23 15:35:01,744 - src.common.trainer - INFO - ==============================\n",
      "2018-11-23 15:35:01,744 - src.common.trainer - INFO - epoch: 147\n",
      "2018-11-23 15:35:01,745 - src.common.trainer - INFO - train acc: 0.48333333333333334\n",
      "2018-11-23 15:35:01,745 - src.common.trainer - INFO - test acc: 0.3889\n"
     ]
    },
    {
     "name": "stdout",
     "output_type": "stream",
     "text": [
      "train loss:1.8331566011071834\n",
      "train loss:1.8665993614223928\n",
      "train loss:1.8772449650440466\n"
     ]
    },
    {
     "name": "stderr",
     "output_type": "stream",
     "text": [
      "2018-11-23 15:35:01,951 - src.common.trainer - INFO - ==============================\n",
      "2018-11-23 15:35:01,952 - src.common.trainer - INFO - epoch: 148\n",
      "2018-11-23 15:35:01,952 - src.common.trainer - INFO - train acc: 0.49\n",
      "2018-11-23 15:35:01,953 - src.common.trainer - INFO - test acc: 0.3931\n"
     ]
    },
    {
     "name": "stdout",
     "output_type": "stream",
     "text": [
      "train loss:1.8852536115339742\n",
      "train loss:1.7815204550230446\n",
      "train loss:1.8530279289093032\n"
     ]
    },
    {
     "name": "stderr",
     "output_type": "stream",
     "text": [
      "2018-11-23 15:35:02,157 - src.common.trainer - INFO - ==============================\n",
      "2018-11-23 15:35:02,158 - src.common.trainer - INFO - epoch: 149\n",
      "2018-11-23 15:35:02,158 - src.common.trainer - INFO - train acc: 0.49\n",
      "2018-11-23 15:35:02,159 - src.common.trainer - INFO - test acc: 0.3914\n"
     ]
    },
    {
     "name": "stdout",
     "output_type": "stream",
     "text": [
      "train loss:1.8767702061138367\n",
      "train loss:1.8482711329672314\n",
      "train loss:1.8099248677856472\n"
     ]
    },
    {
     "name": "stderr",
     "output_type": "stream",
     "text": [
      "2018-11-23 15:35:02,365 - src.common.trainer - INFO - ==============================\n",
      "2018-11-23 15:35:02,366 - src.common.trainer - INFO - epoch: 150\n",
      "2018-11-23 15:35:02,366 - src.common.trainer - INFO - train acc: 0.49\n",
      "2018-11-23 15:35:02,367 - src.common.trainer - INFO - test acc: 0.3902\n"
     ]
    },
    {
     "name": "stdout",
     "output_type": "stream",
     "text": [
      "train loss:1.842610847147535\n",
      "train loss:1.8625205274653647\n",
      "train loss:1.8883619312511095\n",
      "train loss:1.8517392849728807\n",
      "train loss:1.7782298793511024\n",
      "train loss:1.8722524441344657\n"
     ]
    },
    {
     "name": "stderr",
     "output_type": "stream",
     "text": [
      "2018-11-23 15:35:02,607 - src.common.trainer - INFO - ==============================\n",
      "2018-11-23 15:35:02,608 - src.common.trainer - INFO - epoch: 151\n",
      "2018-11-23 15:35:02,608 - src.common.trainer - INFO - train acc: 0.48333333333333334\n",
      "2018-11-23 15:35:02,609 - src.common.trainer - INFO - test acc: 0.3912\n",
      "2018-11-23 15:35:02,808 - src.common.trainer - INFO - ==============================\n",
      "2018-11-23 15:35:02,809 - src.common.trainer - INFO - epoch: 152\n",
      "2018-11-23 15:35:02,810 - src.common.trainer - INFO - train acc: 0.4866666666666667\n",
      "2018-11-23 15:35:02,810 - src.common.trainer - INFO - test acc: 0.3939\n"
     ]
    },
    {
     "name": "stdout",
     "output_type": "stream",
     "text": [
      "train loss:1.8010660922314086\n",
      "train loss:1.8112950451264545\n",
      "train loss:1.9109512179735422\n",
      "train loss:1.808257128925572\n"
     ]
    },
    {
     "name": "stderr",
     "output_type": "stream",
     "text": [
      "2018-11-23 15:35:03,010 - src.common.trainer - INFO - ==============================\n",
      "2018-11-23 15:35:03,011 - src.common.trainer - INFO - epoch: 153\n",
      "2018-11-23 15:35:03,011 - src.common.trainer - INFO - train acc: 0.48333333333333334\n",
      "2018-11-23 15:35:03,012 - src.common.trainer - INFO - test acc: 0.3911\n"
     ]
    },
    {
     "name": "stdout",
     "output_type": "stream",
     "text": [
      "train loss:1.8148513215277546\n",
      "train loss:1.813111158664585\n",
      "train loss:1.9073646282233347\n",
      "train loss:1.8665495618497934\n"
     ]
    },
    {
     "name": "stderr",
     "output_type": "stream",
     "text": [
      "2018-11-23 15:35:03,223 - src.common.trainer - INFO - ==============================\n",
      "2018-11-23 15:35:03,224 - src.common.trainer - INFO - epoch: 154\n",
      "2018-11-23 15:35:03,224 - src.common.trainer - INFO - train acc: 0.4866666666666667\n",
      "2018-11-23 15:35:03,225 - src.common.trainer - INFO - test acc: 0.3934\n"
     ]
    },
    {
     "name": "stdout",
     "output_type": "stream",
     "text": [
      "train loss:1.788816548732517\n",
      "train loss:1.7565820085748112\n"
     ]
    },
    {
     "name": "stderr",
     "output_type": "stream",
     "text": [
      "2018-11-23 15:35:03,432 - src.common.trainer - INFO - ==============================\n",
      "2018-11-23 15:35:03,432 - src.common.trainer - INFO - epoch: 155\n",
      "2018-11-23 15:35:03,433 - src.common.trainer - INFO - train acc: 0.4866666666666667\n",
      "2018-11-23 15:35:03,433 - src.common.trainer - INFO - test acc: 0.387\n"
     ]
    },
    {
     "name": "stdout",
     "output_type": "stream",
     "text": [
      "train loss:1.7433207836097144\n",
      "train loss:1.7076446232049738\n",
      "train loss:1.694342508832041\n"
     ]
    },
    {
     "name": "stderr",
     "output_type": "stream",
     "text": [
      "2018-11-23 15:35:03,646 - src.common.trainer - INFO - ==============================\n",
      "2018-11-23 15:35:03,647 - src.common.trainer - INFO - epoch: 156\n",
      "2018-11-23 15:35:03,650 - src.common.trainer - INFO - train acc: 0.48\n",
      "2018-11-23 15:35:03,651 - src.common.trainer - INFO - test acc: 0.3873\n"
     ]
    },
    {
     "name": "stdout",
     "output_type": "stream",
     "text": [
      "train loss:1.7554208578155914\n",
      "train loss:1.8255516545056047\n"
     ]
    },
    {
     "name": "stderr",
     "output_type": "stream",
     "text": [
      "2018-11-23 15:35:03,861 - src.common.trainer - INFO - ==============================\n",
      "2018-11-23 15:35:03,862 - src.common.trainer - INFO - epoch: 157\n",
      "2018-11-23 15:35:03,862 - src.common.trainer - INFO - train acc: 0.49333333333333335\n",
      "2018-11-23 15:35:03,864 - src.common.trainer - INFO - test acc: 0.3898\n"
     ]
    },
    {
     "name": "stdout",
     "output_type": "stream",
     "text": [
      "train loss:1.774878175558443\n",
      "train loss:1.7036144135759301\n",
      "train loss:1.7802113195291847\n"
     ]
    },
    {
     "name": "stderr",
     "output_type": "stream",
     "text": [
      "2018-11-23 15:35:04,072 - src.common.trainer - INFO - ==============================\n",
      "2018-11-23 15:35:04,072 - src.common.trainer - INFO - epoch: 158\n",
      "2018-11-23 15:35:04,073 - src.common.trainer - INFO - train acc: 0.49\n",
      "2018-11-23 15:35:04,073 - src.common.trainer - INFO - test acc: 0.3903\n"
     ]
    },
    {
     "name": "stdout",
     "output_type": "stream",
     "text": [
      "train loss:1.6790487209563763\n",
      "train loss:1.81084917803702\n",
      "train loss:1.75055766917449\n"
     ]
    },
    {
     "name": "stderr",
     "output_type": "stream",
     "text": [
      "2018-11-23 15:35:04,274 - src.common.trainer - INFO - ==============================\n",
      "2018-11-23 15:35:04,275 - src.common.trainer - INFO - epoch: 159\n",
      "2018-11-23 15:35:04,276 - src.common.trainer - INFO - train acc: 0.49\n",
      "2018-11-23 15:35:04,276 - src.common.trainer - INFO - test acc: 0.3895\n"
     ]
    },
    {
     "name": "stdout",
     "output_type": "stream",
     "text": [
      "train loss:1.7582913064854517\n",
      "train loss:1.8521508741253832\n",
      "train loss:1.7707683939173202\n",
      "train loss:1.6988323869511306\n"
     ]
    },
    {
     "name": "stderr",
     "output_type": "stream",
     "text": [
      "2018-11-23 15:35:04,476 - src.common.trainer - INFO - ==============================\n",
      "2018-11-23 15:35:04,477 - src.common.trainer - INFO - epoch: 160\n",
      "2018-11-23 15:35:04,477 - src.common.trainer - INFO - train acc: 0.49333333333333335\n",
      "2018-11-23 15:35:04,478 - src.common.trainer - INFO - test acc: 0.3906\n"
     ]
    },
    {
     "name": "stdout",
     "output_type": "stream",
     "text": [
      "train loss:1.7345572911430396\n",
      "train loss:1.748873129227834\n",
      "train loss:1.7570482410398751\n"
     ]
    },
    {
     "name": "stderr",
     "output_type": "stream",
     "text": [
      "2018-11-23 15:35:04,698 - src.common.trainer - INFO - ==============================\n",
      "2018-11-23 15:35:04,699 - src.common.trainer - INFO - epoch: 161\n",
      "2018-11-23 15:35:04,699 - src.common.trainer - INFO - train acc: 0.47333333333333333\n",
      "2018-11-23 15:35:04,700 - src.common.trainer - INFO - test acc: 0.3882\n"
     ]
    },
    {
     "name": "stdout",
     "output_type": "stream",
     "text": [
      "train loss:1.7521773576387145\n",
      "train loss:1.826808354885413\n",
      "train loss:1.708267263024756\n"
     ]
    },
    {
     "name": "stderr",
     "output_type": "stream",
     "text": [
      "2018-11-23 15:35:04,899 - src.common.trainer - INFO - ==============================\n",
      "2018-11-23 15:35:04,900 - src.common.trainer - INFO - epoch: 162\n",
      "2018-11-23 15:35:04,900 - src.common.trainer - INFO - train acc: 0.48\n",
      "2018-11-23 15:35:04,901 - src.common.trainer - INFO - test acc: 0.3914\n"
     ]
    },
    {
     "name": "stdout",
     "output_type": "stream",
     "text": [
      "train loss:1.8243983866821856\n",
      "train loss:1.68296629251934\n",
      "train loss:1.764732617336203\n",
      "train loss:1.7568722609690346\n"
     ]
    },
    {
     "name": "stderr",
     "output_type": "stream",
     "text": [
      "2018-11-23 15:35:05,099 - src.common.trainer - INFO - ==============================\n",
      "2018-11-23 15:35:05,100 - src.common.trainer - INFO - epoch: 163\n",
      "2018-11-23 15:35:05,100 - src.common.trainer - INFO - train acc: 0.4866666666666667\n",
      "2018-11-23 15:35:05,101 - src.common.trainer - INFO - test acc: 0.394\n"
     ]
    },
    {
     "name": "stdout",
     "output_type": "stream",
     "text": [
      "train loss:1.7334296198129926\n",
      "train loss:1.7338661444728023\n",
      "train loss:1.7462721493967077\n",
      "train loss:1.6781296523670555\n"
     ]
    },
    {
     "name": "stderr",
     "output_type": "stream",
     "text": [
      "2018-11-23 15:35:05,309 - src.common.trainer - INFO - ==============================\n",
      "2018-11-23 15:35:05,310 - src.common.trainer - INFO - epoch: 164\n",
      "2018-11-23 15:35:05,310 - src.common.trainer - INFO - train acc: 0.49\n",
      "2018-11-23 15:35:05,311 - src.common.trainer - INFO - test acc: 0.3967\n",
      "2018-11-23 15:35:05,507 - src.common.trainer - INFO - ==============================\n",
      "2018-11-23 15:35:05,508 - src.common.trainer - INFO - epoch: 165\n",
      "2018-11-23 15:35:05,509 - src.common.trainer - INFO - train acc: 0.49\n",
      "2018-11-23 15:35:05,510 - src.common.trainer - INFO - test acc: 0.3993\n"
     ]
    },
    {
     "name": "stdout",
     "output_type": "stream",
     "text": [
      "train loss:1.7762547038192544\n",
      "train loss:1.8380190889458554\n",
      "train loss:1.7540513775044126\n",
      "train loss:1.6903759818770885\n"
     ]
    },
    {
     "name": "stderr",
     "output_type": "stream",
     "text": [
      "2018-11-23 15:35:05,722 - src.common.trainer - INFO - ==============================\n",
      "2018-11-23 15:35:05,722 - src.common.trainer - INFO - epoch: 166\n",
      "2018-11-23 15:35:05,723 - src.common.trainer - INFO - train acc: 0.49333333333333335\n",
      "2018-11-23 15:35:05,723 - src.common.trainer - INFO - test acc: 0.4014\n"
     ]
    },
    {
     "name": "stdout",
     "output_type": "stream",
     "text": [
      "train loss:1.7062946958446605\n",
      "train loss:1.695352557713604\n"
     ]
    },
    {
     "name": "stderr",
     "output_type": "stream",
     "text": [
      "2018-11-23 15:35:05,920 - src.common.trainer - INFO - ==============================\n",
      "2018-11-23 15:35:05,920 - src.common.trainer - INFO - epoch: 167\n",
      "2018-11-23 15:35:05,921 - src.common.trainer - INFO - train acc: 0.49\n",
      "2018-11-23 15:35:05,921 - src.common.trainer - INFO - test acc: 0.3999\n"
     ]
    },
    {
     "name": "stdout",
     "output_type": "stream",
     "text": [
      "train loss:1.703686676240907\n",
      "train loss:1.6450466243038229\n",
      "train loss:1.8271421272911303\n",
      "train loss:1.7128657342596478\n"
     ]
    },
    {
     "name": "stderr",
     "output_type": "stream",
     "text": [
      "2018-11-23 15:35:06,122 - src.common.trainer - INFO - ==============================\n",
      "2018-11-23 15:35:06,123 - src.common.trainer - INFO - epoch: 168\n",
      "2018-11-23 15:35:06,123 - src.common.trainer - INFO - train acc: 0.4866666666666667\n",
      "2018-11-23 15:35:06,124 - src.common.trainer - INFO - test acc: 0.4008\n"
     ]
    },
    {
     "name": "stdout",
     "output_type": "stream",
     "text": [
      "train loss:1.5842886799948508\n",
      "train loss:1.707175965152622\n",
      "train loss:1.6753977502861728\n",
      "train loss:1.6850188953909222\n"
     ]
    },
    {
     "name": "stderr",
     "output_type": "stream",
     "text": [
      "2018-11-23 15:35:06,331 - src.common.trainer - INFO - ==============================\n",
      "2018-11-23 15:35:06,332 - src.common.trainer - INFO - epoch: 169\n",
      "2018-11-23 15:35:06,333 - src.common.trainer - INFO - train acc: 0.49333333333333335\n",
      "2018-11-23 15:35:06,333 - src.common.trainer - INFO - test acc: 0.3974\n"
     ]
    },
    {
     "name": "stdout",
     "output_type": "stream",
     "text": [
      "train loss:1.7098011000064843\n",
      "train loss:1.651107075391281\n",
      "train loss:1.6410470911287076\n"
     ]
    },
    {
     "name": "stderr",
     "output_type": "stream",
     "text": [
      "2018-11-23 15:35:06,531 - src.common.trainer - INFO - ==============================\n",
      "2018-11-23 15:35:06,532 - src.common.trainer - INFO - epoch: 170\n",
      "2018-11-23 15:35:06,532 - src.common.trainer - INFO - train acc: 0.5\n",
      "2018-11-23 15:35:06,533 - src.common.trainer - INFO - test acc: 0.3989\n"
     ]
    },
    {
     "name": "stdout",
     "output_type": "stream",
     "text": [
      "train loss:1.6735345793612912\n",
      "train loss:1.687796124818871\n",
      "train loss:1.7491461961684482\n"
     ]
    },
    {
     "name": "stderr",
     "output_type": "stream",
     "text": [
      "2018-11-23 15:35:06,743 - src.common.trainer - INFO - ==============================\n",
      "2018-11-23 15:35:06,744 - src.common.trainer - INFO - epoch: 171\n",
      "2018-11-23 15:35:06,745 - src.common.trainer - INFO - train acc: 0.5\n",
      "2018-11-23 15:35:06,745 - src.common.trainer - INFO - test acc: 0.3999\n"
     ]
    },
    {
     "name": "stdout",
     "output_type": "stream",
     "text": [
      "train loss:1.7553467277239705\n",
      "train loss:1.6986156891324082\n",
      "train loss:1.7580729541167943"
     ]
    },
    {
     "name": "stderr",
     "output_type": "stream",
     "text": [
      "2018-11-23 15:35:06,945 - src.common.trainer - INFO - ==============================\n",
      "2018-11-23 15:35:06,946 - src.common.trainer - INFO - epoch: 172\n",
      "2018-11-23 15:35:06,946 - src.common.trainer - INFO - train acc: 0.5033333333333333\n",
      "2018-11-23 15:35:06,947 - src.common.trainer - INFO - test acc: 0.4024\n"
     ]
    },
    {
     "name": "stdout",
     "output_type": "stream",
     "text": [
      "\n",
      "train loss:1.610184662040345\n",
      "train loss:1.7138287304917024\n",
      "train loss:1.775287264437063"
     ]
    },
    {
     "name": "stderr",
     "output_type": "stream",
     "text": [
      "2018-11-23 15:35:07,147 - src.common.trainer - INFO - ==============================\n",
      "2018-11-23 15:35:07,149 - src.common.trainer - INFO - epoch: 173\n",
      "2018-11-23 15:35:07,149 - src.common.trainer - INFO - train acc: 0.49333333333333335\n",
      "2018-11-23 15:35:07,150 - src.common.trainer - INFO - test acc: 0.4007\n"
     ]
    },
    {
     "name": "stdout",
     "output_type": "stream",
     "text": [
      "\n",
      "train loss:1.6045812488255595\n",
      "train loss:1.6944459214020267\n"
     ]
    },
    {
     "name": "stderr",
     "output_type": "stream",
     "text": [
      "2018-11-23 15:35:07,356 - src.common.trainer - INFO - ==============================\n",
      "2018-11-23 15:35:07,357 - src.common.trainer - INFO - epoch: 174\n",
      "2018-11-23 15:35:07,357 - src.common.trainer - INFO - train acc: 0.49666666666666665\n",
      "2018-11-23 15:35:07,358 - src.common.trainer - INFO - test acc: 0.4002\n"
     ]
    },
    {
     "name": "stdout",
     "output_type": "stream",
     "text": [
      "train loss:1.6965787012501037\n",
      "train loss:1.5935455369159408\n",
      "train loss:1.733685242819961\n"
     ]
    },
    {
     "name": "stderr",
     "output_type": "stream",
     "text": [
      "2018-11-23 15:35:07,564 - src.common.trainer - INFO - ==============================\n",
      "2018-11-23 15:35:07,565 - src.common.trainer - INFO - epoch: 175\n",
      "2018-11-23 15:35:07,565 - src.common.trainer - INFO - train acc: 0.49666666666666665\n",
      "2018-11-23 15:35:07,566 - src.common.trainer - INFO - test acc: 0.3992\n"
     ]
    },
    {
     "name": "stdout",
     "output_type": "stream",
     "text": [
      "train loss:1.635914030893865\n",
      "train loss:1.5820656875750974\n",
      "train loss:1.6505983103672424\n"
     ]
    },
    {
     "name": "stderr",
     "output_type": "stream",
     "text": [
      "2018-11-23 15:35:07,773 - src.common.trainer - INFO - ==============================\n",
      "2018-11-23 15:35:07,774 - src.common.trainer - INFO - epoch: 176\n",
      "2018-11-23 15:35:07,774 - src.common.trainer - INFO - train acc: 0.5\n",
      "2018-11-23 15:35:07,775 - src.common.trainer - INFO - test acc: 0.4006\n"
     ]
    },
    {
     "name": "stdout",
     "output_type": "stream",
     "text": [
      "train loss:1.6290843766851355\n",
      "train loss:1.713035162814932\n",
      "train loss:1.5161426968420124\n"
     ]
    },
    {
     "name": "stderr",
     "output_type": "stream",
     "text": [
      "2018-11-23 15:35:07,978 - src.common.trainer - INFO - ==============================\n",
      "2018-11-23 15:35:07,979 - src.common.trainer - INFO - epoch: 177\n",
      "2018-11-23 15:35:07,979 - src.common.trainer - INFO - train acc: 0.49666666666666665\n",
      "2018-11-23 15:35:07,980 - src.common.trainer - INFO - test acc: 0.3999\n"
     ]
    },
    {
     "name": "stdout",
     "output_type": "stream",
     "text": [
      "train loss:1.694051616621839\n",
      "train loss:1.590689951298183\n",
      "train loss:1.580675474287118\n",
      "train loss:1.679507579626801\n"
     ]
    },
    {
     "name": "stderr",
     "output_type": "stream",
     "text": [
      "2018-11-23 15:35:08,180 - src.common.trainer - INFO - ==============================\n",
      "2018-11-23 15:35:08,181 - src.common.trainer - INFO - epoch: 178\n",
      "2018-11-23 15:35:08,182 - src.common.trainer - INFO - train acc: 0.49333333333333335\n",
      "2018-11-23 15:35:08,182 - src.common.trainer - INFO - test acc: 0.4016\n"
     ]
    },
    {
     "name": "stdout",
     "output_type": "stream",
     "text": [
      "train loss:1.5838838651673826\n",
      "train loss:1.5897298215682916\n"
     ]
    },
    {
     "name": "stderr",
     "output_type": "stream",
     "text": [
      "2018-11-23 15:35:08,392 - src.common.trainer - INFO - ==============================\n",
      "2018-11-23 15:35:08,392 - src.common.trainer - INFO - epoch: 179\n",
      "2018-11-23 15:35:08,393 - src.common.trainer - INFO - train acc: 0.49666666666666665\n",
      "2018-11-23 15:35:08,393 - src.common.trainer - INFO - test acc: 0.401\n"
     ]
    },
    {
     "name": "stdout",
     "output_type": "stream",
     "text": [
      "train loss:1.6489675373280892\n",
      "train loss:1.6994218868120248\n",
      "train loss:1.6180020804258695\n"
     ]
    },
    {
     "name": "stderr",
     "output_type": "stream",
     "text": [
      "2018-11-23 15:35:08,590 - src.common.trainer - INFO - ==============================\n",
      "2018-11-23 15:35:08,590 - src.common.trainer - INFO - epoch: 180\n",
      "2018-11-23 15:35:08,591 - src.common.trainer - INFO - train acc: 0.5033333333333333\n",
      "2018-11-23 15:35:08,591 - src.common.trainer - INFO - test acc: 0.4034\n"
     ]
    },
    {
     "name": "stdout",
     "output_type": "stream",
     "text": [
      "train loss:1.697611525772962\n",
      "train loss:1.6931581120203825\n",
      "train loss:1.658331243677302\n",
      "train loss:1.5653986614032962\n"
     ]
    },
    {
     "name": "stderr",
     "output_type": "stream",
     "text": [
      "2018-11-23 15:35:08,794 - src.common.trainer - INFO - ==============================\n",
      "2018-11-23 15:35:08,795 - src.common.trainer - INFO - epoch: 181\n",
      "2018-11-23 15:35:08,795 - src.common.trainer - INFO - train acc: 0.5033333333333333\n",
      "2018-11-23 15:35:08,796 - src.common.trainer - INFO - test acc: 0.4042\n"
     ]
    },
    {
     "name": "stdout",
     "output_type": "stream",
     "text": [
      "train loss:1.5229854422804836\n",
      "train loss:1.6075184721458309\n",
      "train loss:1.5279210682268067\n"
     ]
    },
    {
     "name": "stderr",
     "output_type": "stream",
     "text": [
      "2018-11-23 15:35:09,015 - src.common.trainer - INFO - ==============================\n",
      "2018-11-23 15:35:09,015 - src.common.trainer - INFO - epoch: 182\n",
      "2018-11-23 15:35:09,016 - src.common.trainer - INFO - train acc: 0.5066666666666667\n",
      "2018-11-23 15:35:09,016 - src.common.trainer - INFO - test acc: 0.4055\n"
     ]
    },
    {
     "name": "stdout",
     "output_type": "stream",
     "text": [
      "train loss:1.7063158222794377\n",
      "train loss:1.4871990891978561\n"
     ]
    },
    {
     "name": "stderr",
     "output_type": "stream",
     "text": [
      "2018-11-23 15:35:09,227 - src.common.trainer - INFO - ==============================\n",
      "2018-11-23 15:35:09,228 - src.common.trainer - INFO - epoch: 183\n",
      "2018-11-23 15:35:09,230 - src.common.trainer - INFO - train acc: 0.5\n",
      "2018-11-23 15:35:09,231 - src.common.trainer - INFO - test acc: 0.4022\n"
     ]
    },
    {
     "name": "stdout",
     "output_type": "stream",
     "text": [
      "train loss:1.6010540907412312\n",
      "train loss:1.5863349758145828\n"
     ]
    },
    {
     "name": "stderr",
     "output_type": "stream",
     "text": [
      "2018-11-23 15:35:09,449 - src.common.trainer - INFO - ==============================\n",
      "2018-11-23 15:35:09,450 - src.common.trainer - INFO - epoch: 184\n",
      "2018-11-23 15:35:09,450 - src.common.trainer - INFO - train acc: 0.5033333333333333\n",
      "2018-11-23 15:35:09,451 - src.common.trainer - INFO - test acc: 0.4044\n"
     ]
    },
    {
     "name": "stdout",
     "output_type": "stream",
     "text": [
      "train loss:1.7173413925375434\n",
      "train loss:1.7256907154369745\n",
      "train loss:1.6760478568458035\n"
     ]
    },
    {
     "name": "stderr",
     "output_type": "stream",
     "text": [
      "2018-11-23 15:35:09,673 - src.common.trainer - INFO - ==============================\n",
      "2018-11-23 15:35:09,674 - src.common.trainer - INFO - epoch: 185\n",
      "2018-11-23 15:35:09,674 - src.common.trainer - INFO - train acc: 0.51\n"
     ]
    },
    {
     "name": "stdout",
     "output_type": "stream",
     "text": [
      "train loss:1.6275700479956183\n",
      "train loss:1.5916101924238781\n",
      "train loss:1.6192616115768999\n"
     ]
    },
    {
     "name": "stderr",
     "output_type": "stream",
     "text": [
      "2018-11-23 15:35:09,675 - src.common.trainer - INFO - test acc: 0.4079\n",
      "2018-11-23 15:35:09,897 - src.common.trainer - INFO - ==============================\n",
      "2018-11-23 15:35:09,898 - src.common.trainer - INFO - epoch: 186\n",
      "2018-11-23 15:35:09,899 - src.common.trainer - INFO - train acc: 0.5033333333333333\n"
     ]
    },
    {
     "name": "stdout",
     "output_type": "stream",
     "text": [
      "train loss:1.5872477979244912\n",
      "train loss:1.5945417066420944\n",
      "train loss:1.7192318401725697\n"
     ]
    },
    {
     "name": "stderr",
     "output_type": "stream",
     "text": [
      "2018-11-23 15:35:09,899 - src.common.trainer - INFO - test acc: 0.4061\n",
      "2018-11-23 15:35:10,118 - src.common.trainer - INFO - ==============================\n",
      "2018-11-23 15:35:10,119 - src.common.trainer - INFO - epoch: 187\n",
      "2018-11-23 15:35:10,120 - src.common.trainer - INFO - train acc: 0.5066666666666667\n",
      "2018-11-23 15:35:10,120 - src.common.trainer - INFO - test acc: 0.4072\n"
     ]
    },
    {
     "name": "stdout",
     "output_type": "stream",
     "text": [
      "train loss:1.5337918462868512\n",
      "train loss:1.4949284972552002\n",
      "train loss:1.5831994599812176\n"
     ]
    },
    {
     "name": "stderr",
     "output_type": "stream",
     "text": [
      "2018-11-23 15:35:10,312 - src.common.trainer - INFO - ==============================\n",
      "2018-11-23 15:35:10,313 - src.common.trainer - INFO - epoch: 188\n",
      "2018-11-23 15:35:10,314 - src.common.trainer - INFO - train acc: 0.5066666666666667\n",
      "2018-11-23 15:35:10,314 - src.common.trainer - INFO - test acc: 0.409\n"
     ]
    },
    {
     "name": "stdout",
     "output_type": "stream",
     "text": [
      "train loss:1.4997194155844418\n",
      "train loss:1.5588819804276062\n",
      "train loss:1.516373183762721\n",
      "train loss:1.5509928827178157\n"
     ]
    },
    {
     "name": "stderr",
     "output_type": "stream",
     "text": [
      "2018-11-23 15:35:10,527 - src.common.trainer - INFO - ==============================\n",
      "2018-11-23 15:35:10,527 - src.common.trainer - INFO - epoch: 189\n",
      "2018-11-23 15:35:10,528 - src.common.trainer - INFO - train acc: 0.5066666666666667\n",
      "2018-11-23 15:35:10,529 - src.common.trainer - INFO - test acc: 0.408\n"
     ]
    },
    {
     "name": "stdout",
     "output_type": "stream",
     "text": [
      "train loss:1.6936926659900524\n",
      "train loss:1.512948255614873\n",
      "train loss:1.6245090068346466\n"
     ]
    },
    {
     "name": "stderr",
     "output_type": "stream",
     "text": [
      "2018-11-23 15:35:10,726 - src.common.trainer - INFO - ==============================\n",
      "2018-11-23 15:35:10,726 - src.common.trainer - INFO - epoch: 190\n",
      "2018-11-23 15:35:10,727 - src.common.trainer - INFO - train acc: 0.5033333333333333\n",
      "2018-11-23 15:35:10,727 - src.common.trainer - INFO - test acc: 0.4083\n"
     ]
    },
    {
     "name": "stdout",
     "output_type": "stream",
     "text": [
      "train loss:1.6680614271196932\n",
      "train loss:1.5843549022257468\n",
      "train loss:1.6033935204190208\n",
      "train loss:1.569058795156851\n"
     ]
    },
    {
     "name": "stderr",
     "output_type": "stream",
     "text": [
      "2018-11-23 15:35:10,930 - src.common.trainer - INFO - ==============================\n",
      "2018-11-23 15:35:10,931 - src.common.trainer - INFO - epoch: 191\n",
      "2018-11-23 15:35:10,931 - src.common.trainer - INFO - train acc: 0.5066666666666667\n",
      "2018-11-23 15:35:10,932 - src.common.trainer - INFO - test acc: 0.4079\n"
     ]
    },
    {
     "name": "stdout",
     "output_type": "stream",
     "text": [
      "train loss:1.741967573796978\n",
      "train loss:1.5522519070142575\n",
      "train loss:1.5328415171141325\n"
     ]
    },
    {
     "name": "stderr",
     "output_type": "stream",
     "text": [
      "2018-11-23 15:35:11,145 - src.common.trainer - INFO - ==============================\n",
      "2018-11-23 15:35:11,146 - src.common.trainer - INFO - epoch: 192\n",
      "2018-11-23 15:35:11,146 - src.common.trainer - INFO - train acc: 0.5\n",
      "2018-11-23 15:35:11,147 - src.common.trainer - INFO - test acc: 0.4091\n"
     ]
    },
    {
     "name": "stdout",
     "output_type": "stream",
     "text": [
      "train loss:1.6022098172601136\n",
      "train loss:1.4935919359186267\n"
     ]
    },
    {
     "name": "stderr",
     "output_type": "stream",
     "text": [
      "2018-11-23 15:35:11,350 - src.common.trainer - INFO - ==============================\n",
      "2018-11-23 15:35:11,351 - src.common.trainer - INFO - epoch: 193\n",
      "2018-11-23 15:35:11,351 - src.common.trainer - INFO - train acc: 0.49666666666666665\n",
      "2018-11-23 15:35:11,352 - src.common.trainer - INFO - test acc: 0.4093\n"
     ]
    },
    {
     "name": "stdout",
     "output_type": "stream",
     "text": [
      "train loss:1.5701586236417557\n",
      "train loss:1.5714991216166467\n",
      "train loss:1.543086705107293\n"
     ]
    },
    {
     "name": "stderr",
     "output_type": "stream",
     "text": [
      "2018-11-23 15:35:11,573 - src.common.trainer - INFO - ==============================\n",
      "2018-11-23 15:35:11,574 - src.common.trainer - INFO - epoch: 194\n",
      "2018-11-23 15:35:11,574 - src.common.trainer - INFO - train acc: 0.49666666666666665\n",
      "2018-11-23 15:35:11,575 - src.common.trainer - INFO - test acc: 0.4074\n"
     ]
    },
    {
     "name": "stdout",
     "output_type": "stream",
     "text": [
      "train loss:1.5414950600581856\n",
      "train loss:1.5606418659946812\n"
     ]
    },
    {
     "name": "stderr",
     "output_type": "stream",
     "text": [
      "2018-11-23 15:35:11,776 - src.common.trainer - INFO - ==============================\n",
      "2018-11-23 15:35:11,776 - src.common.trainer - INFO - epoch: 195\n",
      "2018-11-23 15:35:11,777 - src.common.trainer - INFO - train acc: 0.5\n",
      "2018-11-23 15:35:11,777 - src.common.trainer - INFO - test acc: 0.4104\n"
     ]
    },
    {
     "name": "stdout",
     "output_type": "stream",
     "text": [
      "train loss:1.4838660261976935\n",
      "train loss:1.503869571903291\n",
      "train loss:1.7171728710483234\n",
      "train loss:1.5145797308968154\n"
     ]
    },
    {
     "name": "stderr",
     "output_type": "stream",
     "text": [
      "2018-11-23 15:35:11,971 - src.common.trainer - INFO - ==============================\n",
      "2018-11-23 15:35:11,972 - src.common.trainer - INFO - epoch: 196\n",
      "2018-11-23 15:35:11,973 - src.common.trainer - INFO - train acc: 0.5066666666666667\n",
      "2018-11-23 15:35:11,973 - src.common.trainer - INFO - test acc: 0.4116\n"
     ]
    },
    {
     "name": "stdout",
     "output_type": "stream",
     "text": [
      "train loss:1.6126649747739847\n",
      "train loss:1.6135012072699961\n",
      "train loss:1.581336962751842\n",
      "train loss:1.5080381695631144\n"
     ]
    },
    {
     "name": "stderr",
     "output_type": "stream",
     "text": [
      "2018-11-23 15:35:12,189 - src.common.trainer - INFO - ==============================\n",
      "2018-11-23 15:35:12,190 - src.common.trainer - INFO - epoch: 197\n",
      "2018-11-23 15:35:12,190 - src.common.trainer - INFO - train acc: 0.5033333333333333\n",
      "2018-11-23 15:35:12,191 - src.common.trainer - INFO - test acc: 0.4128\n"
     ]
    },
    {
     "name": "stdout",
     "output_type": "stream",
     "text": [
      "train loss:1.548682956090174\n",
      "train loss:1.5380174028555844\n",
      "train loss:1.538395056837801\n",
      "train loss:1.451724225400727\n"
     ]
    },
    {
     "name": "stderr",
     "output_type": "stream",
     "text": [
      "2018-11-23 15:35:12,427 - src.common.trainer - INFO - ==============================\n",
      "2018-11-23 15:35:12,429 - src.common.trainer - INFO - epoch: 198\n",
      "2018-11-23 15:35:12,429 - src.common.trainer - INFO - train acc: 0.5033333333333333\n",
      "2018-11-23 15:35:12,430 - src.common.trainer - INFO - test acc: 0.415\n",
      "2018-11-23 15:35:12,641 - src.common.trainer - INFO - ==============================\n",
      "2018-11-23 15:35:12,641 - src.common.trainer - INFO - epoch: 199\n",
      "2018-11-23 15:35:12,642 - src.common.trainer - INFO - train acc: 0.5033333333333333\n",
      "2018-11-23 15:35:12,644 - src.common.trainer - INFO - test acc: 0.4144\n"
     ]
    },
    {
     "name": "stdout",
     "output_type": "stream",
     "text": [
      "train loss:1.526929581204719\n",
      "train loss:1.5498847613482383\n",
      "train loss:1.4783522311929047\n"
     ]
    },
    {
     "name": "stderr",
     "output_type": "stream",
     "text": [
      "2018-11-23 15:35:12,846 - src.common.trainer - INFO - ==============================\n",
      "2018-11-23 15:35:12,847 - src.common.trainer - INFO - epoch: 200\n",
      "2018-11-23 15:35:12,847 - src.common.trainer - INFO - train acc: 0.5033333333333333\n",
      "2018-11-23 15:35:12,848 - src.common.trainer - INFO - test acc: 0.4142\n"
     ]
    },
    {
     "name": "stdout",
     "output_type": "stream",
     "text": [
      "train loss:1.4654137828880303\n",
      "train loss:1.4140141593064401\n",
      "train loss:1.5329982863218163\n"
     ]
    },
    {
     "name": "stderr",
     "output_type": "stream",
     "text": [
      "2018-11-23 15:35:13,067 - src.common.trainer - INFO - ==============================\n",
      "2018-11-23 15:35:13,069 - src.common.trainer - INFO - epoch: 201\n",
      "2018-11-23 15:35:13,070 - src.common.trainer - INFO - train acc: 0.5\n",
      "2018-11-23 15:35:13,071 - src.common.trainer - INFO - test acc: 0.4127\n"
     ]
    },
    {
     "name": "stdout",
     "output_type": "stream",
     "text": [
      "train loss:1.3730505021257486\n",
      "train loss:1.4607150817432342\n",
      "train loss:1.483316941133294\n"
     ]
    },
    {
     "name": "stderr",
     "output_type": "stream",
     "text": [
      "2018-11-23 15:35:13,270 - src.common.trainer - INFO - ==============================\n",
      "2018-11-23 15:35:13,270 - src.common.trainer - INFO - epoch: 202\n",
      "2018-11-23 15:35:13,271 - src.common.trainer - INFO - train acc: 0.5033333333333333\n",
      "2018-11-23 15:35:13,271 - src.common.trainer - INFO - test acc: 0.4141\n"
     ]
    },
    {
     "name": "stdout",
     "output_type": "stream",
     "text": [
      "train loss:1.2728856504557255\n",
      "train loss:1.5353370715078132\n",
      "train loss:1.469127147554631\n",
      "train loss:1.4370646421546047\n"
     ]
    },
    {
     "name": "stderr",
     "output_type": "stream",
     "text": [
      "2018-11-23 15:35:13,474 - src.common.trainer - INFO - ==============================\n",
      "2018-11-23 15:35:13,475 - src.common.trainer - INFO - epoch: 203\n",
      "2018-11-23 15:35:13,475 - src.common.trainer - INFO - train acc: 0.5066666666666667\n",
      "2018-11-23 15:35:13,476 - src.common.trainer - INFO - test acc: 0.4157\n"
     ]
    },
    {
     "name": "stdout",
     "output_type": "stream",
     "text": [
      "train loss:1.4570055799592243\n",
      "train loss:1.570484866780843\n",
      "train loss:1.5804657541431135\n"
     ]
    },
    {
     "name": "stderr",
     "output_type": "stream",
     "text": [
      "2018-11-23 15:35:13,692 - src.common.trainer - INFO - ==============================\n",
      "2018-11-23 15:35:13,692 - src.common.trainer - INFO - epoch: 204\n",
      "2018-11-23 15:35:13,693 - src.common.trainer - INFO - train acc: 0.51\n",
      "2018-11-23 15:35:13,693 - src.common.trainer - INFO - test acc: 0.4163\n"
     ]
    },
    {
     "name": "stdout",
     "output_type": "stream",
     "text": [
      "train loss:1.4586497500105038\n",
      "train loss:1.3863658298945507\n"
     ]
    },
    {
     "name": "stderr",
     "output_type": "stream",
     "text": [
      "2018-11-23 15:35:13,914 - src.common.trainer - INFO - ==============================\n",
      "2018-11-23 15:35:13,915 - src.common.trainer - INFO - epoch: 205\n",
      "2018-11-23 15:35:13,916 - src.common.trainer - INFO - train acc: 0.51\n",
      "2018-11-23 15:35:13,917 - src.common.trainer - INFO - test acc: 0.4152\n"
     ]
    },
    {
     "name": "stdout",
     "output_type": "stream",
     "text": [
      "train loss:1.598287913543341\n",
      "train loss:1.54319436011884\n",
      "train loss:1.5085168715745545\n"
     ]
    },
    {
     "name": "stderr",
     "output_type": "stream",
     "text": [
      "2018-11-23 15:35:14,115 - src.common.trainer - INFO - ==============================\n",
      "2018-11-23 15:35:14,116 - src.common.trainer - INFO - epoch: 206\n",
      "2018-11-23 15:35:14,117 - src.common.trainer - INFO - train acc: 0.51\n",
      "2018-11-23 15:35:14,117 - src.common.trainer - INFO - test acc: 0.4163\n"
     ]
    },
    {
     "name": "stdout",
     "output_type": "stream",
     "text": [
      "train loss:1.4606076637470518\n",
      "train loss:1.448161787303394\n",
      "train loss:1.553342267424481\n",
      "train loss:1.5350902720778052"
     ]
    },
    {
     "name": "stderr",
     "output_type": "stream",
     "text": [
      "2018-11-23 15:35:14,324 - src.common.trainer - INFO - ==============================\n",
      "2018-11-23 15:35:14,325 - src.common.trainer - INFO - epoch: 207\n",
      "2018-11-23 15:35:14,326 - src.common.trainer - INFO - train acc: 0.52\n",
      "2018-11-23 15:35:14,327 - src.common.trainer - INFO - test acc: 0.4178\n"
     ]
    },
    {
     "name": "stdout",
     "output_type": "stream",
     "text": [
      "\n",
      "train loss:1.3945943248835109\n",
      "train loss:1.5572820461577053\n"
     ]
    },
    {
     "name": "stderr",
     "output_type": "stream",
     "text": [
      "2018-11-23 15:35:14,543 - src.common.trainer - INFO - ==============================\n",
      "2018-11-23 15:35:14,544 - src.common.trainer - INFO - epoch: 208\n",
      "2018-11-23 15:35:14,544 - src.common.trainer - INFO - train acc: 0.52\n",
      "2018-11-23 15:35:14,545 - src.common.trainer - INFO - test acc: 0.422\n"
     ]
    },
    {
     "name": "stdout",
     "output_type": "stream",
     "text": [
      "train loss:1.5576827571936662\n",
      "train loss:1.5035081290095318\n",
      "train loss:1.5318661792365618\n"
     ]
    },
    {
     "name": "stderr",
     "output_type": "stream",
     "text": [
      "2018-11-23 15:35:14,746 - src.common.trainer - INFO - ==============================\n",
      "2018-11-23 15:35:14,747 - src.common.trainer - INFO - epoch: 209\n",
      "2018-11-23 15:35:14,747 - src.common.trainer - INFO - train acc: 0.5166666666666667\n",
      "2018-11-23 15:35:14,748 - src.common.trainer - INFO - test acc: 0.4245\n"
     ]
    },
    {
     "name": "stdout",
     "output_type": "stream",
     "text": [
      "train loss:1.4666636663878356\n",
      "train loss:1.4911609398159291\n",
      "train loss:1.4707238932959836\n",
      "train loss:1.5891736213318541\n"
     ]
    },
    {
     "name": "stderr",
     "output_type": "stream",
     "text": [
      "2018-11-23 15:35:14,947 - src.common.trainer - INFO - ==============================\n",
      "2018-11-23 15:35:14,948 - src.common.trainer - INFO - epoch: 210\n",
      "2018-11-23 15:35:14,949 - src.common.trainer - INFO - train acc: 0.5266666666666666\n",
      "2018-11-23 15:35:14,949 - src.common.trainer - INFO - test acc: 0.4282\n"
     ]
    },
    {
     "name": "stdout",
     "output_type": "stream",
     "text": [
      "train loss:1.5792899028681862\n",
      "train loss:1.533029670438026\n",
      "train loss:1.4398550586556302\n",
      "train loss:1.4555085967782306\n"
     ]
    },
    {
     "name": "stderr",
     "output_type": "stream",
     "text": [
      "2018-11-23 15:35:15,147 - src.common.trainer - INFO - ==============================\n",
      "2018-11-23 15:35:15,148 - src.common.trainer - INFO - epoch: 211\n",
      "2018-11-23 15:35:15,148 - src.common.trainer - INFO - train acc: 0.5233333333333333\n",
      "2018-11-23 15:35:15,149 - src.common.trainer - INFO - test acc: 0.4292\n"
     ]
    },
    {
     "name": "stdout",
     "output_type": "stream",
     "text": [
      "train loss:1.3832110127084027\n",
      "train loss:1.3579498419957097\n",
      "train loss:1.6111017427058292\n",
      "train loss:1.5235475443508948\n"
     ]
    },
    {
     "name": "stderr",
     "output_type": "stream",
     "text": [
      "2018-11-23 15:35:15,362 - src.common.trainer - INFO - ==============================\n",
      "2018-11-23 15:35:15,362 - src.common.trainer - INFO - epoch: 212\n",
      "2018-11-23 15:35:15,363 - src.common.trainer - INFO - train acc: 0.5233333333333333\n",
      "2018-11-23 15:35:15,363 - src.common.trainer - INFO - test acc: 0.4262\n",
      "2018-11-23 15:35:15,559 - src.common.trainer - INFO - ==============================\n",
      "2018-11-23 15:35:15,560 - src.common.trainer - INFO - epoch: 213\n",
      "2018-11-23 15:35:15,560 - src.common.trainer - INFO - train acc: 0.5233333333333333\n",
      "2018-11-23 15:35:15,561 - src.common.trainer - INFO - test acc: 0.4297\n"
     ]
    },
    {
     "name": "stdout",
     "output_type": "stream",
     "text": [
      "train loss:1.5165357894945573\n",
      "train loss:1.5495042608629155\n",
      "train loss:1.4058991338298006\n",
      "train loss:1.4013118674885157\n"
     ]
    },
    {
     "name": "stderr",
     "output_type": "stream",
     "text": [
      "2018-11-23 15:35:15,767 - src.common.trainer - INFO - ==============================\n",
      "2018-11-23 15:35:15,768 - src.common.trainer - INFO - epoch: 214\n",
      "2018-11-23 15:35:15,768 - src.common.trainer - INFO - train acc: 0.5233333333333333\n",
      "2018-11-23 15:35:15,769 - src.common.trainer - INFO - test acc: 0.4291\n"
     ]
    },
    {
     "name": "stdout",
     "output_type": "stream",
     "text": [
      "train loss:1.4793253185030213\n",
      "train loss:1.4284876594945086\n",
      "train loss:1.3626159399402837\n"
     ]
    },
    {
     "name": "stderr",
     "output_type": "stream",
     "text": [
      "2018-11-23 15:35:15,963 - src.common.trainer - INFO - ==============================\n",
      "2018-11-23 15:35:15,964 - src.common.trainer - INFO - epoch: 215\n",
      "2018-11-23 15:35:15,965 - src.common.trainer - INFO - train acc: 0.5266666666666666\n",
      "2018-11-23 15:35:15,965 - src.common.trainer - INFO - test acc: 0.4328\n"
     ]
    },
    {
     "name": "stdout",
     "output_type": "stream",
     "text": [
      "train loss:1.5939650326981947\n",
      "train loss:1.3688075131652997\n",
      "train loss:1.3135132665395504\n",
      "train loss:1.4481520044078895\n"
     ]
    },
    {
     "name": "stderr",
     "output_type": "stream",
     "text": [
      "2018-11-23 15:35:16,172 - src.common.trainer - INFO - ==============================\n",
      "2018-11-23 15:35:16,173 - src.common.trainer - INFO - epoch: 216\n",
      "2018-11-23 15:35:16,173 - src.common.trainer - INFO - train acc: 0.5233333333333333\n",
      "2018-11-23 15:35:16,174 - src.common.trainer - INFO - test acc: 0.4311\n"
     ]
    },
    {
     "name": "stdout",
     "output_type": "stream",
     "text": [
      "train loss:1.5012377012220945\n",
      "train loss:1.4542887156275575\n",
      "train loss:1.4108000097830058\n"
     ]
    },
    {
     "name": "stderr",
     "output_type": "stream",
     "text": [
      "2018-11-23 15:35:16,384 - src.common.trainer - INFO - ==============================\n",
      "2018-11-23 15:35:16,385 - src.common.trainer - INFO - epoch: 217\n",
      "2018-11-23 15:35:16,386 - src.common.trainer - INFO - train acc: 0.53\n",
      "2018-11-23 15:35:16,386 - src.common.trainer - INFO - test acc: 0.4322\n"
     ]
    },
    {
     "name": "stdout",
     "output_type": "stream",
     "text": [
      "train loss:1.3254494932939138\n",
      "train loss:1.353090747328687\n",
      "train loss:1.274362950674525\n"
     ]
    },
    {
     "name": "stderr",
     "output_type": "stream",
     "text": [
      "2018-11-23 15:35:16,597 - src.common.trainer - INFO - ==============================\n",
      "2018-11-23 15:35:16,598 - src.common.trainer - INFO - epoch: 218\n",
      "2018-11-23 15:35:16,598 - src.common.trainer - INFO - train acc: 0.5233333333333333\n",
      "2018-11-23 15:35:16,599 - src.common.trainer - INFO - test acc: 0.4339\n"
     ]
    },
    {
     "name": "stdout",
     "output_type": "stream",
     "text": [
      "train loss:1.319134867567874\n",
      "train loss:1.2883044918371056\n",
      "train loss:1.4424867378042707\n"
     ]
    },
    {
     "name": "stderr",
     "output_type": "stream",
     "text": [
      "2018-11-23 15:35:16,809 - src.common.trainer - INFO - ==============================\n",
      "2018-11-23 15:35:16,810 - src.common.trainer - INFO - epoch: 219\n",
      "2018-11-23 15:35:16,810 - src.common.trainer - INFO - train acc: 0.53\n",
      "2018-11-23 15:35:16,811 - src.common.trainer - INFO - test acc: 0.435\n"
     ]
    },
    {
     "name": "stdout",
     "output_type": "stream",
     "text": [
      "train loss:1.4076599956276712\n",
      "train loss:1.35569789726561\n",
      "train loss:1.4062852000173154\n"
     ]
    },
    {
     "name": "stderr",
     "output_type": "stream",
     "text": [
      "2018-11-23 15:35:17,015 - src.common.trainer - INFO - ==============================\n",
      "2018-11-23 15:35:17,016 - src.common.trainer - INFO - epoch: 220\n",
      "2018-11-23 15:35:17,016 - src.common.trainer - INFO - train acc: 0.5366666666666666\n",
      "2018-11-23 15:35:17,017 - src.common.trainer - INFO - test acc: 0.4362\n"
     ]
    },
    {
     "name": "stdout",
     "output_type": "stream",
     "text": [
      "train loss:1.438840663264689\n",
      "train loss:1.378453058029649\n",
      "train loss:1.3931672937084252\n"
     ]
    },
    {
     "name": "stderr",
     "output_type": "stream",
     "text": [
      "2018-11-23 15:35:17,226 - src.common.trainer - INFO - ==============================\n",
      "2018-11-23 15:35:17,227 - src.common.trainer - INFO - epoch: 221\n",
      "2018-11-23 15:35:17,228 - src.common.trainer - INFO - train acc: 0.5266666666666666\n",
      "2018-11-23 15:35:17,229 - src.common.trainer - INFO - test acc: 0.4349\n"
     ]
    },
    {
     "name": "stdout",
     "output_type": "stream",
     "text": [
      "train loss:1.397584484195912\n",
      "train loss:1.404755357072448\n",
      "train loss:1.3718628277227014\n"
     ]
    },
    {
     "name": "stderr",
     "output_type": "stream",
     "text": [
      "2018-11-23 15:35:17,438 - src.common.trainer - INFO - ==============================\n",
      "2018-11-23 15:35:17,439 - src.common.trainer - INFO - epoch: 222\n",
      "2018-11-23 15:35:17,440 - src.common.trainer - INFO - train acc: 0.5266666666666666\n",
      "2018-11-23 15:35:17,440 - src.common.trainer - INFO - test acc: 0.437\n"
     ]
    },
    {
     "name": "stdout",
     "output_type": "stream",
     "text": [
      "train loss:1.413482908464158\n",
      "train loss:1.2498962372856601\n",
      "train loss:1.4245941732144696\n"
     ]
    },
    {
     "name": "stderr",
     "output_type": "stream",
     "text": [
      "2018-11-23 15:35:17,657 - src.common.trainer - INFO - ==============================\n",
      "2018-11-23 15:35:17,657 - src.common.trainer - INFO - epoch: 223\n",
      "2018-11-23 15:35:17,658 - src.common.trainer - INFO - train acc: 0.5333333333333333\n",
      "2018-11-23 15:35:17,658 - src.common.trainer - INFO - test acc: 0.4385\n"
     ]
    },
    {
     "name": "stdout",
     "output_type": "stream",
     "text": [
      "train loss:1.3594198810853837\n",
      "train loss:1.2995761013619016\n",
      "train loss:1.4014798081625441\n"
     ]
    },
    {
     "name": "stderr",
     "output_type": "stream",
     "text": [
      "2018-11-23 15:35:17,886 - src.common.trainer - INFO - ==============================\n",
      "2018-11-23 15:35:17,886 - src.common.trainer - INFO - epoch: 224\n",
      "2018-11-23 15:35:17,888 - src.common.trainer - INFO - train acc: 0.5366666666666666\n",
      "2018-11-23 15:35:17,889 - src.common.trainer - INFO - test acc: 0.4406\n"
     ]
    },
    {
     "name": "stdout",
     "output_type": "stream",
     "text": [
      "train loss:1.4375836386061445\n",
      "train loss:1.4001830194019982\n"
     ]
    },
    {
     "name": "stderr",
     "output_type": "stream",
     "text": [
      "2018-11-23 15:35:18,086 - src.common.trainer - INFO - ==============================\n",
      "2018-11-23 15:35:18,086 - src.common.trainer - INFO - epoch: 225\n",
      "2018-11-23 15:35:18,087 - src.common.trainer - INFO - train acc: 0.54\n",
      "2018-11-23 15:35:18,088 - src.common.trainer - INFO - test acc: 0.4432\n"
     ]
    },
    {
     "name": "stdout",
     "output_type": "stream",
     "text": [
      "train loss:1.373858305226073\n",
      "train loss:1.4387343805682036\n",
      "train loss:1.4330563660597022\n",
      "train loss:1.4419133023109154\n"
     ]
    },
    {
     "name": "stderr",
     "output_type": "stream",
     "text": [
      "2018-11-23 15:35:18,299 - src.common.trainer - INFO - ==============================\n",
      "2018-11-23 15:35:18,300 - src.common.trainer - INFO - epoch: 226\n",
      "2018-11-23 15:35:18,300 - src.common.trainer - INFO - train acc: 0.5433333333333333\n",
      "2018-11-23 15:35:18,301 - src.common.trainer - INFO - test acc: 0.4424\n"
     ]
    },
    {
     "name": "stdout",
     "output_type": "stream",
     "text": [
      "train loss:1.355949584139176\n",
      "train loss:1.2642515726235362\n",
      "train loss:1.3426283703295763\n"
     ]
    },
    {
     "name": "stderr",
     "output_type": "stream",
     "text": [
      "2018-11-23 15:35:18,518 - src.common.trainer - INFO - ==============================\n",
      "2018-11-23 15:35:18,519 - src.common.trainer - INFO - epoch: 227\n",
      "2018-11-23 15:35:18,520 - src.common.trainer - INFO - train acc: 0.5366666666666666\n",
      "2018-11-23 15:35:18,520 - src.common.trainer - INFO - test acc: 0.4397\n"
     ]
    },
    {
     "name": "stdout",
     "output_type": "stream",
     "text": [
      "train loss:1.35043292675073\n",
      "train loss:1.362538933107413\n"
     ]
    },
    {
     "name": "stderr",
     "output_type": "stream",
     "text": [
      "2018-11-23 15:35:18,733 - src.common.trainer - INFO - ==============================\n",
      "2018-11-23 15:35:18,733 - src.common.trainer - INFO - epoch: 228\n",
      "2018-11-23 15:35:18,734 - src.common.trainer - INFO - train acc: 0.54\n",
      "2018-11-23 15:35:18,735 - src.common.trainer - INFO - test acc: 0.4434\n"
     ]
    },
    {
     "name": "stdout",
     "output_type": "stream",
     "text": [
      "train loss:1.3885624640123964\n",
      "train loss:1.4342198893188316\n",
      "train loss:1.320671193711048\n"
     ]
    },
    {
     "name": "stderr",
     "output_type": "stream",
     "text": [
      "2018-11-23 15:35:18,935 - src.common.trainer - INFO - ==============================\n",
      "2018-11-23 15:35:18,936 - src.common.trainer - INFO - epoch: 229\n",
      "2018-11-23 15:35:18,936 - src.common.trainer - INFO - train acc: 0.54\n",
      "2018-11-23 15:35:18,937 - src.common.trainer - INFO - test acc: 0.4463\n"
     ]
    },
    {
     "name": "stdout",
     "output_type": "stream",
     "text": [
      "train loss:1.2841139053320165\n",
      "train loss:1.354311977740972\n",
      "train loss:1.3328819734786945\n"
     ]
    },
    {
     "name": "stderr",
     "output_type": "stream",
     "text": [
      "2018-11-23 15:35:19,141 - src.common.trainer - INFO - ==============================\n",
      "2018-11-23 15:35:19,142 - src.common.trainer - INFO - epoch: 230\n",
      "2018-11-23 15:35:19,142 - src.common.trainer - INFO - train acc: 0.5433333333333333\n",
      "2018-11-23 15:35:19,143 - src.common.trainer - INFO - test acc: 0.4475\n"
     ]
    },
    {
     "name": "stdout",
     "output_type": "stream",
     "text": [
      "train loss:1.3539463175687658\n",
      "train loss:1.37900558488472\n",
      "train loss:1.4076206489938228\n"
     ]
    },
    {
     "name": "stderr",
     "output_type": "stream",
     "text": [
      "2018-11-23 15:35:19,355 - src.common.trainer - INFO - ==============================\n",
      "2018-11-23 15:35:19,356 - src.common.trainer - INFO - epoch: 231\n",
      "2018-11-23 15:35:19,356 - src.common.trainer - INFO - train acc: 0.54\n",
      "2018-11-23 15:35:19,357 - src.common.trainer - INFO - test acc: 0.4474\n"
     ]
    },
    {
     "name": "stdout",
     "output_type": "stream",
     "text": [
      "train loss:1.2578341221267506\n",
      "train loss:1.2427784495663226\n"
     ]
    },
    {
     "name": "stderr",
     "output_type": "stream",
     "text": [
      "2018-11-23 15:35:19,570 - src.common.trainer - INFO - ==============================\n",
      "2018-11-23 15:35:19,570 - src.common.trainer - INFO - epoch: 232\n",
      "2018-11-23 15:35:19,571 - src.common.trainer - INFO - train acc: 0.5433333333333333\n",
      "2018-11-23 15:35:19,572 - src.common.trainer - INFO - test acc: 0.4533\n"
     ]
    },
    {
     "name": "stdout",
     "output_type": "stream",
     "text": [
      "train loss:1.417089209956143\n",
      "train loss:1.4328162442691996\n",
      "train loss:1.3261257737768835\n"
     ]
    },
    {
     "name": "stderr",
     "output_type": "stream",
     "text": [
      "2018-11-23 15:35:19,776 - src.common.trainer - INFO - ==============================\n",
      "2018-11-23 15:35:19,777 - src.common.trainer - INFO - epoch: 233\n",
      "2018-11-23 15:35:19,778 - src.common.trainer - INFO - train acc: 0.5433333333333333\n",
      "2018-11-23 15:35:19,778 - src.common.trainer - INFO - test acc: 0.4539\n"
     ]
    },
    {
     "name": "stdout",
     "output_type": "stream",
     "text": [
      "train loss:1.3666629718216512\n",
      "train loss:1.3112555083228818\n",
      "train loss:1.3958519472891715\n"
     ]
    },
    {
     "name": "stderr",
     "output_type": "stream",
     "text": [
      "2018-11-23 15:35:19,989 - src.common.trainer - INFO - ==============================\n",
      "2018-11-23 15:35:19,990 - src.common.trainer - INFO - epoch: 234\n",
      "2018-11-23 15:35:19,990 - src.common.trainer - INFO - train acc: 0.5466666666666666\n",
      "2018-11-23 15:35:19,991 - src.common.trainer - INFO - test acc: 0.4547\n"
     ]
    },
    {
     "name": "stdout",
     "output_type": "stream",
     "text": [
      "train loss:1.4260883030623197\n",
      "train loss:1.5278782550961167\n",
      "train loss:1.3091303977797142\n"
     ]
    },
    {
     "name": "stderr",
     "output_type": "stream",
     "text": [
      "2018-11-23 15:35:20,190 - src.common.trainer - INFO - ==============================\n",
      "2018-11-23 15:35:20,191 - src.common.trainer - INFO - epoch: 235\n",
      "2018-11-23 15:35:20,192 - src.common.trainer - INFO - train acc: 0.55\n",
      "2018-11-23 15:35:20,193 - src.common.trainer - INFO - test acc: 0.4627\n"
     ]
    },
    {
     "name": "stdout",
     "output_type": "stream",
     "text": [
      "train loss:1.4111112233662342\n",
      "train loss:1.3559300181291098\n",
      "train loss:1.4772940451440215\n"
     ]
    },
    {
     "name": "stderr",
     "output_type": "stream",
     "text": [
      "2018-11-23 15:35:20,396 - src.common.trainer - INFO - ==============================\n",
      "2018-11-23 15:35:20,397 - src.common.trainer - INFO - epoch: 236\n",
      "2018-11-23 15:35:20,397 - src.common.trainer - INFO - train acc: 0.5566666666666666\n",
      "2018-11-23 15:35:20,398 - src.common.trainer - INFO - test acc: 0.465\n"
     ]
    },
    {
     "name": "stdout",
     "output_type": "stream",
     "text": [
      "train loss:1.4237856001355305\n",
      "train loss:1.2528795196463036\n",
      "train loss:1.4152001974644015\n",
      "train loss:1.4237042127782158\n"
     ]
    },
    {
     "name": "stderr",
     "output_type": "stream",
     "text": [
      "2018-11-23 15:35:20,609 - src.common.trainer - INFO - ==============================\n",
      "2018-11-23 15:35:20,610 - src.common.trainer - INFO - epoch: 237\n",
      "2018-11-23 15:35:20,610 - src.common.trainer - INFO - train acc: 0.55\n",
      "2018-11-23 15:35:20,611 - src.common.trainer - INFO - test acc: 0.4652\n"
     ]
    },
    {
     "name": "stdout",
     "output_type": "stream",
     "text": [
      "train loss:1.14020551104694\n",
      "train loss:1.3543142451731753\n"
     ]
    },
    {
     "name": "stderr",
     "output_type": "stream",
     "text": [
      "2018-11-23 15:35:20,812 - src.common.trainer - INFO - ==============================\n",
      "2018-11-23 15:35:20,813 - src.common.trainer - INFO - epoch: 238\n",
      "2018-11-23 15:35:20,813 - src.common.trainer - INFO - train acc: 0.57\n",
      "2018-11-23 15:35:20,814 - src.common.trainer - INFO - test acc: 0.463\n"
     ]
    },
    {
     "name": "stdout",
     "output_type": "stream",
     "text": [
      "train loss:1.5070348964159184\n",
      "train loss:1.2921794594033837\n",
      "train loss:1.1889071242389706\n",
      "train loss:1.2803164176838329"
     ]
    },
    {
     "name": "stderr",
     "output_type": "stream",
     "text": [
      "2018-11-23 15:35:21,027 - src.common.trainer - INFO - ==============================\n",
      "2018-11-23 15:35:21,027 - src.common.trainer - INFO - epoch: 239\n",
      "2018-11-23 15:35:21,028 - src.common.trainer - INFO - train acc: 0.56\n",
      "2018-11-23 15:35:21,028 - src.common.trainer - INFO - test acc: 0.4656\n"
     ]
    },
    {
     "name": "stdout",
     "output_type": "stream",
     "text": [
      "\n",
      "train loss:1.3088525858927822\n",
      "train loss:1.369299522785007\n"
     ]
    },
    {
     "name": "stderr",
     "output_type": "stream",
     "text": [
      "2018-11-23 15:35:21,239 - src.common.trainer - INFO - ==============================\n",
      "2018-11-23 15:35:21,239 - src.common.trainer - INFO - epoch: 240\n",
      "2018-11-23 15:35:21,240 - src.common.trainer - INFO - train acc: 0.57\n",
      "2018-11-23 15:35:21,240 - src.common.trainer - INFO - test acc: 0.4693\n"
     ]
    },
    {
     "name": "stdout",
     "output_type": "stream",
     "text": [
      "train loss:1.2692378392122885\n",
      "train loss:1.313643929762597\n",
      "train loss:1.2865563692870885\n"
     ]
    },
    {
     "name": "stderr",
     "output_type": "stream",
     "text": [
      "2018-11-23 15:35:21,445 - src.common.trainer - INFO - ==============================\n",
      "2018-11-23 15:35:21,445 - src.common.trainer - INFO - epoch: 241\n",
      "2018-11-23 15:35:21,446 - src.common.trainer - INFO - train acc: 0.5833333333333334\n",
      "2018-11-23 15:35:21,447 - src.common.trainer - INFO - test acc: 0.4741\n"
     ]
    },
    {
     "name": "stdout",
     "output_type": "stream",
     "text": [
      "train loss:1.2838318911377695\n",
      "train loss:1.2049960467206637\n",
      "train loss:1.2256587810393071\n",
      "train loss:1.3803503649929008\n",
      "train loss:1.3924953726696108\n",
      "train loss:1.3147891570895882\n"
     ]
    },
    {
     "name": "stderr",
     "output_type": "stream",
     "text": [
      "2018-11-23 15:35:21,672 - src.common.trainer - INFO - ==============================\n",
      "2018-11-23 15:35:21,673 - src.common.trainer - INFO - epoch: 242\n",
      "2018-11-23 15:35:21,675 - src.common.trainer - INFO - train acc: 0.59\n",
      "2018-11-23 15:35:21,677 - src.common.trainer - INFO - test acc: 0.4791\n",
      "2018-11-23 15:35:21,883 - src.common.trainer - INFO - ==============================\n",
      "2018-11-23 15:35:21,884 - src.common.trainer - INFO - epoch: 243\n",
      "2018-11-23 15:35:21,884 - src.common.trainer - INFO - train acc: 0.57\n",
      "2018-11-23 15:35:21,885 - src.common.trainer - INFO - test acc: 0.476\n"
     ]
    },
    {
     "name": "stdout",
     "output_type": "stream",
     "text": [
      "train loss:1.3106908670285142\n",
      "train loss:1.307499078028165\n",
      "train loss:1.2962833105465252\n"
     ]
    },
    {
     "name": "stderr",
     "output_type": "stream",
     "text": [
      "2018-11-23 15:35:22,086 - src.common.trainer - INFO - ==============================\n",
      "2018-11-23 15:35:22,087 - src.common.trainer - INFO - epoch: 244\n",
      "2018-11-23 15:35:22,087 - src.common.trainer - INFO - train acc: 0.58\n",
      "2018-11-23 15:35:22,088 - src.common.trainer - INFO - test acc: 0.4817\n"
     ]
    },
    {
     "name": "stdout",
     "output_type": "stream",
     "text": [
      "train loss:1.322532166798374\n",
      "train loss:1.4931402924483772\n",
      "train loss:1.369015695396574\n",
      "train loss:1.3209137987158437"
     ]
    },
    {
     "name": "stderr",
     "output_type": "stream",
     "text": [
      "2018-11-23 15:35:22,299 - src.common.trainer - INFO - ==============================\n",
      "2018-11-23 15:35:22,300 - src.common.trainer - INFO - epoch: 245\n",
      "2018-11-23 15:35:22,301 - src.common.trainer - INFO - train acc: 0.5833333333333334\n",
      "2018-11-23 15:35:22,303 - src.common.trainer - INFO - test acc: 0.4832\n"
     ]
    },
    {
     "name": "stdout",
     "output_type": "stream",
     "text": [
      "\n",
      "train loss:1.3015709745908999\n",
      "train loss:1.1878966283448167\n"
     ]
    },
    {
     "name": "stderr",
     "output_type": "stream",
     "text": [
      "2018-11-23 15:35:22,510 - src.common.trainer - INFO - ==============================\n",
      "2018-11-23 15:35:22,511 - src.common.trainer - INFO - epoch: 246\n",
      "2018-11-23 15:35:22,511 - src.common.trainer - INFO - train acc: 0.5966666666666667\n",
      "2018-11-23 15:35:22,512 - src.common.trainer - INFO - test acc: 0.4893\n"
     ]
    },
    {
     "name": "stdout",
     "output_type": "stream",
     "text": [
      "train loss:1.4221430141312883\n",
      "train loss:1.3805296967161231\n",
      "train loss:1.4419110526287409\n"
     ]
    },
    {
     "name": "stderr",
     "output_type": "stream",
     "text": [
      "2018-11-23 15:35:22,724 - src.common.trainer - INFO - ==============================\n",
      "2018-11-23 15:35:22,725 - src.common.trainer - INFO - epoch: 247\n",
      "2018-11-23 15:35:22,725 - src.common.trainer - INFO - train acc: 0.6066666666666667\n",
      "2018-11-23 15:35:22,726 - src.common.trainer - INFO - test acc: 0.4923\n"
     ]
    },
    {
     "name": "stdout",
     "output_type": "stream",
     "text": [
      "train loss:1.3390883974133436\n",
      "train loss:1.2994927698016787\n",
      "train loss:1.1596363764081494\n"
     ]
    },
    {
     "name": "stderr",
     "output_type": "stream",
     "text": [
      "2018-11-23 15:35:22,943 - src.common.trainer - INFO - ==============================\n",
      "2018-11-23 15:35:22,944 - src.common.trainer - INFO - epoch: 248\n",
      "2018-11-23 15:35:22,945 - src.common.trainer - INFO - train acc: 0.61\n",
      "2018-11-23 15:35:22,946 - src.common.trainer - INFO - test acc: 0.4931\n"
     ]
    },
    {
     "name": "stdout",
     "output_type": "stream",
     "text": [
      "train loss:1.253849627982641\n",
      "train loss:1.2704632322396499\n",
      "train loss:1.3714202497181953\n"
     ]
    },
    {
     "name": "stderr",
     "output_type": "stream",
     "text": [
      "2018-11-23 15:35:23,154 - src.common.trainer - INFO - ==============================\n",
      "2018-11-23 15:35:23,155 - src.common.trainer - INFO - epoch: 249\n",
      "2018-11-23 15:35:23,156 - src.common.trainer - INFO - train acc: 0.6166666666666667\n",
      "2018-11-23 15:35:23,156 - src.common.trainer - INFO - test acc: 0.4934\n"
     ]
    },
    {
     "name": "stdout",
     "output_type": "stream",
     "text": [
      "train loss:1.1802308726628665\n",
      "train loss:1.295867521791154\n",
      "train loss:1.2733590884996078\n",
      "train loss:1.2080972617026917\n"
     ]
    },
    {
     "name": "stderr",
     "output_type": "stream",
     "text": [
      "2018-11-23 15:35:23,365 - src.common.trainer - INFO - ==============================\n",
      "2018-11-23 15:35:23,366 - src.common.trainer - INFO - epoch: 250\n",
      "2018-11-23 15:35:23,367 - src.common.trainer - INFO - train acc: 0.61\n",
      "2018-11-23 15:35:23,367 - src.common.trainer - INFO - test acc: 0.4938\n"
     ]
    },
    {
     "name": "stdout",
     "output_type": "stream",
     "text": [
      "train loss:1.265124511245081\n",
      "train loss:1.3021945345629493\n",
      "train loss:1.2025807058961973\n"
     ]
    },
    {
     "name": "stderr",
     "output_type": "stream",
     "text": [
      "2018-11-23 15:35:23,592 - src.common.trainer - INFO - ==============================\n",
      "2018-11-23 15:35:23,592 - src.common.trainer - INFO - epoch: 251\n",
      "2018-11-23 15:35:23,593 - src.common.trainer - INFO - train acc: 0.6033333333333334\n",
      "2018-11-23 15:35:23,594 - src.common.trainer - INFO - test acc: 0.4962\n"
     ]
    },
    {
     "name": "stdout",
     "output_type": "stream",
     "text": [
      "train loss:1.3558455958137885\n",
      "train loss:1.3462515427445225\n",
      "train loss:1.2684244596651197\n",
      "train loss:1.4474501413007355\n",
      "train loss:0.9640345970321554\n"
     ]
    },
    {
     "name": "stderr",
     "output_type": "stream",
     "text": [
      "2018-11-23 15:35:23,826 - src.common.trainer - INFO - ==============================\n",
      "2018-11-23 15:35:23,826 - src.common.trainer - INFO - epoch: 252\n",
      "2018-11-23 15:35:23,827 - src.common.trainer - INFO - train acc: 0.6033333333333334\n",
      "2018-11-23 15:35:23,827 - src.common.trainer - INFO - test acc: 0.4979\n",
      "2018-11-23 15:35:24,030 - src.common.trainer - INFO - ==============================\n",
      "2018-11-23 15:35:24,030 - src.common.trainer - INFO - epoch: 253\n",
      "2018-11-23 15:35:24,031 - src.common.trainer - INFO - train acc: 0.62\n",
      "2018-11-23 15:35:24,032 - src.common.trainer - INFO - test acc: 0.5043\n"
     ]
    },
    {
     "name": "stdout",
     "output_type": "stream",
     "text": [
      "train loss:1.4253712442542221\n",
      "train loss:1.3022094508793296\n",
      "train loss:1.3456313956834967\n"
     ]
    },
    {
     "name": "stderr",
     "output_type": "stream",
     "text": [
      "2018-11-23 15:35:24,229 - src.common.trainer - INFO - ==============================\n",
      "2018-11-23 15:35:24,229 - src.common.trainer - INFO - epoch: 254\n",
      "2018-11-23 15:35:24,230 - src.common.trainer - INFO - train acc: 0.6133333333333333\n",
      "2018-11-23 15:35:24,231 - src.common.trainer - INFO - test acc: 0.4993\n"
     ]
    },
    {
     "name": "stdout",
     "output_type": "stream",
     "text": [
      "train loss:1.245425441421649\n",
      "train loss:1.0353317638259896\n",
      "train loss:1.2514653303450098\n",
      "train loss:1.2006294826400319\n"
     ]
    },
    {
     "name": "stderr",
     "output_type": "stream",
     "text": [
      "2018-11-23 15:35:24,433 - src.common.trainer - INFO - ==============================\n",
      "2018-11-23 15:35:24,434 - src.common.trainer - INFO - epoch: 255\n",
      "2018-11-23 15:35:24,434 - src.common.trainer - INFO - train acc: 0.62\n",
      "2018-11-23 15:35:24,435 - src.common.trainer - INFO - test acc: 0.5015\n"
     ]
    },
    {
     "name": "stdout",
     "output_type": "stream",
     "text": [
      "train loss:1.2121926996575723\n",
      "train loss:1.2613929409744833\n",
      "train loss:1.1226683122962646\n"
     ]
    },
    {
     "name": "stderr",
     "output_type": "stream",
     "text": [
      "2018-11-23 15:35:24,639 - src.common.trainer - INFO - ==============================\n",
      "2018-11-23 15:35:24,639 - src.common.trainer - INFO - epoch: 256\n",
      "2018-11-23 15:35:24,640 - src.common.trainer - INFO - train acc: 0.6166666666666667\n",
      "2018-11-23 15:35:24,640 - src.common.trainer - INFO - test acc: 0.4976\n"
     ]
    },
    {
     "name": "stdout",
     "output_type": "stream",
     "text": [
      "train loss:1.1917092300957302\n",
      "train loss:1.3067572187683874\n",
      "train loss:1.242066203845875\n"
     ]
    },
    {
     "name": "stderr",
     "output_type": "stream",
     "text": [
      "2018-11-23 15:35:24,850 - src.common.trainer - INFO - ==============================\n",
      "2018-11-23 15:35:24,851 - src.common.trainer - INFO - epoch: 257\n",
      "2018-11-23 15:35:24,851 - src.common.trainer - INFO - train acc: 0.6266666666666667\n",
      "2018-11-23 15:35:24,852 - src.common.trainer - INFO - test acc: 0.5086\n"
     ]
    },
    {
     "name": "stdout",
     "output_type": "stream",
     "text": [
      "train loss:1.4333222635912375\n",
      "train loss:1.3408115061312715\n",
      "train loss:1.1993262684549064\n"
     ]
    },
    {
     "name": "stderr",
     "output_type": "stream",
     "text": [
      "2018-11-23 15:35:25,050 - src.common.trainer - INFO - ==============================\n",
      "2018-11-23 15:35:25,050 - src.common.trainer - INFO - epoch: 258\n",
      "2018-11-23 15:35:25,051 - src.common.trainer - INFO - train acc: 0.6266666666666667\n",
      "2018-11-23 15:35:25,052 - src.common.trainer - INFO - test acc: 0.5151\n"
     ]
    },
    {
     "name": "stdout",
     "output_type": "stream",
     "text": [
      "train loss:1.277339893279292\n",
      "train loss:1.2290222778253221\n",
      "train loss:1.1802731673052216\n"
     ]
    },
    {
     "name": "stderr",
     "output_type": "stream",
     "text": [
      "2018-11-23 15:35:25,270 - src.common.trainer - INFO - ==============================\n",
      "2018-11-23 15:35:25,271 - src.common.trainer - INFO - epoch: 259\n",
      "2018-11-23 15:35:25,272 - src.common.trainer - INFO - train acc: 0.64\n",
      "2018-11-23 15:35:25,272 - src.common.trainer - INFO - test acc: 0.5177\n"
     ]
    },
    {
     "name": "stdout",
     "output_type": "stream",
     "text": [
      "train loss:1.2895745448319895\n",
      "train loss:1.2566500181763025\n"
     ]
    },
    {
     "name": "stderr",
     "output_type": "stream",
     "text": [
      "2018-11-23 15:35:25,475 - src.common.trainer - INFO - ==============================\n",
      "2018-11-23 15:35:25,476 - src.common.trainer - INFO - epoch: 260\n",
      "2018-11-23 15:35:25,477 - src.common.trainer - INFO - train acc: 0.6433333333333333\n",
      "2018-11-23 15:35:25,477 - src.common.trainer - INFO - test acc: 0.5187\n"
     ]
    },
    {
     "name": "stdout",
     "output_type": "stream",
     "text": [
      "train loss:1.2499453424499376\n",
      "train loss:1.336379042781235\n",
      "train loss:1.1993408048982064\n"
     ]
    },
    {
     "name": "stderr",
     "output_type": "stream",
     "text": [
      "2018-11-23 15:35:25,676 - src.common.trainer - INFO - ==============================\n",
      "2018-11-23 15:35:25,677 - src.common.trainer - INFO - epoch: 261\n",
      "2018-11-23 15:35:25,677 - src.common.trainer - INFO - train acc: 0.6466666666666666\n",
      "2018-11-23 15:35:25,678 - src.common.trainer - INFO - test acc: 0.5182\n"
     ]
    },
    {
     "name": "stdout",
     "output_type": "stream",
     "text": [
      "train loss:1.227105022042987\n",
      "train loss:1.18992969162493\n",
      "train loss:1.2680542087372024\n",
      "train loss:1.364877426369261\n"
     ]
    },
    {
     "name": "stderr",
     "output_type": "stream",
     "text": [
      "2018-11-23 15:35:25,889 - src.common.trainer - INFO - ==============================\n",
      "2018-11-23 15:35:25,890 - src.common.trainer - INFO - epoch: 262\n",
      "2018-11-23 15:35:25,891 - src.common.trainer - INFO - train acc: 0.6433333333333333\n",
      "2018-11-23 15:35:25,891 - src.common.trainer - INFO - test acc: 0.5212\n"
     ]
    },
    {
     "name": "stdout",
     "output_type": "stream",
     "text": [
      "train loss:1.2082732363066027\n",
      "train loss:1.14958786998725\n"
     ]
    },
    {
     "name": "stderr",
     "output_type": "stream",
     "text": [
      "2018-11-23 15:35:26,089 - src.common.trainer - INFO - ==============================\n",
      "2018-11-23 15:35:26,089 - src.common.trainer - INFO - epoch: 263\n",
      "2018-11-23 15:35:26,090 - src.common.trainer - INFO - train acc: 0.6433333333333333\n",
      "2018-11-23 15:35:26,091 - src.common.trainer - INFO - test acc: 0.5222\n"
     ]
    },
    {
     "name": "stdout",
     "output_type": "stream",
     "text": [
      "train loss:1.283481681837324\n",
      "train loss:1.230406819230261\n",
      "train loss:1.2406591812906662\n",
      "train loss:1.3220264913279394\n"
     ]
    },
    {
     "name": "stderr",
     "output_type": "stream",
     "text": [
      "2018-11-23 15:35:26,292 - src.common.trainer - INFO - ==============================\n",
      "2018-11-23 15:35:26,292 - src.common.trainer - INFO - epoch: 264\n",
      "2018-11-23 15:35:26,293 - src.common.trainer - INFO - train acc: 0.6533333333333333\n",
      "2018-11-23 15:35:26,294 - src.common.trainer - INFO - test acc: 0.5235\n"
     ]
    },
    {
     "name": "stdout",
     "output_type": "stream",
     "text": [
      "train loss:1.1817734464229475\n",
      "train loss:1.145689458781684\n",
      "train loss:1.1577400239258937\n"
     ]
    },
    {
     "name": "stderr",
     "output_type": "stream",
     "text": [
      "2018-11-23 15:35:26,504 - src.common.trainer - INFO - ==============================\n",
      "2018-11-23 15:35:26,504 - src.common.trainer - INFO - epoch: 265\n",
      "2018-11-23 15:35:26,505 - src.common.trainer - INFO - train acc: 0.6566666666666666\n",
      "2018-11-23 15:35:26,506 - src.common.trainer - INFO - test acc: 0.5271\n"
     ]
    },
    {
     "name": "stdout",
     "output_type": "stream",
     "text": [
      "train loss:1.2186700433725615\n",
      "train loss:1.3260271745973942\n",
      "train loss:1.2570679371530036\n"
     ]
    },
    {
     "name": "stderr",
     "output_type": "stream",
     "text": [
      "2018-11-23 15:35:26,709 - src.common.trainer - INFO - ==============================\n",
      "2018-11-23 15:35:26,710 - src.common.trainer - INFO - epoch: 266\n",
      "2018-11-23 15:35:26,710 - src.common.trainer - INFO - train acc: 0.6566666666666666\n",
      "2018-11-23 15:35:26,711 - src.common.trainer - INFO - test acc: 0.5276\n"
     ]
    },
    {
     "name": "stdout",
     "output_type": "stream",
     "text": [
      "train loss:1.0984858674411715\n",
      "train loss:1.2537199211984806\n",
      "train loss:1.150648492420342\n"
     ]
    },
    {
     "name": "stderr",
     "output_type": "stream",
     "text": [
      "2018-11-23 15:35:26,933 - src.common.trainer - INFO - ==============================\n",
      "2018-11-23 15:35:26,934 - src.common.trainer - INFO - epoch: 267\n",
      "2018-11-23 15:35:26,935 - src.common.trainer - INFO - train acc: 0.6533333333333333\n",
      "2018-11-23 15:35:26,936 - src.common.trainer - INFO - test acc: 0.5323\n"
     ]
    },
    {
     "name": "stdout",
     "output_type": "stream",
     "text": [
      "train loss:1.2444557401850034\n",
      "train loss:1.2596594607120988\n"
     ]
    },
    {
     "name": "stderr",
     "output_type": "stream",
     "text": [
      "2018-11-23 15:35:27,140 - src.common.trainer - INFO - ==============================\n",
      "2018-11-23 15:35:27,141 - src.common.trainer - INFO - epoch: 268\n",
      "2018-11-23 15:35:27,141 - src.common.trainer - INFO - train acc: 0.6566666666666666\n",
      "2018-11-23 15:35:27,142 - src.common.trainer - INFO - test acc: 0.5329\n"
     ]
    },
    {
     "name": "stdout",
     "output_type": "stream",
     "text": [
      "train loss:1.1827661525733253\n",
      "train loss:1.1842826700711802\n",
      "train loss:1.2814880049673538\n"
     ]
    },
    {
     "name": "stderr",
     "output_type": "stream",
     "text": [
      "2018-11-23 15:35:27,345 - src.common.trainer - INFO - ==============================\n",
      "2018-11-23 15:35:27,346 - src.common.trainer - INFO - epoch: 269\n",
      "2018-11-23 15:35:27,346 - src.common.trainer - INFO - train acc: 0.6566666666666666\n",
      "2018-11-23 15:35:27,347 - src.common.trainer - INFO - test acc: 0.5295\n"
     ]
    },
    {
     "name": "stdout",
     "output_type": "stream",
     "text": [
      "train loss:1.2137234890405237\n",
      "train loss:1.1567635459381338\n",
      "train loss:1.237119182260929\n"
     ]
    },
    {
     "name": "stderr",
     "output_type": "stream",
     "text": [
      "2018-11-23 15:35:27,562 - src.common.trainer - INFO - ==============================\n",
      "2018-11-23 15:35:27,563 - src.common.trainer - INFO - epoch: 270\n",
      "2018-11-23 15:35:27,563 - src.common.trainer - INFO - train acc: 0.66\n",
      "2018-11-23 15:35:27,564 - src.common.trainer - INFO - test acc: 0.5316\n"
     ]
    },
    {
     "name": "stdout",
     "output_type": "stream",
     "text": [
      "train loss:1.098676688638922\n",
      "train loss:1.190448480887384\n",
      "train loss:1.2634524155661715\n",
      "train loss:1.1368527065815204\n",
      "train loss:1.158794565018375\n",
      "train loss:1.1519444935931284\n"
     ]
    },
    {
     "name": "stderr",
     "output_type": "stream",
     "text": [
      "2018-11-23 15:35:27,825 - src.common.trainer - INFO - ==============================\n",
      "2018-11-23 15:35:27,825 - src.common.trainer - INFO - epoch: 271\n",
      "2018-11-23 15:35:27,826 - src.common.trainer - INFO - train acc: 0.6666666666666666\n",
      "2018-11-23 15:35:27,827 - src.common.trainer - INFO - test acc: 0.5339\n",
      "2018-11-23 15:35:28,036 - src.common.trainer - INFO - ==============================\n",
      "2018-11-23 15:35:28,037 - src.common.trainer - INFO - epoch: 272\n",
      "2018-11-23 15:35:28,038 - src.common.trainer - INFO - train acc: 0.6666666666666666\n",
      "2018-11-23 15:35:28,039 - src.common.trainer - INFO - test acc: 0.539\n"
     ]
    },
    {
     "name": "stdout",
     "output_type": "stream",
     "text": [
      "train loss:1.2495004143266255\n",
      "train loss:1.286619531296011\n",
      "train loss:1.0858583913284632\n"
     ]
    },
    {
     "name": "stderr",
     "output_type": "stream",
     "text": [
      "2018-11-23 15:35:28,239 - src.common.trainer - INFO - ==============================\n",
      "2018-11-23 15:35:28,240 - src.common.trainer - INFO - epoch: 273\n",
      "2018-11-23 15:35:28,241 - src.common.trainer - INFO - train acc: 0.67\n",
      "2018-11-23 15:35:28,242 - src.common.trainer - INFO - test acc: 0.5382\n"
     ]
    },
    {
     "name": "stdout",
     "output_type": "stream",
     "text": [
      "train loss:1.232002453587175\n",
      "train loss:1.258409664676875\n",
      "train loss:1.0757376565671861\n",
      "train loss:1.1247720644078678\n"
     ]
    },
    {
     "name": "stderr",
     "output_type": "stream",
     "text": [
      "2018-11-23 15:35:28,467 - src.common.trainer - INFO - ==============================\n",
      "2018-11-23 15:35:28,468 - src.common.trainer - INFO - epoch: 274\n",
      "2018-11-23 15:35:28,468 - src.common.trainer - INFO - train acc: 0.6733333333333333\n",
      "2018-11-23 15:35:28,469 - src.common.trainer - INFO - test acc: 0.5448\n"
     ]
    },
    {
     "name": "stdout",
     "output_type": "stream",
     "text": [
      "train loss:1.2245575006237117\n",
      "train loss:1.1595829702636835\n"
     ]
    },
    {
     "name": "stderr",
     "output_type": "stream",
     "text": [
      "2018-11-23 15:35:28,686 - src.common.trainer - INFO - ==============================\n",
      "2018-11-23 15:35:28,687 - src.common.trainer - INFO - epoch: 275\n",
      "2018-11-23 15:35:28,687 - src.common.trainer - INFO - train acc: 0.6733333333333333\n",
      "2018-11-23 15:35:28,688 - src.common.trainer - INFO - test acc: 0.5464\n"
     ]
    },
    {
     "name": "stdout",
     "output_type": "stream",
     "text": [
      "train loss:1.206363989432548\n",
      "train loss:1.0229687293869225\n",
      "train loss:1.2197207678406894\n",
      "train loss:1.2098054333720105\n",
      "train loss:1.2021946399700167\n",
      "train loss:1.2108691496080115\n"
     ]
    },
    {
     "name": "stderr",
     "output_type": "stream",
     "text": [
      "2018-11-23 15:35:28,932 - src.common.trainer - INFO - ==============================\n",
      "2018-11-23 15:35:28,932 - src.common.trainer - INFO - epoch: 276\n",
      "2018-11-23 15:35:28,933 - src.common.trainer - INFO - train acc: 0.6733333333333333\n",
      "2018-11-23 15:35:28,934 - src.common.trainer - INFO - test acc: 0.55\n"
     ]
    },
    {
     "name": "stdout",
     "output_type": "stream",
     "text": [
      "train loss:1.1355734376576234\n",
      "train loss:1.1611490846711197\n",
      "train loss:1.1683009338628474\n"
     ]
    },
    {
     "name": "stderr",
     "output_type": "stream",
     "text": [
      "2018-11-23 15:35:29,180 - src.common.trainer - INFO - ==============================\n",
      "2018-11-23 15:35:29,180 - src.common.trainer - INFO - epoch: 277\n",
      "2018-11-23 15:35:29,181 - src.common.trainer - INFO - train acc: 0.6733333333333333\n",
      "2018-11-23 15:35:29,182 - src.common.trainer - INFO - test acc: 0.551\n",
      "2018-11-23 15:35:29,388 - src.common.trainer - INFO - ==============================\n",
      "2018-11-23 15:35:29,388 - src.common.trainer - INFO - epoch: 278\n",
      "2018-11-23 15:35:29,389 - src.common.trainer - INFO - train acc: 0.6733333333333333\n",
      "2018-11-23 15:35:29,390 - src.common.trainer - INFO - test acc: 0.5533\n"
     ]
    },
    {
     "name": "stdout",
     "output_type": "stream",
     "text": [
      "train loss:1.060706033153081\n",
      "train loss:0.9696474235367964\n",
      "train loss:1.1037008652671139\n",
      "train loss:1.046195252279015\n",
      "train loss:1.1065857141933209\n",
      "train loss:1.1233236460056384\n"
     ]
    },
    {
     "name": "stderr",
     "output_type": "stream",
     "text": [
      "2018-11-23 15:35:29,640 - src.common.trainer - INFO - ==============================\n",
      "2018-11-23 15:35:29,641 - src.common.trainer - INFO - epoch: 279\n",
      "2018-11-23 15:35:29,642 - src.common.trainer - INFO - train acc: 0.6733333333333333\n",
      "2018-11-23 15:35:29,642 - src.common.trainer - INFO - test acc: 0.552\n",
      "2018-11-23 15:35:29,867 - src.common.trainer - INFO - ==============================\n",
      "2018-11-23 15:35:29,867 - src.common.trainer - INFO - epoch: 280\n"
     ]
    },
    {
     "name": "stdout",
     "output_type": "stream",
     "text": [
      "train loss:1.0628478589338828\n",
      "train loss:1.059312442849211\n",
      "train loss:1.1263529925369895\n"
     ]
    },
    {
     "name": "stderr",
     "output_type": "stream",
     "text": [
      "2018-11-23 15:35:29,868 - src.common.trainer - INFO - train acc: 0.6733333333333333\n",
      "2018-11-23 15:35:29,869 - src.common.trainer - INFO - test acc: 0.5524\n",
      "2018-11-23 15:35:30,070 - src.common.trainer - INFO - ==============================\n",
      "2018-11-23 15:35:30,070 - src.common.trainer - INFO - epoch: 281\n",
      "2018-11-23 15:35:30,071 - src.common.trainer - INFO - train acc: 0.6766666666666666\n",
      "2018-11-23 15:35:30,071 - src.common.trainer - INFO - test acc: 0.5553\n"
     ]
    },
    {
     "name": "stdout",
     "output_type": "stream",
     "text": [
      "train loss:1.1451618143572952\n",
      "train loss:1.1503283050958584\n",
      "train loss:1.08174586788963\n",
      "train loss:1.0073154405655653\n"
     ]
    },
    {
     "name": "stderr",
     "output_type": "stream",
     "text": [
      "2018-11-23 15:35:30,280 - src.common.trainer - INFO - ==============================\n",
      "2018-11-23 15:35:30,281 - src.common.trainer - INFO - epoch: 282\n",
      "2018-11-23 15:35:30,281 - src.common.trainer - INFO - train acc: 0.6733333333333333\n",
      "2018-11-23 15:35:30,282 - src.common.trainer - INFO - test acc: 0.5534\n"
     ]
    },
    {
     "name": "stdout",
     "output_type": "stream",
     "text": [
      "train loss:1.1129002480174466\n",
      "train loss:1.1143912675602166\n",
      "train loss:1.163174334512405\n",
      "train loss:1.2210871243875479\n",
      "train loss:1.1649216837849599\n"
     ]
    },
    {
     "name": "stderr",
     "output_type": "stream",
     "text": [
      "2018-11-23 15:35:30,558 - src.common.trainer - INFO - ==============================\n",
      "2018-11-23 15:35:30,559 - src.common.trainer - INFO - epoch: 283\n",
      "2018-11-23 15:35:30,560 - src.common.trainer - INFO - train acc: 0.6733333333333333\n",
      "2018-11-23 15:35:30,561 - src.common.trainer - INFO - test acc: 0.5553\n"
     ]
    },
    {
     "name": "stdout",
     "output_type": "stream",
     "text": [
      "train loss:1.1142036025370978\n",
      "train loss:1.2635972736209664\n",
      "train loss:1.0219136426086892\n"
     ]
    },
    {
     "name": "stderr",
     "output_type": "stream",
     "text": [
      "2018-11-23 15:35:30,793 - src.common.trainer - INFO - ==============================\n",
      "2018-11-23 15:35:30,794 - src.common.trainer - INFO - epoch: 284\n",
      "2018-11-23 15:35:30,795 - src.common.trainer - INFO - train acc: 0.68\n",
      "2018-11-23 15:35:30,795 - src.common.trainer - INFO - test acc: 0.5607\n",
      "2018-11-23 15:35:30,997 - src.common.trainer - INFO - ==============================\n",
      "2018-11-23 15:35:30,998 - src.common.trainer - INFO - epoch: 285\n",
      "2018-11-23 15:35:30,998 - src.common.trainer - INFO - train acc: 0.6833333333333333\n",
      "2018-11-23 15:35:30,999 - src.common.trainer - INFO - test acc: 0.563\n"
     ]
    },
    {
     "name": "stdout",
     "output_type": "stream",
     "text": [
      "train loss:1.2065876539693\n",
      "train loss:1.1734269698200679\n",
      "train loss:1.186061360614007\n"
     ]
    },
    {
     "name": "stderr",
     "output_type": "stream",
     "text": [
      "2018-11-23 15:35:31,222 - src.common.trainer - INFO - ==============================\n"
     ]
    },
    {
     "name": "stdout",
     "output_type": "stream",
     "text": [
      "train loss:1.0801875016070646\n",
      "train loss:1.1790025083956872\n",
      "train loss:1.0779661027942746\n"
     ]
    },
    {
     "name": "stderr",
     "output_type": "stream",
     "text": [
      "2018-11-23 15:35:31,223 - src.common.trainer - INFO - epoch: 286\n",
      "2018-11-23 15:35:31,223 - src.common.trainer - INFO - train acc: 0.69\n",
      "2018-11-23 15:35:31,224 - src.common.trainer - INFO - test acc: 0.565\n"
     ]
    },
    {
     "name": "stdout",
     "output_type": "stream",
     "text": [
      "train loss:1.2242398740211475\n",
      "train loss:1.2550517376268364\n",
      "train loss:1.0948522564138137\n"
     ]
    },
    {
     "name": "stderr",
     "output_type": "stream",
     "text": [
      "2018-11-23 15:35:31,478 - src.common.trainer - INFO - ==============================\n",
      "2018-11-23 15:35:31,482 - src.common.trainer - INFO - epoch: 287\n",
      "2018-11-23 15:35:31,483 - src.common.trainer - INFO - train acc: 0.69\n",
      "2018-11-23 15:35:31,484 - src.common.trainer - INFO - test acc: 0.5703\n",
      "2018-11-23 15:35:31,700 - src.common.trainer - INFO - ==============================\n",
      "2018-11-23 15:35:31,701 - src.common.trainer - INFO - epoch: 288\n",
      "2018-11-23 15:35:31,702 - src.common.trainer - INFO - train acc: 0.69\n",
      "2018-11-23 15:35:31,702 - src.common.trainer - INFO - test acc: 0.5711\n"
     ]
    },
    {
     "name": "stdout",
     "output_type": "stream",
     "text": [
      "train loss:1.1262406595219319\n",
      "train loss:1.011621585571664\n",
      "train loss:1.081937556369209\n"
     ]
    },
    {
     "name": "stderr",
     "output_type": "stream",
     "text": [
      "2018-11-23 15:35:31,917 - src.common.trainer - INFO - ==============================\n",
      "2018-11-23 15:35:31,918 - src.common.trainer - INFO - epoch: 289\n",
      "2018-11-23 15:35:31,918 - src.common.trainer - INFO - train acc: 0.69\n",
      "2018-11-23 15:35:31,919 - src.common.trainer - INFO - test acc: 0.5696\n"
     ]
    },
    {
     "name": "stdout",
     "output_type": "stream",
     "text": [
      "train loss:1.1422185443643595\n",
      "train loss:1.0541729895218197\n",
      "train loss:1.0879478250661974\n",
      "train loss:1.1373135563438483\n",
      "train loss:1.073619957884411\n",
      "train loss:1.1113960861043612\n"
     ]
    },
    {
     "name": "stderr",
     "output_type": "stream",
     "text": [
      "2018-11-23 15:35:32,146 - src.common.trainer - INFO - ==============================\n",
      "2018-11-23 15:35:32,147 - src.common.trainer - INFO - epoch: 290\n",
      "2018-11-23 15:35:32,148 - src.common.trainer - INFO - train acc: 0.69\n",
      "2018-11-23 15:35:32,149 - src.common.trainer - INFO - test acc: 0.5695\n",
      "2018-11-23 15:35:32,366 - src.common.trainer - INFO - ==============================\n",
      "2018-11-23 15:35:32,367 - src.common.trainer - INFO - epoch: 291\n",
      "2018-11-23 15:35:32,367 - src.common.trainer - INFO - train acc: 0.6933333333333334\n",
      "2018-11-23 15:35:32,368 - src.common.trainer - INFO - test acc: 0.5704\n"
     ]
    },
    {
     "name": "stdout",
     "output_type": "stream",
     "text": [
      "train loss:1.1780357051498607\n",
      "train loss:0.9936065631907415\n",
      "train loss:1.176839936246128\n"
     ]
    },
    {
     "name": "stderr",
     "output_type": "stream",
     "text": [
      "2018-11-23 15:35:32,577 - src.common.trainer - INFO - ==============================\n",
      "2018-11-23 15:35:32,578 - src.common.trainer - INFO - epoch: 292\n",
      "2018-11-23 15:35:32,578 - src.common.trainer - INFO - train acc: 0.6933333333333334\n",
      "2018-11-23 15:35:32,579 - src.common.trainer - INFO - test acc: 0.5757\n"
     ]
    },
    {
     "name": "stdout",
     "output_type": "stream",
     "text": [
      "train loss:1.0667361472349741\n",
      "train loss:1.218707495592166\n",
      "train loss:1.2186372325735768\n"
     ]
    },
    {
     "name": "stderr",
     "output_type": "stream",
     "text": [
      "2018-11-23 15:35:32,794 - src.common.trainer - INFO - ==============================\n",
      "2018-11-23 15:35:32,795 - src.common.trainer - INFO - epoch: 293\n",
      "2018-11-23 15:35:32,796 - src.common.trainer - INFO - train acc: 0.69\n",
      "2018-11-23 15:35:32,796 - src.common.trainer - INFO - test acc: 0.5768\n"
     ]
    },
    {
     "name": "stdout",
     "output_type": "stream",
     "text": [
      "train loss:1.0535213193174788\n",
      "train loss:1.0820278266491705\n",
      "train loss:1.033808874264778\n"
     ]
    },
    {
     "name": "stderr",
     "output_type": "stream",
     "text": [
      "2018-11-23 15:35:32,989 - src.common.trainer - INFO - ==============================\n",
      "2018-11-23 15:35:32,989 - src.common.trainer - INFO - epoch: 294\n",
      "2018-11-23 15:35:32,990 - src.common.trainer - INFO - train acc: 0.6966666666666667\n",
      "2018-11-23 15:35:32,990 - src.common.trainer - INFO - test acc: 0.5793\n"
     ]
    },
    {
     "name": "stdout",
     "output_type": "stream",
     "text": [
      "train loss:1.1162932328442747\n",
      "train loss:1.1697626280528768\n",
      "train loss:0.9830014695095397\n",
      "train loss:0.972046016214474\n",
      "train loss:1.0832442574909864\n"
     ]
    },
    {
     "name": "stderr",
     "output_type": "stream",
     "text": [
      "2018-11-23 15:35:33,190 - src.common.trainer - INFO - ==============================\n",
      "2018-11-23 15:35:33,190 - src.common.trainer - INFO - epoch: 295\n",
      "2018-11-23 15:35:33,191 - src.common.trainer - INFO - train acc: 0.7\n",
      "2018-11-23 15:35:33,191 - src.common.trainer - INFO - test acc: 0.5785\n"
     ]
    },
    {
     "name": "stdout",
     "output_type": "stream",
     "text": [
      "train loss:1.1055932210073198\n",
      "train loss:1.0603915709077247\n",
      "train loss:1.11558662765455\n"
     ]
    },
    {
     "name": "stderr",
     "output_type": "stream",
     "text": [
      "2018-11-23 15:35:33,411 - src.common.trainer - INFO - ==============================\n",
      "2018-11-23 15:35:33,412 - src.common.trainer - INFO - epoch: 296\n",
      "2018-11-23 15:35:33,413 - src.common.trainer - INFO - train acc: 0.6966666666666667\n",
      "2018-11-23 15:35:33,413 - src.common.trainer - INFO - test acc: 0.5779\n"
     ]
    },
    {
     "name": "stdout",
     "output_type": "stream",
     "text": [
      "train loss:1.0512528008071853\n",
      "train loss:1.1300634836913657\n",
      "train loss:1.1012740611479401\n",
      "train loss:1.1297327637074204\n"
     ]
    },
    {
     "name": "stderr",
     "output_type": "stream",
     "text": [
      "2018-11-23 15:35:33,682 - src.common.trainer - INFO - ==============================\n",
      "2018-11-23 15:35:33,682 - src.common.trainer - INFO - epoch: 297\n",
      "2018-11-23 15:35:33,684 - src.common.trainer - INFO - train acc: 0.6966666666666667\n",
      "2018-11-23 15:35:33,685 - src.common.trainer - INFO - test acc: 0.5787\n"
     ]
    },
    {
     "name": "stdout",
     "output_type": "stream",
     "text": [
      "train loss:1.1551805671950144\n",
      "train loss:0.9287351513508897\n",
      "train loss:1.2194363640197026\n"
     ]
    },
    {
     "name": "stderr",
     "output_type": "stream",
     "text": [
      "2018-11-23 15:35:33,918 - src.common.trainer - INFO - ==============================\n",
      "2018-11-23 15:35:33,918 - src.common.trainer - INFO - epoch: 298\n",
      "2018-11-23 15:35:33,920 - src.common.trainer - INFO - train acc: 0.6966666666666667\n",
      "2018-11-23 15:35:33,920 - src.common.trainer - INFO - test acc: 0.5786\n",
      "2018-11-23 15:35:34,124 - src.common.trainer - INFO - ==============================\n",
      "2018-11-23 15:35:34,125 - src.common.trainer - INFO - epoch: 299\n",
      "2018-11-23 15:35:34,125 - src.common.trainer - INFO - train acc: 0.7\n",
      "2018-11-23 15:35:34,126 - src.common.trainer - INFO - test acc: 0.5802\n"
     ]
    },
    {
     "name": "stdout",
     "output_type": "stream",
     "text": [
      "train loss:1.0927670978913242\n",
      "train loss:1.1127238154525254\n",
      "train loss:1.0315557507481588\n",
      "train loss:0.95605969109724\n",
      "train loss:1.045095988378449\n",
      "train loss:0.9618195629026701\n"
     ]
    },
    {
     "name": "stderr",
     "output_type": "stream",
     "text": [
      "2018-11-23 15:35:34,377 - src.common.trainer - INFO - ==============================\n",
      "2018-11-23 15:35:34,378 - src.common.trainer - INFO - epoch: 300\n",
      "2018-11-23 15:35:34,379 - src.common.trainer - INFO - train acc: 0.7\n",
      "2018-11-23 15:35:34,379 - src.common.trainer - INFO - test acc: 0.5775\n"
     ]
    },
    {
     "name": "stdout",
     "output_type": "stream",
     "text": [
      "train loss:1.237285753827338\n",
      "train loss:1.043726097853872\n",
      "train loss:0.9846367950797195\n"
     ]
    },
    {
     "name": "stderr",
     "output_type": "stream",
     "text": [
      "2018-11-23 15:35:34,605 - src.common.trainer - INFO - ==============================\n",
      "2018-11-23 15:35:34,606 - src.common.trainer - INFO - epoch: 301\n",
      "2018-11-23 15:35:34,606 - src.common.trainer - INFO - train acc: 0.7033333333333334\n",
      "2018-11-23 15:35:34,607 - src.common.trainer - INFO - test acc: 0.5794\n",
      "2018-11-23 15:35:34,808 - src.common.trainer - INFO - ==============================\n",
      "2018-11-23 15:35:34,809 - src.common.trainer - INFO - Final Test Accuracy\n",
      "2018-11-23 15:35:34,809 - src.common.trainer - INFO - test acc: 0.581\n"
     ]
    },
    {
     "name": "stdout",
     "output_type": "stream",
     "text": [
      "train loss:1.1220325783772602\n",
      "train loss:0.9769042394258369\n"
     ]
    },
    {
     "data": {
      "image/png": "[encoded data removed]",
      "text/plain": [
       "<Figure size 432x288 with 1 Axes>"
      ]
     },
     "metadata": {
      "needs_background": "light"
     },
     "output_type": "display_data"
    }
   ],
   "source": [
    "main(True, 0.2)"
   ]
  },
  {
   "cell_type": "markdown",
   "metadata": {},
   "source": [
    "# Write"
   ]
  },
  {
   "cell_type": "code",
   "execution_count": 6,
   "metadata": {},
   "outputs": [
    {
     "name": "stderr",
     "output_type": "stream",
     "text": [
      "2018-11-23 15:41:47,919 - src.common.trainer - DEBUG - train loss: 2.394629315406836\n",
      "2018-11-23 15:41:48,158 - src.common.trainer - DEBUG - ==============================\n",
      "2018-11-23 15:41:48,159 - src.common.trainer - DEBUG - epoch: 1\n",
      "2018-11-23 15:41:48,160 - src.common.trainer - DEBUG - train acc: 0.1\n",
      "2018-11-23 15:41:48,161 - src.common.trainer - DEBUG - test acc: 0.0954\n",
      "2018-11-23 15:41:48,188 - src.common.trainer - DEBUG - train loss: 2.3682085820919587\n",
      "2018-11-23 15:41:48,197 - src.common.trainer - DEBUG - train loss: 2.4087984032463408\n",
      "2018-11-23 15:41:48,206 - src.common.trainer - DEBUG - train loss: 2.39149615992877\n",
      "2018-11-23 15:41:48,385 - src.common.trainer - DEBUG - ==============================\n",
      "2018-11-23 15:41:48,386 - src.common.trainer - DEBUG - epoch: 2\n",
      "2018-11-23 15:41:48,386 - src.common.trainer - DEBUG - train acc: 0.1\n",
      "2018-11-23 15:41:48,387 - src.common.trainer - DEBUG - test acc: 0.0955\n",
      "2018-11-23 15:41:48,407 - src.common.trainer - DEBUG - train loss: 2.324859143742225\n",
      "2018-11-23 15:41:48,417 - src.common.trainer - DEBUG - train loss: 2.2788360606868467\n",
      "2018-11-23 15:41:48,426 - src.common.trainer - DEBUG - train loss: 2.332679501540243\n",
      "2018-11-23 15:41:48,621 - src.common.trainer - DEBUG - ==============================\n",
      "2018-11-23 15:41:48,622 - src.common.trainer - DEBUG - epoch: 3\n",
      "2018-11-23 15:41:48,622 - src.common.trainer - DEBUG - train acc: 0.11333333333333333\n",
      "2018-11-23 15:41:48,623 - src.common.trainer - DEBUG - test acc: 0.097\n",
      "2018-11-23 15:41:48,644 - src.common.trainer - DEBUG - train loss: 2.2483672519478866\n",
      "2018-11-23 15:41:48,659 - src.common.trainer - DEBUG - train loss: 2.3516594014533903\n",
      "2018-11-23 15:41:48,669 - src.common.trainer - DEBUG - train loss: 2.297078932537044\n",
      "2018-11-23 15:41:48,844 - src.common.trainer - DEBUG - ==============================\n",
      "2018-11-23 15:41:48,845 - src.common.trainer - DEBUG - epoch: 4\n",
      "2018-11-23 15:41:48,846 - src.common.trainer - DEBUG - train acc: 0.12333333333333334\n",
      "2018-11-23 15:41:48,846 - src.common.trainer - DEBUG - test acc: 0.0972\n",
      "2018-11-23 15:41:48,867 - src.common.trainer - DEBUG - train loss: 2.2649068213817594\n",
      "2018-11-23 15:41:48,876 - src.common.trainer - DEBUG - train loss: 2.248903645497273\n",
      "2018-11-23 15:41:48,885 - src.common.trainer - DEBUG - train loss: 2.278449668521611\n",
      "2018-11-23 15:41:49,054 - src.common.trainer - DEBUG - ==============================\n",
      "2018-11-23 15:41:49,055 - src.common.trainer - DEBUG - epoch: 5\n",
      "2018-11-23 15:41:49,055 - src.common.trainer - DEBUG - train acc: 0.14333333333333334\n",
      "2018-11-23 15:41:49,056 - src.common.trainer - DEBUG - test acc: 0.1003\n",
      "2018-11-23 15:41:49,076 - src.common.trainer - DEBUG - train loss: 2.2654263470028324\n",
      "2018-11-23 15:41:49,085 - src.common.trainer - DEBUG - train loss: 2.2701092601283346\n",
      "2018-11-23 15:41:49,095 - src.common.trainer - DEBUG - train loss: 2.317778237913901\n",
      "2018-11-23 15:41:49,264 - src.common.trainer - DEBUG - ==============================\n",
      "2018-11-23 15:41:49,264 - src.common.trainer - DEBUG - epoch: 6\n",
      "2018-11-23 15:41:49,265 - src.common.trainer - DEBUG - train acc: 0.15666666666666668\n",
      "2018-11-23 15:41:49,265 - src.common.trainer - DEBUG - test acc: 0.1082\n",
      "2018-11-23 15:41:49,285 - src.common.trainer - DEBUG - train loss: 2.233431423043979\n",
      "2018-11-23 15:41:49,294 - src.common.trainer - DEBUG - train loss: 2.2046773852342274\n",
      "2018-11-23 15:41:49,303 - src.common.trainer - DEBUG - train loss: 2.1995905457389373\n",
      "2018-11-23 15:41:49,501 - src.common.trainer - DEBUG - ==============================\n",
      "2018-11-23 15:41:49,505 - src.common.trainer - DEBUG - epoch: 7\n",
      "2018-11-23 15:41:49,507 - src.common.trainer - DEBUG - train acc: 0.17333333333333334\n",
      "2018-11-23 15:41:49,508 - src.common.trainer - DEBUG - test acc: 0.1175\n",
      "2018-11-23 15:41:49,539 - src.common.trainer - DEBUG - train loss: 2.2416651085312904\n",
      "2018-11-23 15:41:49,552 - src.common.trainer - DEBUG - train loss: 2.2627319539526725\n",
      "2018-11-23 15:41:49,564 - src.common.trainer - DEBUG - train loss: 2.2177533461305305\n",
      "2018-11-23 15:41:49,779 - src.common.trainer - DEBUG - ==============================\n",
      "2018-11-23 15:41:49,780 - src.common.trainer - DEBUG - epoch: 8\n",
      "2018-11-23 15:41:49,780 - src.common.trainer - DEBUG - train acc: 0.17666666666666667\n",
      "2018-11-23 15:41:49,781 - src.common.trainer - DEBUG - test acc: 0.1212\n",
      "2018-11-23 15:41:49,802 - src.common.trainer - DEBUG - train loss: 2.164875962757849\n",
      "2018-11-23 15:41:49,812 - src.common.trainer - DEBUG - train loss: 2.2226102133970733\n",
      "2018-11-23 15:41:49,821 - src.common.trainer - DEBUG - train loss: 2.1399240168736426\n",
      "2018-11-23 15:41:50,016 - src.common.trainer - DEBUG - ==============================\n",
      "2018-11-23 15:41:50,016 - src.common.trainer - DEBUG - epoch: 9\n",
      "2018-11-23 15:41:50,017 - src.common.trainer - DEBUG - train acc: 0.2\n",
      "2018-11-23 15:41:50,018 - src.common.trainer - DEBUG - test acc: 0.1322\n",
      "2018-11-23 15:41:50,039 - src.common.trainer - DEBUG - train loss: 2.243129302519086\n",
      "2018-11-23 15:41:50,048 - src.common.trainer - DEBUG - train loss: 2.158454550122838\n",
      "2018-11-23 15:41:50,057 - src.common.trainer - DEBUG - train loss: 2.144466746830248\n",
      "2018-11-23 15:41:50,241 - src.common.trainer - DEBUG - ==============================\n",
      "2018-11-23 15:41:50,242 - src.common.trainer - DEBUG - epoch: 10\n",
      "2018-11-23 15:41:50,243 - src.common.trainer - DEBUG - train acc: 0.21333333333333335\n",
      "2018-11-23 15:41:50,245 - src.common.trainer - DEBUG - test acc: 0.143\n",
      "2018-11-23 15:41:50,269 - src.common.trainer - DEBUG - train loss: 2.191527926914979\n",
      "2018-11-23 15:41:50,278 - src.common.trainer - DEBUG - train loss: 2.1178400906145383\n",
      "2018-11-23 15:41:50,288 - src.common.trainer - DEBUG - train loss: 2.1795824833112465\n",
      "2018-11-23 15:41:50,488 - src.common.trainer - DEBUG - ==============================\n",
      "2018-11-23 15:41:50,489 - src.common.trainer - DEBUG - epoch: 11\n",
      "2018-11-23 15:41:50,490 - src.common.trainer - DEBUG - train acc: 0.25\n",
      "2018-11-23 15:41:50,491 - src.common.trainer - DEBUG - test acc: 0.1598\n",
      "2018-11-23 15:41:50,513 - src.common.trainer - DEBUG - train loss: 2.11281844955041\n",
      "2018-11-23 15:41:50,524 - src.common.trainer - DEBUG - train loss: 2.146144204675102\n",
      "2018-11-23 15:41:50,534 - src.common.trainer - DEBUG - train loss: 2.1211811849912534\n",
      "2018-11-23 15:41:50,728 - src.common.trainer - DEBUG - ==============================\n",
      "2018-11-23 15:41:50,729 - src.common.trainer - DEBUG - epoch: 12\n",
      "2018-11-23 15:41:50,730 - src.common.trainer - DEBUG - train acc: 0.27\n",
      "2018-11-23 15:41:50,730 - src.common.trainer - DEBUG - test acc: 0.1678\n",
      "2018-11-23 15:41:50,750 - src.common.trainer - DEBUG - train loss: 2.1193729221878446\n",
      "2018-11-23 15:41:50,759 - src.common.trainer - DEBUG - train loss: 2.123536038268046\n",
      "2018-11-23 15:41:50,768 - src.common.trainer - DEBUG - train loss: 2.1606761493025983\n",
      "2018-11-23 15:41:50,996 - src.common.trainer - DEBUG - ==============================\n",
      "2018-11-23 15:41:50,996 - src.common.trainer - DEBUG - epoch: 13\n",
      "2018-11-23 15:41:50,997 - src.common.trainer - DEBUG - train acc: 0.31666666666666665\n",
      "2018-11-23 15:41:50,998 - src.common.trainer - DEBUG - test acc: 0.195\n",
      "2018-11-23 15:41:51,018 - src.common.trainer - DEBUG - train loss: 2.0979938509316227\n",
      "2018-11-23 15:41:51,029 - src.common.trainer - DEBUG - train loss: 2.081102885434258\n",
      "2018-11-23 15:41:51,041 - src.common.trainer - DEBUG - train loss: 2.1147877119010174\n",
      "2018-11-23 15:41:51,233 - src.common.trainer - DEBUG - ==============================\n",
      "2018-11-23 15:41:51,234 - src.common.trainer - DEBUG - epoch: 14\n",
      "2018-11-23 15:41:51,234 - src.common.trainer - DEBUG - train acc: 0.34\n",
      "2018-11-23 15:41:51,235 - src.common.trainer - DEBUG - test acc: 0.2058\n",
      "2018-11-23 15:41:51,256 - src.common.trainer - DEBUG - train loss: 2.1743787571061137\n",
      "2018-11-23 15:41:51,266 - src.common.trainer - DEBUG - train loss: 2.0955532152268277\n",
      "2018-11-23 15:41:51,275 - src.common.trainer - DEBUG - train loss: 2.1033573488272865\n",
      "2018-11-23 15:41:51,463 - src.common.trainer - DEBUG - ==============================\n",
      "2018-11-23 15:41:51,464 - src.common.trainer - DEBUG - epoch: 15\n",
      "2018-11-23 15:41:51,464 - src.common.trainer - DEBUG - train acc: 0.36\n",
      "2018-11-23 15:41:51,465 - src.common.trainer - DEBUG - test acc: 0.2328\n",
      "2018-11-23 15:41:51,485 - src.common.trainer - DEBUG - train loss: 2.0189626973297194\n",
      "2018-11-23 15:41:51,494 - src.common.trainer - DEBUG - train loss: 2.106245630363809\n",
      "2018-11-23 15:41:51,503 - src.common.trainer - DEBUG - train loss: 2.100332945208137\n",
      "2018-11-23 15:41:51,695 - src.common.trainer - DEBUG - ==============================\n",
      "2018-11-23 15:41:51,695 - src.common.trainer - DEBUG - epoch: 16\n",
      "2018-11-23 15:41:51,696 - src.common.trainer - DEBUG - train acc: 0.37\n",
      "2018-11-23 15:41:51,697 - src.common.trainer - DEBUG - test acc: 0.24\n",
      "2018-11-23 15:41:51,728 - src.common.trainer - DEBUG - train loss: 2.028914936900898\n",
      "2018-11-23 15:41:51,738 - src.common.trainer - DEBUG - train loss: 2.056543303310836\n",
      "2018-11-23 15:41:51,747 - src.common.trainer - DEBUG - train loss: 2.061971131421982\n",
      "2018-11-23 15:41:51,925 - src.common.trainer - DEBUG - ==============================\n",
      "2018-11-23 15:41:51,926 - src.common.trainer - DEBUG - epoch: 17\n",
      "2018-11-23 15:41:51,927 - src.common.trainer - DEBUG - train acc: 0.39\n",
      "2018-11-23 15:41:51,928 - src.common.trainer - DEBUG - test acc: 0.2569\n",
      "2018-11-23 15:41:51,949 - src.common.trainer - DEBUG - train loss: 2.0336856091152735\n",
      "2018-11-23 15:41:51,958 - src.common.trainer - DEBUG - train loss: 2.089106436286766\n",
      "2018-11-23 15:41:51,968 - src.common.trainer - DEBUG - train loss: 2.0294304664022946\n",
      "2018-11-23 15:41:52,167 - src.common.trainer - DEBUG - ==============================\n",
      "2018-11-23 15:41:52,167 - src.common.trainer - DEBUG - epoch: 18\n",
      "2018-11-23 15:41:52,168 - src.common.trainer - DEBUG - train acc: 0.4033333333333333\n",
      "2018-11-23 15:41:52,169 - src.common.trainer - DEBUG - test acc: 0.272\n",
      "2018-11-23 15:41:52,192 - src.common.trainer - DEBUG - train loss: 2.0380854886346764\n",
      "2018-11-23 15:41:52,201 - src.common.trainer - DEBUG - train loss: 1.9865419562775422\n",
      "2018-11-23 15:41:52,210 - src.common.trainer - DEBUG - train loss: 2.022774732929445\n",
      "2018-11-23 15:41:52,376 - src.common.trainer - DEBUG - ==============================\n",
      "2018-11-23 15:41:52,377 - src.common.trainer - DEBUG - epoch: 19\n",
      "2018-11-23 15:41:52,378 - src.common.trainer - DEBUG - train acc: 0.4166666666666667\n",
      "2018-11-23 15:41:52,379 - src.common.trainer - DEBUG - test acc: 0.2869\n",
      "2018-11-23 15:41:52,400 - src.common.trainer - DEBUG - train loss: 1.9957301732470267\n",
      "2018-11-23 15:41:52,409 - src.common.trainer - DEBUG - train loss: 1.9645333668925569\n",
      "2018-11-23 15:41:52,418 - src.common.trainer - DEBUG - train loss: 1.939773197673163\n",
      "2018-11-23 15:41:52,600 - src.common.trainer - DEBUG - ==============================\n",
      "2018-11-23 15:41:52,601 - src.common.trainer - DEBUG - epoch: 20\n",
      "2018-11-23 15:41:52,602 - src.common.trainer - DEBUG - train acc: 0.43\n",
      "2018-11-23 15:41:52,603 - src.common.trainer - DEBUG - test acc: 0.299\n",
      "2018-11-23 15:41:52,625 - src.common.trainer - DEBUG - train loss: 2.027184858262727\n",
      "2018-11-23 15:41:52,636 - src.common.trainer - DEBUG - train loss: 1.9848921423095276\n",
      "2018-11-23 15:41:52,645 - src.common.trainer - DEBUG - train loss: 1.93057962122021\n",
      "2018-11-23 15:41:52,812 - src.common.trainer - DEBUG - ==============================\n",
      "2018-11-23 15:41:52,813 - src.common.trainer - DEBUG - epoch: 21\n",
      "2018-11-23 15:41:52,813 - src.common.trainer - DEBUG - train acc: 0.44666666666666666\n",
      "2018-11-23 15:41:52,814 - src.common.trainer - DEBUG - test acc: 0.3228\n",
      "2018-11-23 15:41:52,833 - src.common.trainer - DEBUG - train loss: 1.8483286069435148\n",
      "2018-11-23 15:41:52,843 - src.common.trainer - DEBUG - train loss: 1.906470833119166\n",
      "2018-11-23 15:41:52,853 - src.common.trainer - DEBUG - train loss: 1.853195462301397\n",
      "2018-11-23 15:41:53,023 - src.common.trainer - DEBUG - ==============================\n",
      "2018-11-23 15:41:53,023 - src.common.trainer - DEBUG - epoch: 22\n",
      "2018-11-23 15:41:53,024 - src.common.trainer - DEBUG - train acc: 0.44333333333333336\n",
      "2018-11-23 15:41:53,024 - src.common.trainer - DEBUG - test acc: 0.3243\n",
      "2018-11-23 15:41:53,045 - src.common.trainer - DEBUG - train loss: 1.896855335657073\n",
      "2018-11-23 15:41:53,055 - src.common.trainer - DEBUG - train loss: 1.9255821911202275\n",
      "2018-11-23 15:41:53,065 - src.common.trainer - DEBUG - train loss: 1.892926007193899\n",
      "2018-11-23 15:41:53,233 - src.common.trainer - DEBUG - ==============================\n",
      "2018-11-23 15:41:53,234 - src.common.trainer - DEBUG - epoch: 23\n",
      "2018-11-23 15:41:53,235 - src.common.trainer - DEBUG - train acc: 0.4533333333333333\n",
      "2018-11-23 15:41:53,235 - src.common.trainer - DEBUG - test acc: 0.3238\n",
      "2018-11-23 15:41:53,257 - src.common.trainer - DEBUG - train loss: 1.8928168692115523\n",
      "2018-11-23 15:41:53,266 - src.common.trainer - DEBUG - train loss: 1.8508074627165179\n",
      "2018-11-23 15:41:53,275 - src.common.trainer - DEBUG - train loss: 1.912208604029454\n",
      "2018-11-23 15:41:53,460 - src.common.trainer - DEBUG - ==============================\n",
      "2018-11-23 15:41:53,460 - src.common.trainer - DEBUG - epoch: 24\n",
      "2018-11-23 15:41:53,461 - src.common.trainer - DEBUG - train acc: 0.48333333333333334\n",
      "2018-11-23 15:41:53,461 - src.common.trainer - DEBUG - test acc: 0.3453\n",
      "2018-11-23 15:41:53,483 - src.common.trainer - DEBUG - train loss: 1.878615104683717\n",
      "2018-11-23 15:41:53,504 - src.common.trainer - DEBUG - train loss: 1.8910956179226104\n",
      "2018-11-23 15:41:53,512 - src.common.trainer - DEBUG - train loss: 1.7687898512181925\n",
      "2018-11-23 15:41:53,696 - src.common.trainer - DEBUG - ==============================\n",
      "2018-11-23 15:41:53,696 - src.common.trainer - DEBUG - epoch: 25\n",
      "2018-11-23 15:41:53,697 - src.common.trainer - DEBUG - train acc: 0.49666666666666665\n",
      "2018-11-23 15:41:53,697 - src.common.trainer - DEBUG - test acc: 0.3488\n",
      "2018-11-23 15:41:53,724 - src.common.trainer - DEBUG - train loss: 1.8082649554178463\n",
      "2018-11-23 15:41:53,736 - src.common.trainer - DEBUG - train loss: 1.8380880401569866\n",
      "2018-11-23 15:41:53,745 - src.common.trainer - DEBUG - train loss: 1.8651728084370292\n",
      "2018-11-23 15:41:53,929 - src.common.trainer - DEBUG - ==============================\n",
      "2018-11-23 15:41:53,930 - src.common.trainer - DEBUG - epoch: 26\n",
      "2018-11-23 15:41:53,930 - src.common.trainer - DEBUG - train acc: 0.5\n",
      "2018-11-23 15:41:53,931 - src.common.trainer - DEBUG - test acc: 0.359\n",
      "2018-11-23 15:41:53,952 - src.common.trainer - DEBUG - train loss: 1.8301609368395062\n",
      "2018-11-23 15:41:53,962 - src.common.trainer - DEBUG - train loss: 1.8237390350576106\n",
      "2018-11-23 15:41:53,971 - src.common.trainer - DEBUG - train loss: 1.703199935593706\n",
      "2018-11-23 15:41:54,145 - src.common.trainer - DEBUG - ==============================\n",
      "2018-11-23 15:41:54,146 - src.common.trainer - DEBUG - epoch: 27\n",
      "2018-11-23 15:41:54,146 - src.common.trainer - DEBUG - train acc: 0.5166666666666667\n",
      "2018-11-23 15:41:54,147 - src.common.trainer - DEBUG - test acc: 0.3643\n",
      "2018-11-23 15:41:54,168 - src.common.trainer - DEBUG - train loss: 1.7567784362642893\n",
      "2018-11-23 15:41:54,179 - src.common.trainer - DEBUG - train loss: 1.6890246895812455\n",
      "2018-11-23 15:41:54,189 - src.common.trainer - DEBUG - train loss: 1.779875810817803\n",
      "2018-11-23 15:41:54,381 - src.common.trainer - DEBUG - ==============================\n",
      "2018-11-23 15:41:54,381 - src.common.trainer - DEBUG - epoch: 28\n",
      "2018-11-23 15:41:54,382 - src.common.trainer - DEBUG - train acc: 0.5433333333333333\n",
      "2018-11-23 15:41:54,382 - src.common.trainer - DEBUG - test acc: 0.3846\n",
      "2018-11-23 15:41:54,412 - src.common.trainer - DEBUG - train loss: 1.8459965627676487\n",
      "2018-11-23 15:41:54,425 - src.common.trainer - DEBUG - train loss: 1.6260829225068847\n",
      "2018-11-23 15:41:54,434 - src.common.trainer - DEBUG - train loss: 1.763773963283963\n",
      "2018-11-23 15:41:54,635 - src.common.trainer - DEBUG - ==============================\n",
      "2018-11-23 15:41:54,636 - src.common.trainer - DEBUG - epoch: 29\n",
      "2018-11-23 15:41:54,637 - src.common.trainer - DEBUG - train acc: 0.5466666666666666\n",
      "2018-11-23 15:41:54,637 - src.common.trainer - DEBUG - test acc: 0.3793\n",
      "2018-11-23 15:41:54,659 - src.common.trainer - DEBUG - train loss: 1.6904875744895773\n",
      "2018-11-23 15:41:54,669 - src.common.trainer - DEBUG - train loss: 1.6624438584545111\n",
      "2018-11-23 15:41:54,678 - src.common.trainer - DEBUG - train loss: 1.7062687054053634\n",
      "2018-11-23 15:41:54,854 - src.common.trainer - DEBUG - ==============================\n",
      "2018-11-23 15:41:54,854 - src.common.trainer - DEBUG - epoch: 30\n",
      "2018-11-23 15:41:54,855 - src.common.trainer - DEBUG - train acc: 0.5733333333333334\n",
      "2018-11-23 15:41:54,855 - src.common.trainer - DEBUG - test acc: 0.4001\n",
      "2018-11-23 15:41:54,876 - src.common.trainer - DEBUG - train loss: 1.6751819263596572\n",
      "2018-11-23 15:41:54,885 - src.common.trainer - DEBUG - train loss: 1.7238999746875976\n",
      "2018-11-23 15:41:54,894 - src.common.trainer - DEBUG - train loss: 1.7186833760282452\n",
      "2018-11-23 15:41:55,073 - src.common.trainer - DEBUG - ==============================\n",
      "2018-11-23 15:41:55,074 - src.common.trainer - DEBUG - epoch: 31\n",
      "2018-11-23 15:41:55,075 - src.common.trainer - DEBUG - train acc: 0.59\n",
      "2018-11-23 15:41:55,076 - src.common.trainer - DEBUG - test acc: 0.4167\n",
      "2018-11-23 15:41:55,101 - src.common.trainer - DEBUG - train loss: 1.5791126101095445\n",
      "2018-11-23 15:41:55,114 - src.common.trainer - DEBUG - train loss: 1.6794368147227163\n",
      "2018-11-23 15:41:55,126 - src.common.trainer - DEBUG - train loss: 1.5831388482711828\n",
      "2018-11-23 15:41:55,313 - src.common.trainer - DEBUG - ==============================\n",
      "2018-11-23 15:41:55,314 - src.common.trainer - DEBUG - epoch: 32\n",
      "2018-11-23 15:41:55,314 - src.common.trainer - DEBUG - train acc: 0.6166666666666667\n",
      "2018-11-23 15:41:55,315 - src.common.trainer - DEBUG - test acc: 0.4277\n",
      "2018-11-23 15:41:55,339 - src.common.trainer - DEBUG - train loss: 1.7282910092996473\n",
      "2018-11-23 15:41:55,351 - src.common.trainer - DEBUG - train loss: 1.638025007365145\n",
      "2018-11-23 15:41:55,363 - src.common.trainer - DEBUG - train loss: 1.6135458803109153\n",
      "2018-11-23 15:41:55,542 - src.common.trainer - DEBUG - ==============================\n",
      "2018-11-23 15:41:55,543 - src.common.trainer - DEBUG - epoch: 33\n",
      "2018-11-23 15:41:55,544 - src.common.trainer - DEBUG - train acc: 0.6266666666666667\n",
      "2018-11-23 15:41:55,544 - src.common.trainer - DEBUG - test acc: 0.4393\n",
      "2018-11-23 15:41:55,565 - src.common.trainer - DEBUG - train loss: 1.650059495525841\n",
      "2018-11-23 15:41:55,574 - src.common.trainer - DEBUG - train loss: 1.606404140426645\n",
      "2018-11-23 15:41:55,584 - src.common.trainer - DEBUG - train loss: 1.51008290676793\n",
      "2018-11-23 15:41:55,768 - src.common.trainer - DEBUG - ==============================\n",
      "2018-11-23 15:41:55,769 - src.common.trainer - DEBUG - epoch: 34\n",
      "2018-11-23 15:41:55,769 - src.common.trainer - DEBUG - train acc: 0.6333333333333333\n",
      "2018-11-23 15:41:55,770 - src.common.trainer - DEBUG - test acc: 0.4429\n",
      "2018-11-23 15:41:55,792 - src.common.trainer - DEBUG - train loss: 1.5244160951958445\n",
      "2018-11-23 15:41:55,802 - src.common.trainer - DEBUG - train loss: 1.448245694510431\n",
      "2018-11-23 15:41:55,813 - src.common.trainer - DEBUG - train loss: 1.5170158883935934\n",
      "2018-11-23 15:41:56,028 - src.common.trainer - DEBUG - ==============================\n",
      "2018-11-23 15:41:56,029 - src.common.trainer - DEBUG - epoch: 35\n",
      "2018-11-23 15:41:56,029 - src.common.trainer - DEBUG - train acc: 0.6533333333333333\n",
      "2018-11-23 15:41:56,030 - src.common.trainer - DEBUG - test acc: 0.4468\n",
      "2018-11-23 15:41:56,057 - src.common.trainer - DEBUG - train loss: 1.4352281864347924\n",
      "2018-11-23 15:41:56,068 - src.common.trainer - DEBUG - train loss: 1.3721253571043894\n",
      "2018-11-23 15:41:56,078 - src.common.trainer - DEBUG - train loss: 1.4546027084034743\n",
      "2018-11-23 15:41:56,249 - src.common.trainer - DEBUG - ==============================\n",
      "2018-11-23 15:41:56,250 - src.common.trainer - DEBUG - epoch: 36\n",
      "2018-11-23 15:41:56,250 - src.common.trainer - DEBUG - train acc: 0.6533333333333333\n",
      "2018-11-23 15:41:56,251 - src.common.trainer - DEBUG - test acc: 0.4577\n",
      "2018-11-23 15:41:56,272 - src.common.trainer - DEBUG - train loss: 1.5480301026394527\n",
      "2018-11-23 15:41:56,282 - src.common.trainer - DEBUG - train loss: 1.450070671363223\n",
      "2018-11-23 15:41:56,291 - src.common.trainer - DEBUG - train loss: 1.5898160534114283\n",
      "2018-11-23 15:41:56,490 - src.common.trainer - DEBUG - ==============================\n",
      "2018-11-23 15:41:56,492 - src.common.trainer - DEBUG - epoch: 37\n",
      "2018-11-23 15:41:56,492 - src.common.trainer - DEBUG - train acc: 0.6733333333333333\n",
      "2018-11-23 15:41:56,494 - src.common.trainer - DEBUG - test acc: 0.4741\n",
      "2018-11-23 15:41:56,534 - src.common.trainer - DEBUG - train loss: 1.4672559045540232\n",
      "2018-11-23 15:41:56,546 - src.common.trainer - DEBUG - train loss: 1.3937094054015875\n",
      "2018-11-23 15:41:56,561 - src.common.trainer - DEBUG - train loss: 1.4493061942094\n",
      "2018-11-23 15:41:56,758 - src.common.trainer - DEBUG - ==============================\n",
      "2018-11-23 15:41:56,758 - src.common.trainer - DEBUG - epoch: 38\n",
      "2018-11-23 15:41:56,760 - src.common.trainer - DEBUG - train acc: 0.6966666666666667\n",
      "2018-11-23 15:41:56,764 - src.common.trainer - DEBUG - test acc: 0.4894\n",
      "2018-11-23 15:41:56,789 - src.common.trainer - DEBUG - train loss: 1.4284765475077656\n",
      "2018-11-23 15:41:56,804 - src.common.trainer - DEBUG - train loss: 1.3467292355850622\n",
      "2018-11-23 15:41:56,818 - src.common.trainer - DEBUG - train loss: 1.2856315489057215\n",
      "2018-11-23 15:41:56,991 - src.common.trainer - DEBUG - ==============================\n",
      "2018-11-23 15:41:56,992 - src.common.trainer - DEBUG - epoch: 39\n",
      "2018-11-23 15:41:56,993 - src.common.trainer - DEBUG - train acc: 0.7166666666666667\n",
      "2018-11-23 15:41:56,993 - src.common.trainer - DEBUG - test acc: 0.4957\n",
      "2018-11-23 15:41:57,020 - src.common.trainer - DEBUG - train loss: 1.4191541996372306\n",
      "2018-11-23 15:41:57,035 - src.common.trainer - DEBUG - train loss: 1.268900705076242\n",
      "2018-11-23 15:41:57,049 - src.common.trainer - DEBUG - train loss: 1.2728766424497164\n",
      "2018-11-23 15:41:57,260 - src.common.trainer - DEBUG - ==============================\n",
      "2018-11-23 15:41:57,261 - src.common.trainer - DEBUG - epoch: 40\n",
      "2018-11-23 15:41:57,263 - src.common.trainer - DEBUG - train acc: 0.7233333333333334\n",
      "2018-11-23 15:41:57,264 - src.common.trainer - DEBUG - test acc: 0.5007\n",
      "2018-11-23 15:41:57,287 - src.common.trainer - DEBUG - train loss: 1.2421340930844849\n",
      "2018-11-23 15:41:57,297 - src.common.trainer - DEBUG - train loss: 1.3348386640015477\n",
      "2018-11-23 15:41:57,307 - src.common.trainer - DEBUG - train loss: 1.2095599014658283\n",
      "2018-11-23 15:41:57,491 - src.common.trainer - DEBUG - ==============================\n",
      "2018-11-23 15:41:57,493 - src.common.trainer - DEBUG - epoch: 41\n",
      "2018-11-23 15:41:57,493 - src.common.trainer - DEBUG - train acc: 0.7233333333333334\n",
      "2018-11-23 15:41:57,495 - src.common.trainer - DEBUG - test acc: 0.5067\n",
      "2018-11-23 15:41:57,516 - src.common.trainer - DEBUG - train loss: 1.3624452495086832\n",
      "2018-11-23 15:41:57,526 - src.common.trainer - DEBUG - train loss: 1.347436992322032\n",
      "2018-11-23 15:41:57,535 - src.common.trainer - DEBUG - train loss: 1.1515293330745866\n",
      "2018-11-23 15:41:57,720 - src.common.trainer - DEBUG - ==============================\n",
      "2018-11-23 15:41:57,721 - src.common.trainer - DEBUG - epoch: 42\n",
      "2018-11-23 15:41:57,721 - src.common.trainer - DEBUG - train acc: 0.75\n",
      "2018-11-23 15:41:57,723 - src.common.trainer - DEBUG - test acc: 0.5316\n",
      "2018-11-23 15:41:57,751 - src.common.trainer - DEBUG - train loss: 1.238629467829234\n",
      "2018-11-23 15:41:57,764 - src.common.trainer - DEBUG - train loss: 1.2653629058406877\n",
      "2018-11-23 15:41:57,776 - src.common.trainer - DEBUG - train loss: 1.1806991959223767\n",
      "2018-11-23 15:41:57,968 - src.common.trainer - DEBUG - ==============================\n",
      "2018-11-23 15:41:57,969 - src.common.trainer - DEBUG - epoch: 43\n",
      "2018-11-23 15:41:57,969 - src.common.trainer - DEBUG - train acc: 0.77\n",
      "2018-11-23 15:41:57,970 - src.common.trainer - DEBUG - test acc: 0.5378\n",
      "2018-11-23 15:41:57,997 - src.common.trainer - DEBUG - train loss: 1.3520781963051913\n",
      "2018-11-23 15:41:58,008 - src.common.trainer - DEBUG - train loss: 1.184168769361371\n",
      "2018-11-23 15:41:58,017 - src.common.trainer - DEBUG - train loss: 1.1684591320818614\n",
      "2018-11-23 15:41:58,200 - src.common.trainer - DEBUG - ==============================\n",
      "2018-11-23 15:41:58,201 - src.common.trainer - DEBUG - epoch: 44\n",
      "2018-11-23 15:41:58,202 - src.common.trainer - DEBUG - train acc: 0.78\n",
      "2018-11-23 15:41:58,202 - src.common.trainer - DEBUG - test acc: 0.5457\n",
      "2018-11-23 15:41:58,227 - src.common.trainer - DEBUG - train loss: 1.0220706083616833\n",
      "2018-11-23 15:41:58,237 - src.common.trainer - DEBUG - train loss: 1.1583306470197794\n",
      "2018-11-23 15:41:58,246 - src.common.trainer - DEBUG - train loss: 1.1356971123852295\n",
      "2018-11-23 15:41:58,468 - src.common.trainer - DEBUG - ==============================\n",
      "2018-11-23 15:41:58,469 - src.common.trainer - DEBUG - epoch: 45\n",
      "2018-11-23 15:41:58,470 - src.common.trainer - DEBUG - train acc: 0.7633333333333333\n",
      "2018-11-23 15:41:58,472 - src.common.trainer - DEBUG - test acc: 0.5542\n",
      "2018-11-23 15:41:58,500 - src.common.trainer - DEBUG - train loss: 1.0398007212109033\n",
      "2018-11-23 15:41:58,512 - src.common.trainer - DEBUG - train loss: 1.0599268550668943\n",
      "2018-11-23 15:41:58,523 - src.common.trainer - DEBUG - train loss: 0.978052829210677\n",
      "2018-11-23 15:41:58,708 - src.common.trainer - DEBUG - ==============================\n",
      "2018-11-23 15:41:58,709 - src.common.trainer - DEBUG - epoch: 46\n",
      "2018-11-23 15:41:58,709 - src.common.trainer - DEBUG - train acc: 0.7933333333333333\n",
      "2018-11-23 15:41:58,710 - src.common.trainer - DEBUG - test acc: 0.5621\n",
      "2018-11-23 15:41:58,731 - src.common.trainer - DEBUG - train loss: 1.174295124678116\n",
      "2018-11-23 15:41:58,745 - src.common.trainer - DEBUG - train loss: 1.0480624789727444\n",
      "2018-11-23 15:41:58,756 - src.common.trainer - DEBUG - train loss: 1.0990274409619913\n",
      "2018-11-23 15:41:58,972 - src.common.trainer - DEBUG - ==============================\n",
      "2018-11-23 15:41:58,973 - src.common.trainer - DEBUG - epoch: 47\n",
      "2018-11-23 15:41:58,974 - src.common.trainer - DEBUG - train acc: 0.7966666666666666\n",
      "2018-11-23 15:41:58,974 - src.common.trainer - DEBUG - test acc: 0.559\n",
      "2018-11-23 15:41:59,002 - src.common.trainer - DEBUG - train loss: 0.9154417775066473\n",
      "2018-11-23 15:41:59,013 - src.common.trainer - DEBUG - train loss: 0.9752841245513107\n",
      "2018-11-23 15:41:59,023 - src.common.trainer - DEBUG - train loss: 0.9700696035108848\n",
      "2018-11-23 15:41:59,209 - src.common.trainer - DEBUG - ==============================\n",
      "2018-11-23 15:41:59,211 - src.common.trainer - DEBUG - epoch: 48\n",
      "2018-11-23 15:41:59,213 - src.common.trainer - DEBUG - train acc: 0.7933333333333333\n",
      "2018-11-23 15:41:59,215 - src.common.trainer - DEBUG - test acc: 0.5643\n",
      "2018-11-23 15:41:59,240 - src.common.trainer - DEBUG - train loss: 1.0183857522887962\n",
      "2018-11-23 15:41:59,252 - src.common.trainer - DEBUG - train loss: 1.0291366393201338\n",
      "2018-11-23 15:41:59,265 - src.common.trainer - DEBUG - train loss: 1.0892878967668425\n",
      "2018-11-23 15:41:59,460 - src.common.trainer - DEBUG - ==============================\n",
      "2018-11-23 15:41:59,461 - src.common.trainer - DEBUG - epoch: 49\n",
      "2018-11-23 15:41:59,462 - src.common.trainer - DEBUG - train acc: 0.8133333333333334\n",
      "2018-11-23 15:41:59,463 - src.common.trainer - DEBUG - test acc: 0.5714\n",
      "2018-11-23 15:41:59,490 - src.common.trainer - DEBUG - train loss: 1.1243222574737937\n",
      "2018-11-23 15:41:59,502 - src.common.trainer - DEBUG - train loss: 0.9712514800652379\n",
      "2018-11-23 15:41:59,514 - src.common.trainer - DEBUG - train loss: 0.8986569784490753\n",
      "2018-11-23 15:41:59,695 - src.common.trainer - DEBUG - ==============================\n",
      "2018-11-23 15:41:59,696 - src.common.trainer - DEBUG - epoch: 50\n",
      "2018-11-23 15:41:59,696 - src.common.trainer - DEBUG - train acc: 0.8066666666666666\n",
      "2018-11-23 15:41:59,697 - src.common.trainer - DEBUG - test acc: 0.562\n",
      "2018-11-23 15:41:59,727 - src.common.trainer - DEBUG - train loss: 0.9144948402530879\n",
      "2018-11-23 15:41:59,738 - src.common.trainer - DEBUG - train loss: 0.8737656990534205\n",
      "2018-11-23 15:41:59,748 - src.common.trainer - DEBUG - train loss: 0.7989005077024727\n",
      "2018-11-23 15:41:59,940 - src.common.trainer - DEBUG - ==============================\n",
      "2018-11-23 15:41:59,941 - src.common.trainer - DEBUG - epoch: 51\n",
      "2018-11-23 15:41:59,942 - src.common.trainer - DEBUG - train acc: 0.82\n",
      "2018-11-23 15:41:59,944 - src.common.trainer - DEBUG - test acc: 0.5757\n",
      "2018-11-23 15:41:59,970 - src.common.trainer - DEBUG - train loss: 1.0067239327020083\n",
      "2018-11-23 15:41:59,981 - src.common.trainer - DEBUG - train loss: 0.9507277850428543\n",
      "2018-11-23 15:41:59,990 - src.common.trainer - DEBUG - train loss: 0.8344907810186807\n",
      "2018-11-23 15:42:00,176 - src.common.trainer - DEBUG - ==============================\n",
      "2018-11-23 15:42:00,177 - src.common.trainer - DEBUG - epoch: 52\n",
      "2018-11-23 15:42:00,177 - src.common.trainer - DEBUG - train acc: 0.8366666666666667\n",
      "2018-11-23 15:42:00,178 - src.common.trainer - DEBUG - test acc: 0.5884\n",
      "2018-11-23 15:42:00,203 - src.common.trainer - DEBUG - train loss: 0.90093693554203\n",
      "2018-11-23 15:42:00,219 - src.common.trainer - DEBUG - train loss: 0.8967058635315859\n",
      "2018-11-23 15:42:00,236 - src.common.trainer - DEBUG - train loss: 0.8014483636937314\n",
      "2018-11-23 15:42:00,430 - src.common.trainer - DEBUG - ==============================\n",
      "2018-11-23 15:42:00,431 - src.common.trainer - DEBUG - epoch: 53\n",
      "2018-11-23 15:42:00,432 - src.common.trainer - DEBUG - train acc: 0.83\n",
      "2018-11-23 15:42:00,432 - src.common.trainer - DEBUG - test acc: 0.6009\n",
      "2018-11-23 15:42:00,456 - src.common.trainer - DEBUG - train loss: 0.7505634126534302\n",
      "2018-11-23 15:42:00,469 - src.common.trainer - DEBUG - train loss: 0.6871628627203669\n",
      "2018-11-23 15:42:00,483 - src.common.trainer - DEBUG - train loss: 0.7979765800652744\n",
      "2018-11-23 15:42:00,712 - src.common.trainer - DEBUG - ==============================\n",
      "2018-11-23 15:42:00,713 - src.common.trainer - DEBUG - epoch: 54\n",
      "2018-11-23 15:42:00,713 - src.common.trainer - DEBUG - train acc: 0.82\n",
      "2018-11-23 15:42:00,714 - src.common.trainer - DEBUG - test acc: 0.5891\n",
      "2018-11-23 15:42:00,737 - src.common.trainer - DEBUG - train loss: 0.9207609135890358\n",
      "2018-11-23 15:42:00,748 - src.common.trainer - DEBUG - train loss: 0.7738141905994442\n",
      "2018-11-23 15:42:00,760 - src.common.trainer - DEBUG - train loss: 0.7442515396272809\n",
      "2018-11-23 15:42:00,956 - src.common.trainer - DEBUG - ==============================\n",
      "2018-11-23 15:42:00,957 - src.common.trainer - DEBUG - epoch: 55\n",
      "2018-11-23 15:42:00,958 - src.common.trainer - DEBUG - train acc: 0.84\n",
      "2018-11-23 15:42:00,960 - src.common.trainer - DEBUG - test acc: 0.6135\n",
      "2018-11-23 15:42:00,981 - src.common.trainer - DEBUG - train loss: 0.7284323386986423\n",
      "2018-11-23 15:42:00,993 - src.common.trainer - DEBUG - train loss: 0.7203748938550395\n",
      "2018-11-23 15:42:01,002 - src.common.trainer - DEBUG - train loss: 0.7058487246562027\n",
      "2018-11-23 15:42:01,193 - src.common.trainer - DEBUG - ==============================\n",
      "2018-11-23 15:42:01,193 - src.common.trainer - DEBUG - epoch: 56\n",
      "2018-11-23 15:42:01,194 - src.common.trainer - DEBUG - train acc: 0.84\n",
      "2018-11-23 15:42:01,195 - src.common.trainer - DEBUG - test acc: 0.618\n",
      "2018-11-23 15:42:01,217 - src.common.trainer - DEBUG - train loss: 0.7372803063492323\n",
      "2018-11-23 15:42:01,226 - src.common.trainer - DEBUG - train loss: 0.71022629634428\n",
      "2018-11-23 15:42:01,235 - src.common.trainer - DEBUG - train loss: 0.745070774143053\n",
      "2018-11-23 15:42:01,410 - src.common.trainer - DEBUG - ==============================\n",
      "2018-11-23 15:42:01,411 - src.common.trainer - DEBUG - epoch: 57\n",
      "2018-11-23 15:42:01,412 - src.common.trainer - DEBUG - train acc: 0.85\n",
      "2018-11-23 15:42:01,413 - src.common.trainer - DEBUG - test acc: 0.6254\n",
      "2018-11-23 15:42:01,435 - src.common.trainer - DEBUG - train loss: 0.7847618990711822\n",
      "2018-11-23 15:42:01,444 - src.common.trainer - DEBUG - train loss: 0.908308916901015\n",
      "2018-11-23 15:42:01,453 - src.common.trainer - DEBUG - train loss: 0.7543569913995131\n",
      "2018-11-23 15:42:01,676 - src.common.trainer - DEBUG - ==============================\n",
      "2018-11-23 15:42:01,677 - src.common.trainer - DEBUG - epoch: 58\n",
      "2018-11-23 15:42:01,678 - src.common.trainer - DEBUG - train acc: 0.8533333333333334\n",
      "2018-11-23 15:42:01,678 - src.common.trainer - DEBUG - test acc: 0.6268\n",
      "2018-11-23 15:42:01,714 - src.common.trainer - DEBUG - train loss: 0.6885982047157573\n",
      "2018-11-23 15:42:01,725 - src.common.trainer - DEBUG - train loss: 0.6806143601832193\n",
      "2018-11-23 15:42:01,736 - src.common.trainer - DEBUG - train loss: 0.6141913263370793\n",
      "2018-11-23 15:42:01,912 - src.common.trainer - DEBUG - ==============================\n",
      "2018-11-23 15:42:01,913 - src.common.trainer - DEBUG - epoch: 59\n",
      "2018-11-23 15:42:01,914 - src.common.trainer - DEBUG - train acc: 0.8533333333333334\n",
      "2018-11-23 15:42:01,914 - src.common.trainer - DEBUG - test acc: 0.6364\n",
      "2018-11-23 15:42:01,935 - src.common.trainer - DEBUG - train loss: 0.6881886372276478\n",
      "2018-11-23 15:42:01,948 - src.common.trainer - DEBUG - train loss: 0.6502971950772638\n",
      "2018-11-23 15:42:01,962 - src.common.trainer - DEBUG - train loss: 0.552968774751347\n",
      "2018-11-23 15:42:02,145 - src.common.trainer - DEBUG - ==============================\n",
      "2018-11-23 15:42:02,146 - src.common.trainer - DEBUG - epoch: 60\n",
      "2018-11-23 15:42:02,147 - src.common.trainer - DEBUG - train acc: 0.85\n",
      "2018-11-23 15:42:02,147 - src.common.trainer - DEBUG - test acc: 0.6365\n",
      "2018-11-23 15:42:02,167 - src.common.trainer - DEBUG - train loss: 0.5515639154263866\n",
      "2018-11-23 15:42:02,177 - src.common.trainer - DEBUG - train loss: 0.6415644950481116\n",
      "2018-11-23 15:42:02,185 - src.common.trainer - DEBUG - train loss: 0.6557950432610383\n",
      "2018-11-23 15:42:02,363 - src.common.trainer - DEBUG - ==============================\n",
      "2018-11-23 15:42:02,364 - src.common.trainer - DEBUG - epoch: 61\n",
      "2018-11-23 15:42:02,365 - src.common.trainer - DEBUG - train acc: 0.8666666666666667\n",
      "2018-11-23 15:42:02,365 - src.common.trainer - DEBUG - test acc: 0.6405\n",
      "2018-11-23 15:42:02,389 - src.common.trainer - DEBUG - train loss: 0.69541340557997\n",
      "2018-11-23 15:42:02,401 - src.common.trainer - DEBUG - train loss: 0.6685466904598845\n",
      "2018-11-23 15:42:02,411 - src.common.trainer - DEBUG - train loss: 0.6854129844711693\n",
      "2018-11-23 15:42:02,632 - src.common.trainer - DEBUG - ==============================\n",
      "2018-11-23 15:42:02,632 - src.common.trainer - DEBUG - epoch: 62\n",
      "2018-11-23 15:42:02,634 - src.common.trainer - DEBUG - train acc: 0.8866666666666667\n",
      "2018-11-23 15:42:02,635 - src.common.trainer - DEBUG - test acc: 0.6598\n",
      "2018-11-23 15:42:02,660 - src.common.trainer - DEBUG - train loss: 0.5638449869254138\n",
      "2018-11-23 15:42:02,669 - src.common.trainer - DEBUG - train loss: 0.7229478271183833\n",
      "2018-11-23 15:42:02,679 - src.common.trainer - DEBUG - train loss: 0.5242133063848771\n",
      "2018-11-23 15:42:02,864 - src.common.trainer - DEBUG - ==============================\n",
      "2018-11-23 15:42:02,865 - src.common.trainer - DEBUG - epoch: 63\n",
      "2018-11-23 15:42:02,866 - src.common.trainer - DEBUG - train acc: 0.8566666666666667\n",
      "2018-11-23 15:42:02,867 - src.common.trainer - DEBUG - test acc: 0.657\n",
      "2018-11-23 15:42:02,896 - src.common.trainer - DEBUG - train loss: 0.6289894505871065\n",
      "2018-11-23 15:42:02,906 - src.common.trainer - DEBUG - train loss: 0.6020436774888587\n",
      "2018-11-23 15:42:02,918 - src.common.trainer - DEBUG - train loss: 0.6247762697724584\n",
      "2018-11-23 15:42:03,103 - src.common.trainer - DEBUG - ==============================\n",
      "2018-11-23 15:42:03,104 - src.common.trainer - DEBUG - epoch: 64\n",
      "2018-11-23 15:42:03,104 - src.common.trainer - DEBUG - train acc: 0.8766666666666667\n",
      "2018-11-23 15:42:03,106 - src.common.trainer - DEBUG - test acc: 0.6561\n",
      "2018-11-23 15:42:03,126 - src.common.trainer - DEBUG - train loss: 0.634815625664584\n",
      "2018-11-23 15:42:03,136 - src.common.trainer - DEBUG - train loss: 0.7292864750639367\n",
      "2018-11-23 15:42:03,148 - src.common.trainer - DEBUG - train loss: 0.5449105414096364\n",
      "2018-11-23 15:42:03,345 - src.common.trainer - DEBUG - ==============================\n",
      "2018-11-23 15:42:03,346 - src.common.trainer - DEBUG - epoch: 65\n",
      "2018-11-23 15:42:03,347 - src.common.trainer - DEBUG - train acc: 0.87\n",
      "2018-11-23 15:42:03,347 - src.common.trainer - DEBUG - test acc: 0.6565\n",
      "2018-11-23 15:42:03,374 - src.common.trainer - DEBUG - train loss: 0.5557034388960522\n",
      "2018-11-23 15:42:03,383 - src.common.trainer - DEBUG - train loss: 0.4636250868513795\n",
      "2018-11-23 15:42:03,392 - src.common.trainer - DEBUG - train loss: 0.6019095469617661\n",
      "2018-11-23 15:42:03,569 - src.common.trainer - DEBUG - ==============================\n",
      "2018-11-23 15:42:03,569 - src.common.trainer - DEBUG - epoch: 66\n",
      "2018-11-23 15:42:03,570 - src.common.trainer - DEBUG - train acc: 0.8866666666666667\n",
      "2018-11-23 15:42:03,571 - src.common.trainer - DEBUG - test acc: 0.6568\n",
      "2018-11-23 15:42:03,592 - src.common.trainer - DEBUG - train loss: 0.4821938463714186\n",
      "2018-11-23 15:42:03,603 - src.common.trainer - DEBUG - train loss: 0.46677918570754234\n",
      "2018-11-23 15:42:03,612 - src.common.trainer - DEBUG - train loss: 0.5035081505591317\n",
      "2018-11-23 15:42:03,799 - src.common.trainer - DEBUG - ==============================\n",
      "2018-11-23 15:42:03,800 - src.common.trainer - DEBUG - epoch: 67\n",
      "2018-11-23 15:42:03,802 - src.common.trainer - DEBUG - train acc: 0.8866666666666667\n",
      "2018-11-23 15:42:03,803 - src.common.trainer - DEBUG - test acc: 0.6621\n",
      "2018-11-23 15:42:03,827 - src.common.trainer - DEBUG - train loss: 0.5126611135496939\n",
      "2018-11-23 15:42:03,836 - src.common.trainer - DEBUG - train loss: 0.5697732733622657\n",
      "2018-11-23 15:42:03,849 - src.common.trainer - DEBUG - train loss: 0.48239509267823777\n",
      "2018-11-23 15:42:04,060 - src.common.trainer - DEBUG - ==============================\n",
      "2018-11-23 15:42:04,062 - src.common.trainer - DEBUG - epoch: 68\n",
      "2018-11-23 15:42:04,063 - src.common.trainer - DEBUG - train acc: 0.89\n",
      "2018-11-23 15:42:04,064 - src.common.trainer - DEBUG - test acc: 0.6632\n",
      "2018-11-23 15:42:04,089 - src.common.trainer - DEBUG - train loss: 0.4515883427792539\n",
      "2018-11-23 15:42:04,101 - src.common.trainer - DEBUG - train loss: 0.4317115796952905\n",
      "2018-11-23 15:42:04,110 - src.common.trainer - DEBUG - train loss: 0.5202683821778187\n",
      "2018-11-23 15:42:04,292 - src.common.trainer - DEBUG - ==============================\n",
      "2018-11-23 15:42:04,293 - src.common.trainer - DEBUG - epoch: 69\n",
      "2018-11-23 15:42:04,295 - src.common.trainer - DEBUG - train acc: 0.8866666666666667\n",
      "2018-11-23 15:42:04,296 - src.common.trainer - DEBUG - test acc: 0.6759\n",
      "2018-11-23 15:42:04,320 - src.common.trainer - DEBUG - train loss: 0.46910027284446215\n",
      "2018-11-23 15:42:04,335 - src.common.trainer - DEBUG - train loss: 0.4018887944061757\n",
      "2018-11-23 15:42:04,345 - src.common.trainer - DEBUG - train loss: 0.39393695329918116\n",
      "2018-11-23 15:42:04,574 - src.common.trainer - DEBUG - ==============================\n",
      "2018-11-23 15:42:04,575 - src.common.trainer - DEBUG - epoch: 70\n",
      "2018-11-23 15:42:04,579 - src.common.trainer - DEBUG - train acc: 0.89\n",
      "2018-11-23 15:42:04,580 - src.common.trainer - DEBUG - test acc: 0.6795\n",
      "2018-11-23 15:42:04,610 - src.common.trainer - DEBUG - train loss: 0.4728514433034497\n",
      "2018-11-23 15:42:04,631 - src.common.trainer - DEBUG - train loss: 0.3493395424291262\n",
      "2018-11-23 15:42:04,655 - src.common.trainer - DEBUG - train loss: 0.6570222230291519\n",
      "2018-11-23 15:42:04,838 - src.common.trainer - DEBUG - ==============================\n",
      "2018-11-23 15:42:04,839 - src.common.trainer - DEBUG - epoch: 71\n",
      "2018-11-23 15:42:04,840 - src.common.trainer - DEBUG - train acc: 0.8933333333333333\n",
      "2018-11-23 15:42:04,842 - src.common.trainer - DEBUG - test acc: 0.6798\n",
      "2018-11-23 15:42:04,863 - src.common.trainer - DEBUG - train loss: 0.36292150903884035\n",
      "2018-11-23 15:42:04,873 - src.common.trainer - DEBUG - train loss: 0.5102144548586799\n",
      "2018-11-23 15:42:04,883 - src.common.trainer - DEBUG - train loss: 0.4350181303264866\n",
      "2018-11-23 15:42:05,059 - src.common.trainer - DEBUG - ==============================\n",
      "2018-11-23 15:42:05,060 - src.common.trainer - DEBUG - epoch: 72\n",
      "2018-11-23 15:42:05,062 - src.common.trainer - DEBUG - train acc: 0.9033333333333333\n",
      "2018-11-23 15:42:05,063 - src.common.trainer - DEBUG - test acc: 0.6795\n",
      "2018-11-23 15:42:05,090 - src.common.trainer - DEBUG - train loss: 0.3802915681365863\n",
      "2018-11-23 15:42:05,098 - src.common.trainer - DEBUG - train loss: 0.46042957909058735\n",
      "2018-11-23 15:42:05,108 - src.common.trainer - DEBUG - train loss: 0.4909984120233255\n",
      "2018-11-23 15:42:05,282 - src.common.trainer - DEBUG - ==============================\n",
      "2018-11-23 15:42:05,283 - src.common.trainer - DEBUG - epoch: 73\n",
      "2018-11-23 15:42:05,283 - src.common.trainer - DEBUG - train acc: 0.9\n",
      "2018-11-23 15:42:05,284 - src.common.trainer - DEBUG - test acc: 0.6846\n",
      "2018-11-23 15:42:05,306 - src.common.trainer - DEBUG - train loss: 0.3414038185666231\n",
      "2018-11-23 15:42:05,316 - src.common.trainer - DEBUG - train loss: 0.3450753906501135\n",
      "2018-11-23 15:42:05,325 - src.common.trainer - DEBUG - train loss: 0.49158984941219636\n",
      "2018-11-23 15:42:05,497 - src.common.trainer - DEBUG - ==============================\n",
      "2018-11-23 15:42:05,497 - src.common.trainer - DEBUG - epoch: 74\n",
      "2018-11-23 15:42:05,498 - src.common.trainer - DEBUG - train acc: 0.9\n",
      "2018-11-23 15:42:05,499 - src.common.trainer - DEBUG - test acc: 0.6884\n",
      "2018-11-23 15:42:05,520 - src.common.trainer - DEBUG - train loss: 0.37426270245897386\n",
      "2018-11-23 15:42:05,530 - src.common.trainer - DEBUG - train loss: 0.4435857920199009\n",
      "2018-11-23 15:42:05,538 - src.common.trainer - DEBUG - train loss: 0.5044465222249646\n",
      "2018-11-23 15:42:05,725 - src.common.trainer - DEBUG - ==============================\n",
      "2018-11-23 15:42:05,726 - src.common.trainer - DEBUG - epoch: 75\n",
      "2018-11-23 15:42:05,727 - src.common.trainer - DEBUG - train acc: 0.91\n",
      "2018-11-23 15:42:05,728 - src.common.trainer - DEBUG - test acc: 0.684\n",
      "2018-11-23 15:42:05,749 - src.common.trainer - DEBUG - train loss: 0.2627933284768593\n",
      "2018-11-23 15:42:05,762 - src.common.trainer - DEBUG - train loss: 0.38821804257351067\n",
      "2018-11-23 15:42:05,776 - src.common.trainer - DEBUG - train loss: 0.3764278706758165\n",
      "2018-11-23 15:42:05,959 - src.common.trainer - DEBUG - ==============================\n",
      "2018-11-23 15:42:05,959 - src.common.trainer - DEBUG - epoch: 76\n",
      "2018-11-23 15:42:05,960 - src.common.trainer - DEBUG - train acc: 0.9066666666666666\n",
      "2018-11-23 15:42:05,961 - src.common.trainer - DEBUG - test acc: 0.6833\n",
      "2018-11-23 15:42:05,987 - src.common.trainer - DEBUG - train loss: 0.42289936795444893\n",
      "2018-11-23 15:42:05,998 - src.common.trainer - DEBUG - train loss: 0.37036200308901507\n",
      "2018-11-23 15:42:06,008 - src.common.trainer - DEBUG - train loss: 0.3695088144371988\n",
      "2018-11-23 15:42:06,189 - src.common.trainer - DEBUG - ==============================\n",
      "2018-11-23 15:42:06,190 - src.common.trainer - DEBUG - epoch: 77\n",
      "2018-11-23 15:42:06,191 - src.common.trainer - DEBUG - train acc: 0.9233333333333333\n",
      "2018-11-23 15:42:06,193 - src.common.trainer - DEBUG - test acc: 0.6882\n",
      "2018-11-23 15:42:06,213 - src.common.trainer - DEBUG - train loss: 0.39772474589024\n",
      "2018-11-23 15:42:06,223 - src.common.trainer - DEBUG - train loss: 0.4007886787455691\n",
      "2018-11-23 15:42:06,233 - src.common.trainer - DEBUG - train loss: 0.4219377571753183\n",
      "2018-11-23 15:42:06,418 - src.common.trainer - DEBUG - ==============================\n",
      "2018-11-23 15:42:06,419 - src.common.trainer - DEBUG - epoch: 78\n",
      "2018-11-23 15:42:06,419 - src.common.trainer - DEBUG - train acc: 0.9133333333333333\n",
      "2018-11-23 15:42:06,421 - src.common.trainer - DEBUG - test acc: 0.687\n",
      "2018-11-23 15:42:06,443 - src.common.trainer - DEBUG - train loss: 0.3814480289199236\n",
      "2018-11-23 15:42:06,453 - src.common.trainer - DEBUG - train loss: 0.3727202636438326\n",
      "2018-11-23 15:42:06,462 - src.common.trainer - DEBUG - train loss: 0.3917524041156929\n",
      "2018-11-23 15:42:06,649 - src.common.trainer - DEBUG - ==============================\n",
      "2018-11-23 15:42:06,650 - src.common.trainer - DEBUG - epoch: 79\n",
      "2018-11-23 15:42:06,651 - src.common.trainer - DEBUG - train acc: 0.9166666666666666\n",
      "2018-11-23 15:42:06,651 - src.common.trainer - DEBUG - test acc: 0.686\n",
      "2018-11-23 15:42:06,674 - src.common.trainer - DEBUG - train loss: 0.3880532216045824\n",
      "2018-11-23 15:42:06,692 - src.common.trainer - DEBUG - train loss: 0.35427021024187044\n",
      "2018-11-23 15:42:06,704 - src.common.trainer - DEBUG - train loss: 0.3294948130492341\n",
      "2018-11-23 15:42:06,881 - src.common.trainer - DEBUG - ==============================\n",
      "2018-11-23 15:42:06,881 - src.common.trainer - DEBUG - epoch: 80\n",
      "2018-11-23 15:42:06,882 - src.common.trainer - DEBUG - train acc: 0.9333333333333333\n",
      "2018-11-23 15:42:06,882 - src.common.trainer - DEBUG - test acc: 0.7024\n",
      "2018-11-23 15:42:06,902 - src.common.trainer - DEBUG - train loss: 0.3004642100533773\n",
      "2018-11-23 15:42:06,910 - src.common.trainer - DEBUG - train loss: 0.24795058630721925\n",
      "2018-11-23 15:42:06,920 - src.common.trainer - DEBUG - train loss: 0.35610384724503596\n",
      "2018-11-23 15:42:07,096 - src.common.trainer - DEBUG - ==============================\n",
      "2018-11-23 15:42:07,097 - src.common.trainer - DEBUG - epoch: 81\n",
      "2018-11-23 15:42:07,098 - src.common.trainer - DEBUG - train acc: 0.9366666666666666\n",
      "2018-11-23 15:42:07,098 - src.common.trainer - DEBUG - test acc: 0.6973\n",
      "2018-11-23 15:42:07,119 - src.common.trainer - DEBUG - train loss: 0.31112078241193336\n",
      "2018-11-23 15:42:07,127 - src.common.trainer - DEBUG - train loss: 0.31784531688997303\n",
      "2018-11-23 15:42:07,136 - src.common.trainer - DEBUG - train loss: 0.3380146803432048\n",
      "2018-11-23 15:42:07,311 - src.common.trainer - DEBUG - ==============================\n",
      "2018-11-23 15:42:07,312 - src.common.trainer - DEBUG - epoch: 82\n",
      "2018-11-23 15:42:07,313 - src.common.trainer - DEBUG - train acc: 0.9366666666666666\n",
      "2018-11-23 15:42:07,313 - src.common.trainer - DEBUG - test acc: 0.6962\n",
      "2018-11-23 15:42:07,336 - src.common.trainer - DEBUG - train loss: 0.2622340446513141\n",
      "2018-11-23 15:42:07,348 - src.common.trainer - DEBUG - train loss: 0.3212875945163814\n",
      "2018-11-23 15:42:07,358 - src.common.trainer - DEBUG - train loss: 0.26732860273337683\n",
      "2018-11-23 15:42:07,534 - src.common.trainer - DEBUG - ==============================\n",
      "2018-11-23 15:42:07,535 - src.common.trainer - DEBUG - epoch: 83\n",
      "2018-11-23 15:42:07,535 - src.common.trainer - DEBUG - train acc: 0.94\n",
      "2018-11-23 15:42:07,536 - src.common.trainer - DEBUG - test acc: 0.7054\n",
      "2018-11-23 15:42:07,555 - src.common.trainer - DEBUG - train loss: 0.24077867112766108\n",
      "2018-11-23 15:42:07,565 - src.common.trainer - DEBUG - train loss: 0.37580840505921287\n",
      "2018-11-23 15:42:07,574 - src.common.trainer - DEBUG - train loss: 0.28718964703858985\n",
      "2018-11-23 15:42:07,752 - src.common.trainer - DEBUG - ==============================\n",
      "2018-11-23 15:42:07,753 - src.common.trainer - DEBUG - epoch: 84\n",
      "2018-11-23 15:42:07,753 - src.common.trainer - DEBUG - train acc: 0.94\n",
      "2018-11-23 15:42:07,754 - src.common.trainer - DEBUG - test acc: 0.7015\n",
      "2018-11-23 15:42:07,773 - src.common.trainer - DEBUG - train loss: 0.2184619338399671\n",
      "2018-11-23 15:42:07,783 - src.common.trainer - DEBUG - train loss: 0.30782214513219985\n",
      "2018-11-23 15:42:07,791 - src.common.trainer - DEBUG - train loss: 0.2815222572760814\n",
      "2018-11-23 15:42:07,964 - src.common.trainer - DEBUG - ==============================\n",
      "2018-11-23 15:42:07,965 - src.common.trainer - DEBUG - epoch: 85\n",
      "2018-11-23 15:42:07,966 - src.common.trainer - DEBUG - train acc: 0.9366666666666666\n",
      "2018-11-23 15:42:07,966 - src.common.trainer - DEBUG - test acc: 0.7014\n",
      "2018-11-23 15:42:07,987 - src.common.trainer - DEBUG - train loss: 0.3832192659578167\n",
      "2018-11-23 15:42:07,998 - src.common.trainer - DEBUG - train loss: 0.2670707770726928\n",
      "2018-11-23 15:42:08,011 - src.common.trainer - DEBUG - train loss: 0.3765434266559118\n",
      "2018-11-23 15:42:08,186 - src.common.trainer - DEBUG - ==============================\n",
      "2018-11-23 15:42:08,188 - src.common.trainer - DEBUG - epoch: 86\n",
      "2018-11-23 15:42:08,188 - src.common.trainer - DEBUG - train acc: 0.95\n",
      "2018-11-23 15:42:08,189 - src.common.trainer - DEBUG - test acc: 0.7097\n",
      "2018-11-23 15:42:08,209 - src.common.trainer - DEBUG - train loss: 0.33872981730219764\n",
      "2018-11-23 15:42:08,219 - src.common.trainer - DEBUG - train loss: 0.3313739000327262\n",
      "2018-11-23 15:42:08,229 - src.common.trainer - DEBUG - train loss: 0.20737404529127296\n",
      "2018-11-23 15:42:08,420 - src.common.trainer - DEBUG - ==============================\n",
      "2018-11-23 15:42:08,421 - src.common.trainer - DEBUG - epoch: 87\n",
      "2018-11-23 15:42:08,421 - src.common.trainer - DEBUG - train acc: 0.9466666666666667\n",
      "2018-11-23 15:42:08,422 - src.common.trainer - DEBUG - test acc: 0.7128\n",
      "2018-11-23 15:42:08,443 - src.common.trainer - DEBUG - train loss: 0.3739180420171618\n",
      "2018-11-23 15:42:08,454 - src.common.trainer - DEBUG - train loss: 0.31269024984872845\n",
      "2018-11-23 15:42:08,465 - src.common.trainer - DEBUG - train loss: 0.24075220924344998\n",
      "2018-11-23 15:42:08,669 - src.common.trainer - DEBUG - ==============================\n",
      "2018-11-23 15:42:08,670 - src.common.trainer - DEBUG - epoch: 88\n",
      "2018-11-23 15:42:08,671 - src.common.trainer - DEBUG - train acc: 0.9433333333333334\n",
      "2018-11-23 15:42:08,671 - src.common.trainer - DEBUG - test acc: 0.7106\n",
      "2018-11-23 15:42:08,691 - src.common.trainer - DEBUG - train loss: 0.27058488663512126\n",
      "2018-11-23 15:42:08,700 - src.common.trainer - DEBUG - train loss: 0.2535295801049693\n",
      "2018-11-23 15:42:08,709 - src.common.trainer - DEBUG - train loss: 0.31083559494692836\n",
      "2018-11-23 15:42:08,886 - src.common.trainer - DEBUG - ==============================\n",
      "2018-11-23 15:42:08,887 - src.common.trainer - DEBUG - epoch: 89\n",
      "2018-11-23 15:42:08,888 - src.common.trainer - DEBUG - train acc: 0.9533333333333334\n",
      "2018-11-23 15:42:08,888 - src.common.trainer - DEBUG - test acc: 0.7144\n",
      "2018-11-23 15:42:08,910 - src.common.trainer - DEBUG - train loss: 0.25233317307446745\n",
      "2018-11-23 15:42:08,919 - src.common.trainer - DEBUG - train loss: 0.23599113244459108\n",
      "2018-11-23 15:42:08,929 - src.common.trainer - DEBUG - train loss: 0.30073489558946936\n",
      "2018-11-23 15:42:09,111 - src.common.trainer - DEBUG - ==============================\n",
      "2018-11-23 15:42:09,112 - src.common.trainer - DEBUG - epoch: 90\n",
      "2018-11-23 15:42:09,113 - src.common.trainer - DEBUG - train acc: 0.95\n",
      "2018-11-23 15:42:09,114 - src.common.trainer - DEBUG - test acc: 0.7086\n",
      "2018-11-23 15:42:09,136 - src.common.trainer - DEBUG - train loss: 0.20243771850724634\n",
      "2018-11-23 15:42:09,145 - src.common.trainer - DEBUG - train loss: 0.1980305112239641\n",
      "2018-11-23 15:42:09,154 - src.common.trainer - DEBUG - train loss: 0.3023506475519395\n",
      "2018-11-23 15:42:09,326 - src.common.trainer - DEBUG - ==============================\n",
      "2018-11-23 15:42:09,327 - src.common.trainer - DEBUG - epoch: 91\n",
      "2018-11-23 15:42:09,327 - src.common.trainer - DEBUG - train acc: 0.9566666666666667\n",
      "2018-11-23 15:42:09,328 - src.common.trainer - DEBUG - test acc: 0.7157\n",
      "2018-11-23 15:42:09,348 - src.common.trainer - DEBUG - train loss: 0.22476804751454527\n",
      "2018-11-23 15:42:09,358 - src.common.trainer - DEBUG - train loss: 0.22273267835081717\n",
      "2018-11-23 15:42:09,367 - src.common.trainer - DEBUG - train loss: 0.22902222247710863\n",
      "2018-11-23 15:42:09,543 - src.common.trainer - DEBUG - ==============================\n",
      "2018-11-23 15:42:09,544 - src.common.trainer - DEBUG - epoch: 92\n",
      "2018-11-23 15:42:09,544 - src.common.trainer - DEBUG - train acc: 0.9633333333333334\n",
      "2018-11-23 15:42:09,545 - src.common.trainer - DEBUG - test acc: 0.7192\n",
      "2018-11-23 15:42:09,566 - src.common.trainer - DEBUG - train loss: 0.22550740804611796\n",
      "2018-11-23 15:42:09,576 - src.common.trainer - DEBUG - train loss: 0.24103368348910906\n",
      "2018-11-23 15:42:09,585 - src.common.trainer - DEBUG - train loss: 0.2907604795126934\n",
      "2018-11-23 15:42:09,755 - src.common.trainer - DEBUG - ==============================\n",
      "2018-11-23 15:42:09,756 - src.common.trainer - DEBUG - epoch: 93\n",
      "2018-11-23 15:42:09,757 - src.common.trainer - DEBUG - train acc: 0.9633333333333334\n",
      "2018-11-23 15:42:09,757 - src.common.trainer - DEBUG - test acc: 0.7176\n",
      "2018-11-23 15:42:09,776 - src.common.trainer - DEBUG - train loss: 0.21263399512942552\n",
      "2018-11-23 15:42:09,785 - src.common.trainer - DEBUG - train loss: 0.20470919795389433\n",
      "2018-11-23 15:42:09,794 - src.common.trainer - DEBUG - train loss: 0.22287643589705258\n",
      "2018-11-23 15:42:09,972 - src.common.trainer - DEBUG - ==============================\n",
      "2018-11-23 15:42:09,973 - src.common.trainer - DEBUG - epoch: 94\n",
      "2018-11-23 15:42:09,973 - src.common.trainer - DEBUG - train acc: 0.97\n",
      "2018-11-23 15:42:09,974 - src.common.trainer - DEBUG - test acc: 0.7212\n",
      "2018-11-23 15:42:09,995 - src.common.trainer - DEBUG - train loss: 0.20107213571779925\n",
      "2018-11-23 15:42:10,008 - src.common.trainer - DEBUG - train loss: 0.20511841836850828\n",
      "2018-11-23 15:42:10,021 - src.common.trainer - DEBUG - train loss: 0.2360610308471146\n",
      "2018-11-23 15:42:10,199 - src.common.trainer - DEBUG - ==============================\n",
      "2018-11-23 15:42:10,199 - src.common.trainer - DEBUG - epoch: 95\n",
      "2018-11-23 15:42:10,200 - src.common.trainer - DEBUG - train acc: 0.9633333333333334\n",
      "2018-11-23 15:42:10,200 - src.common.trainer - DEBUG - test acc: 0.7249\n",
      "2018-11-23 15:42:10,220 - src.common.trainer - DEBUG - train loss: 0.2189955412000902\n",
      "2018-11-23 15:42:10,230 - src.common.trainer - DEBUG - train loss: 0.2314155424290173\n",
      "2018-11-23 15:42:10,238 - src.common.trainer - DEBUG - train loss: 0.23610849613363244\n",
      "2018-11-23 15:42:10,410 - src.common.trainer - DEBUG - ==============================\n",
      "2018-11-23 15:42:10,410 - src.common.trainer - DEBUG - epoch: 96\n",
      "2018-11-23 15:42:10,411 - src.common.trainer - DEBUG - train acc: 0.9666666666666667\n",
      "2018-11-23 15:42:10,411 - src.common.trainer - DEBUG - test acc: 0.7268\n",
      "2018-11-23 15:42:10,430 - src.common.trainer - DEBUG - train loss: 0.27261443694734305\n",
      "2018-11-23 15:42:10,439 - src.common.trainer - DEBUG - train loss: 0.25035624339736307\n",
      "2018-11-23 15:42:10,448 - src.common.trainer - DEBUG - train loss: 0.19972904138278402\n",
      "2018-11-23 15:42:10,625 - src.common.trainer - DEBUG - ==============================\n",
      "2018-11-23 15:42:10,626 - src.common.trainer - DEBUG - epoch: 97\n",
      "2018-11-23 15:42:10,626 - src.common.trainer - DEBUG - train acc: 0.9666666666666667\n",
      "2018-11-23 15:42:10,627 - src.common.trainer - DEBUG - test acc: 0.726\n",
      "2018-11-23 15:42:10,648 - src.common.trainer - DEBUG - train loss: 0.24987531917526348\n",
      "2018-11-23 15:42:10,657 - src.common.trainer - DEBUG - train loss: 0.21416353578305852\n",
      "2018-11-23 15:42:10,666 - src.common.trainer - DEBUG - train loss: 0.15489571741540556\n",
      "2018-11-23 15:42:10,852 - src.common.trainer - DEBUG - ==============================\n",
      "2018-11-23 15:42:10,852 - src.common.trainer - DEBUG - epoch: 98\n",
      "2018-11-23 15:42:10,853 - src.common.trainer - DEBUG - train acc: 0.9666666666666667\n",
      "2018-11-23 15:42:10,854 - src.common.trainer - DEBUG - test acc: 0.7248\n",
      "2018-11-23 15:42:10,874 - src.common.trainer - DEBUG - train loss: 0.22810115867040712\n",
      "2018-11-23 15:42:10,883 - src.common.trainer - DEBUG - train loss: 0.18109879469579845\n",
      "2018-11-23 15:42:10,892 - src.common.trainer - DEBUG - train loss: 0.16870027453726533\n",
      "2018-11-23 15:42:11,067 - src.common.trainer - DEBUG - ==============================\n",
      "2018-11-23 15:42:11,068 - src.common.trainer - DEBUG - epoch: 99\n",
      "2018-11-23 15:42:11,069 - src.common.trainer - DEBUG - train acc: 0.97\n",
      "2018-11-23 15:42:11,069 - src.common.trainer - DEBUG - test acc: 0.7244\n",
      "2018-11-23 15:42:11,091 - src.common.trainer - DEBUG - train loss: 0.14155108223571145\n",
      "2018-11-23 15:42:11,100 - src.common.trainer - DEBUG - train loss: 0.16808004666003054\n",
      "2018-11-23 15:42:11,109 - src.common.trainer - DEBUG - train loss: 0.1902311195968354\n",
      "2018-11-23 15:42:11,281 - src.common.trainer - DEBUG - ==============================\n",
      "2018-11-23 15:42:11,282 - src.common.trainer - DEBUG - epoch: 100\n",
      "2018-11-23 15:42:11,283 - src.common.trainer - DEBUG - train acc: 0.97\n",
      "2018-11-23 15:42:11,283 - src.common.trainer - DEBUG - test acc: 0.7283\n",
      "2018-11-23 15:42:11,302 - src.common.trainer - DEBUG - train loss: 0.19888645993087223\n",
      "2018-11-23 15:42:11,312 - src.common.trainer - DEBUG - train loss: 0.14835601682486893\n",
      "2018-11-23 15:42:11,323 - src.common.trainer - DEBUG - train loss: 0.20831470191102686\n",
      "2018-11-23 15:42:11,497 - src.common.trainer - DEBUG - ==============================\n",
      "2018-11-23 15:42:11,498 - src.common.trainer - DEBUG - epoch: 101\n",
      "2018-11-23 15:42:11,499 - src.common.trainer - DEBUG - train acc: 0.9666666666666667\n",
      "2018-11-23 15:42:11,502 - src.common.trainer - DEBUG - test acc: 0.7292\n",
      "2018-11-23 15:42:11,524 - src.common.trainer - DEBUG - train loss: 0.13716779784336888\n",
      "2018-11-23 15:42:11,535 - src.common.trainer - DEBUG - train loss: 0.10935069289058359\n",
      "2018-11-23 15:42:11,544 - src.common.trainer - DEBUG - train loss: 0.1868410855924753\n",
      "2018-11-23 15:42:11,715 - src.common.trainer - DEBUG - ==============================\n",
      "2018-11-23 15:42:11,715 - src.common.trainer - DEBUG - epoch: 102\n",
      "2018-11-23 15:42:11,716 - src.common.trainer - DEBUG - train acc: 0.9666666666666667\n",
      "2018-11-23 15:42:11,717 - src.common.trainer - DEBUG - test acc: 0.7326\n",
      "2018-11-23 15:42:11,739 - src.common.trainer - DEBUG - train loss: 0.19518166975682902\n",
      "2018-11-23 15:42:11,748 - src.common.trainer - DEBUG - train loss: 0.21462659859411107\n",
      "2018-11-23 15:42:11,757 - src.common.trainer - DEBUG - train loss: 0.19203982458736654\n",
      "2018-11-23 15:42:11,931 - src.common.trainer - DEBUG - ==============================\n",
      "2018-11-23 15:42:11,932 - src.common.trainer - DEBUG - epoch: 103\n",
      "2018-11-23 15:42:11,933 - src.common.trainer - DEBUG - train acc: 0.97\n",
      "2018-11-23 15:42:11,934 - src.common.trainer - DEBUG - test acc: 0.7297\n",
      "2018-11-23 15:42:11,954 - src.common.trainer - DEBUG - train loss: 0.1809457523701226\n",
      "2018-11-23 15:42:11,964 - src.common.trainer - DEBUG - train loss: 0.20218064925462825\n",
      "2018-11-23 15:42:11,972 - src.common.trainer - DEBUG - train loss: 0.26502527028481604\n",
      "2018-11-23 15:42:12,147 - src.common.trainer - DEBUG - ==============================\n",
      "2018-11-23 15:42:12,147 - src.common.trainer - DEBUG - epoch: 104\n",
      "2018-11-23 15:42:12,148 - src.common.trainer - DEBUG - train acc: 0.9733333333333334\n",
      "2018-11-23 15:42:12,149 - src.common.trainer - DEBUG - test acc: 0.7291\n",
      "2018-11-23 15:42:12,169 - src.common.trainer - DEBUG - train loss: 0.1672021538512077\n",
      "2018-11-23 15:42:12,178 - src.common.trainer - DEBUG - train loss: 0.19291129991749323\n",
      "2018-11-23 15:42:12,192 - src.common.trainer - DEBUG - train loss: 0.22943504286187227\n",
      "2018-11-23 15:42:12,367 - src.common.trainer - DEBUG - ==============================\n",
      "2018-11-23 15:42:12,367 - src.common.trainer - DEBUG - epoch: 105\n",
      "2018-11-23 15:42:12,368 - src.common.trainer - DEBUG - train acc: 0.9733333333333334\n",
      "2018-11-23 15:42:12,369 - src.common.trainer - DEBUG - test acc: 0.7349\n",
      "2018-11-23 15:42:12,389 - src.common.trainer - DEBUG - train loss: 0.15062572400222404\n",
      "2018-11-23 15:42:12,399 - src.common.trainer - DEBUG - train loss: 0.19371645914849625\n",
      "2018-11-23 15:42:12,411 - src.common.trainer - DEBUG - train loss: 0.15286861663706583\n",
      "2018-11-23 15:42:12,585 - src.common.trainer - DEBUG - ==============================\n",
      "2018-11-23 15:42:12,585 - src.common.trainer - DEBUG - epoch: 106\n",
      "2018-11-23 15:42:12,586 - src.common.trainer - DEBUG - train acc: 0.97\n",
      "2018-11-23 15:42:12,587 - src.common.trainer - DEBUG - test acc: 0.7376\n",
      "2018-11-23 15:42:12,607 - src.common.trainer - DEBUG - train loss: 0.1731413311347574\n",
      "2018-11-23 15:42:12,616 - src.common.trainer - DEBUG - train loss: 0.17652289049892161\n",
      "2018-11-23 15:42:12,625 - src.common.trainer - DEBUG - train loss: 0.12365207368824317\n",
      "2018-11-23 15:42:12,805 - src.common.trainer - DEBUG - ==============================\n",
      "2018-11-23 15:42:12,805 - src.common.trainer - DEBUG - epoch: 107\n",
      "2018-11-23 15:42:12,806 - src.common.trainer - DEBUG - train acc: 0.97\n",
      "2018-11-23 15:42:12,807 - src.common.trainer - DEBUG - test acc: 0.7372\n",
      "2018-11-23 15:42:12,827 - src.common.trainer - DEBUG - train loss: 0.19069850963929708\n",
      "2018-11-23 15:42:12,837 - src.common.trainer - DEBUG - train loss: 0.18160754466247309\n",
      "2018-11-23 15:42:12,846 - src.common.trainer - DEBUG - train loss: 0.14633344445270782\n",
      "2018-11-23 15:42:13,030 - src.common.trainer - DEBUG - ==============================\n",
      "2018-11-23 15:42:13,031 - src.common.trainer - DEBUG - epoch: 108\n",
      "2018-11-23 15:42:13,031 - src.common.trainer - DEBUG - train acc: 0.98\n",
      "2018-11-23 15:42:13,032 - src.common.trainer - DEBUG - test acc: 0.7355\n",
      "2018-11-23 15:42:13,053 - src.common.trainer - DEBUG - train loss: 0.1286480107838207\n",
      "2018-11-23 15:42:13,063 - src.common.trainer - DEBUG - train loss: 0.15906988350538953\n",
      "2018-11-23 15:42:13,071 - src.common.trainer - DEBUG - train loss: 0.2194435370220253\n",
      "2018-11-23 15:42:13,261 - src.common.trainer - DEBUG - ==============================\n",
      "2018-11-23 15:42:13,262 - src.common.trainer - DEBUG - epoch: 109\n",
      "2018-11-23 15:42:13,262 - src.common.trainer - DEBUG - train acc: 0.9766666666666667\n",
      "2018-11-23 15:42:13,263 - src.common.trainer - DEBUG - test acc: 0.7365\n",
      "2018-11-23 15:42:13,284 - src.common.trainer - DEBUG - train loss: 0.15814899870073532\n",
      "2018-11-23 15:42:13,292 - src.common.trainer - DEBUG - train loss: 0.20068626961625377\n",
      "2018-11-23 15:42:13,302 - src.common.trainer - DEBUG - train loss: 0.13090747895897356\n",
      "2018-11-23 15:42:13,484 - src.common.trainer - DEBUG - ==============================\n",
      "2018-11-23 15:42:13,485 - src.common.trainer - DEBUG - epoch: 110\n",
      "2018-11-23 15:42:13,486 - src.common.trainer - DEBUG - train acc: 0.9766666666666667\n",
      "2018-11-23 15:42:13,486 - src.common.trainer - DEBUG - test acc: 0.7344\n",
      "2018-11-23 15:42:13,507 - src.common.trainer - DEBUG - train loss: 0.1591410088642329\n",
      "2018-11-23 15:42:13,517 - src.common.trainer - DEBUG - train loss: 0.15022841199604856\n",
      "2018-11-23 15:42:13,527 - src.common.trainer - DEBUG - train loss: 0.18327017794883807\n",
      "2018-11-23 15:42:13,699 - src.common.trainer - DEBUG - ==============================\n",
      "2018-11-23 15:42:13,700 - src.common.trainer - DEBUG - epoch: 111\n",
      "2018-11-23 15:42:13,700 - src.common.trainer - DEBUG - train acc: 0.9766666666666667\n",
      "2018-11-23 15:42:13,701 - src.common.trainer - DEBUG - test acc: 0.7401\n",
      "2018-11-23 15:42:13,724 - src.common.trainer - DEBUG - train loss: 0.11778032360029553\n",
      "2018-11-23 15:42:13,733 - src.common.trainer - DEBUG - train loss: 0.1629594865857956\n",
      "2018-11-23 15:42:13,745 - src.common.trainer - DEBUG - train loss: 0.15346626482937353\n",
      "2018-11-23 15:42:13,926 - src.common.trainer - DEBUG - ==============================\n",
      "2018-11-23 15:42:13,927 - src.common.trainer - DEBUG - epoch: 112\n",
      "2018-11-23 15:42:13,928 - src.common.trainer - DEBUG - train acc: 0.9766666666666667\n",
      "2018-11-23 15:42:13,928 - src.common.trainer - DEBUG - test acc: 0.7388\n",
      "2018-11-23 15:42:13,949 - src.common.trainer - DEBUG - train loss: 0.1403562107564882\n",
      "2018-11-23 15:42:13,959 - src.common.trainer - DEBUG - train loss: 0.14648004412603982\n",
      "2018-11-23 15:42:13,967 - src.common.trainer - DEBUG - train loss: 0.12943645157617636\n",
      "2018-11-23 15:42:14,142 - src.common.trainer - DEBUG - ==============================\n",
      "2018-11-23 15:42:14,142 - src.common.trainer - DEBUG - epoch: 113\n",
      "2018-11-23 15:42:14,143 - src.common.trainer - DEBUG - train acc: 0.9766666666666667\n",
      "2018-11-23 15:42:14,144 - src.common.trainer - DEBUG - test acc: 0.7426\n",
      "2018-11-23 15:42:14,166 - src.common.trainer - DEBUG - train loss: 0.1517345001133344\n",
      "2018-11-23 15:42:14,175 - src.common.trainer - DEBUG - train loss: 0.11791208193317536\n",
      "2018-11-23 15:42:14,184 - src.common.trainer - DEBUG - train loss: 0.16973792133140198\n",
      "2018-11-23 15:42:14,363 - src.common.trainer - DEBUG - ==============================\n",
      "2018-11-23 15:42:14,364 - src.common.trainer - DEBUG - epoch: 114\n",
      "2018-11-23 15:42:14,365 - src.common.trainer - DEBUG - train acc: 0.9833333333333333\n",
      "2018-11-23 15:42:14,365 - src.common.trainer - DEBUG - test acc: 0.7398\n",
      "2018-11-23 15:42:14,385 - src.common.trainer - DEBUG - train loss: 0.1060340576540727\n",
      "2018-11-23 15:42:14,394 - src.common.trainer - DEBUG - train loss: 0.13807431086504487\n",
      "2018-11-23 15:42:14,403 - src.common.trainer - DEBUG - train loss: 0.15001972961307689\n",
      "2018-11-23 15:42:14,584 - src.common.trainer - DEBUG - ==============================\n",
      "2018-11-23 15:42:14,585 - src.common.trainer - DEBUG - epoch: 115\n",
      "2018-11-23 15:42:14,585 - src.common.trainer - DEBUG - train acc: 0.9833333333333333\n",
      "2018-11-23 15:42:14,586 - src.common.trainer - DEBUG - test acc: 0.7426\n",
      "2018-11-23 15:42:14,608 - src.common.trainer - DEBUG - train loss: 0.11898816513089003\n",
      "2018-11-23 15:42:14,619 - src.common.trainer - DEBUG - train loss: 0.1308536449955276\n",
      "2018-11-23 15:42:14,628 - src.common.trainer - DEBUG - train loss: 0.14548408549491698\n",
      "2018-11-23 15:42:14,810 - src.common.trainer - DEBUG - ==============================\n",
      "2018-11-23 15:42:14,811 - src.common.trainer - DEBUG - epoch: 116\n",
      "2018-11-23 15:42:14,811 - src.common.trainer - DEBUG - train acc: 0.9866666666666667\n",
      "2018-11-23 15:42:14,812 - src.common.trainer - DEBUG - test acc: 0.7441\n",
      "2018-11-23 15:42:14,833 - src.common.trainer - DEBUG - train loss: 0.1325317188658678\n",
      "2018-11-23 15:42:14,842 - src.common.trainer - DEBUG - train loss: 0.118181592812947\n",
      "2018-11-23 15:42:14,851 - src.common.trainer - DEBUG - train loss: 0.13053474596398773\n",
      "2018-11-23 15:42:15,020 - src.common.trainer - DEBUG - ==============================\n",
      "2018-11-23 15:42:15,021 - src.common.trainer - DEBUG - epoch: 117\n",
      "2018-11-23 15:42:15,022 - src.common.trainer - DEBUG - train acc: 0.9866666666666667\n",
      "2018-11-23 15:42:15,022 - src.common.trainer - DEBUG - test acc: 0.7342\n",
      "2018-11-23 15:42:15,043 - src.common.trainer - DEBUG - train loss: 0.13264395367750828\n",
      "2018-11-23 15:42:15,052 - src.common.trainer - DEBUG - train loss: 0.12501962997053964\n",
      "2018-11-23 15:42:15,061 - src.common.trainer - DEBUG - train loss: 0.11808608897470059\n",
      "2018-11-23 15:42:15,231 - src.common.trainer - DEBUG - ==============================\n",
      "2018-11-23 15:42:15,232 - src.common.trainer - DEBUG - epoch: 118\n",
      "2018-11-23 15:42:15,232 - src.common.trainer - DEBUG - train acc: 0.9866666666666667\n",
      "2018-11-23 15:42:15,233 - src.common.trainer - DEBUG - test acc: 0.7425\n",
      "2018-11-23 15:42:15,254 - src.common.trainer - DEBUG - train loss: 0.14762759851641394\n",
      "2018-11-23 15:42:15,263 - src.common.trainer - DEBUG - train loss: 0.11801974066729327\n",
      "2018-11-23 15:42:15,271 - src.common.trainer - DEBUG - train loss: 0.12140189992418916\n",
      "2018-11-23 15:42:15,435 - src.common.trainer - DEBUG - ==============================\n",
      "2018-11-23 15:42:15,436 - src.common.trainer - DEBUG - epoch: 119\n",
      "2018-11-23 15:42:15,437 - src.common.trainer - DEBUG - train acc: 0.99\n",
      "2018-11-23 15:42:15,439 - src.common.trainer - DEBUG - test acc: 0.7434\n",
      "2018-11-23 15:42:15,459 - src.common.trainer - DEBUG - train loss: 0.13140409021369404\n",
      "2018-11-23 15:42:15,469 - src.common.trainer - DEBUG - train loss: 0.14644127618114744\n",
      "2018-11-23 15:42:15,478 - src.common.trainer - DEBUG - train loss: 0.1045055629706095\n",
      "2018-11-23 15:42:15,653 - src.common.trainer - DEBUG - ==============================\n",
      "2018-11-23 15:42:15,654 - src.common.trainer - DEBUG - epoch: 120\n",
      "2018-11-23 15:42:15,655 - src.common.trainer - DEBUG - train acc: 0.99\n",
      "2018-11-23 15:42:15,655 - src.common.trainer - DEBUG - test acc: 0.7386\n",
      "2018-11-23 15:42:15,679 - src.common.trainer - DEBUG - train loss: 0.14369186540715775\n",
      "2018-11-23 15:42:15,690 - src.common.trainer - DEBUG - train loss: 0.12513720906000178\n",
      "2018-11-23 15:42:15,704 - src.common.trainer - DEBUG - train loss: 0.10969812582292325\n",
      "2018-11-23 15:42:15,875 - src.common.trainer - DEBUG - ==============================\n",
      "2018-11-23 15:42:15,876 - src.common.trainer - DEBUG - epoch: 121\n",
      "2018-11-23 15:42:15,876 - src.common.trainer - DEBUG - train acc: 0.99\n",
      "2018-11-23 15:42:15,878 - src.common.trainer - DEBUG - test acc: 0.7431\n",
      "2018-11-23 15:42:15,898 - src.common.trainer - DEBUG - train loss: 0.1317090003114195\n",
      "2018-11-23 15:42:15,910 - src.common.trainer - DEBUG - train loss: 0.1033942237119326\n",
      "2018-11-23 15:42:15,922 - src.common.trainer - DEBUG - train loss: 0.10930774129117526\n",
      "2018-11-23 15:42:16,098 - src.common.trainer - DEBUG - ==============================\n",
      "2018-11-23 15:42:16,099 - src.common.trainer - DEBUG - epoch: 122\n",
      "2018-11-23 15:42:16,100 - src.common.trainer - DEBUG - train acc: 0.9933333333333333\n",
      "2018-11-23 15:42:16,100 - src.common.trainer - DEBUG - test acc: 0.7431\n",
      "2018-11-23 15:42:16,121 - src.common.trainer - DEBUG - train loss: 0.1401482455686325\n",
      "2018-11-23 15:42:16,130 - src.common.trainer - DEBUG - train loss: 0.12130036706056238\n",
      "2018-11-23 15:42:16,139 - src.common.trainer - DEBUG - train loss: 0.115153919121061\n",
      "2018-11-23 15:42:16,311 - src.common.trainer - DEBUG - ==============================\n",
      "2018-11-23 15:42:16,312 - src.common.trainer - DEBUG - epoch: 123\n",
      "2018-11-23 15:42:16,313 - src.common.trainer - DEBUG - train acc: 0.9933333333333333\n",
      "2018-11-23 15:42:16,315 - src.common.trainer - DEBUG - test acc: 0.747\n",
      "2018-11-23 15:42:16,336 - src.common.trainer - DEBUG - train loss: 0.09227600333735606\n",
      "2018-11-23 15:42:16,346 - src.common.trainer - DEBUG - train loss: 0.15203310613856225\n",
      "2018-11-23 15:42:16,356 - src.common.trainer - DEBUG - train loss: 0.12433333984233733\n",
      "2018-11-23 15:42:16,551 - src.common.trainer - DEBUG - ==============================\n",
      "2018-11-23 15:42:16,552 - src.common.trainer - DEBUG - epoch: 124\n",
      "2018-11-23 15:42:16,552 - src.common.trainer - DEBUG - train acc: 0.99\n",
      "2018-11-23 15:42:16,554 - src.common.trainer - DEBUG - test acc: 0.7448\n",
      "2018-11-23 15:42:16,599 - src.common.trainer - DEBUG - train loss: 0.08418022652496916\n",
      "2018-11-23 15:42:16,622 - src.common.trainer - DEBUG - train loss: 0.11197952151996224\n",
      "2018-11-23 15:42:16,634 - src.common.trainer - DEBUG - train loss: 0.09871068622398299\n",
      "2018-11-23 15:42:16,821 - src.common.trainer - DEBUG - ==============================\n",
      "2018-11-23 15:42:16,821 - src.common.trainer - DEBUG - epoch: 125\n",
      "2018-11-23 15:42:16,822 - src.common.trainer - DEBUG - train acc: 0.9933333333333333\n",
      "2018-11-23 15:42:16,823 - src.common.trainer - DEBUG - test acc: 0.7491\n",
      "2018-11-23 15:42:16,843 - src.common.trainer - DEBUG - train loss: 0.08435852934419577\n",
      "2018-11-23 15:42:16,853 - src.common.trainer - DEBUG - train loss: 0.10228041142329976\n",
      "2018-11-23 15:42:16,862 - src.common.trainer - DEBUG - train loss: 0.09736046260083768\n",
      "2018-11-23 15:42:17,045 - src.common.trainer - DEBUG - ==============================\n",
      "2018-11-23 15:42:17,045 - src.common.trainer - DEBUG - epoch: 126\n",
      "2018-11-23 15:42:17,046 - src.common.trainer - DEBUG - train acc: 0.9933333333333333\n",
      "2018-11-23 15:42:17,047 - src.common.trainer - DEBUG - test acc: 0.746\n",
      "2018-11-23 15:42:17,069 - src.common.trainer - DEBUG - train loss: 0.07521800149774745\n",
      "2018-11-23 15:42:17,078 - src.common.trainer - DEBUG - train loss: 0.09262229427420104\n",
      "2018-11-23 15:42:17,089 - src.common.trainer - DEBUG - train loss: 0.14291651199371078\n",
      "2018-11-23 15:42:17,269 - src.common.trainer - DEBUG - ==============================\n",
      "2018-11-23 15:42:17,269 - src.common.trainer - DEBUG - epoch: 127\n",
      "2018-11-23 15:42:17,270 - src.common.trainer - DEBUG - train acc: 0.9933333333333333\n",
      "2018-11-23 15:42:17,271 - src.common.trainer - DEBUG - test acc: 0.7488\n",
      "2018-11-23 15:42:17,291 - src.common.trainer - DEBUG - train loss: 0.12310532199724354\n",
      "2018-11-23 15:42:17,301 - src.common.trainer - DEBUG - train loss: 0.11001580391076488\n",
      "2018-11-23 15:42:17,310 - src.common.trainer - DEBUG - train loss: 0.12290705222555572\n",
      "2018-11-23 15:42:17,506 - src.common.trainer - DEBUG - ==============================\n",
      "2018-11-23 15:42:17,507 - src.common.trainer - DEBUG - epoch: 128\n",
      "2018-11-23 15:42:17,508 - src.common.trainer - DEBUG - train acc: 1.0\n",
      "2018-11-23 15:42:17,508 - src.common.trainer - DEBUG - test acc: 0.7494\n",
      "2018-11-23 15:42:17,535 - src.common.trainer - DEBUG - train loss: 0.10112309205362183\n",
      "2018-11-23 15:42:17,547 - src.common.trainer - DEBUG - train loss: 0.1044597493403094\n",
      "2018-11-23 15:42:17,559 - src.common.trainer - DEBUG - train loss: 0.12871564906508084\n",
      "2018-11-23 15:42:17,747 - src.common.trainer - DEBUG - ==============================\n",
      "2018-11-23 15:42:17,748 - src.common.trainer - DEBUG - epoch: 129\n",
      "2018-11-23 15:42:17,748 - src.common.trainer - DEBUG - train acc: 0.9966666666666667\n",
      "2018-11-23 15:42:17,749 - src.common.trainer - DEBUG - test acc: 0.7499\n",
      "2018-11-23 15:42:17,772 - src.common.trainer - DEBUG - train loss: 0.09254298378858264\n",
      "2018-11-23 15:42:17,783 - src.common.trainer - DEBUG - train loss: 0.09910668923327057\n",
      "2018-11-23 15:42:17,794 - src.common.trainer - DEBUG - train loss: 0.09567394487203451\n",
      "2018-11-23 15:42:18,053 - src.common.trainer - DEBUG - ==============================\n",
      "2018-11-23 15:42:18,057 - src.common.trainer - DEBUG - epoch: 130\n",
      "2018-11-23 15:42:18,059 - src.common.trainer - DEBUG - train acc: 0.9966666666666667\n",
      "2018-11-23 15:42:18,062 - src.common.trainer - DEBUG - test acc: 0.7488\n",
      "2018-11-23 15:42:18,125 - src.common.trainer - DEBUG - train loss: 0.11758873767984189\n",
      "2018-11-23 15:42:18,156 - src.common.trainer - DEBUG - train loss: 0.11819044091249778\n",
      "2018-11-23 15:42:18,170 - src.common.trainer - DEBUG - train loss: 0.11037490816859959\n",
      "2018-11-23 15:42:18,447 - src.common.trainer - DEBUG - ==============================\n",
      "2018-11-23 15:42:18,448 - src.common.trainer - DEBUG - epoch: 131\n",
      "2018-11-23 15:42:18,449 - src.common.trainer - DEBUG - train acc: 1.0\n",
      "2018-11-23 15:42:18,450 - src.common.trainer - DEBUG - test acc: 0.7486\n",
      "2018-11-23 15:42:18,475 - src.common.trainer - DEBUG - train loss: 0.09614600566551083\n",
      "2018-11-23 15:42:18,486 - src.common.trainer - DEBUG - train loss: 0.08320267307597967\n",
      "2018-11-23 15:42:18,496 - src.common.trainer - DEBUG - train loss: 0.10781451155800928\n",
      "2018-11-23 15:42:18,849 - src.common.trainer - DEBUG - ==============================\n",
      "2018-11-23 15:42:18,850 - src.common.trainer - DEBUG - epoch: 132\n",
      "2018-11-23 15:42:18,852 - src.common.trainer - DEBUG - train acc: 0.9933333333333333\n",
      "2018-11-23 15:42:18,859 - src.common.trainer - DEBUG - test acc: 0.7467\n",
      "2018-11-23 15:42:18,888 - src.common.trainer - DEBUG - train loss: 0.09627312632000025\n",
      "2018-11-23 15:42:18,900 - src.common.trainer - DEBUG - train loss: 0.06293467102087938\n",
      "2018-11-23 15:42:18,913 - src.common.trainer - DEBUG - train loss: 0.08038915272751163\n",
      "2018-11-23 15:42:19,139 - src.common.trainer - DEBUG - ==============================\n",
      "2018-11-23 15:42:19,140 - src.common.trainer - DEBUG - epoch: 133\n",
      "2018-11-23 15:42:19,141 - src.common.trainer - DEBUG - train acc: 0.9966666666666667\n",
      "2018-11-23 15:42:19,142 - src.common.trainer - DEBUG - test acc: 0.7498\n",
      "2018-11-23 15:42:19,166 - src.common.trainer - DEBUG - train loss: 0.09795430249449463\n",
      "2018-11-23 15:42:19,232 - src.common.trainer - DEBUG - train loss: 0.09103008800503198\n",
      "2018-11-23 15:42:19,245 - src.common.trainer - DEBUG - train loss: 0.10243079716648737\n",
      "2018-11-23 15:42:19,405 - src.common.trainer - DEBUG - ==============================\n",
      "2018-11-23 15:42:19,406 - src.common.trainer - DEBUG - epoch: 134\n",
      "2018-11-23 15:42:19,406 - src.common.trainer - DEBUG - train acc: 0.9966666666666667\n",
      "2018-11-23 15:42:19,407 - src.common.trainer - DEBUG - test acc: 0.7492\n",
      "2018-11-23 15:42:19,426 - src.common.trainer - DEBUG - train loss: 0.0767258063823388\n",
      "2018-11-23 15:42:19,435 - src.common.trainer - DEBUG - train loss: 0.09986365748074899\n",
      "2018-11-23 15:42:19,444 - src.common.trainer - DEBUG - train loss: 0.07483556960606001\n",
      "2018-11-23 15:42:19,625 - src.common.trainer - DEBUG - ==============================\n",
      "2018-11-23 15:42:19,625 - src.common.trainer - DEBUG - epoch: 135\n",
      "2018-11-23 15:42:19,627 - src.common.trainer - DEBUG - train acc: 0.9966666666666667\n",
      "2018-11-23 15:42:19,629 - src.common.trainer - DEBUG - test acc: 0.7494\n",
      "2018-11-23 15:42:19,647 - src.common.trainer - DEBUG - train loss: 0.07903760914389138\n",
      "2018-11-23 15:42:19,655 - src.common.trainer - DEBUG - train loss: 0.08634158581260477\n",
      "2018-11-23 15:42:19,664 - src.common.trainer - DEBUG - train loss: 0.093868945286727\n",
      "2018-11-23 15:42:19,805 - src.common.trainer - DEBUG - ==============================\n",
      "2018-11-23 15:42:19,806 - src.common.trainer - DEBUG - epoch: 136\n",
      "2018-11-23 15:42:19,806 - src.common.trainer - DEBUG - train acc: 0.9966666666666667\n",
      "2018-11-23 15:42:19,807 - src.common.trainer - DEBUG - test acc: 0.7501\n",
      "2018-11-23 15:42:19,825 - src.common.trainer - DEBUG - train loss: 0.08222702516604659\n",
      "2018-11-23 15:42:19,833 - src.common.trainer - DEBUG - train loss: 0.07167304938999985\n",
      "2018-11-23 15:42:19,842 - src.common.trainer - DEBUG - train loss: 0.11231565523654055\n",
      "2018-11-23 15:42:20,022 - src.common.trainer - DEBUG - ==============================\n",
      "2018-11-23 15:42:20,023 - src.common.trainer - DEBUG - epoch: 137\n",
      "2018-11-23 15:42:20,023 - src.common.trainer - DEBUG - train acc: 1.0\n",
      "2018-11-23 15:42:20,024 - src.common.trainer - DEBUG - test acc: 0.7508\n",
      "2018-11-23 15:42:20,045 - src.common.trainer - DEBUG - train loss: 0.08624586769065783\n",
      "2018-11-23 15:42:20,056 - src.common.trainer - DEBUG - train loss: 0.07220189649684569\n",
      "2018-11-23 15:42:20,066 - src.common.trainer - DEBUG - train loss: 0.08627818121452423\n",
      "2018-11-23 15:42:20,242 - src.common.trainer - DEBUG - ==============================\n",
      "2018-11-23 15:42:20,243 - src.common.trainer - DEBUG - epoch: 138\n",
      "2018-11-23 15:42:20,243 - src.common.trainer - DEBUG - train acc: 1.0\n",
      "2018-11-23 15:42:20,244 - src.common.trainer - DEBUG - test acc: 0.7544\n",
      "2018-11-23 15:42:20,264 - src.common.trainer - DEBUG - train loss: 0.0724245608100803\n",
      "2018-11-23 15:42:20,273 - src.common.trainer - DEBUG - train loss: 0.07526840881530746\n",
      "2018-11-23 15:42:20,284 - src.common.trainer - DEBUG - train loss: 0.07040201926252557\n",
      "2018-11-23 15:42:20,538 - src.common.trainer - DEBUG - ==============================\n",
      "2018-11-23 15:42:20,539 - src.common.trainer - DEBUG - epoch: 139\n",
      "2018-11-23 15:42:20,539 - src.common.trainer - DEBUG - train acc: 0.9966666666666667\n",
      "2018-11-23 15:42:20,541 - src.common.trainer - DEBUG - test acc: 0.7547\n",
      "2018-11-23 15:42:20,559 - src.common.trainer - DEBUG - train loss: 0.055652557046711834\n",
      "2018-11-23 15:42:20,567 - src.common.trainer - DEBUG - train loss: 0.0901957168316824\n",
      "2018-11-23 15:42:20,575 - src.common.trainer - DEBUG - train loss: 0.08210003432971069\n",
      "2018-11-23 15:42:20,724 - src.common.trainer - DEBUG - ==============================\n",
      "2018-11-23 15:42:20,724 - src.common.trainer - DEBUG - epoch: 140\n",
      "2018-11-23 15:42:20,725 - src.common.trainer - DEBUG - train acc: 1.0\n",
      "2018-11-23 15:42:20,725 - src.common.trainer - DEBUG - test acc: 0.7517\n",
      "2018-11-23 15:42:20,742 - src.common.trainer - DEBUG - train loss: 0.07970638077755926\n",
      "2018-11-23 15:42:20,750 - src.common.trainer - DEBUG - train loss: 0.06553917822241755\n",
      "2018-11-23 15:42:20,758 - src.common.trainer - DEBUG - train loss: 0.07574676075490538\n",
      "2018-11-23 15:42:20,898 - src.common.trainer - DEBUG - ==============================\n",
      "2018-11-23 15:42:20,899 - src.common.trainer - DEBUG - epoch: 141\n",
      "2018-11-23 15:42:20,900 - src.common.trainer - DEBUG - train acc: 1.0\n",
      "2018-11-23 15:42:20,900 - src.common.trainer - DEBUG - test acc: 0.7531\n",
      "2018-11-23 15:42:20,919 - src.common.trainer - DEBUG - train loss: 0.06649282593920879\n",
      "2018-11-23 15:42:20,929 - src.common.trainer - DEBUG - train loss: 0.10014683964652318\n",
      "2018-11-23 15:42:20,938 - src.common.trainer - DEBUG - train loss: 0.07250905531380886\n",
      "2018-11-23 15:42:21,083 - src.common.trainer - DEBUG - ==============================\n",
      "2018-11-23 15:42:21,084 - src.common.trainer - DEBUG - epoch: 142\n",
      "2018-11-23 15:42:21,084 - src.common.trainer - DEBUG - train acc: 1.0\n",
      "2018-11-23 15:42:21,085 - src.common.trainer - DEBUG - test acc: 0.753\n",
      "2018-11-23 15:42:21,102 - src.common.trainer - DEBUG - train loss: 0.07655220607631545\n",
      "2018-11-23 15:42:21,112 - src.common.trainer - DEBUG - train loss: 0.0764708059351879\n",
      "2018-11-23 15:42:21,120 - src.common.trainer - DEBUG - train loss: 0.047785563523837726\n",
      "2018-11-23 15:42:21,273 - src.common.trainer - DEBUG - ==============================\n",
      "2018-11-23 15:42:21,274 - src.common.trainer - DEBUG - epoch: 143\n",
      "2018-11-23 15:42:21,275 - src.common.trainer - DEBUG - train acc: 1.0\n",
      "2018-11-23 15:42:21,276 - src.common.trainer - DEBUG - test acc: 0.752\n",
      "2018-11-23 15:42:21,298 - src.common.trainer - DEBUG - train loss: 0.07365089603079424\n",
      "2018-11-23 15:42:21,309 - src.common.trainer - DEBUG - train loss: 0.07987336501239946\n",
      "2018-11-23 15:42:21,318 - src.common.trainer - DEBUG - train loss: 0.07778265459593549\n",
      "2018-11-23 15:42:21,488 - src.common.trainer - DEBUG - ==============================\n",
      "2018-11-23 15:42:21,489 - src.common.trainer - DEBUG - epoch: 144\n",
      "2018-11-23 15:42:21,489 - src.common.trainer - DEBUG - train acc: 1.0\n",
      "2018-11-23 15:42:21,490 - src.common.trainer - DEBUG - test acc: 0.755\n",
      "2018-11-23 15:42:21,512 - src.common.trainer - DEBUG - train loss: 0.07276191673875008\n",
      "2018-11-23 15:42:21,520 - src.common.trainer - DEBUG - train loss: 0.06026504141886384\n",
      "2018-11-23 15:42:21,529 - src.common.trainer - DEBUG - train loss: 0.06927821825089583\n",
      "2018-11-23 15:42:21,670 - src.common.trainer - DEBUG - ==============================\n",
      "2018-11-23 15:42:21,671 - src.common.trainer - DEBUG - epoch: 145\n",
      "2018-11-23 15:42:21,672 - src.common.trainer - DEBUG - train acc: 1.0\n",
      "2018-11-23 15:42:21,672 - src.common.trainer - DEBUG - test acc: 0.7544\n",
      "2018-11-23 15:42:21,690 - src.common.trainer - DEBUG - train loss: 0.06889106901522828\n",
      "2018-11-23 15:42:21,699 - src.common.trainer - DEBUG - train loss: 0.07300705512522093\n",
      "2018-11-23 15:42:21,707 - src.common.trainer - DEBUG - train loss: 0.06524615120715095\n",
      "2018-11-23 15:42:21,862 - src.common.trainer - DEBUG - ==============================\n",
      "2018-11-23 15:42:21,862 - src.common.trainer - DEBUG - epoch: 146\n",
      "2018-11-23 15:42:21,863 - src.common.trainer - DEBUG - train acc: 1.0\n",
      "2018-11-23 15:42:21,864 - src.common.trainer - DEBUG - test acc: 0.755\n",
      "2018-11-23 15:42:21,882 - src.common.trainer - DEBUG - train loss: 0.09039737719458334\n",
      "2018-11-23 15:42:21,891 - src.common.trainer - DEBUG - train loss: 0.05792730913712032\n",
      "2018-11-23 15:42:21,898 - src.common.trainer - DEBUG - train loss: 0.06349088130070436\n",
      "2018-11-23 15:42:22,035 - src.common.trainer - DEBUG - ==============================\n",
      "2018-11-23 15:42:22,035 - src.common.trainer - DEBUG - epoch: 147\n",
      "2018-11-23 15:42:22,036 - src.common.trainer - DEBUG - train acc: 1.0\n",
      "2018-11-23 15:42:22,036 - src.common.trainer - DEBUG - test acc: 0.7542\n",
      "2018-11-23 15:42:22,057 - src.common.trainer - DEBUG - train loss: 0.05505960380107913\n",
      "2018-11-23 15:42:22,065 - src.common.trainer - DEBUG - train loss: 0.07269002601946917\n",
      "2018-11-23 15:42:22,073 - src.common.trainer - DEBUG - train loss: 0.0624664822703731\n",
      "2018-11-23 15:42:22,209 - src.common.trainer - DEBUG - ==============================\n",
      "2018-11-23 15:42:22,210 - src.common.trainer - DEBUG - epoch: 148\n",
      "2018-11-23 15:42:22,210 - src.common.trainer - DEBUG - train acc: 1.0\n",
      "2018-11-23 15:42:22,211 - src.common.trainer - DEBUG - test acc: 0.7537\n",
      "2018-11-23 15:42:22,229 - src.common.trainer - DEBUG - train loss: 0.07143675099341791\n",
      "2018-11-23 15:42:22,237 - src.common.trainer - DEBUG - train loss: 0.07106358064884495\n",
      "2018-11-23 15:42:22,245 - src.common.trainer - DEBUG - train loss: 0.07530982649682107\n",
      "2018-11-23 15:42:22,392 - src.common.trainer - DEBUG - ==============================\n",
      "2018-11-23 15:42:22,393 - src.common.trainer - DEBUG - epoch: 149\n",
      "2018-11-23 15:42:22,393 - src.common.trainer - DEBUG - train acc: 1.0\n",
      "2018-11-23 15:42:22,393 - src.common.trainer - DEBUG - test acc: 0.7545\n",
      "2018-11-23 15:42:22,416 - src.common.trainer - DEBUG - train loss: 0.08059573070343472\n",
      "2018-11-23 15:42:22,425 - src.common.trainer - DEBUG - train loss: 0.05337580465980589\n",
      "2018-11-23 15:42:22,435 - src.common.trainer - DEBUG - train loss: 0.054783102561257\n",
      "2018-11-23 15:42:22,601 - src.common.trainer - DEBUG - ==============================\n",
      "2018-11-23 15:42:22,602 - src.common.trainer - DEBUG - epoch: 150\n",
      "2018-11-23 15:42:22,603 - src.common.trainer - DEBUG - train acc: 1.0\n",
      "2018-11-23 15:42:22,604 - src.common.trainer - DEBUG - test acc: 0.7555\n",
      "2018-11-23 15:42:22,632 - src.common.trainer - DEBUG - train loss: 0.07168486107410948\n",
      "2018-11-23 15:42:22,639 - src.common.trainer - DEBUG - train loss: 0.07053852817958262\n",
      "2018-11-23 15:42:22,650 - src.common.trainer - DEBUG - train loss: 0.05039103150036367\n",
      "2018-11-23 15:42:22,797 - src.common.trainer - DEBUG - ==============================\n",
      "2018-11-23 15:42:22,798 - src.common.trainer - DEBUG - epoch: 151\n",
      "2018-11-23 15:42:22,799 - src.common.trainer - DEBUG - train acc: 1.0\n",
      "2018-11-23 15:42:22,799 - src.common.trainer - DEBUG - test acc: 0.7546\n",
      "2018-11-23 15:42:22,818 - src.common.trainer - DEBUG - train loss: 0.04930648461505271\n",
      "2018-11-23 15:42:22,826 - src.common.trainer - DEBUG - train loss: 0.07263564254572244\n",
      "2018-11-23 15:42:22,834 - src.common.trainer - DEBUG - train loss: 0.053361080065433546\n",
      "2018-11-23 15:42:22,977 - src.common.trainer - DEBUG - ==============================\n",
      "2018-11-23 15:42:22,978 - src.common.trainer - DEBUG - epoch: 152\n",
      "2018-11-23 15:42:22,978 - src.common.trainer - DEBUG - train acc: 1.0\n",
      "2018-11-23 15:42:22,979 - src.common.trainer - DEBUG - test acc: 0.7565\n",
      "2018-11-23 15:42:23,003 - src.common.trainer - DEBUG - train loss: 0.06597658850745179\n",
      "2018-11-23 15:42:23,014 - src.common.trainer - DEBUG - train loss: 0.04545555832956114\n",
      "2018-11-23 15:42:23,024 - src.common.trainer - DEBUG - train loss: 0.0534155867530424\n",
      "2018-11-23 15:42:23,214 - src.common.trainer - DEBUG - ==============================\n",
      "2018-11-23 15:42:23,215 - src.common.trainer - DEBUG - epoch: 153\n",
      "2018-11-23 15:42:23,216 - src.common.trainer - DEBUG - train acc: 1.0\n",
      "2018-11-23 15:42:23,216 - src.common.trainer - DEBUG - test acc: 0.7542\n",
      "2018-11-23 15:42:23,236 - src.common.trainer - DEBUG - train loss: 0.06349326426910727\n",
      "2018-11-23 15:42:23,243 - src.common.trainer - DEBUG - train loss: 0.06422931742450931\n",
      "2018-11-23 15:42:23,251 - src.common.trainer - DEBUG - train loss: 0.04805992757328438\n",
      "2018-11-23 15:42:23,408 - src.common.trainer - DEBUG - ==============================\n",
      "2018-11-23 15:42:23,409 - src.common.trainer - DEBUG - epoch: 154\n",
      "2018-11-23 15:42:23,409 - src.common.trainer - DEBUG - train acc: 1.0\n",
      "2018-11-23 15:42:23,410 - src.common.trainer - DEBUG - test acc: 0.7554\n",
      "2018-11-23 15:42:23,429 - src.common.trainer - DEBUG - train loss: 0.061349133764699165\n",
      "2018-11-23 15:42:23,440 - src.common.trainer - DEBUG - train loss: 0.061883001036594436\n",
      "2018-11-23 15:42:23,449 - src.common.trainer - DEBUG - train loss: 0.045398070981181385\n",
      "2018-11-23 15:42:23,590 - src.common.trainer - DEBUG - ==============================\n",
      "2018-11-23 15:42:23,591 - src.common.trainer - DEBUG - epoch: 155\n",
      "2018-11-23 15:42:23,592 - src.common.trainer - DEBUG - train acc: 1.0\n",
      "2018-11-23 15:42:23,592 - src.common.trainer - DEBUG - test acc: 0.7567\n",
      "2018-11-23 15:42:23,610 - src.common.trainer - DEBUG - train loss: 0.054354758051205654\n",
      "2018-11-23 15:42:23,619 - src.common.trainer - DEBUG - train loss: 0.043707864844635985\n",
      "2018-11-23 15:42:23,626 - src.common.trainer - DEBUG - train loss: 0.06330391321137768\n",
      "2018-11-23 15:42:23,761 - src.common.trainer - DEBUG - ==============================\n",
      "2018-11-23 15:42:23,762 - src.common.trainer - DEBUG - epoch: 156\n",
      "2018-11-23 15:42:23,763 - src.common.trainer - DEBUG - train acc: 1.0\n",
      "2018-11-23 15:42:23,763 - src.common.trainer - DEBUG - test acc: 0.7569\n",
      "2018-11-23 15:42:23,781 - src.common.trainer - DEBUG - train loss: 0.04664213162280432\n",
      "2018-11-23 15:42:23,790 - src.common.trainer - DEBUG - train loss: 0.05199141803074278\n",
      "2018-11-23 15:42:23,798 - src.common.trainer - DEBUG - train loss: 0.06321509301634898\n",
      "2018-11-23 15:42:23,934 - src.common.trainer - DEBUG - ==============================\n",
      "2018-11-23 15:42:23,935 - src.common.trainer - DEBUG - epoch: 157\n",
      "2018-11-23 15:42:23,935 - src.common.trainer - DEBUG - train acc: 1.0\n",
      "2018-11-23 15:42:23,935 - src.common.trainer - DEBUG - test acc: 0.7562\n",
      "2018-11-23 15:42:23,953 - src.common.trainer - DEBUG - train loss: 0.054548842466532285\n",
      "2018-11-23 15:42:23,961 - src.common.trainer - DEBUG - train loss: 0.05743393394242035\n",
      "2018-11-23 15:42:23,969 - src.common.trainer - DEBUG - train loss: 0.054926273068058314\n",
      "2018-11-23 15:42:24,104 - src.common.trainer - DEBUG - ==============================\n",
      "2018-11-23 15:42:24,104 - src.common.trainer - DEBUG - epoch: 158\n",
      "2018-11-23 15:42:24,105 - src.common.trainer - DEBUG - train acc: 1.0\n",
      "2018-11-23 15:42:24,105 - src.common.trainer - DEBUG - test acc: 0.7564\n",
      "2018-11-23 15:42:24,123 - src.common.trainer - DEBUG - train loss: 0.06258390849393174\n",
      "2018-11-23 15:42:24,131 - src.common.trainer - DEBUG - train loss: 0.04853886675526068\n",
      "2018-11-23 15:42:24,138 - src.common.trainer - DEBUG - train loss: 0.04564645349608644\n",
      "2018-11-23 15:42:24,275 - src.common.trainer - DEBUG - ==============================\n",
      "2018-11-23 15:42:24,276 - src.common.trainer - DEBUG - epoch: 159\n",
      "2018-11-23 15:42:24,276 - src.common.trainer - DEBUG - train acc: 1.0\n",
      "2018-11-23 15:42:24,277 - src.common.trainer - DEBUG - test acc: 0.754\n",
      "2018-11-23 15:42:24,294 - src.common.trainer - DEBUG - train loss: 0.05535444657002455\n",
      "2018-11-23 15:42:24,302 - src.common.trainer - DEBUG - train loss: 0.05938048666054237\n",
      "2018-11-23 15:42:24,309 - src.common.trainer - DEBUG - train loss: 0.04138257490444259\n",
      "2018-11-23 15:42:24,445 - src.common.trainer - DEBUG - ==============================\n",
      "2018-11-23 15:42:24,446 - src.common.trainer - DEBUG - epoch: 160\n",
      "2018-11-23 15:42:24,446 - src.common.trainer - DEBUG - train acc: 1.0\n",
      "2018-11-23 15:42:24,447 - src.common.trainer - DEBUG - test acc: 0.7577\n",
      "2018-11-23 15:42:24,465 - src.common.trainer - DEBUG - train loss: 0.045715625200074245\n",
      "2018-11-23 15:42:24,473 - src.common.trainer - DEBUG - train loss: 0.05625035577764969\n",
      "2018-11-23 15:42:24,481 - src.common.trainer - DEBUG - train loss: 0.03613626055794236\n",
      "2018-11-23 15:42:24,620 - src.common.trainer - DEBUG - ==============================\n",
      "2018-11-23 15:42:24,621 - src.common.trainer - DEBUG - epoch: 161\n",
      "2018-11-23 15:42:24,621 - src.common.trainer - DEBUG - train acc: 1.0\n",
      "2018-11-23 15:42:24,622 - src.common.trainer - DEBUG - test acc: 0.7569\n",
      "2018-11-23 15:42:24,641 - src.common.trainer - DEBUG - train loss: 0.04286072497992501\n",
      "2018-11-23 15:42:24,650 - src.common.trainer - DEBUG - train loss: 0.05824931572868959\n",
      "2018-11-23 15:42:24,658 - src.common.trainer - DEBUG - train loss: 0.04600757057842496\n",
      "2018-11-23 15:42:24,794 - src.common.trainer - DEBUG - ==============================\n",
      "2018-11-23 15:42:24,794 - src.common.trainer - DEBUG - epoch: 162\n",
      "2018-11-23 15:42:24,795 - src.common.trainer - DEBUG - train acc: 1.0\n",
      "2018-11-23 15:42:24,795 - src.common.trainer - DEBUG - test acc: 0.7587\n",
      "2018-11-23 15:42:24,813 - src.common.trainer - DEBUG - train loss: 0.03918138230796479\n",
      "2018-11-23 15:42:24,821 - src.common.trainer - DEBUG - train loss: 0.04252078612850416\n",
      "2018-11-23 15:42:24,828 - src.common.trainer - DEBUG - train loss: 0.05148469543511419\n",
      "2018-11-23 15:42:24,964 - src.common.trainer - DEBUG - ==============================\n",
      "2018-11-23 15:42:24,964 - src.common.trainer - DEBUG - epoch: 163\n",
      "2018-11-23 15:42:24,965 - src.common.trainer - DEBUG - train acc: 1.0\n",
      "2018-11-23 15:42:24,965 - src.common.trainer - DEBUG - test acc: 0.7584\n",
      "2018-11-23 15:42:24,983 - src.common.trainer - DEBUG - train loss: 0.053721790715516395\n",
      "2018-11-23 15:42:24,991 - src.common.trainer - DEBUG - train loss: 0.04964869828849924\n",
      "2018-11-23 15:42:24,998 - src.common.trainer - DEBUG - train loss: 0.05207601931733274\n",
      "2018-11-23 15:42:25,135 - src.common.trainer - DEBUG - ==============================\n",
      "2018-11-23 15:42:25,136 - src.common.trainer - DEBUG - epoch: 164\n",
      "2018-11-23 15:42:25,136 - src.common.trainer - DEBUG - train acc: 1.0\n",
      "2018-11-23 15:42:25,137 - src.common.trainer - DEBUG - test acc: 0.7582\n",
      "2018-11-23 15:42:25,154 - src.common.trainer - DEBUG - train loss: 0.044580791899392264\n",
      "2018-11-23 15:42:25,162 - src.common.trainer - DEBUG - train loss: 0.04350665546962405\n",
      "2018-11-23 15:42:25,169 - src.common.trainer - DEBUG - train loss: 0.05135459540507451\n",
      "2018-11-23 15:42:25,304 - src.common.trainer - DEBUG - ==============================\n",
      "2018-11-23 15:42:25,304 - src.common.trainer - DEBUG - epoch: 165\n",
      "2018-11-23 15:42:25,305 - src.common.trainer - DEBUG - train acc: 1.0\n",
      "2018-11-23 15:42:25,305 - src.common.trainer - DEBUG - test acc: 0.76\n",
      "2018-11-23 15:42:25,325 - src.common.trainer - DEBUG - train loss: 0.05908802714342945\n",
      "2018-11-23 15:42:25,332 - src.common.trainer - DEBUG - train loss: 0.03694450296091587\n",
      "2018-11-23 15:42:25,341 - src.common.trainer - DEBUG - train loss: 0.039894980157007515\n",
      "2018-11-23 15:42:25,478 - src.common.trainer - DEBUG - ==============================\n",
      "2018-11-23 15:42:25,478 - src.common.trainer - DEBUG - epoch: 166\n",
      "2018-11-23 15:42:25,479 - src.common.trainer - DEBUG - train acc: 1.0\n",
      "2018-11-23 15:42:25,479 - src.common.trainer - DEBUG - test acc: 0.7597\n",
      "2018-11-23 15:42:25,499 - src.common.trainer - DEBUG - train loss: 0.0453184712400185\n",
      "2018-11-23 15:42:25,507 - src.common.trainer - DEBUG - train loss: 0.04907693364743358\n",
      "2018-11-23 15:42:25,514 - src.common.trainer - DEBUG - train loss: 0.032719967182829233\n",
      "2018-11-23 15:42:25,650 - src.common.trainer - DEBUG - ==============================\n",
      "2018-11-23 15:42:25,650 - src.common.trainer - DEBUG - epoch: 167\n",
      "2018-11-23 15:42:25,651 - src.common.trainer - DEBUG - train acc: 1.0\n",
      "2018-11-23 15:42:25,651 - src.common.trainer - DEBUG - test acc: 0.7597\n",
      "2018-11-23 15:42:25,669 - src.common.trainer - DEBUG - train loss: 0.03786032263735172\n",
      "2018-11-23 15:42:25,676 - src.common.trainer - DEBUG - train loss: 0.0445694214013892\n",
      "2018-11-23 15:42:25,684 - src.common.trainer - DEBUG - train loss: 0.032172074818258484\n",
      "2018-11-23 15:42:25,819 - src.common.trainer - DEBUG - ==============================\n",
      "2018-11-23 15:42:25,820 - src.common.trainer - DEBUG - epoch: 168\n",
      "2018-11-23 15:42:25,820 - src.common.trainer - DEBUG - train acc: 1.0\n",
      "2018-11-23 15:42:25,821 - src.common.trainer - DEBUG - test acc: 0.7598\n",
      "2018-11-23 15:42:25,839 - src.common.trainer - DEBUG - train loss: 0.033337971048782375\n",
      "2018-11-23 15:42:25,847 - src.common.trainer - DEBUG - train loss: 0.03596406457152012\n",
      "2018-11-23 15:42:25,854 - src.common.trainer - DEBUG - train loss: 0.0439129806234817\n",
      "2018-11-23 15:42:25,989 - src.common.trainer - DEBUG - ==============================\n",
      "2018-11-23 15:42:25,989 - src.common.trainer - DEBUG - epoch: 169\n",
      "2018-11-23 15:42:25,990 - src.common.trainer - DEBUG - train acc: 1.0\n",
      "2018-11-23 15:42:25,991 - src.common.trainer - DEBUG - test acc: 0.7582\n",
      "2018-11-23 15:42:26,008 - src.common.trainer - DEBUG - train loss: 0.0484894168600787\n",
      "2018-11-23 15:42:26,016 - src.common.trainer - DEBUG - train loss: 0.048116726210714784\n",
      "2018-11-23 15:42:26,025 - src.common.trainer - DEBUG - train loss: 0.03063241174561731\n",
      "2018-11-23 15:42:26,162 - src.common.trainer - DEBUG - ==============================\n",
      "2018-11-23 15:42:26,163 - src.common.trainer - DEBUG - epoch: 170\n",
      "2018-11-23 15:42:26,163 - src.common.trainer - DEBUG - train acc: 1.0\n",
      "2018-11-23 15:42:26,164 - src.common.trainer - DEBUG - test acc: 0.7577\n",
      "2018-11-23 15:42:26,181 - src.common.trainer - DEBUG - train loss: 0.04342993320994897\n",
      "2018-11-23 15:42:26,189 - src.common.trainer - DEBUG - train loss: 0.04289262533977163\n",
      "2018-11-23 15:42:26,197 - src.common.trainer - DEBUG - train loss: 0.03719866069857638\n",
      "2018-11-23 15:42:26,333 - src.common.trainer - DEBUG - ==============================\n",
      "2018-11-23 15:42:26,333 - src.common.trainer - DEBUG - epoch: 171\n",
      "2018-11-23 15:42:26,334 - src.common.trainer - DEBUG - train acc: 1.0\n",
      "2018-11-23 15:42:26,335 - src.common.trainer - DEBUG - test acc: 0.759\n",
      "2018-11-23 15:42:26,352 - src.common.trainer - DEBUG - train loss: 0.05216944626275724\n",
      "2018-11-23 15:42:26,360 - src.common.trainer - DEBUG - train loss: 0.048450497040540184\n",
      "2018-11-23 15:42:26,368 - src.common.trainer - DEBUG - train loss: 0.05317951668828996\n",
      "2018-11-23 15:42:26,514 - src.common.trainer - DEBUG - ==============================\n",
      "2018-11-23 15:42:26,515 - src.common.trainer - DEBUG - epoch: 172\n",
      "2018-11-23 15:42:26,515 - src.common.trainer - DEBUG - train acc: 1.0\n",
      "2018-11-23 15:42:26,516 - src.common.trainer - DEBUG - test acc: 0.7606\n",
      "2018-11-23 15:42:26,534 - src.common.trainer - DEBUG - train loss: 0.046824399057251664\n",
      "2018-11-23 15:42:26,542 - src.common.trainer - DEBUG - train loss: 0.048484578883838274\n",
      "2018-11-23 15:42:26,550 - src.common.trainer - DEBUG - train loss: 0.044521064985252504\n",
      "2018-11-23 15:42:26,698 - src.common.trainer - DEBUG - ==============================\n",
      "2018-11-23 15:42:26,699 - src.common.trainer - DEBUG - epoch: 173\n",
      "2018-11-23 15:42:26,700 - src.common.trainer - DEBUG - train acc: 1.0\n",
      "2018-11-23 15:42:26,700 - src.common.trainer - DEBUG - test acc: 0.7595\n",
      "2018-11-23 15:42:26,719 - src.common.trainer - DEBUG - train loss: 0.04092342473916102\n",
      "2018-11-23 15:42:26,726 - src.common.trainer - DEBUG - train loss: 0.0314946419599482\n",
      "2018-11-23 15:42:26,734 - src.common.trainer - DEBUG - train loss: 0.0346764572071368\n",
      "2018-11-23 15:42:26,907 - src.common.trainer - DEBUG - ==============================\n",
      "2018-11-23 15:42:26,908 - src.common.trainer - DEBUG - epoch: 174\n",
      "2018-11-23 15:42:26,908 - src.common.trainer - DEBUG - train acc: 1.0\n",
      "2018-11-23 15:42:26,909 - src.common.trainer - DEBUG - test acc: 0.7584\n",
      "2018-11-23 15:42:26,929 - src.common.trainer - DEBUG - train loss: 0.02717809554996115\n",
      "2018-11-23 15:42:26,937 - src.common.trainer - DEBUG - train loss: 0.03811680240230899\n",
      "2018-11-23 15:42:26,945 - src.common.trainer - DEBUG - train loss: 0.04338275812778933\n",
      "2018-11-23 15:42:27,083 - src.common.trainer - DEBUG - ==============================\n",
      "2018-11-23 15:42:27,084 - src.common.trainer - DEBUG - epoch: 175\n",
      "2018-11-23 15:42:27,084 - src.common.trainer - DEBUG - train acc: 1.0\n",
      "2018-11-23 15:42:27,085 - src.common.trainer - DEBUG - test acc: 0.7588\n",
      "2018-11-23 15:42:27,105 - src.common.trainer - DEBUG - train loss: 0.03226207042050611\n",
      "2018-11-23 15:42:27,117 - src.common.trainer - DEBUG - train loss: 0.05191083676261304\n",
      "2018-11-23 15:42:27,130 - src.common.trainer - DEBUG - train loss: 0.04238507535147553\n",
      "2018-11-23 15:42:27,320 - src.common.trainer - DEBUG - ==============================\n",
      "2018-11-23 15:42:27,321 - src.common.trainer - DEBUG - epoch: 176\n",
      "2018-11-23 15:42:27,322 - src.common.trainer - DEBUG - train acc: 1.0\n",
      "2018-11-23 15:42:27,322 - src.common.trainer - DEBUG - test acc: 0.7603\n",
      "2018-11-23 15:42:27,341 - src.common.trainer - DEBUG - train loss: 0.04433774694853272\n",
      "2018-11-23 15:42:27,349 - src.common.trainer - DEBUG - train loss: 0.02419748586441725\n",
      "2018-11-23 15:42:27,358 - src.common.trainer - DEBUG - train loss: 0.035556063222420414\n",
      "2018-11-23 15:42:27,514 - src.common.trainer - DEBUG - ==============================\n",
      "2018-11-23 15:42:27,515 - src.common.trainer - DEBUG - epoch: 177\n",
      "2018-11-23 15:42:27,516 - src.common.trainer - DEBUG - train acc: 1.0\n",
      "2018-11-23 15:42:27,516 - src.common.trainer - DEBUG - test acc: 0.7604\n",
      "2018-11-23 15:42:27,535 - src.common.trainer - DEBUG - train loss: 0.04002763745378436\n",
      "2018-11-23 15:42:27,545 - src.common.trainer - DEBUG - train loss: 0.0344586646237174\n",
      "2018-11-23 15:42:27,553 - src.common.trainer - DEBUG - train loss: 0.032768231376836654\n",
      "2018-11-23 15:42:27,706 - src.common.trainer - DEBUG - ==============================\n",
      "2018-11-23 15:42:27,706 - src.common.trainer - DEBUG - epoch: 178\n",
      "2018-11-23 15:42:27,707 - src.common.trainer - DEBUG - train acc: 1.0\n",
      "2018-11-23 15:42:27,707 - src.common.trainer - DEBUG - test acc: 0.7591\n",
      "2018-11-23 15:42:27,725 - src.common.trainer - DEBUG - train loss: 0.033852705335251664\n",
      "2018-11-23 15:42:27,734 - src.common.trainer - DEBUG - train loss: 0.030648530692571754\n",
      "2018-11-23 15:42:27,743 - src.common.trainer - DEBUG - train loss: 0.03680384808689878\n",
      "2018-11-23 15:42:27,885 - src.common.trainer - DEBUG - ==============================\n",
      "2018-11-23 15:42:27,886 - src.common.trainer - DEBUG - epoch: 179\n",
      "2018-11-23 15:42:27,886 - src.common.trainer - DEBUG - train acc: 1.0\n",
      "2018-11-23 15:42:27,887 - src.common.trainer - DEBUG - test acc: 0.7587\n",
      "2018-11-23 15:42:27,905 - src.common.trainer - DEBUG - train loss: 0.03902051484910496\n",
      "2018-11-23 15:42:27,914 - src.common.trainer - DEBUG - train loss: 0.030258597629035124\n",
      "2018-11-23 15:42:27,922 - src.common.trainer - DEBUG - train loss: 0.03350885913044763\n",
      "2018-11-23 15:42:28,063 - src.common.trainer - DEBUG - ==============================\n",
      "2018-11-23 15:42:28,063 - src.common.trainer - DEBUG - epoch: 180\n",
      "2018-11-23 15:42:28,064 - src.common.trainer - DEBUG - train acc: 1.0\n",
      "2018-11-23 15:42:28,065 - src.common.trainer - DEBUG - test acc: 0.7613\n",
      "2018-11-23 15:42:28,083 - src.common.trainer - DEBUG - train loss: 0.029389537264522928\n",
      "2018-11-23 15:42:28,092 - src.common.trainer - DEBUG - train loss: 0.030524162475499828\n",
      "2018-11-23 15:42:28,100 - src.common.trainer - DEBUG - train loss: 0.03375980101966856\n",
      "2018-11-23 15:42:28,239 - src.common.trainer - DEBUG - ==============================\n",
      "2018-11-23 15:42:28,240 - src.common.trainer - DEBUG - epoch: 181\n",
      "2018-11-23 15:42:28,240 - src.common.trainer - DEBUG - train acc: 1.0\n",
      "2018-11-23 15:42:28,241 - src.common.trainer - DEBUG - test acc: 0.7586\n",
      "2018-11-23 15:42:28,258 - src.common.trainer - DEBUG - train loss: 0.026730606458915417\n",
      "2018-11-23 15:42:28,267 - src.common.trainer - DEBUG - train loss: 0.028460758110055613\n",
      "2018-11-23 15:42:28,274 - src.common.trainer - DEBUG - train loss: 0.0322046521835947\n",
      "2018-11-23 15:42:28,414 - src.common.trainer - DEBUG - ==============================\n",
      "2018-11-23 15:42:28,414 - src.common.trainer - DEBUG - epoch: 182\n",
      "2018-11-23 15:42:28,415 - src.common.trainer - DEBUG - train acc: 1.0\n",
      "2018-11-23 15:42:28,415 - src.common.trainer - DEBUG - test acc: 0.7618\n",
      "2018-11-23 15:42:28,434 - src.common.trainer - DEBUG - train loss: 0.031328778633549034\n",
      "2018-11-23 15:42:28,442 - src.common.trainer - DEBUG - train loss: 0.03221027158664306\n",
      "2018-11-23 15:42:28,453 - src.common.trainer - DEBUG - train loss: 0.04143955137176312\n",
      "2018-11-23 15:42:28,596 - src.common.trainer - DEBUG - ==============================\n",
      "2018-11-23 15:42:28,597 - src.common.trainer - DEBUG - epoch: 183\n",
      "2018-11-23 15:42:28,598 - src.common.trainer - DEBUG - train acc: 1.0\n",
      "2018-11-23 15:42:28,599 - src.common.trainer - DEBUG - test acc: 0.7616\n",
      "2018-11-23 15:42:28,617 - src.common.trainer - DEBUG - train loss: 0.03378941879274012\n",
      "2018-11-23 15:42:28,626 - src.common.trainer - DEBUG - train loss: 0.04214877459696851\n",
      "2018-11-23 15:42:28,634 - src.common.trainer - DEBUG - train loss: 0.03093506625991866\n",
      "2018-11-23 15:42:28,774 - src.common.trainer - DEBUG - ==============================\n",
      "2018-11-23 15:42:28,774 - src.common.trainer - DEBUG - epoch: 184\n",
      "2018-11-23 15:42:28,775 - src.common.trainer - DEBUG - train acc: 1.0\n",
      "2018-11-23 15:42:28,775 - src.common.trainer - DEBUG - test acc: 0.7621\n",
      "2018-11-23 15:42:28,793 - src.common.trainer - DEBUG - train loss: 0.03744952062348482\n",
      "2018-11-23 15:42:28,801 - src.common.trainer - DEBUG - train loss: 0.038915690415720725\n",
      "2018-11-23 15:42:28,809 - src.common.trainer - DEBUG - train loss: 0.03262724808583367\n",
      "2018-11-23 15:42:28,947 - src.common.trainer - DEBUG - ==============================\n",
      "2018-11-23 15:42:28,947 - src.common.trainer - DEBUG - epoch: 185\n",
      "2018-11-23 15:42:28,948 - src.common.trainer - DEBUG - train acc: 1.0\n",
      "2018-11-23 15:42:28,948 - src.common.trainer - DEBUG - test acc: 0.7616\n",
      "2018-11-23 15:42:28,967 - src.common.trainer - DEBUG - train loss: 0.021699740382452936\n",
      "2018-11-23 15:42:28,974 - src.common.trainer - DEBUG - train loss: 0.030469406958049047\n",
      "2018-11-23 15:42:28,982 - src.common.trainer - DEBUG - train loss: 0.047202144331035\n",
      "2018-11-23 15:42:29,124 - src.common.trainer - DEBUG - ==============================\n",
      "2018-11-23 15:42:29,125 - src.common.trainer - DEBUG - epoch: 186\n",
      "2018-11-23 15:42:29,125 - src.common.trainer - DEBUG - train acc: 1.0\n",
      "2018-11-23 15:42:29,126 - src.common.trainer - DEBUG - test acc: 0.7606\n",
      "2018-11-23 15:42:29,147 - src.common.trainer - DEBUG - train loss: 0.03520887168068185\n",
      "2018-11-23 15:42:29,156 - src.common.trainer - DEBUG - train loss: 0.03511520170405937\n",
      "2018-11-23 15:42:29,164 - src.common.trainer - DEBUG - train loss: 0.029353022777183085\n",
      "2018-11-23 15:42:29,306 - src.common.trainer - DEBUG - ==============================\n",
      "2018-11-23 15:42:29,307 - src.common.trainer - DEBUG - epoch: 187\n",
      "2018-11-23 15:42:29,308 - src.common.trainer - DEBUG - train acc: 1.0\n",
      "2018-11-23 15:42:29,308 - src.common.trainer - DEBUG - test acc: 0.7636\n",
      "2018-11-23 15:42:29,333 - src.common.trainer - DEBUG - train loss: 0.03208493401910237\n",
      "2018-11-23 15:42:29,341 - src.common.trainer - DEBUG - train loss: 0.041048177302885375\n",
      "2018-11-23 15:42:29,349 - src.common.trainer - DEBUG - train loss: 0.03061563660980001\n",
      "2018-11-23 15:42:29,494 - src.common.trainer - DEBUG - ==============================\n",
      "2018-11-23 15:42:29,495 - src.common.trainer - DEBUG - epoch: 188\n",
      "2018-11-23 15:42:29,495 - src.common.trainer - DEBUG - train acc: 1.0\n",
      "2018-11-23 15:42:29,496 - src.common.trainer - DEBUG - test acc: 0.761\n",
      "2018-11-23 15:42:29,516 - src.common.trainer - DEBUG - train loss: 0.03767926892406906\n",
      "2018-11-23 15:42:29,525 - src.common.trainer - DEBUG - train loss: 0.026586817578696548\n",
      "2018-11-23 15:42:29,535 - src.common.trainer - DEBUG - train loss: 0.030414299965691217\n",
      "2018-11-23 15:42:29,698 - src.common.trainer - DEBUG - ==============================\n",
      "2018-11-23 15:42:29,699 - src.common.trainer - DEBUG - epoch: 189\n",
      "2018-11-23 15:42:29,699 - src.common.trainer - DEBUG - train acc: 1.0\n",
      "2018-11-23 15:42:29,700 - src.common.trainer - DEBUG - test acc: 0.7627\n",
      "2018-11-23 15:42:29,718 - src.common.trainer - DEBUG - train loss: 0.02731651872751485\n",
      "2018-11-23 15:42:29,727 - src.common.trainer - DEBUG - train loss: 0.042982154816927895\n",
      "2018-11-23 15:42:29,736 - src.common.trainer - DEBUG - train loss: 0.025371468161655603\n",
      "2018-11-23 15:42:29,876 - src.common.trainer - DEBUG - ==============================\n",
      "2018-11-23 15:42:29,877 - src.common.trainer - DEBUG - epoch: 190\n",
      "2018-11-23 15:42:29,877 - src.common.trainer - DEBUG - train acc: 1.0\n",
      "2018-11-23 15:42:29,878 - src.common.trainer - DEBUG - test acc: 0.7606\n",
      "2018-11-23 15:42:29,896 - src.common.trainer - DEBUG - train loss: 0.029689972161423148\n",
      "2018-11-23 15:42:29,905 - src.common.trainer - DEBUG - train loss: 0.02771904638433136\n",
      "2018-11-23 15:42:29,913 - src.common.trainer - DEBUG - train loss: 0.0297070753727083\n",
      "2018-11-23 15:42:30,068 - src.common.trainer - DEBUG - ==============================\n",
      "2018-11-23 15:42:30,069 - src.common.trainer - DEBUG - epoch: 191\n",
      "2018-11-23 15:42:30,069 - src.common.trainer - DEBUG - train acc: 1.0\n",
      "2018-11-23 15:42:30,070 - src.common.trainer - DEBUG - test acc: 0.7629\n",
      "2018-11-23 15:42:30,096 - src.common.trainer - DEBUG - train loss: 0.03273141787773866\n",
      "2018-11-23 15:42:30,106 - src.common.trainer - DEBUG - train loss: 0.027768505911208247\n",
      "2018-11-23 15:42:30,117 - src.common.trainer - DEBUG - train loss: 0.025388865469080105\n",
      "2018-11-23 15:42:30,314 - src.common.trainer - DEBUG - ==============================\n",
      "2018-11-23 15:42:30,315 - src.common.trainer - DEBUG - epoch: 192\n",
      "2018-11-23 15:42:30,317 - src.common.trainer - DEBUG - train acc: 1.0\n",
      "2018-11-23 15:42:30,317 - src.common.trainer - DEBUG - test acc: 0.7608\n",
      "2018-11-23 15:42:30,340 - src.common.trainer - DEBUG - train loss: 0.037438676092980586\n",
      "2018-11-23 15:42:30,348 - src.common.trainer - DEBUG - train loss: 0.03167700716941478\n",
      "2018-11-23 15:42:30,360 - src.common.trainer - DEBUG - train loss: 0.03259351959642474\n",
      "2018-11-23 15:42:30,597 - src.common.trainer - DEBUG - ==============================\n",
      "2018-11-23 15:42:30,597 - src.common.trainer - DEBUG - epoch: 193\n",
      "2018-11-23 15:42:30,598 - src.common.trainer - DEBUG - train acc: 1.0\n",
      "2018-11-23 15:42:30,601 - src.common.trainer - DEBUG - test acc: 0.7615\n",
      "2018-11-23 15:42:30,629 - src.common.trainer - DEBUG - train loss: 0.03701574447286227\n",
      "2018-11-23 15:42:30,671 - src.common.trainer - DEBUG - train loss: 0.02318125633557825\n",
      "2018-11-23 15:42:30,681 - src.common.trainer - DEBUG - train loss: 0.03473348408700288\n",
      "2018-11-23 15:42:30,875 - src.common.trainer - DEBUG - ==============================\n",
      "2018-11-23 15:42:30,876 - src.common.trainer - DEBUG - epoch: 194\n",
      "2018-11-23 15:42:30,877 - src.common.trainer - DEBUG - train acc: 1.0\n",
      "2018-11-23 15:42:30,877 - src.common.trainer - DEBUG - test acc: 0.7629\n",
      "2018-11-23 15:42:30,899 - src.common.trainer - DEBUG - train loss: 0.02554573186994577\n",
      "2018-11-23 15:42:30,909 - src.common.trainer - DEBUG - train loss: 0.0368903431808987\n",
      "2018-11-23 15:42:30,916 - src.common.trainer - DEBUG - train loss: 0.031570587004332455\n",
      "2018-11-23 15:42:31,074 - src.common.trainer - DEBUG - ==============================\n",
      "2018-11-23 15:42:31,076 - src.common.trainer - DEBUG - epoch: 195\n",
      "2018-11-23 15:42:31,078 - src.common.trainer - DEBUG - train acc: 1.0\n",
      "2018-11-23 15:42:31,078 - src.common.trainer - DEBUG - test acc: 0.7625\n",
      "2018-11-23 15:42:31,112 - src.common.trainer - DEBUG - train loss: 0.03246706062421307\n",
      "2018-11-23 15:42:31,144 - src.common.trainer - DEBUG - train loss: 0.035078430521644326\n",
      "2018-11-23 15:42:31,157 - src.common.trainer - DEBUG - train loss: 0.022486274377064505\n",
      "2018-11-23 15:42:31,359 - src.common.trainer - DEBUG - ==============================\n",
      "2018-11-23 15:42:31,360 - src.common.trainer - DEBUG - epoch: 196\n",
      "2018-11-23 15:42:31,361 - src.common.trainer - DEBUG - train acc: 1.0\n",
      "2018-11-23 15:42:31,362 - src.common.trainer - DEBUG - test acc: 0.7641\n",
      "2018-11-23 15:42:31,381 - src.common.trainer - DEBUG - train loss: 0.03138814889819822\n",
      "2018-11-23 15:42:31,389 - src.common.trainer - DEBUG - train loss: 0.023380844811224454\n",
      "2018-11-23 15:42:31,397 - src.common.trainer - DEBUG - train loss: 0.03234827971020126\n",
      "2018-11-23 15:42:31,562 - src.common.trainer - DEBUG - ==============================\n",
      "2018-11-23 15:42:31,563 - src.common.trainer - DEBUG - epoch: 197\n",
      "2018-11-23 15:42:31,563 - src.common.trainer - DEBUG - train acc: 1.0\n",
      "2018-11-23 15:42:31,564 - src.common.trainer - DEBUG - test acc: 0.7636\n",
      "2018-11-23 15:42:31,584 - src.common.trainer - DEBUG - train loss: 0.036166011003799896\n",
      "2018-11-23 15:42:31,597 - src.common.trainer - DEBUG - train loss: 0.021451892430002957\n",
      "2018-11-23 15:42:31,609 - src.common.trainer - DEBUG - train loss: 0.025722794563747972\n",
      "2018-11-23 15:42:31,771 - src.common.trainer - DEBUG - ==============================\n",
      "2018-11-23 15:42:31,772 - src.common.trainer - DEBUG - epoch: 198\n",
      "2018-11-23 15:42:31,773 - src.common.trainer - DEBUG - train acc: 1.0\n",
      "2018-11-23 15:42:31,773 - src.common.trainer - DEBUG - test acc: 0.763\n",
      "2018-11-23 15:42:31,793 - src.common.trainer - DEBUG - train loss: 0.02903935018488997\n",
      "2018-11-23 15:42:31,802 - src.common.trainer - DEBUG - train loss: 0.016744639721240337\n",
      "2018-11-23 15:42:31,811 - src.common.trainer - DEBUG - train loss: 0.02132477013870198\n",
      "2018-11-23 15:42:31,959 - src.common.trainer - DEBUG - ==============================\n",
      "2018-11-23 15:42:31,960 - src.common.trainer - DEBUG - epoch: 199\n",
      "2018-11-23 15:42:31,960 - src.common.trainer - DEBUG - train acc: 1.0\n",
      "2018-11-23 15:42:31,961 - src.common.trainer - DEBUG - test acc: 0.7626\n",
      "2018-11-23 15:42:31,979 - src.common.trainer - DEBUG - train loss: 0.032026312732037904\n",
      "2018-11-23 15:42:31,988 - src.common.trainer - DEBUG - train loss: 0.028616003808188226\n",
      "2018-11-23 15:42:31,996 - src.common.trainer - DEBUG - train loss: 0.03013861029781968\n",
      "2018-11-23 15:42:32,152 - src.common.trainer - DEBUG - ==============================\n",
      "2018-11-23 15:42:32,153 - src.common.trainer - DEBUG - epoch: 200\n",
      "2018-11-23 15:42:32,153 - src.common.trainer - DEBUG - train acc: 1.0\n",
      "2018-11-23 15:42:32,153 - src.common.trainer - DEBUG - test acc: 0.7635\n",
      "2018-11-23 15:42:32,172 - src.common.trainer - DEBUG - train loss: 0.024051341472916182\n",
      "2018-11-23 15:42:32,181 - src.common.trainer - DEBUG - train loss: 0.02400400808528528\n",
      "2018-11-23 15:42:32,189 - src.common.trainer - DEBUG - train loss: 0.025881751250321862\n",
      "2018-11-23 15:42:32,368 - src.common.trainer - DEBUG - ==============================\n",
      "2018-11-23 15:42:32,370 - src.common.trainer - DEBUG - epoch: 201\n",
      "2018-11-23 15:42:32,373 - src.common.trainer - DEBUG - train acc: 1.0\n",
      "2018-11-23 15:42:32,376 - src.common.trainer - DEBUG - test acc: 0.7622\n",
      "2018-11-23 15:42:32,396 - src.common.trainer - DEBUG - train loss: 0.02551425871521032\n",
      "2018-11-23 15:42:32,404 - src.common.trainer - DEBUG - train loss: 0.024227671706118014\n",
      "2018-11-23 15:42:32,412 - src.common.trainer - DEBUG - train loss: 0.03249069090330666\n",
      "2018-11-23 15:42:32,548 - src.common.trainer - DEBUG - ==============================\n",
      "2018-11-23 15:42:32,549 - src.common.trainer - DEBUG - epoch: 202\n",
      "2018-11-23 15:42:32,550 - src.common.trainer - DEBUG - train acc: 1.0\n",
      "2018-11-23 15:42:32,550 - src.common.trainer - DEBUG - test acc: 0.7615\n",
      "2018-11-23 15:42:32,568 - src.common.trainer - DEBUG - train loss: 0.02281814367409172\n",
      "2018-11-23 15:42:32,576 - src.common.trainer - DEBUG - train loss: 0.01935491155096525\n",
      "2018-11-23 15:42:32,585 - src.common.trainer - DEBUG - train loss: 0.030039644371114692\n",
      "2018-11-23 15:42:32,723 - src.common.trainer - DEBUG - ==============================\n",
      "2018-11-23 15:42:32,723 - src.common.trainer - DEBUG - epoch: 203\n",
      "2018-11-23 15:42:32,724 - src.common.trainer - DEBUG - train acc: 1.0\n",
      "2018-11-23 15:42:32,724 - src.common.trainer - DEBUG - test acc: 0.7614\n",
      "2018-11-23 15:42:32,743 - src.common.trainer - DEBUG - train loss: 0.02596981793782976\n",
      "2018-11-23 15:42:32,751 - src.common.trainer - DEBUG - train loss: 0.027286446195019843\n",
      "2018-11-23 15:42:32,758 - src.common.trainer - DEBUG - train loss: 0.022381008670283285\n",
      "2018-11-23 15:42:32,898 - src.common.trainer - DEBUG - ==============================\n",
      "2018-11-23 15:42:32,898 - src.common.trainer - DEBUG - epoch: 204\n",
      "2018-11-23 15:42:32,899 - src.common.trainer - DEBUG - train acc: 1.0\n",
      "2018-11-23 15:42:32,899 - src.common.trainer - DEBUG - test acc: 0.7629\n",
      "2018-11-23 15:42:32,923 - src.common.trainer - DEBUG - train loss: 0.02176809470177107\n",
      "2018-11-23 15:42:32,931 - src.common.trainer - DEBUG - train loss: 0.026880118182756183\n",
      "2018-11-23 15:42:32,939 - src.common.trainer - DEBUG - train loss: 0.020289465057351054\n",
      "2018-11-23 15:42:33,094 - src.common.trainer - DEBUG - ==============================\n",
      "2018-11-23 15:42:33,095 - src.common.trainer - DEBUG - epoch: 205\n",
      "2018-11-23 15:42:33,095 - src.common.trainer - DEBUG - train acc: 1.0\n",
      "2018-11-23 15:42:33,096 - src.common.trainer - DEBUG - test acc: 0.7621\n",
      "2018-11-23 15:42:33,117 - src.common.trainer - DEBUG - train loss: 0.02425030889711175\n",
      "2018-11-23 15:42:33,126 - src.common.trainer - DEBUG - train loss: 0.026430802307400296\n",
      "2018-11-23 15:42:33,134 - src.common.trainer - DEBUG - train loss: 0.01780840218937282\n",
      "2018-11-23 15:42:33,278 - src.common.trainer - DEBUG - ==============================\n",
      "2018-11-23 15:42:33,278 - src.common.trainer - DEBUG - epoch: 206\n",
      "2018-11-23 15:42:33,279 - src.common.trainer - DEBUG - train acc: 1.0\n",
      "2018-11-23 15:42:33,279 - src.common.trainer - DEBUG - test acc: 0.7609\n",
      "2018-11-23 15:42:33,297 - src.common.trainer - DEBUG - train loss: 0.023626440417615573\n",
      "2018-11-23 15:42:33,305 - src.common.trainer - DEBUG - train loss: 0.022800692910446285\n",
      "2018-11-23 15:42:33,312 - src.common.trainer - DEBUG - train loss: 0.0238581886612782\n",
      "2018-11-23 15:42:33,455 - src.common.trainer - DEBUG - ==============================\n",
      "2018-11-23 15:42:33,456 - src.common.trainer - DEBUG - epoch: 207\n",
      "2018-11-23 15:42:33,456 - src.common.trainer - DEBUG - train acc: 1.0\n",
      "2018-11-23 15:42:33,457 - src.common.trainer - DEBUG - test acc: 0.7631\n",
      "2018-11-23 15:42:33,477 - src.common.trainer - DEBUG - train loss: 0.025217460955265822\n",
      "2018-11-23 15:42:33,489 - src.common.trainer - DEBUG - train loss: 0.028093802266239313\n",
      "2018-11-23 15:42:33,502 - src.common.trainer - DEBUG - train loss: 0.024256020574762352\n",
      "2018-11-23 15:42:33,710 - src.common.trainer - DEBUG - ==============================\n",
      "2018-11-23 15:42:33,710 - src.common.trainer - DEBUG - epoch: 208\n",
      "2018-11-23 15:42:33,711 - src.common.trainer - DEBUG - train acc: 1.0\n",
      "2018-11-23 15:42:33,712 - src.common.trainer - DEBUG - test acc: 0.7635\n",
      "2018-11-23 15:42:33,731 - src.common.trainer - DEBUG - train loss: 0.02111104807036449\n",
      "2018-11-23 15:42:33,740 - src.common.trainer - DEBUG - train loss: 0.028548290627294682\n",
      "2018-11-23 15:42:33,750 - src.common.trainer - DEBUG - train loss: 0.020650944889676958\n",
      "2018-11-23 15:42:33,917 - src.common.trainer - DEBUG - ==============================\n",
      "2018-11-23 15:42:33,918 - src.common.trainer - DEBUG - epoch: 209\n",
      "2018-11-23 15:42:33,919 - src.common.trainer - DEBUG - train acc: 1.0\n",
      "2018-11-23 15:42:33,919 - src.common.trainer - DEBUG - test acc: 0.7634\n",
      "2018-11-23 15:42:33,938 - src.common.trainer - DEBUG - train loss: 0.029544780199583894\n",
      "2018-11-23 15:42:33,947 - src.common.trainer - DEBUG - train loss: 0.021955881951774427\n",
      "2018-11-23 15:42:33,956 - src.common.trainer - DEBUG - train loss: 0.03012233388467564\n",
      "2018-11-23 15:42:34,094 - src.common.trainer - DEBUG - ==============================\n",
      "2018-11-23 15:42:34,095 - src.common.trainer - DEBUG - epoch: 210\n",
      "2018-11-23 15:42:34,095 - src.common.trainer - DEBUG - train acc: 1.0\n",
      "2018-11-23 15:42:34,096 - src.common.trainer - DEBUG - test acc: 0.7643\n",
      "2018-11-23 15:42:34,115 - src.common.trainer - DEBUG - train loss: 0.021645188925562886\n",
      "2018-11-23 15:42:34,124 - src.common.trainer - DEBUG - train loss: 0.02083073324227174\n",
      "2018-11-23 15:42:34,133 - src.common.trainer - DEBUG - train loss: 0.02255478477340468\n",
      "2018-11-23 15:42:34,273 - src.common.trainer - DEBUG - ==============================\n",
      "2018-11-23 15:42:34,274 - src.common.trainer - DEBUG - epoch: 211\n",
      "2018-11-23 15:42:34,274 - src.common.trainer - DEBUG - train acc: 1.0\n",
      "2018-11-23 15:42:34,275 - src.common.trainer - DEBUG - test acc: 0.7633\n",
      "2018-11-23 15:42:34,293 - src.common.trainer - DEBUG - train loss: 0.02397539065458081\n",
      "2018-11-23 15:42:34,302 - src.common.trainer - DEBUG - train loss: 0.02475400169805281\n",
      "2018-11-23 15:42:34,311 - src.common.trainer - DEBUG - train loss: 0.01878116937979946\n",
      "2018-11-23 15:42:34,456 - src.common.trainer - DEBUG - ==============================\n",
      "2018-11-23 15:42:34,456 - src.common.trainer - DEBUG - epoch: 212\n",
      "2018-11-23 15:42:34,457 - src.common.trainer - DEBUG - train acc: 1.0\n",
      "2018-11-23 15:42:34,457 - src.common.trainer - DEBUG - test acc: 0.7625\n",
      "2018-11-23 15:42:34,476 - src.common.trainer - DEBUG - train loss: 0.023323409164237283\n",
      "2018-11-23 15:42:34,484 - src.common.trainer - DEBUG - train loss: 0.020190628067964008\n",
      "2018-11-23 15:42:34,492 - src.common.trainer - DEBUG - train loss: 0.021010967939443095\n",
      "2018-11-23 15:42:34,642 - src.common.trainer - DEBUG - ==============================\n",
      "2018-11-23 15:42:34,642 - src.common.trainer - DEBUG - epoch: 213\n",
      "2018-11-23 15:42:34,643 - src.common.trainer - DEBUG - train acc: 1.0\n",
      "2018-11-23 15:42:34,643 - src.common.trainer - DEBUG - test acc: 0.7635\n",
      "2018-11-23 15:42:34,662 - src.common.trainer - DEBUG - train loss: 0.022717498694783858\n",
      "2018-11-23 15:42:34,670 - src.common.trainer - DEBUG - train loss: 0.02717327163594594\n",
      "2018-11-23 15:42:34,678 - src.common.trainer - DEBUG - train loss: 0.0201272564365563\n",
      "2018-11-23 15:42:34,814 - src.common.trainer - DEBUG - ==============================\n",
      "2018-11-23 15:42:34,815 - src.common.trainer - DEBUG - epoch: 214\n",
      "2018-11-23 15:42:34,815 - src.common.trainer - DEBUG - train acc: 1.0\n",
      "2018-11-23 15:42:34,816 - src.common.trainer - DEBUG - test acc: 0.7622\n",
      "2018-11-23 15:42:34,836 - src.common.trainer - DEBUG - train loss: 0.02601996112601784\n",
      "2018-11-23 15:42:34,844 - src.common.trainer - DEBUG - train loss: 0.0158322986943459\n",
      "2018-11-23 15:42:34,851 - src.common.trainer - DEBUG - train loss: 0.022555999212442095\n",
      "2018-11-23 15:42:34,987 - src.common.trainer - DEBUG - ==============================\n",
      "2018-11-23 15:42:34,987 - src.common.trainer - DEBUG - epoch: 215\n",
      "2018-11-23 15:42:34,988 - src.common.trainer - DEBUG - train acc: 1.0\n",
      "2018-11-23 15:42:34,988 - src.common.trainer - DEBUG - test acc: 0.7625\n",
      "2018-11-23 15:42:35,006 - src.common.trainer - DEBUG - train loss: 0.027471829546558853\n",
      "2018-11-23 15:42:35,014 - src.common.trainer - DEBUG - train loss: 0.02457196326689123\n",
      "2018-11-23 15:42:35,022 - src.common.trainer - DEBUG - train loss: 0.028542720503995252\n",
      "2018-11-23 15:42:35,176 - src.common.trainer - DEBUG - ==============================\n",
      "2018-11-23 15:42:35,177 - src.common.trainer - DEBUG - epoch: 216\n",
      "2018-11-23 15:42:35,177 - src.common.trainer - DEBUG - train acc: 1.0\n",
      "2018-11-23 15:42:35,178 - src.common.trainer - DEBUG - test acc: 0.7615\n",
      "2018-11-23 15:42:35,197 - src.common.trainer - DEBUG - train loss: 0.016310164954812866\n",
      "2018-11-23 15:42:35,205 - src.common.trainer - DEBUG - train loss: 0.02517775712284279\n",
      "2018-11-23 15:42:35,213 - src.common.trainer - DEBUG - train loss: 0.019180642805244123\n",
      "2018-11-23 15:42:35,402 - src.common.trainer - DEBUG - ==============================\n",
      "2018-11-23 15:42:35,404 - src.common.trainer - DEBUG - epoch: 217\n",
      "2018-11-23 15:42:35,407 - src.common.trainer - DEBUG - train acc: 1.0\n",
      "2018-11-23 15:42:35,411 - src.common.trainer - DEBUG - test acc: 0.7635\n",
      "2018-11-23 15:42:35,444 - src.common.trainer - DEBUG - train loss: 0.028054119257176203\n",
      "2018-11-23 15:42:35,453 - src.common.trainer - DEBUG - train loss: 0.023308624783969698\n",
      "2018-11-23 15:42:35,463 - src.common.trainer - DEBUG - train loss: 0.018769997361095622\n",
      "2018-11-23 15:42:35,612 - src.common.trainer - DEBUG - ==============================\n",
      "2018-11-23 15:42:35,613 - src.common.trainer - DEBUG - epoch: 218\n",
      "2018-11-23 15:42:35,613 - src.common.trainer - DEBUG - train acc: 1.0\n",
      "2018-11-23 15:42:35,614 - src.common.trainer - DEBUG - test acc: 0.7626\n",
      "2018-11-23 15:42:35,635 - src.common.trainer - DEBUG - train loss: 0.024455434237748964\n",
      "2018-11-23 15:42:35,647 - src.common.trainer - DEBUG - train loss: 0.02174684914398112\n",
      "2018-11-23 15:42:35,658 - src.common.trainer - DEBUG - train loss: 0.02109415091342771\n",
      "2018-11-23 15:42:35,813 - src.common.trainer - DEBUG - ==============================\n",
      "2018-11-23 15:42:35,814 - src.common.trainer - DEBUG - epoch: 219\n",
      "2018-11-23 15:42:35,815 - src.common.trainer - DEBUG - train acc: 1.0\n",
      "2018-11-23 15:42:35,815 - src.common.trainer - DEBUG - test acc: 0.7632\n",
      "2018-11-23 15:42:35,836 - src.common.trainer - DEBUG - train loss: 0.022140341058908507\n",
      "2018-11-23 15:42:35,847 - src.common.trainer - DEBUG - train loss: 0.02744391813481239\n",
      "2018-11-23 15:42:35,857 - src.common.trainer - DEBUG - train loss: 0.019374202224753195\n",
      "2018-11-23 15:42:36,015 - src.common.trainer - DEBUG - ==============================\n",
      "2018-11-23 15:42:36,015 - src.common.trainer - DEBUG - epoch: 220\n",
      "2018-11-23 15:42:36,016 - src.common.trainer - DEBUG - train acc: 1.0\n",
      "2018-11-23 15:42:36,017 - src.common.trainer - DEBUG - test acc: 0.7652\n",
      "2018-11-23 15:42:36,035 - src.common.trainer - DEBUG - train loss: 0.025129617852803002\n",
      "2018-11-23 15:42:36,043 - src.common.trainer - DEBUG - train loss: 0.030621622363681378\n",
      "2018-11-23 15:42:36,051 - src.common.trainer - DEBUG - train loss: 0.014677871667685576\n",
      "2018-11-23 15:42:36,212 - src.common.trainer - DEBUG - ==============================\n",
      "2018-11-23 15:42:36,213 - src.common.trainer - DEBUG - epoch: 221\n",
      "2018-11-23 15:42:36,215 - src.common.trainer - DEBUG - train acc: 1.0\n",
      "2018-11-23 15:42:36,216 - src.common.trainer - DEBUG - test acc: 0.7643\n",
      "2018-11-23 15:42:36,242 - src.common.trainer - DEBUG - train loss: 0.023991680838700916\n",
      "2018-11-23 15:42:36,255 - src.common.trainer - DEBUG - train loss: 0.01734859029942191\n",
      "2018-11-23 15:42:36,266 - src.common.trainer - DEBUG - train loss: 0.018185682846418288\n",
      "2018-11-23 15:42:36,420 - src.common.trainer - DEBUG - ==============================\n",
      "2018-11-23 15:42:36,421 - src.common.trainer - DEBUG - epoch: 222\n",
      "2018-11-23 15:42:36,422 - src.common.trainer - DEBUG - train acc: 1.0\n",
      "2018-11-23 15:42:36,423 - src.common.trainer - DEBUG - test acc: 0.7654\n",
      "2018-11-23 15:42:36,461 - src.common.trainer - DEBUG - train loss: 0.022223784580457453\n",
      "2018-11-23 15:42:36,476 - src.common.trainer - DEBUG - train loss: 0.02429296652324941\n",
      "2018-11-23 15:42:36,500 - src.common.trainer - DEBUG - train loss: 0.02365411874785499\n",
      "2018-11-23 15:42:36,715 - src.common.trainer - DEBUG - ==============================\n",
      "2018-11-23 15:42:36,716 - src.common.trainer - DEBUG - epoch: 223\n",
      "2018-11-23 15:42:36,717 - src.common.trainer - DEBUG - train acc: 1.0\n",
      "2018-11-23 15:42:36,717 - src.common.trainer - DEBUG - test acc: 0.7648\n",
      "2018-11-23 15:42:36,736 - src.common.trainer - DEBUG - train loss: 0.020894772321943127\n",
      "2018-11-23 15:42:36,745 - src.common.trainer - DEBUG - train loss: 0.025312114618328673\n",
      "2018-11-23 15:42:36,754 - src.common.trainer - DEBUG - train loss: 0.025671637068363524\n",
      "2018-11-23 15:42:36,894 - src.common.trainer - DEBUG - ==============================\n",
      "2018-11-23 15:42:36,895 - src.common.trainer - DEBUG - epoch: 224\n",
      "2018-11-23 15:42:36,895 - src.common.trainer - DEBUG - train acc: 1.0\n",
      "2018-11-23 15:42:36,896 - src.common.trainer - DEBUG - test acc: 0.7639\n",
      "2018-11-23 15:42:36,916 - src.common.trainer - DEBUG - train loss: 0.024615103532402594\n",
      "2018-11-23 15:42:36,926 - src.common.trainer - DEBUG - train loss: 0.016151805878094106\n",
      "2018-11-23 15:42:36,939 - src.common.trainer - DEBUG - train loss: 0.020446582029719097\n",
      "2018-11-23 15:42:37,092 - src.common.trainer - DEBUG - ==============================\n",
      "2018-11-23 15:42:37,093 - src.common.trainer - DEBUG - epoch: 225\n",
      "2018-11-23 15:42:37,094 - src.common.trainer - DEBUG - train acc: 1.0\n",
      "2018-11-23 15:42:37,095 - src.common.trainer - DEBUG - test acc: 0.7652\n",
      "2018-11-23 15:42:37,114 - src.common.trainer - DEBUG - train loss: 0.013326330719626607\n",
      "2018-11-23 15:42:37,123 - src.common.trainer - DEBUG - train loss: 0.02440457861666675\n",
      "2018-11-23 15:42:37,131 - src.common.trainer - DEBUG - train loss: 0.023512654458431537\n",
      "2018-11-23 15:42:37,286 - src.common.trainer - DEBUG - ==============================\n",
      "2018-11-23 15:42:37,287 - src.common.trainer - DEBUG - epoch: 226\n",
      "2018-11-23 15:42:37,288 - src.common.trainer - DEBUG - train acc: 1.0\n",
      "2018-11-23 15:42:37,288 - src.common.trainer - DEBUG - test acc: 0.7648\n",
      "2018-11-23 15:42:37,307 - src.common.trainer - DEBUG - train loss: 0.017537833678466824\n",
      "2018-11-23 15:42:37,315 - src.common.trainer - DEBUG - train loss: 0.025949247477563265\n",
      "2018-11-23 15:42:37,325 - src.common.trainer - DEBUG - train loss: 0.021326930911540757\n",
      "2018-11-23 15:42:37,471 - src.common.trainer - DEBUG - ==============================\n",
      "2018-11-23 15:42:37,472 - src.common.trainer - DEBUG - epoch: 227\n",
      "2018-11-23 15:42:37,473 - src.common.trainer - DEBUG - train acc: 1.0\n",
      "2018-11-23 15:42:37,473 - src.common.trainer - DEBUG - test acc: 0.7655\n",
      "2018-11-23 15:42:37,500 - src.common.trainer - DEBUG - train loss: 0.018626410918435116\n",
      "2018-11-23 15:42:37,508 - src.common.trainer - DEBUG - train loss: 0.016343169216974925\n",
      "2018-11-23 15:42:37,516 - src.common.trainer - DEBUG - train loss: 0.020539495783177392\n",
      "2018-11-23 15:42:37,656 - src.common.trainer - DEBUG - ==============================\n",
      "2018-11-23 15:42:37,656 - src.common.trainer - DEBUG - epoch: 228\n",
      "2018-11-23 15:42:37,657 - src.common.trainer - DEBUG - train acc: 1.0\n",
      "2018-11-23 15:42:37,657 - src.common.trainer - DEBUG - test acc: 0.7656\n",
      "2018-11-23 15:42:37,677 - src.common.trainer - DEBUG - train loss: 0.020773465930134044\n",
      "2018-11-23 15:42:37,686 - src.common.trainer - DEBUG - train loss: 0.017567817564364638\n",
      "2018-11-23 15:42:37,694 - src.common.trainer - DEBUG - train loss: 0.014324074573975944\n",
      "2018-11-23 15:42:37,862 - src.common.trainer - DEBUG - ==============================\n",
      "2018-11-23 15:42:37,863 - src.common.trainer - DEBUG - epoch: 229\n",
      "2018-11-23 15:42:37,864 - src.common.trainer - DEBUG - train acc: 1.0\n",
      "2018-11-23 15:42:37,864 - src.common.trainer - DEBUG - test acc: 0.7666\n",
      "2018-11-23 15:42:37,888 - src.common.trainer - DEBUG - train loss: 0.018549755885342394\n",
      "2018-11-23 15:42:37,899 - src.common.trainer - DEBUG - train loss: 0.021198581087021693\n",
      "2018-11-23 15:42:37,911 - src.common.trainer - DEBUG - train loss: 0.019053886751583263\n",
      "2018-11-23 15:42:38,086 - src.common.trainer - DEBUG - ==============================\n",
      "2018-11-23 15:42:38,086 - src.common.trainer - DEBUG - epoch: 230\n",
      "2018-11-23 15:42:38,087 - src.common.trainer - DEBUG - train acc: 1.0\n",
      "2018-11-23 15:42:38,089 - src.common.trainer - DEBUG - test acc: 0.7654\n",
      "2018-11-23 15:42:38,114 - src.common.trainer - DEBUG - train loss: 0.02045973077303962\n",
      "2018-11-23 15:42:38,123 - src.common.trainer - DEBUG - train loss: 0.01906051983412939\n",
      "2018-11-23 15:42:38,131 - src.common.trainer - DEBUG - train loss: 0.017499849960681782\n",
      "2018-11-23 15:42:38,284 - src.common.trainer - DEBUG - ==============================\n",
      "2018-11-23 15:42:38,285 - src.common.trainer - DEBUG - epoch: 231\n",
      "2018-11-23 15:42:38,285 - src.common.trainer - DEBUG - train acc: 1.0\n",
      "2018-11-23 15:42:38,286 - src.common.trainer - DEBUG - test acc: 0.7647\n",
      "2018-11-23 15:42:38,306 - src.common.trainer - DEBUG - train loss: 0.01749481394200293\n",
      "2018-11-23 15:42:38,315 - src.common.trainer - DEBUG - train loss: 0.017239752713669246\n",
      "2018-11-23 15:42:38,332 - src.common.trainer - DEBUG - train loss: 0.01748766405290932\n",
      "2018-11-23 15:42:38,505 - src.common.trainer - DEBUG - ==============================\n",
      "2018-11-23 15:42:38,506 - src.common.trainer - DEBUG - epoch: 232\n",
      "2018-11-23 15:42:38,507 - src.common.trainer - DEBUG - train acc: 1.0\n",
      "2018-11-23 15:42:38,508 - src.common.trainer - DEBUG - test acc: 0.7657\n",
      "2018-11-23 15:42:38,526 - src.common.trainer - DEBUG - train loss: 0.01716373751609097\n",
      "2018-11-23 15:42:38,535 - src.common.trainer - DEBUG - train loss: 0.017066138617230713\n",
      "2018-11-23 15:42:38,544 - src.common.trainer - DEBUG - train loss: 0.021741533860075747\n",
      "2018-11-23 15:42:38,685 - src.common.trainer - DEBUG - ==============================\n",
      "2018-11-23 15:42:38,686 - src.common.trainer - DEBUG - epoch: 233\n",
      "2018-11-23 15:42:38,686 - src.common.trainer - DEBUG - train acc: 1.0\n",
      "2018-11-23 15:42:38,687 - src.common.trainer - DEBUG - test acc: 0.7666\n",
      "2018-11-23 15:42:38,707 - src.common.trainer - DEBUG - train loss: 0.019691189196648952\n",
      "2018-11-23 15:42:38,717 - src.common.trainer - DEBUG - train loss: 0.022147077763694702\n",
      "2018-11-23 15:42:38,727 - src.common.trainer - DEBUG - train loss: 0.012915416198515167\n",
      "2018-11-23 15:42:39,038 - src.common.trainer - DEBUG - ==============================\n",
      "2018-11-23 15:42:39,041 - src.common.trainer - DEBUG - epoch: 234\n",
      "2018-11-23 15:42:39,043 - src.common.trainer - DEBUG - train acc: 1.0\n",
      "2018-11-23 15:42:39,043 - src.common.trainer - DEBUG - test acc: 0.7668\n",
      "2018-11-23 15:42:39,074 - src.common.trainer - DEBUG - train loss: 0.01714729743097416\n",
      "2018-11-23 15:42:39,089 - src.common.trainer - DEBUG - train loss: 0.01896617202102921\n",
      "2018-11-23 15:42:39,110 - src.common.trainer - DEBUG - train loss: 0.019974166690392477\n",
      "2018-11-23 15:42:39,272 - src.common.trainer - DEBUG - ==============================\n",
      "2018-11-23 15:42:39,273 - src.common.trainer - DEBUG - epoch: 235\n",
      "2018-11-23 15:42:39,273 - src.common.trainer - DEBUG - train acc: 1.0\n",
      "2018-11-23 15:42:39,274 - src.common.trainer - DEBUG - test acc: 0.7665\n",
      "2018-11-23 15:42:39,295 - src.common.trainer - DEBUG - train loss: 0.019951503802051334\n",
      "2018-11-23 15:42:39,305 - src.common.trainer - DEBUG - train loss: 0.020537547423857463\n",
      "2018-11-23 15:42:39,313 - src.common.trainer - DEBUG - train loss: 0.01833066807533154\n",
      "2018-11-23 15:42:39,593 - src.common.trainer - DEBUG - ==============================\n",
      "2018-11-23 15:42:39,594 - src.common.trainer - DEBUG - epoch: 236\n",
      "2018-11-23 15:42:39,594 - src.common.trainer - DEBUG - train acc: 1.0\n",
      "2018-11-23 15:42:39,595 - src.common.trainer - DEBUG - test acc: 0.7666\n",
      "2018-11-23 15:42:39,615 - src.common.trainer - DEBUG - train loss: 0.014859201816423619\n",
      "2018-11-23 15:42:39,624 - src.common.trainer - DEBUG - train loss: 0.01988973289144207\n",
      "2018-11-23 15:42:39,633 - src.common.trainer - DEBUG - train loss: 0.017269612132021783\n",
      "2018-11-23 15:42:39,781 - src.common.trainer - DEBUG - ==============================\n",
      "2018-11-23 15:42:39,782 - src.common.trainer - DEBUG - epoch: 237\n",
      "2018-11-23 15:42:39,782 - src.common.trainer - DEBUG - train acc: 1.0\n",
      "2018-11-23 15:42:39,783 - src.common.trainer - DEBUG - test acc: 0.7652\n",
      "2018-11-23 15:42:39,804 - src.common.trainer - DEBUG - train loss: 0.018723236877032222\n",
      "2018-11-23 15:42:39,812 - src.common.trainer - DEBUG - train loss: 0.013831211650241515\n",
      "2018-11-23 15:42:39,821 - src.common.trainer - DEBUG - train loss: 0.019149981233379697\n",
      "2018-11-23 15:42:39,969 - src.common.trainer - DEBUG - ==============================\n",
      "2018-11-23 15:42:39,970 - src.common.trainer - DEBUG - epoch: 238\n",
      "2018-11-23 15:42:39,971 - src.common.trainer - DEBUG - train acc: 1.0\n",
      "2018-11-23 15:42:39,971 - src.common.trainer - DEBUG - test acc: 0.7665\n",
      "2018-11-23 15:42:39,992 - src.common.trainer - DEBUG - train loss: 0.017917986980003762\n",
      "2018-11-23 15:42:40,002 - src.common.trainer - DEBUG - train loss: 0.017688505996255575\n",
      "2018-11-23 15:42:40,010 - src.common.trainer - DEBUG - train loss: 0.019712898301465595\n",
      "2018-11-23 15:42:40,208 - src.common.trainer - DEBUG - ==============================\n",
      "2018-11-23 15:42:40,209 - src.common.trainer - DEBUG - epoch: 239\n",
      "2018-11-23 15:42:40,211 - src.common.trainer - DEBUG - train acc: 1.0\n",
      "2018-11-23 15:42:40,212 - src.common.trainer - DEBUG - test acc: 0.7664\n",
      "2018-11-23 15:42:40,233 - src.common.trainer - DEBUG - train loss: 0.01613640861886763\n",
      "2018-11-23 15:42:40,243 - src.common.trainer - DEBUG - train loss: 0.021805422306390824\n",
      "2018-11-23 15:42:40,252 - src.common.trainer - DEBUG - train loss: 0.015515836556281382\n",
      "2018-11-23 15:42:40,437 - src.common.trainer - DEBUG - ==============================\n",
      "2018-11-23 15:42:40,438 - src.common.trainer - DEBUG - epoch: 240\n",
      "2018-11-23 15:42:40,438 - src.common.trainer - DEBUG - train acc: 1.0\n",
      "2018-11-23 15:42:40,439 - src.common.trainer - DEBUG - test acc: 0.7658\n",
      "2018-11-23 15:42:40,470 - src.common.trainer - DEBUG - train loss: 0.018818802461132114\n",
      "2018-11-23 15:42:40,482 - src.common.trainer - DEBUG - train loss: 0.01729215550782385\n",
      "2018-11-23 15:42:40,491 - src.common.trainer - DEBUG - train loss: 0.01760729914186709\n",
      "2018-11-23 15:42:40,819 - src.common.trainer - DEBUG - ==============================\n",
      "2018-11-23 15:42:40,819 - src.common.trainer - DEBUG - epoch: 241\n",
      "2018-11-23 15:42:40,820 - src.common.trainer - DEBUG - train acc: 1.0\n",
      "2018-11-23 15:42:40,821 - src.common.trainer - DEBUG - test acc: 0.7659\n",
      "2018-11-23 15:42:40,840 - src.common.trainer - DEBUG - train loss: 0.022178808006379738\n",
      "2018-11-23 15:42:40,850 - src.common.trainer - DEBUG - train loss: 0.017522001909202695\n",
      "2018-11-23 15:42:40,860 - src.common.trainer - DEBUG - train loss: 0.011643201929583534\n",
      "2018-11-23 15:42:41,027 - src.common.trainer - DEBUG - ==============================\n",
      "2018-11-23 15:42:41,028 - src.common.trainer - DEBUG - epoch: 242\n",
      "2018-11-23 15:42:41,029 - src.common.trainer - DEBUG - train acc: 1.0\n",
      "2018-11-23 15:42:41,030 - src.common.trainer - DEBUG - test acc: 0.7668\n",
      "2018-11-23 15:42:41,051 - src.common.trainer - DEBUG - train loss: 0.019698149117758416\n",
      "2018-11-23 15:42:41,064 - src.common.trainer - DEBUG - train loss: 0.01071157429386886\n",
      "2018-11-23 15:42:41,075 - src.common.trainer - DEBUG - train loss: 0.019329056290567043\n",
      "2018-11-23 15:42:41,275 - src.common.trainer - DEBUG - ==============================\n",
      "2018-11-23 15:42:41,276 - src.common.trainer - DEBUG - epoch: 243\n",
      "2018-11-23 15:42:41,276 - src.common.trainer - DEBUG - train acc: 1.0\n",
      "2018-11-23 15:42:41,277 - src.common.trainer - DEBUG - test acc: 0.7667\n",
      "2018-11-23 15:42:41,297 - src.common.trainer - DEBUG - train loss: 0.01580016061844435\n",
      "2018-11-23 15:42:41,306 - src.common.trainer - DEBUG - train loss: 0.014990937050347907\n",
      "2018-11-23 15:42:41,315 - src.common.trainer - DEBUG - train loss: 0.0204339063804656\n",
      "2018-11-23 15:42:41,498 - src.common.trainer - DEBUG - ==============================\n",
      "2018-11-23 15:42:41,498 - src.common.trainer - DEBUG - epoch: 244\n",
      "2018-11-23 15:42:41,499 - src.common.trainer - DEBUG - train acc: 1.0\n",
      "2018-11-23 15:42:41,500 - src.common.trainer - DEBUG - test acc: 0.7677\n",
      "2018-11-23 15:42:41,522 - src.common.trainer - DEBUG - train loss: 0.021290291498352668\n",
      "2018-11-23 15:42:41,531 - src.common.trainer - DEBUG - train loss: 0.01767256911905387\n",
      "2018-11-23 15:42:41,544 - src.common.trainer - DEBUG - train loss: 0.01541460620151687\n",
      "2018-11-23 15:42:41,717 - src.common.trainer - DEBUG - ==============================\n",
      "2018-11-23 15:42:41,718 - src.common.trainer - DEBUG - epoch: 245\n",
      "2018-11-23 15:42:41,718 - src.common.trainer - DEBUG - train acc: 1.0\n",
      "2018-11-23 15:42:41,719 - src.common.trainer - DEBUG - test acc: 0.7671\n",
      "2018-11-23 15:42:41,740 - src.common.trainer - DEBUG - train loss: 0.015048075617596001\n",
      "2018-11-23 15:42:41,749 - src.common.trainer - DEBUG - train loss: 0.01593606696923656\n",
      "2018-11-23 15:42:41,759 - src.common.trainer - DEBUG - train loss: 0.01316298705602753\n",
      "2018-11-23 15:42:41,932 - src.common.trainer - DEBUG - ==============================\n",
      "2018-11-23 15:42:41,933 - src.common.trainer - DEBUG - epoch: 246\n",
      "2018-11-23 15:42:41,935 - src.common.trainer - DEBUG - train acc: 1.0\n",
      "2018-11-23 15:42:41,936 - src.common.trainer - DEBUG - test acc: 0.7663\n",
      "2018-11-23 15:42:41,961 - src.common.trainer - DEBUG - train loss: 0.019694507294757618\n",
      "2018-11-23 15:42:41,973 - src.common.trainer - DEBUG - train loss: 0.01382919460426233\n",
      "2018-11-23 15:42:41,989 - src.common.trainer - DEBUG - train loss: 0.014492747052653594\n",
      "2018-11-23 15:42:42,245 - src.common.trainer - DEBUG - ==============================\n",
      "2018-11-23 15:42:42,247 - src.common.trainer - DEBUG - epoch: 247\n",
      "2018-11-23 15:42:42,248 - src.common.trainer - DEBUG - train acc: 1.0\n",
      "2018-11-23 15:42:42,250 - src.common.trainer - DEBUG - test acc: 0.7672\n",
      "2018-11-23 15:42:42,275 - src.common.trainer - DEBUG - train loss: 0.013357223070546735\n",
      "2018-11-23 15:42:42,285 - src.common.trainer - DEBUG - train loss: 0.017288471593975913\n",
      "2018-11-23 15:42:42,296 - src.common.trainer - DEBUG - train loss: 0.01870188472412877\n",
      "2018-11-23 15:42:42,476 - src.common.trainer - DEBUG - ==============================\n",
      "2018-11-23 15:42:42,477 - src.common.trainer - DEBUG - epoch: 248\n",
      "2018-11-23 15:42:42,479 - src.common.trainer - DEBUG - train acc: 1.0\n",
      "2018-11-23 15:42:42,480 - src.common.trainer - DEBUG - test acc: 0.7666\n",
      "2018-11-23 15:42:42,505 - src.common.trainer - DEBUG - train loss: 0.015689666370443844\n",
      "2018-11-23 15:42:42,516 - src.common.trainer - DEBUG - train loss: 0.014487904105196353\n",
      "2018-11-23 15:42:42,530 - src.common.trainer - DEBUG - train loss: 0.01878948993083747\n",
      "2018-11-23 15:42:42,731 - src.common.trainer - DEBUG - ==============================\n",
      "2018-11-23 15:42:42,732 - src.common.trainer - DEBUG - epoch: 249\n",
      "2018-11-23 15:42:42,732 - src.common.trainer - DEBUG - train acc: 1.0\n",
      "2018-11-23 15:42:42,733 - src.common.trainer - DEBUG - test acc: 0.7661\n",
      "2018-11-23 15:42:42,754 - src.common.trainer - DEBUG - train loss: 0.018421410470573208\n",
      "2018-11-23 15:42:42,764 - src.common.trainer - DEBUG - train loss: 0.020004647118407316\n",
      "2018-11-23 15:42:42,774 - src.common.trainer - DEBUG - train loss: 0.012732193198227533\n",
      "2018-11-23 15:42:42,946 - src.common.trainer - DEBUG - ==============================\n",
      "2018-11-23 15:42:42,947 - src.common.trainer - DEBUG - epoch: 250\n",
      "2018-11-23 15:42:42,947 - src.common.trainer - DEBUG - train acc: 1.0\n",
      "2018-11-23 15:42:42,948 - src.common.trainer - DEBUG - test acc: 0.7666\n",
      "2018-11-23 15:42:42,970 - src.common.trainer - DEBUG - train loss: 0.01613275837325629\n",
      "2018-11-23 15:42:42,982 - src.common.trainer - DEBUG - train loss: 0.015149625749037719\n",
      "2018-11-23 15:42:42,999 - src.common.trainer - DEBUG - train loss: 0.01751242959116802\n",
      "2018-11-23 15:42:43,230 - src.common.trainer - DEBUG - ==============================\n",
      "2018-11-23 15:42:43,231 - src.common.trainer - DEBUG - epoch: 251\n",
      "2018-11-23 15:42:43,231 - src.common.trainer - DEBUG - train acc: 1.0\n",
      "2018-11-23 15:42:43,232 - src.common.trainer - DEBUG - test acc: 0.7663\n",
      "2018-11-23 15:42:43,254 - src.common.trainer - DEBUG - train loss: 0.013698333579240241\n",
      "2018-11-23 15:42:43,264 - src.common.trainer - DEBUG - train loss: 0.011669551252069659\n",
      "2018-11-23 15:42:43,273 - src.common.trainer - DEBUG - train loss: 0.015974602311281675\n",
      "2018-11-23 15:42:43,444 - src.common.trainer - DEBUG - ==============================\n",
      "2018-11-23 15:42:43,444 - src.common.trainer - DEBUG - epoch: 252\n",
      "2018-11-23 15:42:43,445 - src.common.trainer - DEBUG - train acc: 1.0\n",
      "2018-11-23 15:42:43,446 - src.common.trainer - DEBUG - test acc: 0.7663\n",
      "2018-11-23 15:42:43,467 - src.common.trainer - DEBUG - train loss: 0.015133545206651606\n",
      "2018-11-23 15:42:43,477 - src.common.trainer - DEBUG - train loss: 0.016662016607345138\n",
      "2018-11-23 15:42:43,486 - src.common.trainer - DEBUG - train loss: 0.015212600706204595\n",
      "2018-11-23 15:42:43,701 - src.common.trainer - DEBUG - ==============================\n",
      "2018-11-23 15:42:43,702 - src.common.trainer - DEBUG - epoch: 253\n",
      "2018-11-23 15:42:43,703 - src.common.trainer - DEBUG - train acc: 1.0\n",
      "2018-11-23 15:42:43,703 - src.common.trainer - DEBUG - test acc: 0.765\n",
      "2018-11-23 15:42:43,727 - src.common.trainer - DEBUG - train loss: 0.01761042321907095\n",
      "2018-11-23 15:42:43,737 - src.common.trainer - DEBUG - train loss: 0.012732879369343877\n",
      "2018-11-23 15:42:43,749 - src.common.trainer - DEBUG - train loss: 0.017379957945317225\n",
      "2018-11-23 15:42:43,930 - src.common.trainer - DEBUG - ==============================\n",
      "2018-11-23 15:42:43,931 - src.common.trainer - DEBUG - epoch: 254\n",
      "2018-11-23 15:42:43,932 - src.common.trainer - DEBUG - train acc: 1.0\n",
      "2018-11-23 15:42:43,933 - src.common.trainer - DEBUG - test acc: 0.7662\n",
      "2018-11-23 15:42:43,954 - src.common.trainer - DEBUG - train loss: 0.01614987500637842\n",
      "2018-11-23 15:42:43,963 - src.common.trainer - DEBUG - train loss: 0.014783680198567318\n",
      "2018-11-23 15:42:43,973 - src.common.trainer - DEBUG - train loss: 0.01269590087582047\n",
      "2018-11-23 15:42:44,154 - src.common.trainer - DEBUG - ==============================\n",
      "2018-11-23 15:42:44,156 - src.common.trainer - DEBUG - epoch: 255\n",
      "2018-11-23 15:42:44,157 - src.common.trainer - DEBUG - train acc: 1.0\n",
      "2018-11-23 15:42:44,158 - src.common.trainer - DEBUG - test acc: 0.7657\n",
      "2018-11-23 15:42:44,187 - src.common.trainer - DEBUG - train loss: 0.013441788740665445\n",
      "2018-11-23 15:42:44,201 - src.common.trainer - DEBUG - train loss: 0.017473647810925717\n",
      "2018-11-23 15:42:44,212 - src.common.trainer - DEBUG - train loss: 0.015638415810868805\n",
      "2018-11-23 15:42:44,396 - src.common.trainer - DEBUG - ==============================\n",
      "2018-11-23 15:42:44,397 - src.common.trainer - DEBUG - epoch: 256\n",
      "2018-11-23 15:42:44,398 - src.common.trainer - DEBUG - train acc: 1.0\n",
      "2018-11-23 15:42:44,398 - src.common.trainer - DEBUG - test acc: 0.7663\n",
      "2018-11-23 15:42:44,420 - src.common.trainer - DEBUG - train loss: 0.012528938455724298\n",
      "2018-11-23 15:42:44,432 - src.common.trainer - DEBUG - train loss: 0.015546287102362642\n",
      "2018-11-23 15:42:44,444 - src.common.trainer - DEBUG - train loss: 0.013410787833546538\n",
      "2018-11-23 15:42:44,642 - src.common.trainer - DEBUG - ==============================\n",
      "2018-11-23 15:42:44,643 - src.common.trainer - DEBUG - epoch: 257\n",
      "2018-11-23 15:42:44,644 - src.common.trainer - DEBUG - train acc: 1.0\n",
      "2018-11-23 15:42:44,644 - src.common.trainer - DEBUG - test acc: 0.7668\n",
      "2018-11-23 15:42:44,668 - src.common.trainer - DEBUG - train loss: 0.012503339063413062\n",
      "2018-11-23 15:42:44,681 - src.common.trainer - DEBUG - train loss: 0.01446029892923933\n",
      "2018-11-23 15:42:44,690 - src.common.trainer - DEBUG - train loss: 0.018716724525275886\n",
      "2018-11-23 15:42:44,864 - src.common.trainer - DEBUG - ==============================\n",
      "2018-11-23 15:42:44,864 - src.common.trainer - DEBUG - epoch: 258\n",
      "2018-11-23 15:42:44,865 - src.common.trainer - DEBUG - train acc: 1.0\n",
      "2018-11-23 15:42:44,866 - src.common.trainer - DEBUG - test acc: 0.7671\n",
      "2018-11-23 15:42:44,885 - src.common.trainer - DEBUG - train loss: 0.014608397322721393\n",
      "2018-11-23 15:42:44,895 - src.common.trainer - DEBUG - train loss: 0.015559521621486683\n",
      "2018-11-23 15:42:44,904 - src.common.trainer - DEBUG - train loss: 0.01917473094715704\n",
      "2018-11-23 15:42:45,074 - src.common.trainer - DEBUG - ==============================\n",
      "2018-11-23 15:42:45,076 - src.common.trainer - DEBUG - epoch: 259\n",
      "2018-11-23 15:42:45,079 - src.common.trainer - DEBUG - train acc: 1.0\n",
      "2018-11-23 15:42:45,080 - src.common.trainer - DEBUG - test acc: 0.7669\n",
      "2018-11-23 15:42:45,104 - src.common.trainer - DEBUG - train loss: 0.010034976088300484\n",
      "2018-11-23 15:42:45,116 - src.common.trainer - DEBUG - train loss: 0.013908720083362937\n",
      "2018-11-23 15:42:45,133 - src.common.trainer - DEBUG - train loss: 0.01148105680286892\n",
      "2018-11-23 15:42:45,334 - src.common.trainer - DEBUG - ==============================\n",
      "2018-11-23 15:42:45,335 - src.common.trainer - DEBUG - epoch: 260\n",
      "2018-11-23 15:42:45,335 - src.common.trainer - DEBUG - train acc: 1.0\n",
      "2018-11-23 15:42:45,336 - src.common.trainer - DEBUG - test acc: 0.7674\n",
      "2018-11-23 15:42:45,364 - src.common.trainer - DEBUG - train loss: 0.015128730462583223\n",
      "2018-11-23 15:42:45,374 - src.common.trainer - DEBUG - train loss: 0.00998284272559387\n",
      "2018-11-23 15:42:45,386 - src.common.trainer - DEBUG - train loss: 0.011670170613686552\n",
      "2018-11-23 15:42:45,585 - src.common.trainer - DEBUG - ==============================\n",
      "2018-11-23 15:42:45,585 - src.common.trainer - DEBUG - epoch: 261\n",
      "2018-11-23 15:42:45,586 - src.common.trainer - DEBUG - train acc: 1.0\n",
      "2018-11-23 15:42:45,587 - src.common.trainer - DEBUG - test acc: 0.7666\n",
      "2018-11-23 15:42:45,613 - src.common.trainer - DEBUG - train loss: 0.014454817836425266\n",
      "2018-11-23 15:42:45,622 - src.common.trainer - DEBUG - train loss: 0.013954221917180355\n",
      "2018-11-23 15:42:45,635 - src.common.trainer - DEBUG - train loss: 0.011488604260429683\n",
      "2018-11-23 15:42:45,845 - src.common.trainer - DEBUG - ==============================\n",
      "2018-11-23 15:42:45,845 - src.common.trainer - DEBUG - epoch: 262\n",
      "2018-11-23 15:42:45,846 - src.common.trainer - DEBUG - train acc: 1.0\n",
      "2018-11-23 15:42:45,847 - src.common.trainer - DEBUG - test acc: 0.768\n",
      "2018-11-23 15:42:45,867 - src.common.trainer - DEBUG - train loss: 0.011329240850344969\n",
      "2018-11-23 15:42:45,877 - src.common.trainer - DEBUG - train loss: 0.013289751761922448\n",
      "2018-11-23 15:42:45,886 - src.common.trainer - DEBUG - train loss: 0.016437001310629654\n",
      "2018-11-23 15:42:46,055 - src.common.trainer - DEBUG - ==============================\n",
      "2018-11-23 15:42:46,056 - src.common.trainer - DEBUG - epoch: 263\n",
      "2018-11-23 15:42:46,056 - src.common.trainer - DEBUG - train acc: 1.0\n",
      "2018-11-23 15:42:46,057 - src.common.trainer - DEBUG - test acc: 0.7676\n",
      "2018-11-23 15:42:46,077 - src.common.trainer - DEBUG - train loss: 0.012101398411167825\n",
      "2018-11-23 15:42:46,086 - src.common.trainer - DEBUG - train loss: 0.019186442027831666\n",
      "2018-11-23 15:42:46,095 - src.common.trainer - DEBUG - train loss: 0.01249991280339131\n",
      "2018-11-23 15:42:46,269 - src.common.trainer - DEBUG - ==============================\n",
      "2018-11-23 15:42:46,269 - src.common.trainer - DEBUG - epoch: 264\n",
      "2018-11-23 15:42:46,270 - src.common.trainer - DEBUG - train acc: 1.0\n",
      "2018-11-23 15:42:46,271 - src.common.trainer - DEBUG - test acc: 0.7671\n",
      "2018-11-23 15:42:46,290 - src.common.trainer - DEBUG - train loss: 0.014042719847897171\n",
      "2018-11-23 15:42:46,300 - src.common.trainer - DEBUG - train loss: 0.016029036008222336\n",
      "2018-11-23 15:42:46,310 - src.common.trainer - DEBUG - train loss: 0.015624244760299902\n",
      "2018-11-23 15:42:46,482 - src.common.trainer - DEBUG - ==============================\n",
      "2018-11-23 15:42:46,483 - src.common.trainer - DEBUG - epoch: 265\n",
      "2018-11-23 15:42:46,483 - src.common.trainer - DEBUG - train acc: 1.0\n",
      "2018-11-23 15:42:46,484 - src.common.trainer - DEBUG - test acc: 0.7669\n",
      "2018-11-23 15:42:46,503 - src.common.trainer - DEBUG - train loss: 0.010871761823950108\n",
      "2018-11-23 15:42:46,513 - src.common.trainer - DEBUG - train loss: 0.012690656145738465\n",
      "2018-11-23 15:42:46,521 - src.common.trainer - DEBUG - train loss: 0.0118144057133226\n",
      "2018-11-23 15:42:46,702 - src.common.trainer - DEBUG - ==============================\n",
      "2018-11-23 15:42:46,702 - src.common.trainer - DEBUG - epoch: 266\n",
      "2018-11-23 15:42:46,703 - src.common.trainer - DEBUG - train acc: 1.0\n",
      "2018-11-23 15:42:46,704 - src.common.trainer - DEBUG - test acc: 0.7675\n",
      "2018-11-23 15:42:46,724 - src.common.trainer - DEBUG - train loss: 0.016522423427287714\n",
      "2018-11-23 15:42:46,732 - src.common.trainer - DEBUG - train loss: 0.012537633679116644\n",
      "2018-11-23 15:42:46,742 - src.common.trainer - DEBUG - train loss: 0.011340498668365642\n",
      "2018-11-23 15:42:46,908 - src.common.trainer - DEBUG - ==============================\n",
      "2018-11-23 15:42:46,909 - src.common.trainer - DEBUG - epoch: 267\n",
      "2018-11-23 15:42:46,909 - src.common.trainer - DEBUG - train acc: 1.0\n",
      "2018-11-23 15:42:46,910 - src.common.trainer - DEBUG - test acc: 0.7674\n",
      "2018-11-23 15:42:46,930 - src.common.trainer - DEBUG - train loss: 0.014325209196627957\n",
      "2018-11-23 15:42:46,939 - src.common.trainer - DEBUG - train loss: 0.014268271656314691\n",
      "2018-11-23 15:42:46,948 - src.common.trainer - DEBUG - train loss: 0.012638677520073393\n",
      "2018-11-23 15:42:47,118 - src.common.trainer - DEBUG - ==============================\n",
      "2018-11-23 15:42:47,119 - src.common.trainer - DEBUG - epoch: 268\n",
      "2018-11-23 15:42:47,119 - src.common.trainer - DEBUG - train acc: 1.0\n",
      "2018-11-23 15:42:47,120 - src.common.trainer - DEBUG - test acc: 0.7674\n",
      "2018-11-23 15:42:47,141 - src.common.trainer - DEBUG - train loss: 0.016413082173602746\n",
      "2018-11-23 15:42:47,150 - src.common.trainer - DEBUG - train loss: 0.014648057407004068\n",
      "2018-11-23 15:42:47,158 - src.common.trainer - DEBUG - train loss: 0.013834938225585987\n",
      "2018-11-23 15:42:47,325 - src.common.trainer - DEBUG - ==============================\n",
      "2018-11-23 15:42:47,326 - src.common.trainer - DEBUG - epoch: 269\n",
      "2018-11-23 15:42:47,326 - src.common.trainer - DEBUG - train acc: 1.0\n",
      "2018-11-23 15:42:47,327 - src.common.trainer - DEBUG - test acc: 0.7664\n",
      "2018-11-23 15:42:47,346 - src.common.trainer - DEBUG - train loss: 0.013979388455480263\n",
      "2018-11-23 15:42:47,356 - src.common.trainer - DEBUG - train loss: 0.015838203069680645\n",
      "2018-11-23 15:42:47,365 - src.common.trainer - DEBUG - train loss: 0.013653967445402886\n",
      "2018-11-23 15:42:47,542 - src.common.trainer - DEBUG - ==============================\n",
      "2018-11-23 15:42:47,543 - src.common.trainer - DEBUG - epoch: 270\n",
      "2018-11-23 15:42:47,544 - src.common.trainer - DEBUG - train acc: 1.0\n",
      "2018-11-23 15:42:47,545 - src.common.trainer - DEBUG - test acc: 0.7669\n",
      "2018-11-23 15:42:47,564 - src.common.trainer - DEBUG - train loss: 0.014618557709063841\n",
      "2018-11-23 15:42:47,573 - src.common.trainer - DEBUG - train loss: 0.014547072045496299\n",
      "2018-11-23 15:42:47,582 - src.common.trainer - DEBUG - train loss: 0.0119904790739832\n",
      "2018-11-23 15:42:47,753 - src.common.trainer - DEBUG - ==============================\n",
      "2018-11-23 15:42:47,754 - src.common.trainer - DEBUG - epoch: 271\n",
      "2018-11-23 15:42:47,755 - src.common.trainer - DEBUG - train acc: 1.0\n",
      "2018-11-23 15:42:47,756 - src.common.trainer - DEBUG - test acc: 0.7672\n",
      "2018-11-23 15:42:47,774 - src.common.trainer - DEBUG - train loss: 0.010763154222537213\n",
      "2018-11-23 15:42:47,783 - src.common.trainer - DEBUG - train loss: 0.010379577773654315\n",
      "2018-11-23 15:42:47,793 - src.common.trainer - DEBUG - train loss: 0.011843062191160247\n",
      "2018-11-23 15:42:47,960 - src.common.trainer - DEBUG - ==============================\n",
      "2018-11-23 15:42:47,961 - src.common.trainer - DEBUG - epoch: 272\n",
      "2018-11-23 15:42:47,962 - src.common.trainer - DEBUG - train acc: 1.0\n",
      "2018-11-23 15:42:47,962 - src.common.trainer - DEBUG - test acc: 0.767\n",
      "2018-11-23 15:42:47,982 - src.common.trainer - DEBUG - train loss: 0.013652417139460464\n",
      "2018-11-23 15:42:47,994 - src.common.trainer - DEBUG - train loss: 0.013066811494623753\n",
      "2018-11-23 15:42:48,005 - src.common.trainer - DEBUG - train loss: 0.010691336447877588\n",
      "2018-11-23 15:42:48,180 - src.common.trainer - DEBUG - ==============================\n",
      "2018-11-23 15:42:48,180 - src.common.trainer - DEBUG - epoch: 273\n",
      "2018-11-23 15:42:48,181 - src.common.trainer - DEBUG - train acc: 1.0\n",
      "2018-11-23 15:42:48,182 - src.common.trainer - DEBUG - test acc: 0.7684\n",
      "2018-11-23 15:42:48,200 - src.common.trainer - DEBUG - train loss: 0.013753387926742619\n",
      "2018-11-23 15:42:48,210 - src.common.trainer - DEBUG - train loss: 0.014251499026444356\n",
      "2018-11-23 15:42:48,218 - src.common.trainer - DEBUG - train loss: 0.015855397915886395\n",
      "2018-11-23 15:42:48,383 - src.common.trainer - DEBUG - ==============================\n",
      "2018-11-23 15:42:48,384 - src.common.trainer - DEBUG - epoch: 274\n",
      "2018-11-23 15:42:48,384 - src.common.trainer - DEBUG - train acc: 1.0\n",
      "2018-11-23 15:42:48,385 - src.common.trainer - DEBUG - test acc: 0.7667\n",
      "2018-11-23 15:42:48,405 - src.common.trainer - DEBUG - train loss: 0.016934543749796273\n",
      "2018-11-23 15:42:48,414 - src.common.trainer - DEBUG - train loss: 0.011553389287570808\n",
      "2018-11-23 15:42:48,423 - src.common.trainer - DEBUG - train loss: 0.012832529587463355\n",
      "2018-11-23 15:42:48,607 - src.common.trainer - DEBUG - ==============================\n",
      "2018-11-23 15:42:48,608 - src.common.trainer - DEBUG - epoch: 275\n",
      "2018-11-23 15:42:48,609 - src.common.trainer - DEBUG - train acc: 1.0\n",
      "2018-11-23 15:42:48,609 - src.common.trainer - DEBUG - test acc: 0.7667\n",
      "2018-11-23 15:42:48,629 - src.common.trainer - DEBUG - train loss: 0.011567278281208826\n",
      "2018-11-23 15:42:48,638 - src.common.trainer - DEBUG - train loss: 0.01190286058084899\n",
      "2018-11-23 15:42:48,646 - src.common.trainer - DEBUG - train loss: 0.015340415747852427\n",
      "2018-11-23 15:42:48,818 - src.common.trainer - DEBUG - ==============================\n",
      "2018-11-23 15:42:48,819 - src.common.trainer - DEBUG - epoch: 276\n",
      "2018-11-23 15:42:48,820 - src.common.trainer - DEBUG - train acc: 1.0\n",
      "2018-11-23 15:42:48,820 - src.common.trainer - DEBUG - test acc: 0.7668\n",
      "2018-11-23 15:42:48,841 - src.common.trainer - DEBUG - train loss: 0.014891138037387276\n",
      "2018-11-23 15:42:48,851 - src.common.trainer - DEBUG - train loss: 0.009978533707112866\n",
      "2018-11-23 15:42:48,861 - src.common.trainer - DEBUG - train loss: 0.015493308488724876\n",
      "2018-11-23 15:42:49,038 - src.common.trainer - DEBUG - ==============================\n",
      "2018-11-23 15:42:49,039 - src.common.trainer - DEBUG - epoch: 277\n",
      "2018-11-23 15:42:49,039 - src.common.trainer - DEBUG - train acc: 1.0\n",
      "2018-11-23 15:42:49,040 - src.common.trainer - DEBUG - test acc: 0.7665\n",
      "2018-11-23 15:42:49,060 - src.common.trainer - DEBUG - train loss: 0.01240865810448117\n",
      "2018-11-23 15:42:49,069 - src.common.trainer - DEBUG - train loss: 0.012198997855195926\n",
      "2018-11-23 15:42:49,077 - src.common.trainer - DEBUG - train loss: 0.016019262605721583\n",
      "2018-11-23 15:42:49,245 - src.common.trainer - DEBUG - ==============================\n",
      "2018-11-23 15:42:49,246 - src.common.trainer - DEBUG - epoch: 278\n",
      "2018-11-23 15:42:49,246 - src.common.trainer - DEBUG - train acc: 1.0\n",
      "2018-11-23 15:42:49,247 - src.common.trainer - DEBUG - test acc: 0.7671\n",
      "2018-11-23 15:42:49,267 - src.common.trainer - DEBUG - train loss: 0.010796864736934917\n",
      "2018-11-23 15:42:49,277 - src.common.trainer - DEBUG - train loss: 0.009806015714358442\n",
      "2018-11-23 15:42:49,286 - src.common.trainer - DEBUG - train loss: 0.009151346921768538\n",
      "2018-11-23 15:42:49,452 - src.common.trainer - DEBUG - ==============================\n",
      "2018-11-23 15:42:49,452 - src.common.trainer - DEBUG - epoch: 279\n",
      "2018-11-23 15:42:49,453 - src.common.trainer - DEBUG - train acc: 1.0\n",
      "2018-11-23 15:42:49,453 - src.common.trainer - DEBUG - test acc: 0.7672\n",
      "2018-11-23 15:42:49,474 - src.common.trainer - DEBUG - train loss: 0.012133802538883682\n",
      "2018-11-23 15:42:49,484 - src.common.trainer - DEBUG - train loss: 0.010785177780119169\n",
      "2018-11-23 15:42:49,494 - src.common.trainer - DEBUG - train loss: 0.009157059778851187\n",
      "2018-11-23 15:42:49,676 - src.common.trainer - DEBUG - ==============================\n",
      "2018-11-23 15:42:49,677 - src.common.trainer - DEBUG - epoch: 280\n",
      "2018-11-23 15:42:49,677 - src.common.trainer - DEBUG - train acc: 1.0\n",
      "2018-11-23 15:42:49,678 - src.common.trainer - DEBUG - test acc: 0.7674\n",
      "2018-11-23 15:42:49,699 - src.common.trainer - DEBUG - train loss: 0.008173083584685898\n",
      "2018-11-23 15:42:49,709 - src.common.trainer - DEBUG - train loss: 0.016690969333964703\n",
      "2018-11-23 15:42:49,719 - src.common.trainer - DEBUG - train loss: 0.013995476179604727\n",
      "2018-11-23 15:42:49,894 - src.common.trainer - DEBUG - ==============================\n",
      "2018-11-23 15:42:49,895 - src.common.trainer - DEBUG - epoch: 281\n",
      "2018-11-23 15:42:49,896 - src.common.trainer - DEBUG - train acc: 1.0\n",
      "2018-11-23 15:42:49,897 - src.common.trainer - DEBUG - test acc: 0.7661\n",
      "2018-11-23 15:42:49,920 - src.common.trainer - DEBUG - train loss: 0.012102625320180933\n",
      "2018-11-23 15:42:49,930 - src.common.trainer - DEBUG - train loss: 0.013640861633370725\n",
      "2018-11-23 15:42:49,940 - src.common.trainer - DEBUG - train loss: 0.013807332993031298\n",
      "2018-11-23 15:42:50,110 - src.common.trainer - DEBUG - ==============================\n",
      "2018-11-23 15:42:50,110 - src.common.trainer - DEBUG - epoch: 282\n",
      "2018-11-23 15:42:50,111 - src.common.trainer - DEBUG - train acc: 1.0\n",
      "2018-11-23 15:42:50,112 - src.common.trainer - DEBUG - test acc: 0.7667\n",
      "2018-11-23 15:42:50,131 - src.common.trainer - DEBUG - train loss: 0.009611882402097087\n",
      "2018-11-23 15:42:50,140 - src.common.trainer - DEBUG - train loss: 0.01278512506791335\n",
      "2018-11-23 15:42:50,149 - src.common.trainer - DEBUG - train loss: 0.010261571342257605\n",
      "2018-11-23 15:42:50,317 - src.common.trainer - DEBUG - ==============================\n",
      "2018-11-23 15:42:50,318 - src.common.trainer - DEBUG - epoch: 283\n",
      "2018-11-23 15:42:50,319 - src.common.trainer - DEBUG - train acc: 1.0\n",
      "2018-11-23 15:42:50,320 - src.common.trainer - DEBUG - test acc: 0.7671\n",
      "2018-11-23 15:42:50,340 - src.common.trainer - DEBUG - train loss: 0.012192373142059239\n",
      "2018-11-23 15:42:50,350 - src.common.trainer - DEBUG - train loss: 0.0119964669872151\n",
      "2018-11-23 15:42:50,359 - src.common.trainer - DEBUG - train loss: 0.011768266610527307\n",
      "2018-11-23 15:42:50,548 - src.common.trainer - DEBUG - ==============================\n",
      "2018-11-23 15:42:50,549 - src.common.trainer - DEBUG - epoch: 284\n",
      "2018-11-23 15:42:50,550 - src.common.trainer - DEBUG - train acc: 1.0\n",
      "2018-11-23 15:42:50,550 - src.common.trainer - DEBUG - test acc: 0.768\n",
      "2018-11-23 15:42:50,579 - src.common.trainer - DEBUG - train loss: 0.011737802057080604\n",
      "2018-11-23 15:42:50,588 - src.common.trainer - DEBUG - train loss: 0.01398310474968886\n",
      "2018-11-23 15:42:50,597 - src.common.trainer - DEBUG - train loss: 0.011609575316152351\n",
      "2018-11-23 15:42:50,770 - src.common.trainer - DEBUG - ==============================\n",
      "2018-11-23 15:42:50,771 - src.common.trainer - DEBUG - epoch: 285\n",
      "2018-11-23 15:42:50,771 - src.common.trainer - DEBUG - train acc: 1.0\n",
      "2018-11-23 15:42:50,772 - src.common.trainer - DEBUG - test acc: 0.7669\n",
      "2018-11-23 15:42:50,791 - src.common.trainer - DEBUG - train loss: 0.010640742679902893\n",
      "2018-11-23 15:42:50,800 - src.common.trainer - DEBUG - train loss: 0.013027740152015908\n",
      "2018-11-23 15:42:50,809 - src.common.trainer - DEBUG - train loss: 0.010699520596103018\n",
      "2018-11-23 15:42:50,979 - src.common.trainer - DEBUG - ==============================\n",
      "2018-11-23 15:42:50,979 - src.common.trainer - DEBUG - epoch: 286\n",
      "2018-11-23 15:42:50,980 - src.common.trainer - DEBUG - train acc: 1.0\n",
      "2018-11-23 15:42:50,980 - src.common.trainer - DEBUG - test acc: 0.7684\n",
      "2018-11-23 15:42:51,000 - src.common.trainer - DEBUG - train loss: 0.01351101036281844\n",
      "2018-11-23 15:42:51,009 - src.common.trainer - DEBUG - train loss: 0.011607382324139342\n",
      "2018-11-23 15:42:51,018 - src.common.trainer - DEBUG - train loss: 0.013514170306783231\n",
      "2018-11-23 15:42:51,193 - src.common.trainer - DEBUG - ==============================\n",
      "2018-11-23 15:42:51,194 - src.common.trainer - DEBUG - epoch: 287\n",
      "2018-11-23 15:42:51,195 - src.common.trainer - DEBUG - train acc: 1.0\n",
      "2018-11-23 15:42:51,195 - src.common.trainer - DEBUG - test acc: 0.7682\n",
      "2018-11-23 15:42:51,215 - src.common.trainer - DEBUG - train loss: 0.011617687529266492\n",
      "2018-11-23 15:42:51,224 - src.common.trainer - DEBUG - train loss: 0.01046077751610103\n",
      "2018-11-23 15:42:51,233 - src.common.trainer - DEBUG - train loss: 0.012256362057829597\n",
      "2018-11-23 15:42:51,418 - src.common.trainer - DEBUG - ==============================\n",
      "2018-11-23 15:42:51,419 - src.common.trainer - DEBUG - epoch: 288\n",
      "2018-11-23 15:42:51,420 - src.common.trainer - DEBUG - train acc: 1.0\n",
      "2018-11-23 15:42:51,420 - src.common.trainer - DEBUG - test acc: 0.7673\n",
      "2018-11-23 15:42:51,440 - src.common.trainer - DEBUG - train loss: 0.01210503014267722\n",
      "2018-11-23 15:42:51,449 - src.common.trainer - DEBUG - train loss: 0.011711130296401267\n",
      "2018-11-23 15:42:51,460 - src.common.trainer - DEBUG - train loss: 0.010270263628036397\n",
      "2018-11-23 15:42:51,639 - src.common.trainer - DEBUG - ==============================\n",
      "2018-11-23 15:42:51,639 - src.common.trainer - DEBUG - epoch: 289\n",
      "2018-11-23 15:42:51,640 - src.common.trainer - DEBUG - train acc: 1.0\n",
      "2018-11-23 15:42:51,641 - src.common.trainer - DEBUG - test acc: 0.7688\n",
      "2018-11-23 15:42:51,661 - src.common.trainer - DEBUG - train loss: 0.008719056902668377\n",
      "2018-11-23 15:42:51,670 - src.common.trainer - DEBUG - train loss: 0.008194254295086998\n",
      "2018-11-23 15:42:51,679 - src.common.trainer - DEBUG - train loss: 0.01278274233562107\n",
      "2018-11-23 15:42:51,848 - src.common.trainer - DEBUG - ==============================\n",
      "2018-11-23 15:42:51,848 - src.common.trainer - DEBUG - epoch: 290\n",
      "2018-11-23 15:42:51,849 - src.common.trainer - DEBUG - train acc: 1.0\n",
      "2018-11-23 15:42:51,849 - src.common.trainer - DEBUG - test acc: 0.7687\n",
      "2018-11-23 15:42:51,870 - src.common.trainer - DEBUG - train loss: 0.009890684621981127\n",
      "2018-11-23 15:42:51,880 - src.common.trainer - DEBUG - train loss: 0.010658195188324145\n",
      "2018-11-23 15:42:51,889 - src.common.trainer - DEBUG - train loss: 0.010183639956361701\n",
      "2018-11-23 15:42:52,060 - src.common.trainer - DEBUG - ==============================\n",
      "2018-11-23 15:42:52,061 - src.common.trainer - DEBUG - epoch: 291\n",
      "2018-11-23 15:42:52,062 - src.common.trainer - DEBUG - train acc: 1.0\n",
      "2018-11-23 15:42:52,063 - src.common.trainer - DEBUG - test acc: 0.7695\n",
      "2018-11-23 15:42:52,083 - src.common.trainer - DEBUG - train loss: 0.00973731568257315\n",
      "2018-11-23 15:42:52,093 - src.common.trainer - DEBUG - train loss: 0.011223810438553496\n",
      "2018-11-23 15:42:52,102 - src.common.trainer - DEBUG - train loss: 0.00963197517947257\n",
      "2018-11-23 15:42:52,269 - src.common.trainer - DEBUG - ==============================\n",
      "2018-11-23 15:42:52,269 - src.common.trainer - DEBUG - epoch: 292\n",
      "2018-11-23 15:42:52,270 - src.common.trainer - DEBUG - train acc: 1.0\n",
      "2018-11-23 15:42:52,270 - src.common.trainer - DEBUG - test acc: 0.769\n",
      "2018-11-23 15:42:52,290 - src.common.trainer - DEBUG - train loss: 0.011818938705883393\n",
      "2018-11-23 15:42:52,299 - src.common.trainer - DEBUG - train loss: 0.01335058201652742\n",
      "2018-11-23 15:42:52,308 - src.common.trainer - DEBUG - train loss: 0.012051734661162819\n",
      "2018-11-23 15:42:52,481 - src.common.trainer - DEBUG - ==============================\n",
      "2018-11-23 15:42:52,482 - src.common.trainer - DEBUG - epoch: 293\n",
      "2018-11-23 15:42:52,483 - src.common.trainer - DEBUG - train acc: 1.0\n",
      "2018-11-23 15:42:52,485 - src.common.trainer - DEBUG - test acc: 0.7678\n",
      "2018-11-23 15:42:52,510 - src.common.trainer - DEBUG - train loss: 0.00854012078348877\n",
      "2018-11-23 15:42:52,525 - src.common.trainer - DEBUG - train loss: 0.01006127261598761\n",
      "2018-11-23 15:42:52,535 - src.common.trainer - DEBUG - train loss: 0.01225820346390489\n",
      "2018-11-23 15:42:52,709 - src.common.trainer - DEBUG - ==============================\n",
      "2018-11-23 15:42:52,710 - src.common.trainer - DEBUG - epoch: 294\n",
      "2018-11-23 15:42:52,711 - src.common.trainer - DEBUG - train acc: 1.0\n",
      "2018-11-23 15:42:52,711 - src.common.trainer - DEBUG - test acc: 0.7681\n",
      "2018-11-23 15:42:52,732 - src.common.trainer - DEBUG - train loss: 0.01097113766842792\n",
      "2018-11-23 15:42:52,741 - src.common.trainer - DEBUG - train loss: 0.012092572792581191\n",
      "2018-11-23 15:42:52,751 - src.common.trainer - DEBUG - train loss: 0.01069309469394343\n",
      "2018-11-23 15:42:52,928 - src.common.trainer - DEBUG - ==============================\n",
      "2018-11-23 15:42:52,929 - src.common.trainer - DEBUG - epoch: 295\n",
      "2018-11-23 15:42:52,929 - src.common.trainer - DEBUG - train acc: 1.0\n",
      "2018-11-23 15:42:52,930 - src.common.trainer - DEBUG - test acc: 0.768\n",
      "2018-11-23 15:42:52,950 - src.common.trainer - DEBUG - train loss: 0.011592001897706589\n",
      "2018-11-23 15:42:52,959 - src.common.trainer - DEBUG - train loss: 0.008569929337211285\n",
      "2018-11-23 15:42:52,967 - src.common.trainer - DEBUG - train loss: 0.014015547256019372\n",
      "2018-11-23 15:42:53,148 - src.common.trainer - DEBUG - ==============================\n",
      "2018-11-23 15:42:53,149 - src.common.trainer - DEBUG - epoch: 296\n",
      "2018-11-23 15:42:53,149 - src.common.trainer - DEBUG - train acc: 1.0\n",
      "2018-11-23 15:42:53,150 - src.common.trainer - DEBUG - test acc: 0.7677\n",
      "2018-11-23 15:42:53,171 - src.common.trainer - DEBUG - train loss: 0.012596407260995748\n",
      "2018-11-23 15:42:53,180 - src.common.trainer - DEBUG - train loss: 0.01202267637371426\n",
      "2018-11-23 15:42:53,190 - src.common.trainer - DEBUG - train loss: 0.010710774068044984\n",
      "2018-11-23 15:42:53,365 - src.common.trainer - DEBUG - ==============================\n",
      "2018-11-23 15:42:53,366 - src.common.trainer - DEBUG - epoch: 297\n",
      "2018-11-23 15:42:53,367 - src.common.trainer - DEBUG - train acc: 1.0\n",
      "2018-11-23 15:42:53,367 - src.common.trainer - DEBUG - test acc: 0.7681\n",
      "2018-11-23 15:42:53,387 - src.common.trainer - DEBUG - train loss: 0.011239040678435565\n",
      "2018-11-23 15:42:53,396 - src.common.trainer - DEBUG - train loss: 0.012613994004185733\n",
      "2018-11-23 15:42:53,405 - src.common.trainer - DEBUG - train loss: 0.008600111763270663\n",
      "2018-11-23 15:42:53,578 - src.common.trainer - DEBUG - ==============================\n",
      "2018-11-23 15:42:53,579 - src.common.trainer - DEBUG - epoch: 298\n",
      "2018-11-23 15:42:53,579 - src.common.trainer - DEBUG - train acc: 1.0\n",
      "2018-11-23 15:42:53,580 - src.common.trainer - DEBUG - test acc: 0.7688\n",
      "2018-11-23 15:42:53,600 - src.common.trainer - DEBUG - train loss: 0.010395513238723756\n",
      "2018-11-23 15:42:53,609 - src.common.trainer - DEBUG - train loss: 0.009143749030083132\n",
      "2018-11-23 15:42:53,619 - src.common.trainer - DEBUG - train loss: 0.0119165402219555\n",
      "2018-11-23 15:42:53,788 - src.common.trainer - DEBUG - ==============================\n",
      "2018-11-23 15:42:53,789 - src.common.trainer - DEBUG - epoch: 299\n",
      "2018-11-23 15:42:53,789 - src.common.trainer - DEBUG - train acc: 1.0\n",
      "2018-11-23 15:42:53,790 - src.common.trainer - DEBUG - test acc: 0.7684\n",
      "2018-11-23 15:42:53,811 - src.common.trainer - DEBUG - train loss: 0.01240900529463505\n",
      "2018-11-23 15:42:53,820 - src.common.trainer - DEBUG - train loss: 0.010742628497327005\n",
      "2018-11-23 15:42:53,830 - src.common.trainer - DEBUG - train loss: 0.009794596832558183\n",
      "2018-11-23 15:42:53,995 - src.common.trainer - DEBUG - ==============================\n",
      "2018-11-23 15:42:53,997 - src.common.trainer - DEBUG - epoch: 300\n",
      "2018-11-23 15:42:53,998 - src.common.trainer - DEBUG - train acc: 1.0\n",
      "2018-11-23 15:42:53,999 - src.common.trainer - DEBUG - test acc: 0.7677\n",
      "2018-11-23 15:42:54,020 - src.common.trainer - DEBUG - train loss: 0.008581608907835108\n",
      "2018-11-23 15:42:54,030 - src.common.trainer - DEBUG - train loss: 0.00835387864560143\n",
      "2018-11-23 15:42:54,039 - src.common.trainer - DEBUG - train loss: 0.007036879833215636\n",
      "2018-11-23 15:42:54,208 - src.common.trainer - DEBUG - ==============================\n",
      "2018-11-23 15:42:54,209 - src.common.trainer - DEBUG - epoch: 301\n",
      "2018-11-23 15:42:54,209 - src.common.trainer - DEBUG - train acc: 1.0\n",
      "2018-11-23 15:42:54,210 - src.common.trainer - DEBUG - test acc: 0.7678\n",
      "2018-11-23 15:42:54,231 - src.common.trainer - DEBUG - train loss: 0.011082441315047029\n",
      "2018-11-23 15:42:54,240 - src.common.trainer - DEBUG - train loss: 0.007908843740206766\n",
      "2018-11-23 15:42:54,404 - src.common.trainer - DEBUG - ==============================\n",
      "2018-11-23 15:42:54,404 - src.common.trainer - DEBUG - Final Test Accuracy\n",
      "2018-11-23 15:42:54,405 - src.common.trainer - DEBUG - test acc: 0.7677\n",
      "2018-11-23 15:42:54,443 - matplotlib.axes._base - DEBUG - update_title_pos\n",
      "2018-11-23 15:42:54,447 - matplotlib.font_manager - DEBUG - findfont: Matching :family=sans-serif:style=normal:variant=normal:weight=normal:stretch=normal:size=10.0 to DejaVu Sans ('/Users/shouta_shimizu/.pyenv/versions/3.7.0/envs/deep-learning-from-scratch/lib/python3.7/site-packages/matplotlib/mpl-data/fonts/ttf/DejaVuSans.ttf') with score of 0.050000.\n",
      "2018-11-23 15:42:54,518 - matplotlib.axes._base - DEBUG - update_title_pos\n",
      "2018-11-23 15:42:54,555 - matplotlib.axes._base - DEBUG - update_title_pos\n",
      "2018-11-23 15:42:54,575 - matplotlib.axes._base - DEBUG - update_title_pos\n"
     ]
    },
    {
     "data": {
      "image/png": "[encoded data removed]",
      "text/plain": [
       "<Figure size 432x288 with 1 Axes>"
      ]
     },
     "metadata": {
      "needs_background": "light"
     },
     "output_type": "display_data"
    }
   ],
   "source": [
    "main(False)"
   ]
  },
  {
   "cell_type": "code",
   "execution_count": null,
   "metadata": {},
   "outputs": [],
   "source": []
  },
  {
   "cell_type": "code",
   "execution_count": null,
   "metadata": {},
   "outputs": [],
   "source": []
  }
 ],
 "metadata": {
  "kernelspec": {
   "display_name": "Python 3",
   "language": "python",
   "name": "python3"
  },
  "language_info": {
   "codemirror_mode": {
    "name": "ipython",
    "version": 3
   },
   "file_extension": ".py",
   "mimetype": "text/x-python",
   "name": "python",
   "nbconvert_exporter": "python",
   "pygments_lexer": "ipython3",
   "version": "3.7.0"
  }
 },
 "nbformat": 4,
 "nbformat_minor": 2
}
