{
 "cells": [
  {
   "cell_type": "markdown",
   "metadata": {},
   "source": [
    "# 0.9_ss_chap6_init_compare_mnist\n",
    "- activationの中身をmnistで見ていく"
   ]
  },
  {
   "cell_type": "code",
   "execution_count": 1,
   "metadata": {},
   "outputs": [],
   "source": [
    "%load_ext autoreload\n",
    "%autoreload 2"
   ]
  },
  {
   "cell_type": "code",
   "execution_count": 2,
   "metadata": {},
   "outputs": [],
   "source": [
    "%reload_ext autoreload"
   ]
  },
  {
   "cell_type": "code",
   "execution_count": 3,
   "metadata": {},
   "outputs": [],
   "source": [
    "from src import utils\n",
    "import itertools\n",
    "import logging\n",
    "import numpy as np\n",
    "import matplotlib.pylab as plt\n",
    "import matplotlib.patches as patches\n",
    "from collections import OrderedDict\n",
    "%matplotlib inline"
   ]
  },
  {
   "cell_type": "code",
   "execution_count": 7,
   "metadata": {},
   "outputs": [],
   "source": [
    "from src.ch06.weight_init_compare import main\n",
    "from src.dataset.mnist import load_mnist\n",
    "from src.common.util import smooth_curve\n",
    "from src.common.multi_layer_net import MultiLayerNet\n",
    "from src.common.optimizer import SGD"
   ]
  },
  {
   "cell_type": "code",
   "execution_count": 4,
   "metadata": {},
   "outputs": [],
   "source": [
    "log_fmt = '%(asctime)s - %(name)s - %(levelname)s - %(message)s'\n",
    "logging.basicConfig(level=logging.INFO, format=log_fmt)\n",
    "# logging.basicConfig(level=logging.DEBUG, format=log_fmt)\n",
    "logger = logging.getLogger()"
   ]
  },
  {
   "cell_type": "markdown",
   "metadata": {},
   "source": [
    "## From init compare mnist"
   ]
  },
  {
   "cell_type": "code",
   "execution_count": 6,
   "metadata": {},
   "outputs": [
    {
     "name": "stderr",
     "output_type": "stream",
     "text": [
      "2018-11-19 08:28:37,151 - src.ch06.weight_init_compare - INFO - # 0:MNISTデータの読み込み==========\n",
      "2018-11-19 08:28:37,430 - src.ch06.weight_init_compare - INFO - # 1:実験の設定==========\n",
      "2018-11-19 08:28:37,466 - src.ch06.weight_init_compare - INFO - # 2:訓練の開始==========\n"
     ]
    },
    {
     "name": "stdout",
     "output_type": "stream",
     "text": [
      "std=0.01:2.302405631543714\n",
      "Xavier:2.3046325343329546\n",
      "He:2.3207866819871192\n",
      "std=0.01:2.3025019282655808\n",
      "Xavier:2.2669037695142196\n",
      "He:1.7605181540150503\n",
      "std=0.01:2.3015530266105766\n",
      "Xavier:2.205533346276054\n",
      "He:0.8450330922595545\n",
      "std=0.01:2.3025040257892724\n",
      "Xavier:2.0112082550038277\n",
      "He:0.5017207318960231\n",
      "std=0.01:2.2993279481620092\n",
      "Xavier:1.4622970157899569\n",
      "He:0.4206739860363734\n",
      "std=0.01:2.301074153122048\n",
      "Xavier:0.975780557300671\n",
      "He:0.3960298622274917\n",
      "std=0.01:2.3028513649313176\n",
      "Xavier:0.6701508851315876\n",
      "He:0.284723502502012\n",
      "std=0.01:2.300013575284491\n",
      "Xavier:0.6271028507584018\n",
      "He:0.38631085352358907\n",
      "std=0.01:2.297495172983046\n",
      "Xavier:0.569045649915612\n",
      "He:0.42553277645705595\n",
      "std=0.01:2.301775848927958\n",
      "Xavier:0.590734839677127\n",
      "He:0.37956053083931135\n",
      "std=0.01:2.3021315783378844\n",
      "Xavier:0.5081311526188953\n",
      "He:0.3951971137280583\n",
      "std=0.01:2.299665987535514\n",
      "Xavier:0.3573800979958083\n",
      "He:0.27760191579871163\n",
      "std=0.01:2.300045172902362\n",
      "Xavier:0.3094595940725472\n",
      "He:0.18638188556921986\n",
      "std=0.01:2.2978175774263416\n",
      "Xavier:0.22409811139921723\n",
      "He:0.1357313052492527\n",
      "std=0.01:2.299780244437207\n",
      "Xavier:0.4116807620501811\n",
      "He:0.23857083859770303\n",
      "std=0.01:2.301491454158888\n",
      "Xavier:0.544834723382122\n",
      "He:0.39821552526109866\n",
      "std=0.01:2.3045295738448117\n",
      "Xavier:0.3428911036114477\n",
      "He:0.23303577162512618\n",
      "std=0.01:2.3024925582268363\n",
      "Xavier:0.24906501704126155\n",
      "He:0.18055423516527208\n",
      "std=0.01:2.301367877569513\n",
      "Xavier:0.26005865035954134\n",
      "He:0.18959078524568582\n",
      "std=0.01:2.302884002241896\n",
      "Xavier:0.350091127189806\n",
      "He:0.2380548635473198\n"
     ]
    },
    {
     "name": "stderr",
     "output_type": "stream",
     "text": [
      "2018-11-19 08:29:09,514 - src.ch06.weight_init_compare - INFO - # 3.グラフの描画==========\n"
     ]
    },
    {
     "data": {
      "image/png": "[encoded data removed]",
      "text/plain": [
       "<Figure size 432x288 with 1 Axes>"
      ]
     },
     "metadata": {
      "needs_background": "light"
     },
     "output_type": "display_data"
    }
   ],
   "source": [
    "main()"
   ]
  },
  {
   "cell_type": "markdown",
   "metadata": {},
   "source": [
    "## 自分で書く"
   ]
  },
  {
   "cell_type": "code",
   "execution_count": 31,
   "metadata": {},
   "outputs": [],
   "source": [
    "weight_init_types = {'std=0.01': 0.01,\n",
    "                    'Xavier': 'sigmoid',\n",
    "                    'He': 'relu'}\n",
    "\n",
    "optimizer = SGD(lr=0.01)"
   ]
  },
  {
   "cell_type": "code",
   "execution_count": 11,
   "metadata": {},
   "outputs": [
    {
     "name": "stderr",
     "output_type": "stream",
     "text": [
      "2018-11-19 08:51:47,643 - root - INFO - # 0:MNISTデータの読み込み==========\n"
     ]
    }
   ],
   "source": [
    "logger.info(\"# 0:MNISTデータの読み込み==========\")\n",
    "(x_train, t_train), (x_test, t_test) = load_mnist(normalize=True)\n",
    "train_size = x_train.shape[0]\n",
    "batch_size = 128\n",
    "max_iterations = 2000"
   ]
  },
  {
   "cell_type": "code",
   "execution_count": 15,
   "metadata": {},
   "outputs": [
    {
     "name": "stderr",
     "output_type": "stream",
     "text": [
      "2018-11-19 08:54:19,986 - root - INFO - # 1:実験の設定==========\n"
     ]
    }
   ],
   "source": [
    "logger.info(\"# 1:実験の設定==========\")\n",
    "weight_type = 0.01\n",
    "key = 'std=0.01'"
   ]
  },
  {
   "cell_type": "code",
   "execution_count": 17,
   "metadata": {},
   "outputs": [],
   "source": [
    "input_size = 784\n",
    "hidden_size_list = [100, 100, 100, 100]\n",
    "output_size = 10"
   ]
  },
  {
   "cell_type": "code",
   "execution_count": 28,
   "metadata": {},
   "outputs": [],
   "source": [
    "train_loss = []"
   ]
  },
  {
   "cell_type": "code",
   "execution_count": 18,
   "metadata": {},
   "outputs": [],
   "source": [
    "# 初期化\n",
    "network = MultiLayerNet(input_size=input_size,\n",
    "                        hidden_size_list=hidden_size_list, \n",
    "                        output_size=output_size, \n",
    "                        weight_init_std=weight_type)"
   ]
  },
  {
   "cell_type": "code",
   "execution_count": 19,
   "metadata": {},
   "outputs": [
    {
     "name": "stderr",
     "output_type": "stream",
     "text": [
      "2018-11-19 08:55:27,113 - root - INFO - # 2:訓練の開始==========\n"
     ]
    }
   ],
   "source": [
    "logger.info(\"# 2:訓練の開始==========\")"
   ]
  },
  {
   "cell_type": "code",
   "execution_count": 22,
   "metadata": {},
   "outputs": [],
   "source": [
    "# Iterations\n",
    "# with tqdm\n",
    "# for i in range(max_iterations):\n",
    "i = 0"
   ]
  },
  {
   "cell_type": "code",
   "execution_count": 24,
   "metadata": {},
   "outputs": [],
   "source": [
    "batch_mask = np.random.choice(train_size, batch_size)\n",
    "x_batch = x_train[batch_mask]\n",
    "t_batch = t_train[batch_mask]"
   ]
  },
  {
   "cell_type": "code",
   "execution_count": 25,
   "metadata": {},
   "outputs": [],
   "source": [
    "grads = network.gradient(x_batch, t_batch)"
   ]
  },
  {
   "cell_type": "code",
   "execution_count": 26,
   "metadata": {},
   "outputs": [],
   "source": [
    "optimizer.update(network.params, grads)"
   ]
  },
  {
   "cell_type": "code",
   "execution_count": 27,
   "metadata": {},
   "outputs": [],
   "source": [
    "loss = network.loss(x_batch, t_batch)"
   ]
  },
  {
   "cell_type": "code",
   "execution_count": 29,
   "metadata": {},
   "outputs": [],
   "source": [
    "train_loss.append(loss)"
   ]
  },
  {
   "cell_type": "code",
   "execution_count": null,
   "metadata": {},
   "outputs": [],
   "source": []
  }
 ],
 "metadata": {
  "kernelspec": {
   "display_name": "Python 3",
   "language": "python",
   "name": "python3"
  },
  "language_info": {
   "codemirror_mode": {
    "name": "ipython",
    "version": 3
   },
   "file_extension": ".py",
   "mimetype": "text/x-python",
   "name": "python",
   "nbconvert_exporter": "python",
   "pygments_lexer": "ipython3",
   "version": "3.7.0"
  }
 },
 "nbformat": 4,
 "nbformat_minor": 2
}
